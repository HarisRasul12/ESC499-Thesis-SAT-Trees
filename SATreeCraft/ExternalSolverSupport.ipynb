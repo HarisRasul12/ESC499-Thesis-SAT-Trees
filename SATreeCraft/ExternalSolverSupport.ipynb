{
 "cells": [
  {
   "cell_type": "markdown",
   "metadata": {},
   "source": [
    "# Creating an External Solver Support Using Loandra "
   ]
  },
  {
   "cell_type": "markdown",
   "metadata": {},
   "source": [
    "# Fixed Height Tree Problem First "
   ]
  },
  {
   "cell_type": "code",
   "execution_count": 1,
   "metadata": {},
   "outputs": [],
   "source": [
    "import numpy as np\n",
    "import pandas as pd\n",
    "import openpyxl\n",
    "from sklearn.preprocessing import LabelEncoder\n",
    "\n",
    "from utils import * # Dataloader and K-fold mechanism \n",
    "from SATreeCraft import * # Tree solver framework\n",
    "from SATreeClassifier import * \n",
    "import os\n",
    "import subprocess\n",
    "import loandra_support.loandra"
   ]
  },
  {
   "cell_type": "code",
   "execution_count": 2,
   "metadata": {},
   "outputs": [
    {
     "name": "stdout",
     "output_type": "stream",
     "text": [
      "Features: ['0' '1' '2' '3' '4' '5' '6' '7' '8' '9' '10' '11' '12'] (13,)\n",
      "Labels: [0 1 2] (3,)\n",
      "True Labels for Points: [0 0 0 0 0 0 0 0 0 0 0 0 0 0 0 0 0 0 0 0 0 0 0 0 0 0 0 0 0 0 0 0 0 0 0 0 0\n",
      " 0 0 0 0 0 0 0 0 0 0 0 0 0 0 0 0 0 0 0 0 0 0 1 1 1 1 1 1 1 1 1 1 1 1 1 1 1\n",
      " 1 1 1 1 1 1 1 1 1 1 1 1 1 1 1 1 1 1 1 1 1 1 1 1 1 1 1 1 1 1 1 1 1 1 1 1 1\n",
      " 1 1 1 1 1 1 1 1 1 1 1 1 1 1 1 1 1 1 1 2 2 2 2 2 2 2 2 2 2 2 2 2 2 2 2 2 2\n",
      " 2 2 2 2 2 2 2 2 2 2 2 2 2 2 2 2 2 2 2 2 2 2 2 2 2 2 2 2 2 2] (178,)\n",
      "Dataset:\n",
      " [[1.423e+01 1.710e+00 2.430e+00 ... 1.040e+00 3.920e+00 1.065e+03]\n",
      " [1.320e+01 1.780e+00 2.140e+00 ... 1.050e+00 3.400e+00 1.050e+03]\n",
      " [1.316e+01 2.360e+00 2.670e+00 ... 1.030e+00 3.170e+00 1.185e+03]\n",
      " ...\n",
      " [1.327e+01 4.280e+00 2.260e+00 ... 5.900e-01 1.560e+00 8.350e+02]\n",
      " [1.317e+01 2.590e+00 2.370e+00 ... 6.000e-01 1.620e+00 8.400e+02]\n",
      " [1.413e+01 4.100e+00 2.740e+00 ... 6.100e-01 1.600e+00 5.600e+02]] (178, 13)\n"
     ]
    }
   ],
   "source": [
    "from utils import *\n",
    "\n",
    "file_path_to_test = 'Datasets/wine/wine.data'\n",
    "delimiter = ','\n",
    "label_position = 0 \n",
    "\n",
    "data_loader = TreeDataLoaderBinaryNumerical(file_path=file_path_to_test, delimiter=delimiter, label_position= label_position)\n",
    "\n",
    "\n",
    "\n",
    "print(\"Features:\", data_loader.features, data_loader.features.shape)\n",
    "print(\"Labels:\", data_loader.labels, data_loader.labels.shape)\n",
    "print(\"True Labels for Points:\", data_loader.true_labels_for_points, data_loader.true_labels_for_points.shape)\n",
    "print(\"Dataset:\\n\", data_loader.dataset,data_loader.dataset.shape)\n",
    "\n",
    "\n",
    "features = data_loader.features\n",
    "labels = data_loader.labels\n",
    "true_labels_for_points = data_loader.true_labels_for_points\n",
    "dataset = data_loader.dataset"
   ]
  },
  {
   "cell_type": "code",
   "execution_count": null,
   "metadata": {},
   "outputs": [],
   "source": [
    "max_accuracy_numerical_problem = SATreeCraft(dataset=dataset,\n",
    "                                             features=features,labels=labels,\n",
    "                                             true_labels_for_points=true_labels_for_points,\n",
    "                                             classification_objective='max_accuracy',\n",
    "                                             fixed_depth=2,\n",
    "                                             # min_support= 5\n",
    "                                             # min_margin  = 10\n",
    "                                             # tree_structure= 'Oblivious'\n",
    "                                             )\n",
    "#max_accuracy_numerical_problem.solve()"
   ]
  },
  {
   "cell_type": "code",
   "execution_count": null,
   "metadata": {},
   "outputs": [],
   "source": [
    "execution_path = \"/Users/harisrasul/Desktop/loandra/Bahoo.cnf\"\n",
    "loandra_path = '/Users/harisrasul/Desktop/loandra'\n",
    "max_accuracy_numerical_problem.solve_loandra(loandra_path= loandra_path, execution_path= execution_path)\n"
   ]
  },
  {
   "cell_type": "code",
   "execution_count": null,
   "metadata": {},
   "outputs": [],
   "source": [
    "print(\"Final Model: \", max_accuracy_numerical_problem.model)\n",
    "print(\"Min cost found: \", max_accuracy_numerical_problem.min_cost)"
   ]
  },
  {
   "cell_type": "code",
   "execution_count": null,
   "metadata": {},
   "outputs": [],
   "source": [
    "# Classifier - sklearn Integration \n",
    "\n",
    "# Build model\n",
    "model = SATreeClassifier(max_accuracy_numerical_problem.model)\n",
    "\n",
    "# Test cases 0- uisng training set expecting 100%\n",
    "X_test = dataset[5:160]\n",
    "y_test = true_labels_for_points[5:160]\n",
    "\n",
    "# To get the accuracy score\n",
    "accuracy = model.score(X_test, y_test)\n",
    "print(f\"Accuracy: {accuracy}\")\n",
    "\n",
    "# To get the classification report\n",
    "report = model.get_classification_report(X_test, y_test)\n",
    "print(\"Classification Report:\")\n",
    "print(report)\n",
    "\n",
    "# To get the confusion matrix\n",
    "conf_matrix = model.get_confusion_matrix(X_test, y_test)\n",
    "print(\"Confusion Matrix:\")\n",
    "print(conf_matrix)"
   ]
  },
  {
   "cell_type": "code",
   "execution_count": 4,
   "metadata": {},
   "outputs": [
    {
     "name": "stdout",
     "output_type": "stream",
     "text": [
      "Iteration complete\n",
      "Iteration complete\n",
      "Iteration complete\n",
      "Iteration complete\n",
      "Iteration complete\n",
      "[0.88888889 0.97222222 0.94444444 0.97142857 0.91428571]\n",
      "0.9382539682539683\n"
     ]
    }
   ],
   "source": [
    "k = 5\n",
    "depth = 2 \n",
    "minimum_support = 5\n",
    "accuracies, mean_score = k_fold_tester(k=k, depth=depth, dataset=dataset, true_labels_for_points=true_labels_for_points, \n",
    "                                       labels=labels, features=features, min_support_level=minimum_support, \n",
    "                                       # complete_tree=False\n",
    "                                       )\n",
    "\n",
    "print(accuracies)\n",
    "print(mean_score)"
   ]
  },
  {
   "cell_type": "code",
   "execution_count": 9,
   "metadata": {},
   "outputs": [
    {
     "name": "stdout",
     "output_type": "stream",
     "text": [
      "Iteration complete\n",
      "Iteration complete\n",
      "Iteration complete\n",
      "Iteration complete\n",
      "Iteration complete\n",
      "[0.97222222 0.86111111 0.91666667 0.97142857 0.91428571]\n",
      "0.9271428571428573\n"
     ]
    }
   ],
   "source": [
    "k = 5\n",
    "depth = 2 \n",
    "minimum_support = 5\n",
    "execution_path = \"/Users/harisrasul/Desktop/loandra/Bahoo.cnf\"\n",
    "loandra_path = '/Users/harisrasul/Desktop/loandra'\n",
    "\n",
    "accuracies, mean_score = k_fold_tester_loandra(loandra_path=loandra_path, execution_path= execution_path,\n",
    "                                               k=k, depth=depth, dataset=dataset, true_labels_for_points=true_labels_for_points, \n",
    "                                       labels=labels, features=features, min_support_level=minimum_support, \n",
    "                                       # complete_tree=False\n",
    "                                       )\n",
    "\n",
    "print(accuracies)\n",
    "print(mean_score)"
   ]
  },
  {
   "cell_type": "markdown",
   "metadata": {},
   "source": [
    "Categorical Testing for fixed height"
   ]
  },
  {
   "cell_type": "code",
   "execution_count": 10,
   "metadata": {},
   "outputs": [
    {
     "name": "stdout",
     "output_type": "stream",
     "text": [
      "Features: ['0' '1' '2' '3' '4' '5' '6' '7' '8' '9' '10' '11' '12' '13' '14' '15'\n",
      " '16' '17' '18' '19' '20' '21' '22' '23' '24' '25' '26' '27' '28' '29'\n",
      " '30' '31' '32' '33' '34' '35' '36' '37' '38' '39' '40' '41' '42' '43'\n",
      " '44' '45' '46' '47' '48' '49' '50' '51' '52' '53' '54' '55' '56'] (57,)\n",
      "Categorical Features: ['0' '1' '2' '3' '4' '5' '6' '7' '8' '9' '10' '11' '12' '13' '14' '15'\n",
      " '16' '17' '18' '19' '20' '21' '22' '23' '24' '25' '26' '27' '28' '29'\n",
      " '30' '31' '32' '33' '34' '35' '36' '37' '38' '39' '40' '41' '42' '43'\n",
      " '44' '45' '46' '47' '48' '49' '50' '51' '52' '53' '54' '55' '56'] (57,)\n",
      "Numerical Features: [] (106, 0)\n",
      "Labels: [0 1] (2,)\n",
      "True Labels for Points: [0 0 0 0 0 0 0 0 0 0 0 0 0 0 0 0 0 0 0 0 0 0 0 0 0 0 0 0 0 0 0 0 0 0 0 0 0\n",
      " 0 0 0 0 0 0 0 0 0 0 0 0 0 0 0 0 1 1 1 1 1 1 1 1 1 1 1 1 1 1 1 1 1 1 1 1 1\n",
      " 1 1 1 1 1 1 1 1 1 1 1 1 1 1 1 1 1 1 1 1 1 1 1 1 1 1 1 1 1 1 1 1] (106,)\n",
      "Dataset:\n",
      " [['t' 'a' 'c' ... 'c' 'g' 't']\n",
      " ['t' 'g' 'c' ... 'c' 'a' 'a']\n",
      " ['g' 't' 'a' ... 'g' 'c' 'g']\n",
      " ...\n",
      " ['c' 'g' 'c' ... 't' 'c' 'c']\n",
      " ['c' 't' 'c' ... 'a' 'a' 'c']\n",
      " ['t' 'a' 'a' ... 'a' 'c' 't']] (106, 57)\n"
     ]
    }
   ],
   "source": [
    "# Promoter data set\n",
    "file_path = 'Datasets/molecular+biology+promoter+gene+sequences/promoters.data'\n",
    "label_index = 0\n",
    "categorical_feature_index = 2  \n",
    "numerical_indices = None\n",
    "\n",
    "data_loader = TreeDataLoaderWithCategorical(\n",
    "    file_path= file_path,\n",
    "    label_index= label_index,\n",
    "    numerical_indices= numerical_indices,\n",
    "    categorical_feature_index=categorical_feature_index\n",
    ")\n",
    "\n",
    "print(\"Features:\", data_loader.features, data_loader.features.shape)\n",
    "print(\"Categorical Features:\", data_loader.features_categorical, data_loader.features_categorical.shape)\n",
    "print(\"Numerical Features:\", data_loader.features_numerical, data_loader.features_numerical.shape)\n",
    "print(\"Labels:\", data_loader.labels, data_loader.labels.shape)\n",
    "print(\"True Labels for Points:\", data_loader.true_labels_for_points, data_loader.true_labels_for_points.shape)\n",
    "print(\"Dataset:\\n\", data_loader.dataset,data_loader.dataset.shape)\n",
    "\n",
    "\n",
    "features = data_loader.features\n",
    "features_categorical = data_loader.features_categorical\n",
    "features_numerical = data_loader.features_numerical\n",
    "labels = data_loader.labels\n",
    "true_labels_for_points = data_loader.true_labels_for_points\n",
    "dataset = data_loader.dataset"
   ]
  },
  {
   "cell_type": "code",
   "execution_count": 11,
   "metadata": {},
   "outputs": [
    {
     "name": "stderr",
     "output_type": "stream",
     "text": [
      "/Users/harisrasul/Desktop/ESC499-THESIS/ESC499-Thesis-SAT-Trees/SATreeCraft/classification_problems/fixed_height_tree_categorical_module.py:110: FutureWarning: elementwise comparison failed; returning scalar instead, but in the future will perform elementwise comparison\n",
      "  if str(j) in features_numerical:\n"
     ]
    },
    {
     "name": "stdout",
     "output_type": "stream",
     "text": [
      "Final Model:  [{'type': 'branching', 'children': [1, 2], 'feature': '38', 'threshold': ['a', 't']}, {'type': 'branching', 'children': [3, 4], 'feature': '14', 'threshold': ['a', 'c']}, {'type': 'branching', 'children': [5, 6], 'feature': '9', 'threshold': ['a']}, {'type': 'leaf', 'label': 1}, {'type': 'leaf', 'label': 0}, {'type': 'leaf', 'label': 0}, {'type': 'leaf', 'label': 1}]\n",
      "Min cost found:  12\n"
     ]
    }
   ],
   "source": [
    "max_accuracy_categorical_problem = SATreeCraft(dataset=dataset,\n",
    "                                           features=features,\n",
    "                                           labels=labels,\n",
    "                                           true_labels_for_points=true_labels_for_points,\n",
    "                                           features_categorical=features_categorical,\n",
    "                                           features_numerical=features_numerical,\n",
    "                                           classification_objective= 'max_accuracy',\n",
    "                                           fixed_depth=2,\n",
    "                                           # min_support= 2,\n",
    "                                           # tree_structure = 'Oblivious'\n",
    "                                           )\n",
    "\n",
    "\n",
    "execution_path = \"/Users/harisrasul/Desktop/loandra/SolveMaxHeightProblem.cnf\"\n",
    "loandra_path = '/Users/harisrasul/Desktop/loandra'\n",
    "max_accuracy_categorical_problem.solve_loandra(loandra_path,execution_path)\n",
    "print(\"Final Model: \", max_accuracy_categorical_problem.model)\n",
    "print(\"Min cost found: \", max_accuracy_categorical_problem.min_cost)"
   ]
  },
  {
   "cell_type": "code",
   "execution_count": 12,
   "metadata": {},
   "outputs": [
    {
     "name": "stderr",
     "output_type": "stream",
     "text": [
      "/Users/harisrasul/Desktop/ESC499-THESIS/ESC499-Thesis-SAT-Trees/SATreeCraft/classification_problems/fixed_height_tree_categorical_module.py:110: FutureWarning: elementwise comparison failed; returning scalar instead, but in the future will perform elementwise comparison\n",
      "  if str(j) in features_numerical:\n"
     ]
    },
    {
     "name": "stdout",
     "output_type": "stream",
     "text": [
      "Final Model:  [{'type': 'branching', 'children': [1, 2], 'feature': '38', 'threshold': ['a', 't']}, {'type': 'branching', 'children': [3, 4], 'feature': '14', 'threshold': ['a', 'c']}, {'type': 'branching', 'children': [5, 6], 'feature': '9', 'threshold': ['a']}, {'type': 'leaf', 'label': 1}, {'type': 'leaf', 'label': 0}, {'type': 'leaf', 'label': 0}, {'type': 'leaf', 'label': 1}]\n",
      "Min cost found:  12\n"
     ]
    }
   ],
   "source": [
    "max_accuracy_categorical_problem = SATreeCraft(dataset=dataset,\n",
    "                                           features=features,\n",
    "                                           labels=labels,\n",
    "                                           true_labels_for_points=true_labels_for_points,\n",
    "                                           features_categorical=features_categorical,\n",
    "                                           features_numerical=features_numerical,\n",
    "                                           classification_objective= 'max_accuracy',\n",
    "                                           fixed_depth=2,\n",
    "                                           # min_support= 2,\n",
    "                                           # tree_structure = 'Oblivious'\n",
    "                                           )\n",
    "\n",
    "\n",
    "max_accuracy_categorical_problem.solve()\n",
    "print(\"Final Model: \", max_accuracy_categorical_problem.model)\n",
    "print(\"Min cost found: \", max_accuracy_categorical_problem.min_cost)"
   ]
  },
  {
   "cell_type": "markdown",
   "metadata": {},
   "source": [
    "# Minimum Height Problem With Loandra"
   ]
  },
  {
   "cell_type": "code",
   "execution_count": 2,
   "metadata": {},
   "outputs": [
    {
     "name": "stdout",
     "output_type": "stream",
     "text": [
      "Features: ['0' '1' '2' '3' '4' '5' '6' '7' '8' '9' '10' '11' '12'] (13,)\n",
      "Labels: [0 1 2] (3,)\n",
      "True Labels for Points: [0 0 0 0 0 0 0 0 0 0 0 0 0 0 0 0 0 0 0 0 0 0 0 0 0 0 0 0 0 0 0 0 0 0 0 0 0\n",
      " 0 0 0 0 0 0 0 0 0 0 0 0 0 0 0 0 0 0 0 0 0 0 1 1 1 1 1 1 1 1 1 1 1 1 1 1 1\n",
      " 1 1 1 1 1 1 1 1 1 1 1 1 1 1 1 1 1 1 1 1 1 1 1 1 1 1 1 1 1 1 1 1 1 1 1 1 1\n",
      " 1 1 1 1 1 1 1 1 1 1 1 1 1 1 1 1 1 1 1 2 2 2 2 2 2 2 2 2 2 2 2 2 2 2 2 2 2\n",
      " 2 2 2 2 2 2 2 2 2 2 2 2 2 2 2 2 2 2 2 2 2 2 2 2 2 2 2 2 2 2] (178,)\n",
      "Dataset:\n",
      " [[1.423e+01 1.710e+00 2.430e+00 ... 1.040e+00 3.920e+00 1.065e+03]\n",
      " [1.320e+01 1.780e+00 2.140e+00 ... 1.050e+00 3.400e+00 1.050e+03]\n",
      " [1.316e+01 2.360e+00 2.670e+00 ... 1.030e+00 3.170e+00 1.185e+03]\n",
      " ...\n",
      " [1.327e+01 4.280e+00 2.260e+00 ... 5.900e-01 1.560e+00 8.350e+02]\n",
      " [1.317e+01 2.590e+00 2.370e+00 ... 6.000e-01 1.620e+00 8.400e+02]\n",
      " [1.413e+01 4.100e+00 2.740e+00 ... 6.100e-01 1.600e+00 5.600e+02]] (178, 13)\n"
     ]
    }
   ],
   "source": [
    "file_path_to_test = 'Datasets/wine/wine.data'\n",
    "delimiter = ','\n",
    "label_position = 0 \n",
    "\n",
    "data_loader = TreeDataLoaderBinaryNumerical(file_path=file_path_to_test, delimiter=delimiter, label_position= label_position)\n",
    "\n",
    "\n",
    "\n",
    "print(\"Features:\", data_loader.features, data_loader.features.shape)\n",
    "print(\"Labels:\", data_loader.labels, data_loader.labels.shape)\n",
    "print(\"True Labels for Points:\", data_loader.true_labels_for_points, data_loader.true_labels_for_points.shape)\n",
    "print(\"Dataset:\\n\", data_loader.dataset,data_loader.dataset.shape)\n",
    "\n",
    "\n",
    "features = data_loader.features\n",
    "labels = data_loader.labels\n",
    "true_labels_for_points = data_loader.true_labels_for_points\n",
    "dataset = data_loader.dataset"
   ]
  },
  {
   "cell_type": "code",
   "execution_count": 4,
   "metadata": {},
   "outputs": [
    {
     "name": "stdout",
     "output_type": "stream",
     "text": [
      "no solution at depth 1\n",
      "no solution at depth 2\n",
      "Final Model:  [{'type': 'branching', 'children': [1, 2], 'feature': '10', 'threshold': 0.915}, {'type': 'branching', 'children': [3, 4], 'feature': '6', 'threshold': 1.585}, {'type': 'branching', 'children': [5, 6], 'feature': '12', 'threshold': 716.0}, {'type': 'branching', 'children': [7, 8], 'feature': '9', 'threshold': 3.8449999999999998}, {'type': 'branching', 'children': [9, 10], 'feature': '12', 'threshold': 627.5}, {'type': 'branching', 'children': [11, 12], 'feature': '6', 'threshold': 0.565}, {'type': 'branching', 'children': [13, 14], 'feature': '9', 'threshold': 3.46}, {'type': 'leaf', 'label': 1}, {'type': 'leaf', 'label': 2}, {'type': 'leaf', 'label': 1}, {'type': 'leaf', 'label': 0}, {'type': 'leaf', 'label': 2}, {'type': 'leaf', 'label': 1}, {'type': 'leaf', 'label': 1}, {'type': 'leaf', 'label': 0}]\n",
      "min depth found:  3\n"
     ]
    }
   ],
   "source": [
    "min_height_numerical_problem = SATreeCraft(dataset=dataset,features=features,labels=labels,true_labels_for_points=true_labels_for_points)\n",
    "min_height_numerical_problem.solve()\n",
    "\n",
    "print(\"Final Model: \", min_height_numerical_problem.model)\n",
    "print(\"min depth found: \", min_height_numerical_problem.min_depth)"
   ]
  },
  {
   "cell_type": "code",
   "execution_count": 7,
   "metadata": {},
   "outputs": [
    {
     "name": "stdout",
     "output_type": "stream",
     "text": [
      "no solution at depth 1\n",
      "no solution at depth 2\n",
      "Final Model:  [{'type': 'branching', 'children': [1, 2], 'feature': '9', 'threshold': 3.915}, {'type': 'branching', 'children': [3, 4], 'feature': '12', 'threshold': 765.0}, {'type': 'branching', 'children': [5, 6], 'feature': '6', 'threshold': 1.5750000000000002}, {'type': 'branching', 'children': [7, 8], 'feature': '6', 'threshold': 0.495}, {'type': 'branching', 'children': [9, 10], 'feature': '0', 'threshold': 13.04}, {'type': 'branching', 'children': [11, 12], 'feature': '3', 'threshold': 16.9}, {'type': 'branching', 'children': [13, 14], 'feature': '12', 'threshold': 679.0}, {'type': 'leaf', 'label': 2}, {'type': 'leaf', 'label': 1}, {'type': 'leaf', 'label': 1}, {'type': 'leaf', 'label': 0}, {'type': 'leaf', 'label': 1}, {'type': 'leaf', 'label': 2}, {'type': 'leaf', 'label': 1}, {'type': 'leaf', 'label': 0}]\n",
      "min depth found:  3\n"
     ]
    }
   ],
   "source": [
    "execution_path = \"/Users/harisrasul/Desktop/loandra/SolveMinHeightProblem.cnf\"\n",
    "loandra_path = '/Users/harisrasul/Desktop/loandra'\n",
    "\n",
    "min_height_numerical_problem = SATreeCraft(dataset=dataset,features=features,labels=labels,true_labels_for_points=true_labels_for_points)\n",
    "min_height_numerical_problem.solve_loandra(loandra_path,execution_path)\n",
    "print(\"Final Model: \", min_height_numerical_problem.model)\n",
    "print(\"min depth found: \", min_height_numerical_problem.min_depth)"
   ]
  },
  {
   "cell_type": "markdown",
   "metadata": {},
   "source": [
    "Categorical Problem "
   ]
  },
  {
   "cell_type": "code",
   "execution_count": 13,
   "metadata": {},
   "outputs": [
    {
     "name": "stdout",
     "output_type": "stream",
     "text": [
      "Features: ['0' '1' '2' '3' '4' '5' '6' '7' '8' '9' '10' '11' '12' '13' '14' '15'\n",
      " '16' '17' '18' '19' '20' '21' '22' '23' '24' '25' '26' '27' '28' '29'\n",
      " '30' '31' '32' '33' '34' '35' '36' '37' '38' '39' '40' '41' '42' '43'\n",
      " '44' '45' '46' '47' '48' '49' '50' '51' '52' '53' '54' '55' '56'] (57,)\n",
      "Categorical Features: ['0' '1' '2' '3' '4' '5' '6' '7' '8' '9' '10' '11' '12' '13' '14' '15'\n",
      " '16' '17' '18' '19' '20' '21' '22' '23' '24' '25' '26' '27' '28' '29'\n",
      " '30' '31' '32' '33' '34' '35' '36' '37' '38' '39' '40' '41' '42' '43'\n",
      " '44' '45' '46' '47' '48' '49' '50' '51' '52' '53' '54' '55' '56'] (57,)\n",
      "Numerical Features: [] (106, 0)\n",
      "Labels: [0 1] (2,)\n",
      "True Labels for Points: [0 0 0 0 0 0 0 0 0 0 0 0 0 0 0 0 0 0 0 0 0 0 0 0 0 0 0 0 0 0 0 0 0 0 0 0 0\n",
      " 0 0 0 0 0 0 0 0 0 0 0 0 0 0 0 0 1 1 1 1 1 1 1 1 1 1 1 1 1 1 1 1 1 1 1 1 1\n",
      " 1 1 1 1 1 1 1 1 1 1 1 1 1 1 1 1 1 1 1 1 1 1 1 1 1 1 1 1 1 1 1 1] (106,)\n",
      "Dataset:\n",
      " [['t' 'a' 'c' ... 'c' 'g' 't']\n",
      " ['t' 'g' 'c' ... 'c' 'a' 'a']\n",
      " ['g' 't' 'a' ... 'g' 'c' 'g']\n",
      " ...\n",
      " ['c' 'g' 'c' ... 't' 'c' 'c']\n",
      " ['c' 't' 'c' ... 'a' 'a' 'c']\n",
      " ['t' 'a' 'a' ... 'a' 'c' 't']] (106, 57)\n"
     ]
    }
   ],
   "source": [
    "# Promoter data set\n",
    "file_path = 'Datasets/molecular+biology+promoter+gene+sequences/promoters.data'\n",
    "label_index = 0\n",
    "categorical_feature_index = 2  \n",
    "numerical_indices = None\n",
    "\n",
    "data_loader = TreeDataLoaderWithCategorical(\n",
    "    file_path= file_path,\n",
    "    label_index= label_index,\n",
    "    numerical_indices= numerical_indices,\n",
    "    categorical_feature_index=categorical_feature_index\n",
    ")\n",
    "\n",
    "print(\"Features:\", data_loader.features, data_loader.features.shape)\n",
    "print(\"Categorical Features:\", data_loader.features_categorical, data_loader.features_categorical.shape)\n",
    "print(\"Numerical Features:\", data_loader.features_numerical, data_loader.features_numerical.shape)\n",
    "print(\"Labels:\", data_loader.labels, data_loader.labels.shape)\n",
    "print(\"True Labels for Points:\", data_loader.true_labels_for_points, data_loader.true_labels_for_points.shape)\n",
    "print(\"Dataset:\\n\", data_loader.dataset,data_loader.dataset.shape)\n",
    "\n",
    "\n",
    "features = data_loader.features\n",
    "features_categorical = data_loader.features_categorical\n",
    "features_numerical = data_loader.features_numerical\n",
    "labels = data_loader.labels\n",
    "true_labels_for_points = data_loader.true_labels_for_points\n",
    "dataset = data_loader.dataset"
   ]
  },
  {
   "cell_type": "code",
   "execution_count": 14,
   "metadata": {},
   "outputs": [
    {
     "name": "stderr",
     "output_type": "stream",
     "text": [
      "/Users/harisrasul/Desktop/ESC499-THESIS/ESC499-Thesis-SAT-Trees/SATreeCraft/classification_problems/min_height_tree_categorical_module.py:124: FutureWarning: elementwise comparison failed; returning scalar instead, but in the future will perform elementwise comparison\n",
      "  if str(j) in features_numerical:\n"
     ]
    },
    {
     "name": "stdout",
     "output_type": "stream",
     "text": [
      "No solution at depth:  1\n",
      "No solution at depth:  2\n",
      "No solution at depth:  3\n",
      "Final Model:  [{'type': 'branching', 'children': [1, 2], 'feature': '28', 'threshold': ['a', 'c']}, {'type': 'branching', 'children': [3, 4], 'feature': '1', 'threshold': ['a', 'g', 't']}, {'type': 'branching', 'children': [5, 6], 'feature': '54', 'threshold': ['a', 't']}, {'type': 'branching', 'children': [7, 8], 'feature': '29', 'threshold': ['a']}, {'type': 'branching', 'children': [9, 10], 'feature': '49', 'threshold': ['a', 'g']}, {'type': 'branching', 'children': [11, 12], 'feature': '16', 'threshold': ['a', 't']}, {'type': 'branching', 'children': [13, 14], 'feature': '35', 'threshold': ['a', 'g']}, {'type': 'branching', 'children': [15, 16], 'feature': '38', 'threshold': ['a', 't']}, {'type': 'branching', 'children': [17, 18], 'feature': '16', 'threshold': ['a', 'c', 't']}, {'type': 'branching', 'children': [19, 20], 'feature': '41', 'threshold': ['a']}, {'type': 'branching', 'children': [21, 22], 'feature': '14', 'threshold': ['a', 'c']}, {'type': 'branching', 'children': [23, 24], 'feature': '21', 'threshold': ['a', 'g', 't']}, {'type': 'branching', 'children': [25, 26], 'feature': '14', 'threshold': ['a', 'c']}, {'type': 'branching', 'children': [27, 28], 'feature': '14', 'threshold': ['a', 'c']}, {'type': 'branching', 'children': [29, 30], 'feature': '15', 'threshold': ['a', 'c', 'g']}, {'type': 'leaf', 'label': 0}, {'type': 'leaf', 'label': 1}, {'type': 'leaf', 'label': 1}, {'type': 'leaf', 'label': 0}, {'type': 'leaf', 'label': 1}, {'type': 'leaf', 'label': 0}, {'type': 'leaf', 'label': 1}, {'type': 'leaf', 'label': 0}, {'type': 'leaf', 'label': 1}, {'type': 'leaf', 'label': 0}, {'type': 'leaf', 'label': 1}, {'type': 'leaf', 'label': 0}, {'type': 'leaf', 'label': 1}, {'type': 'leaf', 'label': 0}, {'type': 'leaf', 'label': 1}, {'type': 'leaf', 'label': 0}]\n",
      "min depth found:  4\n"
     ]
    }
   ],
   "source": [
    "min_height_categorical_problem = SATreeCraft(dataset=dataset,\n",
    "                                           features=features,\n",
    "                                           labels=labels,\n",
    "                                           true_labels_for_points=true_labels_for_points,\n",
    "                                           features_categorical=features_categorical,\n",
    "                                           features_numerical=features_numerical)\n",
    "min_height_categorical_problem.solve()\n",
    "\n",
    "\n",
    "print(\"Final Model: \", min_height_categorical_problem.model)\n",
    "print(\"min depth found: \", min_height_categorical_problem.min_depth)"
   ]
  },
  {
   "cell_type": "code",
   "execution_count": 15,
   "metadata": {},
   "outputs": [
    {
     "name": "stderr",
     "output_type": "stream",
     "text": [
      "/Users/harisrasul/Desktop/ESC499-THESIS/ESC499-Thesis-SAT-Trees/SATreeCraft/classification_problems/min_height_tree_categorical_module.py:124: FutureWarning: elementwise comparison failed; returning scalar instead, but in the future will perform elementwise comparison\n",
      "  if str(j) in features_numerical:\n"
     ]
    },
    {
     "name": "stdout",
     "output_type": "stream",
     "text": [
      "No solution at depth:  1\n",
      "No solution at depth:  2\n",
      "No solution at depth:  3\n",
      "Final Model:  [{'type': 'branching', 'children': [1, 2], 'feature': '43', 'threshold': ['a', 'g']}, {'type': 'branching', 'children': [3, 4], 'feature': '2', 'threshold': ['a', 'c', 't']}, {'type': 'branching', 'children': [5, 6], 'feature': '3', 'threshold': ['a', 'g']}, {'type': 'branching', 'children': [7, 8], 'feature': '14', 'threshold': ['a', 'c']}, {'type': 'branching', 'children': [9, 10], 'feature': '47', 'threshold': ['a', 'g']}, {'type': 'branching', 'children': [11, 12], 'feature': '35', 'threshold': ['a', 'c']}, {'type': 'branching', 'children': [13, 14], 'feature': '40', 'threshold': ['a', 'g']}, {'type': 'branching', 'children': [15, 16], 'feature': '19', 'threshold': ['a', 'g', 't']}, {'type': 'branching', 'children': [17, 18], 'feature': '38', 'threshold': ['a', 't']}, {'type': 'branching', 'children': [19, 20], 'feature': '19', 'threshold': ['a', 't']}, {'type': 'branching', 'children': [21, 22], 'feature': '41', 'threshold': ['a', 't']}, {'type': 'branching', 'children': [23, 24], 'feature': '15', 'threshold': ['a', 'c', 'g']}, {'type': 'branching', 'children': [25, 26], 'feature': '5', 'threshold': ['a', 't']}, {'type': 'branching', 'children': [27, 28], 'feature': '14', 'threshold': ['a']}, {'type': 'branching', 'children': [29, 30], 'feature': '56', 'threshold': ['a', 'c', 'g']}, {'type': 'leaf', 'label': 1}, {'type': 'leaf', 'label': 1}, {'type': 'leaf', 'label': 0}, {'type': 'leaf', 'label': 1}, {'type': 'leaf', 'label': 0}, {'type': 'leaf', 'label': 1}, {'type': 'leaf', 'label': 0}, {'type': 'leaf', 'label': 1}, {'type': 'leaf', 'label': 1}, {'type': 'leaf', 'label': 0}, {'type': 'leaf', 'label': 0}, {'type': 'leaf', 'label': 1}, {'type': 'leaf', 'label': 1}, {'type': 'leaf', 'label': 0}, {'type': 'leaf', 'label': 1}, {'type': 'leaf', 'label': 0}]\n",
      "min depth found:  4\n"
     ]
    }
   ],
   "source": [
    "execution_path = \"/Users/harisrasul/Desktop/loandra/SolveMinHeightProblemCatty.cnf\"\n",
    "loandra_path = '/Users/harisrasul/Desktop/loandra'\n",
    "\n",
    "min_height_categorical_problem = SATreeCraft(dataset=dataset,\n",
    "                                           features=features,\n",
    "                                           labels=labels,\n",
    "                                           true_labels_for_points=true_labels_for_points,\n",
    "                                           features_categorical=features_categorical,\n",
    "                                           features_numerical=features_numerical)\n",
    "\n",
    "min_height_categorical_problem.solve_loandra(loandra_path,execution_path)\n",
    "\n",
    "print(\"Final Model: \", min_height_categorical_problem.model)\n",
    "print(\"min depth found: \", min_height_categorical_problem.min_depth)"
   ]
  }
 ],
 "metadata": {
  "kernelspec": {
   "display_name": "Python 3",
   "language": "python",
   "name": "python3"
  },
  "language_info": {
   "codemirror_mode": {
    "name": "ipython",
    "version": 3
   },
   "file_extension": ".py",
   "mimetype": "text/x-python",
   "name": "python",
   "nbconvert_exporter": "python",
   "pygments_lexer": "ipython3",
   "version": "3.9.7"
  }
 },
 "nbformat": 4,
 "nbformat_minor": 2
}
