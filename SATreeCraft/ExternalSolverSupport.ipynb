{
 "cells": [
  {
   "cell_type": "markdown",
   "metadata": {},
   "source": [
    "# Creating an External Solver Support Using Loandra "
   ]
  },
  {
   "cell_type": "markdown",
   "metadata": {},
   "source": [
    "# Fixed Height Tree Problem First "
   ]
  },
  {
   "cell_type": "code",
   "execution_count": 2,
   "metadata": {},
   "outputs": [],
   "source": [
    "import numpy as np\n",
    "import pandas as pd\n",
    "import openpyxl\n",
    "from sklearn.preprocessing import LabelEncoder\n",
    "\n",
    "from utils import * # Dataloader and K-fold mechanism \n",
    "from SATreeCraft import * # Tree solver framework\n",
    "from SATreeClassifier import * \n",
    "import os\n",
    "import subprocess\n",
    "import loandra_support.loandra"
   ]
  },
  {
   "cell_type": "code",
   "execution_count": 3,
   "metadata": {},
   "outputs": [
    {
     "name": "stdout",
     "output_type": "stream",
     "text": [
      "Features: ['0' '1' '2' '3' '4' '5' '6' '7' '8' '9' '10' '11' '12'] (13,)\n",
      "Labels: [0 1 2] (3,)\n",
      "True Labels for Points: [0 0 0 0 0 0 0 0 0 0 0 0 0 0 0 0 0 0 0 0 0 0 0 0 0 0 0 0 0 0 0 0 0 0 0 0 0\n",
      " 0 0 0 0 0 0 0 0 0 0 0 0 0 0 0 0 0 0 0 0 0 0 1 1 1 1 1 1 1 1 1 1 1 1 1 1 1\n",
      " 1 1 1 1 1 1 1 1 1 1 1 1 1 1 1 1 1 1 1 1 1 1 1 1 1 1 1 1 1 1 1 1 1 1 1 1 1\n",
      " 1 1 1 1 1 1 1 1 1 1 1 1 1 1 1 1 1 1 1 2 2 2 2 2 2 2 2 2 2 2 2 2 2 2 2 2 2\n",
      " 2 2 2 2 2 2 2 2 2 2 2 2 2 2 2 2 2 2 2 2 2 2 2 2 2 2 2 2 2 2] (178,)\n",
      "Dataset:\n",
      " [[1.423e+01 1.710e+00 2.430e+00 ... 1.040e+00 3.920e+00 1.065e+03]\n",
      " [1.320e+01 1.780e+00 2.140e+00 ... 1.050e+00 3.400e+00 1.050e+03]\n",
      " [1.316e+01 2.360e+00 2.670e+00 ... 1.030e+00 3.170e+00 1.185e+03]\n",
      " ...\n",
      " [1.327e+01 4.280e+00 2.260e+00 ... 5.900e-01 1.560e+00 8.350e+02]\n",
      " [1.317e+01 2.590e+00 2.370e+00 ... 6.000e-01 1.620e+00 8.400e+02]\n",
      " [1.413e+01 4.100e+00 2.740e+00 ... 6.100e-01 1.600e+00 5.600e+02]] (178, 13)\n"
     ]
    }
   ],
   "source": [
    "from utils import *\n",
    "\n",
    "file_path_to_test = 'Datasets/wine/wine.data'\n",
    "delimiter = ','\n",
    "label_position = 0 \n",
    "\n",
    "data_loader = TreeDataLoaderBinaryNumerical(file_path=file_path_to_test, delimiter=delimiter, label_position= label_position)\n",
    "\n",
    "\n",
    "\n",
    "print(\"Features:\", data_loader.features, data_loader.features.shape)\n",
    "print(\"Labels:\", data_loader.labels, data_loader.labels.shape)\n",
    "print(\"True Labels for Points:\", data_loader.true_labels_for_points, data_loader.true_labels_for_points.shape)\n",
    "print(\"Dataset:\\n\", data_loader.dataset,data_loader.dataset.shape)\n",
    "\n",
    "\n",
    "features = data_loader.features\n",
    "labels = data_loader.labels\n",
    "true_labels_for_points = data_loader.true_labels_for_points\n",
    "dataset = data_loader.dataset"
   ]
  },
  {
   "cell_type": "code",
   "execution_count": 4,
   "metadata": {},
   "outputs": [],
   "source": [
    "max_accuracy_numerical_problem = SATreeCraft(dataset=dataset,\n",
    "                                             features=features,labels=labels,\n",
    "                                             true_labels_for_points=true_labels_for_points,\n",
    "                                             classification_objective='max_accuracy',\n",
    "                                             fixed_depth=2,\n",
    "                                             # min_support= 5\n",
    "                                             # min_margin  = 10\n",
    "                                             # tree_structure= 'Oblivious'\n",
    "                                             )\n",
    "#max_accuracy_numerical_problem.solve()"
   ]
  },
  {
   "cell_type": "code",
   "execution_count": 5,
   "metadata": {},
   "outputs": [],
   "source": [
    "loandra_path = '/Users/harisrasul/Desktop/loandra'\n",
    "max_accuracy_numerical_problem.solve_loandra(loandra_path= loandra_path)\n"
   ]
  },
  {
   "cell_type": "code",
   "execution_count": 6,
   "metadata": {},
   "outputs": [
    {
     "name": "stdout",
     "output_type": "stream",
     "text": [
      "Final Model:  [{'type': 'branching', 'children': [1, 2], 'feature': '6', 'threshold': 1.885}, {'type': 'branching', 'children': [3, 4], 'feature': '9', 'threshold': 3.82}, {'type': 'branching', 'children': [5, 6], 'feature': '12', 'threshold': 730.0}, {'type': 'leaf', 'label': 1}, {'type': 'leaf', 'label': 2}, {'type': 'leaf', 'label': 1}, {'type': 'leaf', 'label': 0}]\n",
      "Min cost found:  6\n"
     ]
    }
   ],
   "source": [
    "print(\"Final Model: \", max_accuracy_numerical_problem.model)\n",
    "print(\"Min cost found: \", max_accuracy_numerical_problem.min_cost)"
   ]
  },
  {
   "cell_type": "code",
   "execution_count": 7,
   "metadata": {},
   "outputs": [
    {
     "name": "stdout",
     "output_type": "stream",
     "text": [
      "Accuracy: 0.9612903225806452\n",
      "Classification Report:\n",
      "              precision    recall  f1-score   support\n",
      "\n",
      "           0       0.95      0.98      0.96        54\n",
      "           1       0.99      0.93      0.96        71\n",
      "           2       0.94      1.00      0.97        30\n",
      "\n",
      "    accuracy                           0.96       155\n",
      "   macro avg       0.96      0.97      0.96       155\n",
      "weighted avg       0.96      0.96      0.96       155\n",
      "\n",
      "Confusion Matrix:\n",
      "[[53  1  0]\n",
      " [ 3 66  2]\n",
      " [ 0  0 30]]\n"
     ]
    }
   ],
   "source": [
    "# Classifier - sklearn Integration \n",
    "\n",
    "# Build model\n",
    "model = SATreeClassifier(max_accuracy_numerical_problem.model)\n",
    "\n",
    "# Test cases 0- uisng training set expecting 100%\n",
    "X_test = dataset[5:160]\n",
    "y_test = true_labels_for_points[5:160]\n",
    "\n",
    "# To get the accuracy score\n",
    "accuracy = model.score(X_test, y_test)\n",
    "print(f\"Accuracy: {accuracy}\")\n",
    "\n",
    "# To get the classification report\n",
    "report = model.get_classification_report(X_test, y_test)\n",
    "print(\"Classification Report:\")\n",
    "print(report)\n",
    "\n",
    "# To get the confusion matrix\n",
    "conf_matrix = model.get_confusion_matrix(X_test, y_test)\n",
    "print(\"Confusion Matrix:\")\n",
    "print(conf_matrix)"
   ]
  },
  {
   "cell_type": "code",
   "execution_count": 8,
   "metadata": {},
   "outputs": [
    {
     "name": "stdout",
     "output_type": "stream",
     "text": [
      "Iteration complete\n",
      "Iteration complete\n",
      "Iteration complete\n",
      "Iteration complete\n",
      "Iteration complete\n",
      "[0.94444444 0.94444444 0.94444444 0.94285714 0.94285714]\n",
      "0.9438095238095239\n"
     ]
    }
   ],
   "source": [
    "k = 5\n",
    "depth = 2 \n",
    "minimum_support = 5\n",
    "accuracies, mean_score = k_fold_tester(k=k, depth=depth, dataset=dataset, true_labels_for_points=true_labels_for_points, \n",
    "                                       labels=labels, features=features, min_support_level=minimum_support, \n",
    "                                       # complete_tree=False\n",
    "                                       )\n",
    "\n",
    "print(accuracies)\n",
    "print(mean_score)"
   ]
  },
  {
   "cell_type": "code",
   "execution_count": 10,
   "metadata": {},
   "outputs": [
    {
     "name": "stdout",
     "output_type": "stream",
     "text": [
      "Iteration complete\n",
      "Iteration complete\n",
      "Iteration complete\n",
      "Iteration complete\n",
      "Iteration complete\n",
      "[0.97222222 0.94444444 0.86111111 0.97142857 0.91428571]\n",
      "0.9326984126984128\n"
     ]
    }
   ],
   "source": [
    "k = 5\n",
    "depth = 2 \n",
    "minimum_support = 5\n",
    "loandra_path = '/Users/harisrasul/Desktop/loandra'\n",
    "\n",
    "accuracies, mean_score = k_fold_tester_loandra(loandra_path=loandra_path,\n",
    "                                               k=k, depth=depth, dataset=dataset, true_labels_for_points=true_labels_for_points, \n",
    "                                       labels=labels, features=features, min_support_level=minimum_support, \n",
    "                                       # complete_tree=False\n",
    "                                       )\n",
    "\n",
    "print(accuracies)\n",
    "print(mean_score)"
   ]
  },
  {
   "cell_type": "markdown",
   "metadata": {},
   "source": [
    "Categorical Testing for fixed height"
   ]
  },
  {
   "cell_type": "code",
   "execution_count": 11,
   "metadata": {},
   "outputs": [
    {
     "name": "stdout",
     "output_type": "stream",
     "text": [
      "Features: ['0' '1' '2' '3' '4' '5' '6' '7' '8' '9' '10' '11' '12' '13' '14' '15'\n",
      " '16' '17' '18' '19' '20' '21' '22' '23' '24' '25' '26' '27' '28' '29'\n",
      " '30' '31' '32' '33' '34' '35' '36' '37' '38' '39' '40' '41' '42' '43'\n",
      " '44' '45' '46' '47' '48' '49' '50' '51' '52' '53' '54' '55' '56'] (57,)\n",
      "Categorical Features: ['0' '1' '2' '3' '4' '5' '6' '7' '8' '9' '10' '11' '12' '13' '14' '15'\n",
      " '16' '17' '18' '19' '20' '21' '22' '23' '24' '25' '26' '27' '28' '29'\n",
      " '30' '31' '32' '33' '34' '35' '36' '37' '38' '39' '40' '41' '42' '43'\n",
      " '44' '45' '46' '47' '48' '49' '50' '51' '52' '53' '54' '55' '56'] (57,)\n",
      "Numerical Features: [] (106, 0)\n",
      "Labels: [0 1] (2,)\n",
      "True Labels for Points: [0 0 0 0 0 0 0 0 0 0 0 0 0 0 0 0 0 0 0 0 0 0 0 0 0 0 0 0 0 0 0 0 0 0 0 0 0\n",
      " 0 0 0 0 0 0 0 0 0 0 0 0 0 0 0 0 1 1 1 1 1 1 1 1 1 1 1 1 1 1 1 1 1 1 1 1 1\n",
      " 1 1 1 1 1 1 1 1 1 1 1 1 1 1 1 1 1 1 1 1 1 1 1 1 1 1 1 1 1 1 1 1] (106,)\n",
      "Dataset:\n",
      " [['t' 'a' 'c' ... 'c' 'g' 't']\n",
      " ['t' 'g' 'c' ... 'c' 'a' 'a']\n",
      " ['g' 't' 'a' ... 'g' 'c' 'g']\n",
      " ...\n",
      " ['c' 'g' 'c' ... 't' 'c' 'c']\n",
      " ['c' 't' 'c' ... 'a' 'a' 'c']\n",
      " ['t' 'a' 'a' ... 'a' 'c' 't']] (106, 57)\n"
     ]
    }
   ],
   "source": [
    "# Promoter data set\n",
    "file_path = 'Datasets/molecular+biology+promoter+gene+sequences/promoters.data'\n",
    "label_index = 0\n",
    "categorical_feature_index = 2  \n",
    "numerical_indices = None\n",
    "\n",
    "data_loader = TreeDataLoaderWithCategorical(\n",
    "    file_path= file_path,\n",
    "    label_index= label_index,\n",
    "    numerical_indices= numerical_indices,\n",
    "    categorical_feature_index=categorical_feature_index\n",
    ")\n",
    "\n",
    "print(\"Features:\", data_loader.features, data_loader.features.shape)\n",
    "print(\"Categorical Features:\", data_loader.features_categorical, data_loader.features_categorical.shape)\n",
    "print(\"Numerical Features:\", data_loader.features_numerical, data_loader.features_numerical.shape)\n",
    "print(\"Labels:\", data_loader.labels, data_loader.labels.shape)\n",
    "print(\"True Labels for Points:\", data_loader.true_labels_for_points, data_loader.true_labels_for_points.shape)\n",
    "print(\"Dataset:\\n\", data_loader.dataset,data_loader.dataset.shape)\n",
    "\n",
    "\n",
    "features = data_loader.features\n",
    "features_categorical = data_loader.features_categorical\n",
    "features_numerical = data_loader.features_numerical\n",
    "labels = data_loader.labels\n",
    "true_labels_for_points = data_loader.true_labels_for_points\n",
    "dataset = data_loader.dataset"
   ]
  },
  {
   "cell_type": "code",
   "execution_count": 12,
   "metadata": {},
   "outputs": [
    {
     "name": "stderr",
     "output_type": "stream",
     "text": [
      "/Users/harisrasul/Desktop/ESC499-THESIS/ESC499-Thesis-SAT-Trees/SATreeCraft/classification_problems/fixed_height_tree_categorical_module.py:110: FutureWarning: elementwise comparison failed; returning scalar instead, but in the future will perform elementwise comparison\n",
      "  if str(j) in features_numerical:\n"
     ]
    },
    {
     "name": "stdout",
     "output_type": "stream",
     "text": [
      "Final Model:  [{'type': 'branching', 'children': [1, 2], 'feature': '38', 'threshold': ['a', 't']}, {'type': 'branching', 'children': [3, 4], 'feature': '14', 'threshold': ['a', 'c']}, {'type': 'branching', 'children': [5, 6], 'feature': '9', 'threshold': ['a']}, {'type': 'leaf', 'label': 1}, {'type': 'leaf', 'label': 0}, {'type': 'leaf', 'label': 0}, {'type': 'leaf', 'label': 1}]\n",
      "Min cost found:  12\n"
     ]
    }
   ],
   "source": [
    "max_accuracy_categorical_problem = SATreeCraft(dataset=dataset,\n",
    "                                           features=features,\n",
    "                                           labels=labels,\n",
    "                                           true_labels_for_points=true_labels_for_points,\n",
    "                                           features_categorical=features_categorical,\n",
    "                                           features_numerical=features_numerical,\n",
    "                                           classification_objective= 'max_accuracy',\n",
    "                                           fixed_depth=2,\n",
    "                                           # min_support= 2,\n",
    "                                           # tree_structure = 'Oblivious'\n",
    "                                           )\n",
    "\n",
    "loandra_path = '/Users/harisrasul/Desktop/loandra'\n",
    "max_accuracy_categorical_problem.solve_loandra(loandra_path)\n",
    "print(\"Final Model: \", max_accuracy_categorical_problem.model)\n",
    "print(\"Min cost found: \", max_accuracy_categorical_problem.min_cost)"
   ]
  },
  {
   "cell_type": "code",
   "execution_count": 13,
   "metadata": {},
   "outputs": [
    {
     "name": "stderr",
     "output_type": "stream",
     "text": [
      "/Users/harisrasul/Desktop/ESC499-THESIS/ESC499-Thesis-SAT-Trees/SATreeCraft/classification_problems/fixed_height_tree_categorical_module.py:110: FutureWarning: elementwise comparison failed; returning scalar instead, but in the future will perform elementwise comparison\n",
      "  if str(j) in features_numerical:\n"
     ]
    },
    {
     "name": "stdout",
     "output_type": "stream",
     "text": [
      "Final Model:  [{'type': 'branching', 'children': [1, 2], 'feature': '38', 'threshold': ['a', 't']}, {'type': 'branching', 'children': [3, 4], 'feature': '14', 'threshold': ['a', 'c']}, {'type': 'branching', 'children': [5, 6], 'feature': '9', 'threshold': ['a']}, {'type': 'leaf', 'label': 1}, {'type': 'leaf', 'label': 0}, {'type': 'leaf', 'label': 0}, {'type': 'leaf', 'label': 1}]\n",
      "Min cost found:  12\n"
     ]
    }
   ],
   "source": [
    "max_accuracy_categorical_problem = SATreeCraft(dataset=dataset,\n",
    "                                           features=features,\n",
    "                                           labels=labels,\n",
    "                                           true_labels_for_points=true_labels_for_points,\n",
    "                                           features_categorical=features_categorical,\n",
    "                                           features_numerical=features_numerical,\n",
    "                                           classification_objective= 'max_accuracy',\n",
    "                                           fixed_depth=2,\n",
    "                                           # min_support= 2,\n",
    "                                           # tree_structure = 'Oblivious'\n",
    "                                           )\n",
    "\n",
    "\n",
    "max_accuracy_categorical_problem.solve()\n",
    "print(\"Final Model: \", max_accuracy_categorical_problem.model)\n",
    "print(\"Min cost found: \", max_accuracy_categorical_problem.min_cost)"
   ]
  },
  {
   "cell_type": "markdown",
   "metadata": {},
   "source": [
    "# Minimum Height Problem With Loandra"
   ]
  },
  {
   "cell_type": "code",
   "execution_count": 14,
   "metadata": {},
   "outputs": [
    {
     "name": "stdout",
     "output_type": "stream",
     "text": [
      "Features: ['0' '1' '2' '3' '4' '5' '6' '7' '8' '9' '10' '11' '12'] (13,)\n",
      "Labels: [0 1 2] (3,)\n",
      "True Labels for Points: [0 0 0 0 0 0 0 0 0 0 0 0 0 0 0 0 0 0 0 0 0 0 0 0 0 0 0 0 0 0 0 0 0 0 0 0 0\n",
      " 0 0 0 0 0 0 0 0 0 0 0 0 0 0 0 0 0 0 0 0 0 0 1 1 1 1 1 1 1 1 1 1 1 1 1 1 1\n",
      " 1 1 1 1 1 1 1 1 1 1 1 1 1 1 1 1 1 1 1 1 1 1 1 1 1 1 1 1 1 1 1 1 1 1 1 1 1\n",
      " 1 1 1 1 1 1 1 1 1 1 1 1 1 1 1 1 1 1 1 2 2 2 2 2 2 2 2 2 2 2 2 2 2 2 2 2 2\n",
      " 2 2 2 2 2 2 2 2 2 2 2 2 2 2 2 2 2 2 2 2 2 2 2 2 2 2 2 2 2 2] (178,)\n",
      "Dataset:\n",
      " [[1.423e+01 1.710e+00 2.430e+00 ... 1.040e+00 3.920e+00 1.065e+03]\n",
      " [1.320e+01 1.780e+00 2.140e+00 ... 1.050e+00 3.400e+00 1.050e+03]\n",
      " [1.316e+01 2.360e+00 2.670e+00 ... 1.030e+00 3.170e+00 1.185e+03]\n",
      " ...\n",
      " [1.327e+01 4.280e+00 2.260e+00 ... 5.900e-01 1.560e+00 8.350e+02]\n",
      " [1.317e+01 2.590e+00 2.370e+00 ... 6.000e-01 1.620e+00 8.400e+02]\n",
      " [1.413e+01 4.100e+00 2.740e+00 ... 6.100e-01 1.600e+00 5.600e+02]] (178, 13)\n"
     ]
    }
   ],
   "source": [
    "file_path_to_test = 'Datasets/wine/wine.data'\n",
    "delimiter = ','\n",
    "label_position = 0 \n",
    "\n",
    "data_loader = TreeDataLoaderBinaryNumerical(file_path=file_path_to_test, delimiter=delimiter, label_position= label_position)\n",
    "\n",
    "\n",
    "\n",
    "print(\"Features:\", data_loader.features, data_loader.features.shape)\n",
    "print(\"Labels:\", data_loader.labels, data_loader.labels.shape)\n",
    "print(\"True Labels for Points:\", data_loader.true_labels_for_points, data_loader.true_labels_for_points.shape)\n",
    "print(\"Dataset:\\n\", data_loader.dataset,data_loader.dataset.shape)\n",
    "\n",
    "\n",
    "features = data_loader.features\n",
    "labels = data_loader.labels\n",
    "true_labels_for_points = data_loader.true_labels_for_points\n",
    "dataset = data_loader.dataset"
   ]
  },
  {
   "cell_type": "code",
   "execution_count": 15,
   "metadata": {},
   "outputs": [
    {
     "name": "stdout",
     "output_type": "stream",
     "text": [
      "no solution at depth 1\n",
      "no solution at depth 2\n",
      "Final Model:  [{'type': 'branching', 'children': [1, 2], 'feature': '10', 'threshold': 0.915}, {'type': 'branching', 'children': [3, 4], 'feature': '6', 'threshold': 1.585}, {'type': 'branching', 'children': [5, 6], 'feature': '12', 'threshold': 716.0}, {'type': 'branching', 'children': [7, 8], 'feature': '9', 'threshold': 3.8449999999999998}, {'type': 'branching', 'children': [9, 10], 'feature': '12', 'threshold': 627.5}, {'type': 'branching', 'children': [11, 12], 'feature': '6', 'threshold': 0.565}, {'type': 'branching', 'children': [13, 14], 'feature': '9', 'threshold': 3.46}, {'type': 'leaf', 'label': 1}, {'type': 'leaf', 'label': 2}, {'type': 'leaf', 'label': 1}, {'type': 'leaf', 'label': 0}, {'type': 'leaf', 'label': 2}, {'type': 'leaf', 'label': 1}, {'type': 'leaf', 'label': 1}, {'type': 'leaf', 'label': 0}]\n",
      "min depth found:  3\n"
     ]
    }
   ],
   "source": [
    "min_height_numerical_problem = SATreeCraft(dataset=dataset,features=features,labels=labels,true_labels_for_points=true_labels_for_points)\n",
    "min_height_numerical_problem.solve()\n",
    "\n",
    "print(\"Final Model: \", min_height_numerical_problem.model)\n",
    "print(\"min depth found: \", min_height_numerical_problem.min_depth)"
   ]
  },
  {
   "cell_type": "code",
   "execution_count": 16,
   "metadata": {},
   "outputs": [
    {
     "name": "stdout",
     "output_type": "stream",
     "text": [
      "no solution at depth 1\n",
      "no solution at depth 2\n",
      "Final Model:  [{'type': 'branching', 'children': [1, 2], 'feature': '9', 'threshold': 3.915}, {'type': 'branching', 'children': [3, 4], 'feature': '12', 'threshold': 765.0}, {'type': 'branching', 'children': [5, 6], 'feature': '6', 'threshold': 1.5750000000000002}, {'type': 'branching', 'children': [7, 8], 'feature': '6', 'threshold': 0.495}, {'type': 'branching', 'children': [9, 10], 'feature': '0', 'threshold': 13.04}, {'type': 'branching', 'children': [11, 12], 'feature': '3', 'threshold': 16.9}, {'type': 'branching', 'children': [13, 14], 'feature': '12', 'threshold': 679.0}, {'type': 'leaf', 'label': 2}, {'type': 'leaf', 'label': 1}, {'type': 'leaf', 'label': 1}, {'type': 'leaf', 'label': 0}, {'type': 'leaf', 'label': 1}, {'type': 'leaf', 'label': 2}, {'type': 'leaf', 'label': 1}, {'type': 'leaf', 'label': 0}]\n",
      "min depth found:  3\n"
     ]
    }
   ],
   "source": [
    "loandra_path = '/Users/harisrasul/Desktop/loandra'\n",
    "\n",
    "min_height_numerical_problem = SATreeCraft(dataset=dataset,features=features,labels=labels,true_labels_for_points=true_labels_for_points)\n",
    "min_height_numerical_problem.solve_loandra(loandra_path)\n",
    "print(\"Final Model: \", min_height_numerical_problem.model)\n",
    "print(\"min depth found: \", min_height_numerical_problem.min_depth)"
   ]
  },
  {
   "cell_type": "markdown",
   "metadata": {},
   "source": [
    "Categorical Problem "
   ]
  },
  {
   "cell_type": "code",
   "execution_count": 17,
   "metadata": {},
   "outputs": [
    {
     "name": "stdout",
     "output_type": "stream",
     "text": [
      "Features: ['0' '1' '2' '3' '4' '5' '6' '7' '8' '9' '10' '11' '12' '13' '14' '15'\n",
      " '16' '17' '18' '19' '20' '21' '22' '23' '24' '25' '26' '27' '28' '29'\n",
      " '30' '31' '32' '33' '34' '35' '36' '37' '38' '39' '40' '41' '42' '43'\n",
      " '44' '45' '46' '47' '48' '49' '50' '51' '52' '53' '54' '55' '56'] (57,)\n",
      "Categorical Features: ['0' '1' '2' '3' '4' '5' '6' '7' '8' '9' '10' '11' '12' '13' '14' '15'\n",
      " '16' '17' '18' '19' '20' '21' '22' '23' '24' '25' '26' '27' '28' '29'\n",
      " '30' '31' '32' '33' '34' '35' '36' '37' '38' '39' '40' '41' '42' '43'\n",
      " '44' '45' '46' '47' '48' '49' '50' '51' '52' '53' '54' '55' '56'] (57,)\n",
      "Numerical Features: [] (106, 0)\n",
      "Labels: [0 1] (2,)\n",
      "True Labels for Points: [0 0 0 0 0 0 0 0 0 0 0 0 0 0 0 0 0 0 0 0 0 0 0 0 0 0 0 0 0 0 0 0 0 0 0 0 0\n",
      " 0 0 0 0 0 0 0 0 0 0 0 0 0 0 0 0 1 1 1 1 1 1 1 1 1 1 1 1 1 1 1 1 1 1 1 1 1\n",
      " 1 1 1 1 1 1 1 1 1 1 1 1 1 1 1 1 1 1 1 1 1 1 1 1 1 1 1 1 1 1 1 1] (106,)\n",
      "Dataset:\n",
      " [['t' 'a' 'c' ... 'c' 'g' 't']\n",
      " ['t' 'g' 'c' ... 'c' 'a' 'a']\n",
      " ['g' 't' 'a' ... 'g' 'c' 'g']\n",
      " ...\n",
      " ['c' 'g' 'c' ... 't' 'c' 'c']\n",
      " ['c' 't' 'c' ... 'a' 'a' 'c']\n",
      " ['t' 'a' 'a' ... 'a' 'c' 't']] (106, 57)\n"
     ]
    }
   ],
   "source": [
    "# Promoter data set\n",
    "file_path = 'Datasets/molecular+biology+promoter+gene+sequences/promoters.data'\n",
    "label_index = 0\n",
    "categorical_feature_index = 2  \n",
    "numerical_indices = None\n",
    "\n",
    "data_loader = TreeDataLoaderWithCategorical(\n",
    "    file_path= file_path,\n",
    "    label_index= label_index,\n",
    "    numerical_indices= numerical_indices,\n",
    "    categorical_feature_index=categorical_feature_index\n",
    ")\n",
    "\n",
    "print(\"Features:\", data_loader.features, data_loader.features.shape)\n",
    "print(\"Categorical Features:\", data_loader.features_categorical, data_loader.features_categorical.shape)\n",
    "print(\"Numerical Features:\", data_loader.features_numerical, data_loader.features_numerical.shape)\n",
    "print(\"Labels:\", data_loader.labels, data_loader.labels.shape)\n",
    "print(\"True Labels for Points:\", data_loader.true_labels_for_points, data_loader.true_labels_for_points.shape)\n",
    "print(\"Dataset:\\n\", data_loader.dataset,data_loader.dataset.shape)\n",
    "\n",
    "\n",
    "features = data_loader.features\n",
    "features_categorical = data_loader.features_categorical\n",
    "features_numerical = data_loader.features_numerical\n",
    "labels = data_loader.labels\n",
    "true_labels_for_points = data_loader.true_labels_for_points\n",
    "dataset = data_loader.dataset"
   ]
  },
  {
   "cell_type": "code",
   "execution_count": 18,
   "metadata": {},
   "outputs": [
    {
     "name": "stderr",
     "output_type": "stream",
     "text": [
      "/Users/harisrasul/Desktop/ESC499-THESIS/ESC499-Thesis-SAT-Trees/SATreeCraft/classification_problems/min_height_tree_categorical_module.py:124: FutureWarning: elementwise comparison failed; returning scalar instead, but in the future will perform elementwise comparison\n",
      "  if str(j) in features_numerical:\n"
     ]
    },
    {
     "name": "stdout",
     "output_type": "stream",
     "text": [
      "No solution at depth:  1\n",
      "No solution at depth:  2\n",
      "No solution at depth:  3\n",
      "Final Model:  [{'type': 'branching', 'children': [1, 2], 'feature': '28', 'threshold': ['a', 'c']}, {'type': 'branching', 'children': [3, 4], 'feature': '1', 'threshold': ['a', 'g', 't']}, {'type': 'branching', 'children': [5, 6], 'feature': '54', 'threshold': ['a', 't']}, {'type': 'branching', 'children': [7, 8], 'feature': '29', 'threshold': ['a']}, {'type': 'branching', 'children': [9, 10], 'feature': '49', 'threshold': ['a', 'g']}, {'type': 'branching', 'children': [11, 12], 'feature': '16', 'threshold': ['a', 't']}, {'type': 'branching', 'children': [13, 14], 'feature': '35', 'threshold': ['a', 'g']}, {'type': 'branching', 'children': [15, 16], 'feature': '38', 'threshold': ['a', 't']}, {'type': 'branching', 'children': [17, 18], 'feature': '16', 'threshold': ['a', 'c', 't']}, {'type': 'branching', 'children': [19, 20], 'feature': '41', 'threshold': ['a']}, {'type': 'branching', 'children': [21, 22], 'feature': '14', 'threshold': ['a', 'c']}, {'type': 'branching', 'children': [23, 24], 'feature': '21', 'threshold': ['a', 'g', 't']}, {'type': 'branching', 'children': [25, 26], 'feature': '14', 'threshold': ['a', 'c']}, {'type': 'branching', 'children': [27, 28], 'feature': '14', 'threshold': ['a', 'c']}, {'type': 'branching', 'children': [29, 30], 'feature': '15', 'threshold': ['a', 'c', 'g']}, {'type': 'leaf', 'label': 0}, {'type': 'leaf', 'label': 1}, {'type': 'leaf', 'label': 1}, {'type': 'leaf', 'label': 0}, {'type': 'leaf', 'label': 1}, {'type': 'leaf', 'label': 0}, {'type': 'leaf', 'label': 1}, {'type': 'leaf', 'label': 0}, {'type': 'leaf', 'label': 1}, {'type': 'leaf', 'label': 0}, {'type': 'leaf', 'label': 1}, {'type': 'leaf', 'label': 0}, {'type': 'leaf', 'label': 1}, {'type': 'leaf', 'label': 0}, {'type': 'leaf', 'label': 1}, {'type': 'leaf', 'label': 0}]\n",
      "min depth found:  4\n"
     ]
    }
   ],
   "source": [
    "min_height_categorical_problem = SATreeCraft(dataset=dataset,\n",
    "                                           features=features,\n",
    "                                           labels=labels,\n",
    "                                           true_labels_for_points=true_labels_for_points,\n",
    "                                           features_categorical=features_categorical,\n",
    "                                           features_numerical=features_numerical)\n",
    "min_height_categorical_problem.solve()\n",
    "\n",
    "\n",
    "print(\"Final Model: \", min_height_categorical_problem.model)\n",
    "print(\"min depth found: \", min_height_categorical_problem.min_depth)"
   ]
  },
  {
   "cell_type": "code",
   "execution_count": 19,
   "metadata": {},
   "outputs": [
    {
     "name": "stderr",
     "output_type": "stream",
     "text": [
      "/Users/harisrasul/Desktop/ESC499-THESIS/ESC499-Thesis-SAT-Trees/SATreeCraft/classification_problems/min_height_tree_categorical_module.py:124: FutureWarning: elementwise comparison failed; returning scalar instead, but in the future will perform elementwise comparison\n",
      "  if str(j) in features_numerical:\n"
     ]
    },
    {
     "name": "stdout",
     "output_type": "stream",
     "text": [
      "No solution at depth:  1\n",
      "No solution at depth:  2\n",
      "No solution at depth:  3\n",
      "Final Model:  [{'type': 'branching', 'children': [1, 2], 'feature': '43', 'threshold': ['a', 'g']}, {'type': 'branching', 'children': [3, 4], 'feature': '2', 'threshold': ['a', 'c', 't']}, {'type': 'branching', 'children': [5, 6], 'feature': '3', 'threshold': ['a', 'g']}, {'type': 'branching', 'children': [7, 8], 'feature': '14', 'threshold': ['a', 'c']}, {'type': 'branching', 'children': [9, 10], 'feature': '47', 'threshold': ['a', 'g']}, {'type': 'branching', 'children': [11, 12], 'feature': '35', 'threshold': ['a', 'c']}, {'type': 'branching', 'children': [13, 14], 'feature': '40', 'threshold': ['a', 'g']}, {'type': 'branching', 'children': [15, 16], 'feature': '19', 'threshold': ['a', 'g', 't']}, {'type': 'branching', 'children': [17, 18], 'feature': '38', 'threshold': ['a', 't']}, {'type': 'branching', 'children': [19, 20], 'feature': '19', 'threshold': ['a', 't']}, {'type': 'branching', 'children': [21, 22], 'feature': '41', 'threshold': ['a', 't']}, {'type': 'branching', 'children': [23, 24], 'feature': '15', 'threshold': ['a', 'c', 'g']}, {'type': 'branching', 'children': [25, 26], 'feature': '5', 'threshold': ['a', 't']}, {'type': 'branching', 'children': [27, 28], 'feature': '14', 'threshold': ['a']}, {'type': 'branching', 'children': [29, 30], 'feature': '56', 'threshold': ['a', 'c', 'g']}, {'type': 'leaf', 'label': 1}, {'type': 'leaf', 'label': 1}, {'type': 'leaf', 'label': 0}, {'type': 'leaf', 'label': 1}, {'type': 'leaf', 'label': 0}, {'type': 'leaf', 'label': 1}, {'type': 'leaf', 'label': 0}, {'type': 'leaf', 'label': 1}, {'type': 'leaf', 'label': 1}, {'type': 'leaf', 'label': 0}, {'type': 'leaf', 'label': 0}, {'type': 'leaf', 'label': 1}, {'type': 'leaf', 'label': 1}, {'type': 'leaf', 'label': 0}, {'type': 'leaf', 'label': 1}, {'type': 'leaf', 'label': 0}]\n",
      "min depth found:  4\n"
     ]
    }
   ],
   "source": [
    "loandra_path = '/Users/harisrasul/Desktop/loandra'\n",
    "\n",
    "min_height_categorical_problem = SATreeCraft(dataset=dataset,\n",
    "                                           features=features,\n",
    "                                           labels=labels,\n",
    "                                           true_labels_for_points=true_labels_for_points,\n",
    "                                           features_categorical=features_categorical,\n",
    "                                           features_numerical=features_numerical)\n",
    "\n",
    "min_height_categorical_problem.solve_loandra(loandra_path)\n",
    "\n",
    "print(\"Final Model: \", min_height_categorical_problem.model)\n",
    "print(\"min depth found: \", min_height_categorical_problem.min_depth)"
   ]
  },
  {
   "cell_type": "code",
   "execution_count": 20,
   "metadata": {},
   "outputs": [
    {
     "name": "stdout",
     "output_type": "stream",
     "text": [
      "Accuracy: 1.0\n",
      "Classification Report:\n",
      "              precision    recall  f1-score   support\n",
      "\n",
      "           0       1.00      1.00      1.00        53\n",
      "           1       1.00      1.00      1.00        53\n",
      "\n",
      "    accuracy                           1.00       106\n",
      "   macro avg       1.00      1.00      1.00       106\n",
      "weighted avg       1.00      1.00      1.00       106\n",
      "\n",
      "Confusion Matrix:\n",
      "[[53  0]\n",
      " [ 0 53]]\n"
     ]
    }
   ],
   "source": [
    "# Classifier - sklearn Integration \n",
    "\n",
    "# Build model\n",
    "model = SATreeClassifier(min_height_categorical_problem.model)\n",
    "\n",
    "# Test cases 0- uisng training set expecting 100%\n",
    "X_test = dataset\n",
    "y_test = true_labels_for_points\n",
    "\n",
    "# To get the accuracy score\n",
    "accuracy = model.score(X_test, y_test)\n",
    "print(f\"Accuracy: {accuracy}\")\n",
    "\n",
    "# To get the classification report\n",
    "report = model.get_classification_report(X_test, y_test)\n",
    "print(\"Classification Report:\")\n",
    "print(report)\n",
    "\n",
    "# To get the confusion matrix\n",
    "conf_matrix = model.get_confusion_matrix(X_test, y_test)\n",
    "print(\"Confusion Matrix:\")\n",
    "print(conf_matrix)"
   ]
  },
  {
   "cell_type": "markdown",
   "metadata": {},
   "source": [
    "Worst Problem Changes"
   ]
  },
  {
   "cell_type": "code",
   "execution_count": 21,
   "metadata": {},
   "outputs": [
    {
     "name": "stdout",
     "output_type": "stream",
     "text": [
      "Features: ['0' '1' '2' '3' '4' '5'] (6,)\n",
      "Labels: [0 1] (2,)\n",
      "True Labels for Points: [0 0 0 0 0 0 0 0 0 0 0 0 0 0 0 0 0 0 0 0 0 0 0 0 0 0 0 0 0 0 0 0 0 0 0 0 0\n",
      " 0 0 0 0 0 0 0 0 0 0 0 0 0 0 0 0 0 0 0 0 0 0 0 0 0 0 0 0 0 0 0 0 0 0 0 0 0\n",
      " 0 0 0 0 0 0 0 0 0 0 0 0 0 0 0 0 0 0 0 0 0 0 0 0 0 0 0 0 0 0 0 0 0 0 0 0 0\n",
      " 0 0 0 0 0 0 0 0 0 0 0 0 0 0 0 0 0 0 0 0 0 0 0 0 0 0 0 0 0 0 0 0 0 0 0 0 0\n",
      " 0 0 0 0 0 0 0 0 0 0 0 0 0 0 0 0 0 0 0 0 0 0 0 0 0 0 0 0 0 0 0 0 0 0 0 0 0\n",
      " 0 0 0 0 0 0 0 0 0 0 0 0 0 0 0 0 0 0 0 0 0 0 0 0 0 1 1 1 1 1 1 1 1 1 1 1 1\n",
      " 1 1 1 1 1 1 1 1 1 1 1 1 1 1 1 1 1 1 1 1 1 1 1 1 1 1 1 1 1 1 1 1 1 1 1 1 1\n",
      " 1 1 1 1 1 1 1 1 1 1 1 1 1 1 1 1 1 1 1 1 1 1 1 1 1 1 1 1 1 1 1 1 1 1 1 1 1\n",
      " 1 1 1 1 1 1 1 1 1 1 1 1 1 1] (310,)\n",
      "Dataset:\n",
      " [[ 63.0278175   22.55258597  39.60911701  40.47523153  98.67291675\n",
      "   -0.25439999]\n",
      " [ 39.05695098  10.06099147  25.01537822  28.99595951 114.4054254\n",
      "    4.56425864]\n",
      " [ 68.83202098  22.21848205  50.09219357  46.61353893 105.9851355\n",
      "   -3.53031731]\n",
      " ...\n",
      " [ 61.44659663  22.6949683   46.17034732  38.75162833 125.6707246\n",
      "   -2.70787952]\n",
      " [ 45.25279209   8.69315736  41.5831264   36.55963472 118.5458418\n",
      "    0.21475017]\n",
      " [ 33.84164075   5.07399141  36.64123294  28.76764934 123.9452436\n",
      "   -0.19924909]] (310, 6)\n"
     ]
    }
   ],
   "source": [
    "# Promoter data set\n",
    "file_path_to_test = 'Datasets/vertebral+column/verbex.data'\n",
    "delimiter = ','\n",
    "label_position = -1 \n",
    "\n",
    "data_loader = TreeDataLoaderBinaryNumerical(file_path=file_path_to_test, delimiter=delimiter, label_position= label_position)\n",
    "\n",
    "\n",
    "\n",
    "print(\"Features:\", data_loader.features, data_loader.features.shape)\n",
    "print(\"Labels:\", data_loader.labels, data_loader.labels.shape)\n",
    "print(\"True Labels for Points:\", data_loader.true_labels_for_points, data_loader.true_labels_for_points.shape)\n",
    "print(\"Dataset:\\n\", data_loader.dataset,data_loader.dataset.shape)\n",
    "\n",
    "\n",
    "features = data_loader.features\n",
    "labels = data_loader.labels\n",
    "true_labels_for_points = data_loader.true_labels_for_points\n",
    "dataset = data_loader.dataset"
   ]
  },
  {
   "cell_type": "markdown",
   "metadata": {},
   "source": [
    "Min Height"
   ]
  },
  {
   "cell_type": "code",
   "execution_count": 22,
   "metadata": {},
   "outputs": [
    {
     "name": "stdout",
     "output_type": "stream",
     "text": [
      "no solution at depth 1\n",
      "no solution at depth 2\n",
      "no solution at depth 3\n",
      "no solution at depth 4\n",
      "Final Model:  [{'type': 'branching', 'children': [1, 2], 'feature': '4', 'threshold': 118.35335505}, {'type': 'branching', 'children': [3, 4], 'feature': '5', 'threshold': 1.88035368}, {'type': 'branching', 'children': [5, 6], 'feature': '1', 'threshold': 15.00648001}, {'type': 'branching', 'children': [7, 8], 'feature': '5', 'threshold': -1.151194007}, {'type': 'branching', 'children': [9, 10], 'feature': '3', 'threshold': 37.838869364999994}, {'type': 'branching', 'children': [11, 12], 'feature': '1', 'threshold': 12.523317200000001}, {'type': 'branching', 'children': [13, 14], 'feature': '0', 'threshold': 54.920150055}, {'type': 'branching', 'children': [15, 16], 'feature': '5', 'threshold': -4.164346918}, {'type': 'branching', 'children': [17, 18], 'feature': '4', 'threshold': 112.49681615}, {'type': 'branching', 'children': [19, 20], 'feature': '4', 'threshold': 115.84036425}, {'type': 'branching', 'children': [21, 22], 'feature': '1', 'threshold': 13.27944356}, {'type': 'branching', 'children': [23, 24], 'feature': '3', 'threshold': 30.20549254}, {'type': 'branching', 'children': [25, 26], 'feature': '3', 'threshold': 35.477366535}, {'type': 'branching', 'children': [27, 28], 'feature': '3', 'threshold': 30.327582435}, {'type': 'branching', 'children': [29, 30], 'feature': '1', 'threshold': 21.933666055}, {'type': 'branching', 'children': [31, 32], 'feature': '2', 'threshold': 33.70072825}, {'type': 'branching', 'children': [33, 34], 'feature': '4', 'threshold': 118.2681783}, {'type': 'branching', 'children': [35, 36], 'feature': '0', 'threshold': 69.347913235}, {'type': 'branching', 'children': [37, 38], 'feature': '5', 'threshold': -0.206979852}, {'type': 'branching', 'children': [39, 40], 'feature': '4', 'threshold': 114.4560166}, {'type': 'branching', 'children': [41, 42], 'feature': '5', 'threshold': 3.396765791}, {'type': 'branching', 'children': [43, 44], 'feature': '1', 'threshold': 12.8513514}, {'type': 'branching', 'children': [45, 46], 'feature': '5', 'threshold': 6.2859915535}, {'type': 'branching', 'children': [47, 48], 'feature': '0', 'threshold': 33.41526534}, {'type': 'branching', 'children': [49, 50], 'feature': '5', 'threshold': 20.085037255}, {'type': 'branching', 'children': [51, 52], 'feature': '5', 'threshold': 0.9900773734999999}, {'type': 'branching', 'children': [53, 54], 'feature': '4', 'threshold': 119.03264385}, {'type': 'branching', 'children': [55, 56], 'feature': '1', 'threshold': 17.583970139999998}, {'type': 'branching', 'children': [57, 58], 'feature': '0', 'threshold': 51.914682459999995}, {'type': 'branching', 'children': [59, 60], 'feature': '5', 'threshold': 21.983637809999998}, {'type': 'branching', 'children': [61, 62], 'feature': '5', 'threshold': -0.9844630464999999}, {'type': 'leaf', 'label': 0}, {'type': 'leaf', 'label': 1}, {'type': 'leaf', 'label': 0}, {'type': 'leaf', 'label': 1}, {'type': 'leaf', 'label': 0}, {'type': 'leaf', 'label': 1}, {'type': 'leaf', 'label': 1}, {'type': 'leaf', 'label': 0}, {'type': 'leaf', 'label': 0}, {'type': 'leaf', 'label': 1}, {'type': 'leaf', 'label': 1}, {'type': 'leaf', 'label': 0}, {'type': 'leaf', 'label': 0}, {'type': 'leaf', 'label': 1}, {'type': 'leaf', 'label': 1}, {'type': 'leaf', 'label': 0}, {'type': 'leaf', 'label': 0}, {'type': 'leaf', 'label': 1}, {'type': 'leaf', 'label': 1}, {'type': 'leaf', 'label': 0}, {'type': 'leaf', 'label': 1}, {'type': 'leaf', 'label': 0}, {'type': 'leaf', 'label': 0}, {'type': 'leaf', 'label': 1}, {'type': 'leaf', 'label': 1}, {'type': 'leaf', 'label': 0}, {'type': 'leaf', 'label': 1}, {'type': 'leaf', 'label': 0}, {'type': 'leaf', 'label': 1}, {'type': 'leaf', 'label': 0}, {'type': 'leaf', 'label': 1}, {'type': 'leaf', 'label': 0}]\n",
      "min depth found:  5\n"
     ]
    }
   ],
   "source": [
    "min_height_numerical_problem = SATreeCraft(dataset=dataset,features=features,labels=labels,true_labels_for_points=true_labels_for_points)\n",
    "min_height_numerical_problem.solve()\n",
    "\n",
    "print(\"Final Model: \", min_height_numerical_problem.model)\n",
    "print(\"min depth found: \", min_height_numerical_problem.min_depth)"
   ]
  },
  {
   "cell_type": "code",
   "execution_count": 23,
   "metadata": {},
   "outputs": [
    {
     "name": "stdout",
     "output_type": "stream",
     "text": [
      "no solution at depth 1\n",
      "no solution at depth 2\n",
      "no solution at depth 3\n",
      "no solution at depth 4\n",
      "Final Model:  [{'type': 'branching', 'children': [1, 2], 'feature': '4', 'threshold': 120.47806725000001}, {'type': 'branching', 'children': [3, 4], 'feature': '1', 'threshold': 17.938592895}, {'type': 'branching', 'children': [5, 6], 'feature': '3', 'threshold': 29.929307225000002}, {'type': 'branching', 'children': [7, 8], 'feature': '4', 'threshold': 116.40843505000001}, {'type': 'branching', 'children': [9, 10], 'feature': '5', 'threshold': 1.6787053455}, {'type': 'branching', 'children': [11, 12], 'feature': '1', 'threshold': 16.35768863}, {'type': 'branching', 'children': [13, 14], 'feature': '2', 'threshold': 46.901048125}, {'type': 'branching', 'children': [15, 16], 'feature': '5', 'threshold': 5.970002535000001}, {'type': 'branching', 'children': [17, 18], 'feature': '5', 'threshold': 9.209473302500001}, {'type': 'branching', 'children': [19, 20], 'feature': '2', 'threshold': 50.97948208}, {'type': 'branching', 'children': [21, 22], 'feature': '2', 'threshold': 50.95324158}, {'type': 'branching', 'children': [23, 24], 'feature': '1', 'threshold': 10.919250105}, {'type': 'branching', 'children': [25, 26], 'feature': '5', 'threshold': 13.805688785000001}, {'type': 'branching', 'children': [27, 28], 'feature': '3', 'threshold': 37.63141625}, {'type': 'branching', 'children': [29, 30], 'feature': '4', 'threshold': 123.93862659999999}, {'type': 'branching', 'children': [31, 32], 'feature': '3', 'threshold': 39.76893698}, {'type': 'branching', 'children': [33, 34], 'feature': '4', 'threshold': 115.54595714999999}, {'type': 'branching', 'children': [35, 36], 'feature': '2', 'threshold': 30.50225597}, {'type': 'branching', 'children': [37, 38], 'feature': '5', 'threshold': 12.227623999999999}, {'type': 'branching', 'children': [39, 40], 'feature': '1', 'threshold': 21.933666055}, {'type': 'branching', 'children': [41, 42], 'feature': '2', 'threshold': 54.94795947}, {'type': 'branching', 'children': [43, 44], 'feature': '1', 'threshold': 18.76660327}, {'type': 'branching', 'children': [45, 46], 'feature': '5', 'threshold': 14.85401384}, {'type': 'branching', 'children': [47, 48], 'feature': '0', 'threshold': 32.566337165}, {'type': 'branching', 'children': [49, 50], 'feature': '5', 'threshold': 1.009634425}, {'type': 'branching', 'children': [51, 52], 'feature': '5', 'threshold': 6.693399529500001}, {'type': 'branching', 'children': [53, 54], 'feature': '4', 'threshold': 118.78482795}, {'type': 'branching', 'children': [55, 56], 'feature': '5', 'threshold': 2.3605245915}, {'type': 'branching', 'children': [57, 58], 'feature': '5', 'threshold': 14.85401384}, {'type': 'branching', 'children': [59, 60], 'feature': '1', 'threshold': 15.00648001}, {'type': 'branching', 'children': [61, 62], 'feature': '5', 'threshold': 20.085037255}, {'type': 'leaf', 'label': 0}, {'type': 'leaf', 'label': 1}, {'type': 'leaf', 'label': 0}, {'type': 'leaf', 'label': 1}, {'type': 'leaf', 'label': 0}, {'type': 'leaf', 'label': 1}, {'type': 'leaf', 'label': 1}, {'type': 'leaf', 'label': 0}, {'type': 'leaf', 'label': 1}, {'type': 'leaf', 'label': 0}, {'type': 'leaf', 'label': 0}, {'type': 'leaf', 'label': 1}, {'type': 'leaf', 'label': 1}, {'type': 'leaf', 'label': 0}, {'type': 'leaf', 'label': 1}, {'type': 'leaf', 'label': 0}, {'type': 'leaf', 'label': 0}, {'type': 'leaf', 'label': 1}, {'type': 'leaf', 'label': 1}, {'type': 'leaf', 'label': 0}, {'type': 'leaf', 'label': 0}, {'type': 'leaf', 'label': 1}, {'type': 'leaf', 'label': 0}, {'type': 'leaf', 'label': 0}, {'type': 'leaf', 'label': 1}, {'type': 'leaf', 'label': 0}, {'type': 'leaf', 'label': 1}, {'type': 'leaf', 'label': 0}, {'type': 'leaf', 'label': 1}, {'type': 'leaf', 'label': 0}, {'type': 'leaf', 'label': 1}, {'type': 'leaf', 'label': 0}]\n",
      "min depth found:  5\n"
     ]
    }
   ],
   "source": [
    "loandra_path = '/Users/harisrasul/Desktop/loandra'\n",
    "\n",
    "min_height_numerical_problem = SATreeCraft(dataset=dataset,features=features,labels=labels,true_labels_for_points=true_labels_for_points)\n",
    "\n",
    "min_height_numerical_problem.solve_loandra(loandra_path)\n",
    "\n",
    "print(\"Final Model: \", min_height_numerical_problem.model)\n",
    "print(\"min depth found: \", min_height_numerical_problem.min_depth)"
   ]
  },
  {
   "cell_type": "code",
   "execution_count": 24,
   "metadata": {},
   "outputs": [
    {
     "name": "stdout",
     "output_type": "stream",
     "text": [
      "Accuracy: 1.0\n",
      "Classification Report:\n",
      "              precision    recall  f1-score   support\n",
      "\n",
      "           0       1.00      1.00      1.00       210\n",
      "           1       1.00      1.00      1.00       100\n",
      "\n",
      "    accuracy                           1.00       310\n",
      "   macro avg       1.00      1.00      1.00       310\n",
      "weighted avg       1.00      1.00      1.00       310\n",
      "\n",
      "Confusion Matrix:\n",
      "[[210   0]\n",
      " [  0 100]]\n"
     ]
    }
   ],
   "source": [
    "model = SATreeClassifier(min_height_numerical_problem.model)\n",
    "\n",
    "# Test cases 0- uisng training set expecting 100%\n",
    "X_test = dataset\n",
    "y_test = true_labels_for_points\n",
    "\n",
    "# To get the accuracy score\n",
    "accuracy = model.score(X_test, y_test)\n",
    "print(f\"Accuracy: {accuracy}\")\n",
    "\n",
    "# To get the classification report\n",
    "report = model.get_classification_report(X_test, y_test)\n",
    "print(\"Classification Report:\")\n",
    "print(report)\n",
    "\n",
    "# To get the confusion matrix\n",
    "conf_matrix = model.get_confusion_matrix(X_test, y_test)\n",
    "print(\"Confusion Matrix:\")\n",
    "print(conf_matrix)"
   ]
  },
  {
   "cell_type": "markdown",
   "metadata": {},
   "source": [
    "Max Accuracy"
   ]
  },
  {
   "cell_type": "code",
   "execution_count": 25,
   "metadata": {},
   "outputs": [
    {
     "name": "stdout",
     "output_type": "stream",
     "text": [
      "Final Model:  [{'type': 'branching', 'children': [1, 2], 'feature': '5', 'threshold': 5.20209819}, {'type': 'branching', 'children': [3, 4], 'feature': '3', 'threshold': 28.136471795}, {'type': 'branching', 'children': [5, 6], 'feature': '0', 'threshold': 41.179724805}, {'type': 'leaf', 'label': 0}, {'type': 'leaf', 'label': 1}, {'type': 'leaf', 'label': 1}, {'type': 'leaf', 'label': 0}]\n",
      "Min cost found:  45\n"
     ]
    }
   ],
   "source": [
    "max_accuracy_numerical_problem = SATreeCraft(dataset=dataset,\n",
    "                                             features=features,labels=labels,\n",
    "                                             true_labels_for_points=true_labels_for_points,\n",
    "                                             classification_objective='max_accuracy',\n",
    "                                             fixed_depth=2,\n",
    "                                             # min_support= 5\n",
    "                                             # min_margin  = 10\n",
    "                                             # tree_structure= 'Oblivious'\n",
    "                                             )\n",
    "max_accuracy_numerical_problem.solve()\n",
    "print(\"Final Model: \", max_accuracy_numerical_problem.model)\n",
    "print(\"Min cost found: \", max_accuracy_numerical_problem.min_cost)"
   ]
  },
  {
   "cell_type": "code",
   "execution_count": 26,
   "metadata": {},
   "outputs": [
    {
     "name": "stdout",
     "output_type": "stream",
     "text": [
      "Final Model:  [{'type': 'branching', 'children': [1, 2], 'feature': '5', 'threshold': 6.3625154935}, {'type': 'branching', 'children': [3, 4], 'feature': '3', 'threshold': 28.136471795}, {'type': 'branching', 'children': [5, 6], 'feature': '2', 'threshold': 24.49754631}, {'type': 'leaf', 'label': 0}, {'type': 'leaf', 'label': 1}, {'type': 'leaf', 'label': 1}, {'type': 'leaf', 'label': 0}]\n",
      "Min cost found:  45\n"
     ]
    }
   ],
   "source": [
    "max_accuracy_numerical_problem = SATreeCraft(dataset=dataset,\n",
    "                                             features=features,labels=labels,\n",
    "                                             true_labels_for_points=true_labels_for_points,\n",
    "                                             classification_objective='max_accuracy',\n",
    "                                             fixed_depth=2,\n",
    "                                             # min_support= 5\n",
    "                                             # min_margin  = 10\n",
    "                                             # tree_structure= 'Oblivious'\n",
    "                                             )\n",
    "loandra_path = '/Users/harisrasul/Desktop/loandra'\n",
    "\n",
    "max_accuracy_numerical_problem.solve_loandra(loandra_path)\n",
    "print(\"Final Model: \", max_accuracy_numerical_problem.model)\n",
    "print(\"Min cost found: \", max_accuracy_numerical_problem.min_cost)"
   ]
  },
  {
   "cell_type": "code",
   "execution_count": 27,
   "metadata": {},
   "outputs": [
    {
     "name": "stdout",
     "output_type": "stream",
     "text": [
      "Accuracy: 0.8548387096774194\n",
      "Classification Report:\n",
      "              precision    recall  f1-score   support\n",
      "\n",
      "           0       0.90      0.88      0.89       210\n",
      "           1       0.76      0.80      0.78       100\n",
      "\n",
      "    accuracy                           0.85       310\n",
      "   macro avg       0.83      0.84      0.84       310\n",
      "weighted avg       0.86      0.85      0.86       310\n",
      "\n",
      "Confusion Matrix:\n",
      "[[185  25]\n",
      " [ 20  80]]\n"
     ]
    }
   ],
   "source": [
    "model = SATreeClassifier(max_accuracy_numerical_problem.model)\n",
    "\n",
    "# Test cases 0- uisng training set expecting 100%\n",
    "X_test = dataset\n",
    "y_test = true_labels_for_points\n",
    "\n",
    "# To get the accuracy score\n",
    "accuracy = model.score(X_test, y_test)\n",
    "print(f\"Accuracy: {accuracy}\")\n",
    "\n",
    "# To get the classification report\n",
    "report = model.get_classification_report(X_test, y_test)\n",
    "print(\"Classification Report:\")\n",
    "print(report)\n",
    "\n",
    "# To get the confusion matrix\n",
    "conf_matrix = model.get_confusion_matrix(X_test, y_test)\n",
    "print(\"Confusion Matrix:\")\n",
    "print(conf_matrix)"
   ]
  }
 ],
 "metadata": {
  "kernelspec": {
   "display_name": "Python 3",
   "language": "python",
   "name": "python3"
  },
  "language_info": {
   "codemirror_mode": {
    "name": "ipython",
    "version": 3
   },
   "file_extension": ".py",
   "mimetype": "text/x-python",
   "name": "python",
   "nbconvert_exporter": "python",
   "pygments_lexer": "ipython3",
   "version": "3.9.7"
  }
 },
 "nbformat": 4,
 "nbformat_minor": 2
}
