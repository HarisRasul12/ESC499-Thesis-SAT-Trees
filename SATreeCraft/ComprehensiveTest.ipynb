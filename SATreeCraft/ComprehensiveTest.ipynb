{
 "cells": [
  {
   "cell_type": "code",
   "execution_count": 2,
   "metadata": {},
   "outputs": [],
   "source": [
    "import numpy as np\n",
    "import pandas as pd\n",
    "import openpyxl\n",
    "from sklearn.preprocessing import LabelEncoder\n",
    "\n",
    "from utils import * # Dataloader\n",
    "from SATreeCraft import * # Tree solver framework\n",
    "from SATreeClassifier import * "
   ]
  },
  {
   "cell_type": "markdown",
   "metadata": {},
   "source": [
    "Numerical Tests"
   ]
  },
  {
   "cell_type": "code",
   "execution_count": 3,
   "metadata": {},
   "outputs": [
    {
     "name": "stdout",
     "output_type": "stream",
     "text": [
      "Features: ['0' '1' '2' '3' '4' '5' '6' '7' '8' '9' '10' '11' '12'] (13,)\n",
      "Labels: [0 1 2] (3,)\n",
      "True Labels for Points: [0 0 0 0 0 0 0 0 0 0 0 0 0 0 0 0 0 0 0 0 0 0 0 0 0 0 0 0 0 0 0 0 0 0 0 0 0\n",
      " 0 0 0 0 0 0 0 0 0 0 0 0 0 0 0 0 0 0 0 0 0 0 1 1 1 1 1 1 1 1 1 1 1 1 1 1 1\n",
      " 1 1 1 1 1 1 1 1 1 1 1 1 1 1 1 1 1 1 1 1 1 1 1 1 1 1 1 1 1 1 1 1 1 1 1 1 1\n",
      " 1 1 1 1 1 1 1 1 1 1 1 1 1 1 1 1 1 1 1 2 2 2 2 2 2 2 2 2 2 2 2 2 2 2 2 2 2\n",
      " 2 2 2 2 2 2 2 2 2 2 2 2 2 2 2 2 2 2 2 2 2 2 2 2 2 2 2 2 2 2] (178,)\n",
      "Dataset:\n",
      " [[1.423e+01 1.710e+00 2.430e+00 ... 1.040e+00 3.920e+00 1.065e+03]\n",
      " [1.320e+01 1.780e+00 2.140e+00 ... 1.050e+00 3.400e+00 1.050e+03]\n",
      " [1.316e+01 2.360e+00 2.670e+00 ... 1.030e+00 3.170e+00 1.185e+03]\n",
      " ...\n",
      " [1.327e+01 4.280e+00 2.260e+00 ... 5.900e-01 1.560e+00 8.350e+02]\n",
      " [1.317e+01 2.590e+00 2.370e+00 ... 6.000e-01 1.620e+00 8.400e+02]\n",
      " [1.413e+01 4.100e+00 2.740e+00 ... 6.100e-01 1.600e+00 5.600e+02]] (178, 13)\n"
     ]
    }
   ],
   "source": [
    "from utils import *\n",
    "\n",
    "file_path_to_test = 'Datasets/wine/wine.data'\n",
    "delimiter = ','\n",
    "label_position = 0 \n",
    "\n",
    "data_loader = TreeDataLoaderBinaryNumerical(file_path=file_path_to_test, delimiter=delimiter, label_position= label_position)\n",
    "\n",
    "\n",
    "\n",
    "print(\"Features:\", data_loader.features, data_loader.features.shape)\n",
    "print(\"Labels:\", data_loader.labels, data_loader.labels.shape)\n",
    "print(\"True Labels for Points:\", data_loader.true_labels_for_points, data_loader.true_labels_for_points.shape)\n",
    "print(\"Dataset:\\n\", data_loader.dataset,data_loader.dataset.shape)\n",
    "\n",
    "\n",
    "features = data_loader.features\n",
    "labels = data_loader.labels\n",
    "true_labels_for_points = data_loader.true_labels_for_points\n",
    "dataset = data_loader.dataset"
   ]
  },
  {
   "cell_type": "markdown",
   "metadata": {},
   "source": [
    "Min-Height Problem 100% Training Accuracy"
   ]
  },
  {
   "cell_type": "code",
   "execution_count": 4,
   "metadata": {},
   "outputs": [
    {
     "name": "stdout",
     "output_type": "stream",
     "text": [
      "no solution at depth 1\n",
      "no solution at depth 2\n",
      "Final Model:  [{'type': 'branching', 'children': [1, 2], 'feature': '10', 'threshold': 0.915}, {'type': 'branching', 'children': [3, 4], 'feature': '6', 'threshold': 1.585}, {'type': 'branching', 'children': [5, 6], 'feature': '12', 'threshold': 716.0}, {'type': 'branching', 'children': [7, 8], 'feature': '9', 'threshold': 3.8449999999999998}, {'type': 'branching', 'children': [9, 10], 'feature': '12', 'threshold': 627.5}, {'type': 'branching', 'children': [11, 12], 'feature': '6', 'threshold': 0.565}, {'type': 'branching', 'children': [13, 14], 'feature': '9', 'threshold': 3.46}, {'type': 'leaf', 'label': 1}, {'type': 'leaf', 'label': 2}, {'type': 'leaf', 'label': 1}, {'type': 'leaf', 'label': 0}, {'type': 'leaf', 'label': 2}, {'type': 'leaf', 'label': 1}, {'type': 'leaf', 'label': 1}, {'type': 'leaf', 'label': 0}]\n",
      "min depth found:  3\n"
     ]
    }
   ],
   "source": [
    "min_height_numerical_problem = SATreeCraft(dataset=dataset,features=features,labels=labels,true_labels_for_points=true_labels_for_points)\n",
    "min_height_numerical_problem.solve()\n",
    "min_height_numerical_problem.export_cnf()\n",
    "print(\"Final Model: \", min_height_numerical_problem.model)\n",
    "print(\"min depth found: \", min_height_numerical_problem.min_depth)"
   ]
  },
  {
   "cell_type": "code",
   "execution_count": 5,
   "metadata": {},
   "outputs": [
    {
     "name": "stdout",
     "output_type": "stream",
     "text": [
      "Final Model:  [{'type': 'branching', 'children': [1, 2], 'feature': '6', 'threshold': 1.4}, {'type': 'branching', 'children': [3, 4], 'feature': '9', 'threshold': 3.82}, {'type': 'branching', 'children': [5, 6], 'feature': '12', 'threshold': 755.0}, {'type': 'leaf', 'label': 1}, {'type': 'leaf', 'label': 2}, {'type': 'leaf', 'label': 1}, {'type': 'leaf', 'label': 0}]\n",
      "Min cost found:  6\n"
     ]
    }
   ],
   "source": [
    "max_accuracy_numerical_problem = SATreeCraft(dataset=dataset,\n",
    "                                             features=features,labels=labels,\n",
    "                                             true_labels_for_points=true_labels_for_points,\n",
    "                                             classifciation_objective='max_accuracy',\n",
    "                                             fixed_depth=2)\n",
    "max_accuracy_numerical_problem.solve()\n",
    "max_accuracy_numerical_problem.export_cnf()\n",
    "print(\"Final Model: \", max_accuracy_numerical_problem.model)\n",
    "print(\"Min cost found: \", max_accuracy_numerical_problem.min_cost)"
   ]
  },
  {
   "cell_type": "markdown",
   "metadata": {},
   "source": [
    "Model Classifier Tests - Numerical"
   ]
  },
  {
   "cell_type": "code",
   "execution_count": 16,
   "metadata": {},
   "outputs": [
    {
     "name": "stdout",
     "output_type": "stream",
     "text": [
      "Accuracy: 1.0\n",
      "Classification Report:\n",
      "              precision    recall  f1-score   support\n",
      "\n",
      "           0       1.00      1.00      1.00        54\n",
      "           1       1.00      1.00      1.00        71\n",
      "           2       1.00      1.00      1.00        30\n",
      "\n",
      "    accuracy                           1.00       155\n",
      "   macro avg       1.00      1.00      1.00       155\n",
      "weighted avg       1.00      1.00      1.00       155\n",
      "\n",
      "Confusion Matrix:\n",
      "[[54  0  0]\n",
      " [ 0 71  0]\n",
      " [ 0  0 30]]\n"
     ]
    }
   ],
   "source": [
    "# Classifier - sklearn Integration \n",
    "\n",
    "# Build model\n",
    "model = SATreeClassifier(min_height_numerical_problem.model)\n",
    "\n",
    "# Test cases 0- uisng training set expecting 100%\n",
    "X_test = dataset[5:160]\n",
    "y_test = true_labels_for_points[5:160]\n",
    "\n",
    "# To get the accuracy score\n",
    "accuracy = model.score(X_test, y_test)\n",
    "print(f\"Accuracy: {accuracy}\")\n",
    "\n",
    "# To get the classification report\n",
    "report = model.get_classification_report(X_test, y_test)\n",
    "print(\"Classification Report:\")\n",
    "print(report)\n",
    "\n",
    "# To get the confusion matrix\n",
    "conf_matrix = model.get_confusion_matrix(X_test, y_test)\n",
    "print(\"Confusion Matrix:\")\n",
    "print(conf_matrix)"
   ]
  },
  {
   "cell_type": "markdown",
   "metadata": {},
   "source": [
    "Categorical Datasets Test"
   ]
  },
  {
   "cell_type": "code",
   "execution_count": 17,
   "metadata": {},
   "outputs": [
    {
     "name": "stdout",
     "output_type": "stream",
     "text": [
      "Features: ['0' '1' '2' '3' '4' '5' '6' '7' '8' '9' '10' '11' '12' '13' '14' '15'\n",
      " '16' '17' '18' '19' '20' '21' '22' '23' '24' '25' '26' '27' '28' '29'\n",
      " '30' '31' '32' '33' '34' '35' '36' '37' '38' '39' '40' '41' '42' '43'\n",
      " '44' '45' '46' '47' '48' '49' '50' '51' '52' '53' '54' '55' '56'] (57,)\n",
      "Categorical Features: ['0' '1' '2' '3' '4' '5' '6' '7' '8' '9' '10' '11' '12' '13' '14' '15'\n",
      " '16' '17' '18' '19' '20' '21' '22' '23' '24' '25' '26' '27' '28' '29'\n",
      " '30' '31' '32' '33' '34' '35' '36' '37' '38' '39' '40' '41' '42' '43'\n",
      " '44' '45' '46' '47' '48' '49' '50' '51' '52' '53' '54' '55' '56'] (57,)\n",
      "Numerical Features: [] (106, 0)\n",
      "Labels: [0 1] (2,)\n",
      "True Labels for Points: [0 0 0 0 0 0 0 0 0 0 0 0 0 0 0 0 0 0 0 0 0 0 0 0 0 0 0 0 0 0 0 0 0 0 0 0 0\n",
      " 0 0 0 0 0 0 0 0 0 0 0 0 0 0 0 0 1 1 1 1 1 1 1 1 1 1 1 1 1 1 1 1 1 1 1 1 1\n",
      " 1 1 1 1 1 1 1 1 1 1 1 1 1 1 1 1 1 1 1 1 1 1 1 1 1 1 1 1 1 1 1 1] (106,)\n",
      "Dataset:\n",
      " [['t' 'a' 'c' ... 'c' 'g' 't']\n",
      " ['t' 'g' 'c' ... 'c' 'a' 'a']\n",
      " ['g' 't' 'a' ... 'g' 'c' 'g']\n",
      " ...\n",
      " ['c' 'g' 'c' ... 't' 'c' 'c']\n",
      " ['c' 't' 'c' ... 'a' 'a' 'c']\n",
      " ['t' 'a' 'a' ... 'a' 'c' 't']] (106, 57)\n"
     ]
    }
   ],
   "source": [
    "# Promoter data set\n",
    "file_path = 'Datasets/molecular+biology+promoter+gene+sequences/promoters.data'\n",
    "label_index = 0\n",
    "categorical_feature_index = 2  \n",
    "numerical_indices = None\n",
    "\n",
    "data_loader = TreeDataLoaderWithCategorical(\n",
    "    file_path= file_path,\n",
    "    label_index= label_index,\n",
    "    numerical_indices= numerical_indices,\n",
    "    categorical_feature_index=categorical_feature_index\n",
    ")\n",
    "\n",
    "print(\"Features:\", data_loader.features, data_loader.features.shape)\n",
    "print(\"Categorical Features:\", data_loader.features_categorical, data_loader.features_categorical.shape)\n",
    "print(\"Numerical Features:\", data_loader.features_numerical, data_loader.features_numerical.shape)\n",
    "print(\"Labels:\", data_loader.labels, data_loader.labels.shape)\n",
    "print(\"True Labels for Points:\", data_loader.true_labels_for_points, data_loader.true_labels_for_points.shape)\n",
    "print(\"Dataset:\\n\", data_loader.dataset,data_loader.dataset.shape)\n",
    "\n",
    "\n",
    "features = data_loader.features\n",
    "features_categorical = data_loader.features_categorical\n",
    "features_numerical = data_loader.features_numerical\n",
    "labels = data_loader.labels\n",
    "true_labels_for_points = data_loader.true_labels_for_points\n",
    "dataset = data_loader.dataset"
   ]
  },
  {
   "cell_type": "code",
   "execution_count": 18,
   "metadata": {},
   "outputs": [
    {
     "name": "stderr",
     "output_type": "stream",
     "text": [
      "/Users/harisrasul/Desktop/ESC499 THESIS/ESC499-Thesis-SAT-Trees/SATreeCraft/classification_problems/min_height_tree_categorical_module.py:124: FutureWarning: elementwise comparison failed; returning scalar instead, but in the future will perform elementwise comparison\n",
      "  if str(j) in features_numerical:\n"
     ]
    },
    {
     "name": "stdout",
     "output_type": "stream",
     "text": [
      "No solution at depth:  1\n",
      "No solution at depth:  2\n",
      "No solution at depth:  3\n",
      "Final Model:  [{'type': 'branching', 'children': [1, 2], 'feature': '28', 'threshold': ['a', 'c']}, {'type': 'branching', 'children': [3, 4], 'feature': '1', 'threshold': ['a', 'g', 't']}, {'type': 'branching', 'children': [5, 6], 'feature': '54', 'threshold': ['a', 't']}, {'type': 'branching', 'children': [7, 8], 'feature': '29', 'threshold': ['a']}, {'type': 'branching', 'children': [9, 10], 'feature': '49', 'threshold': ['a', 'g']}, {'type': 'branching', 'children': [11, 12], 'feature': '16', 'threshold': ['a', 't']}, {'type': 'branching', 'children': [13, 14], 'feature': '35', 'threshold': ['a', 'g']}, {'type': 'branching', 'children': [15, 16], 'feature': '38', 'threshold': ['a', 't']}, {'type': 'branching', 'children': [17, 18], 'feature': '16', 'threshold': ['a', 'c', 't']}, {'type': 'branching', 'children': [19, 20], 'feature': '41', 'threshold': ['a']}, {'type': 'branching', 'children': [21, 22], 'feature': '14', 'threshold': ['a', 'c']}, {'type': 'branching', 'children': [23, 24], 'feature': '21', 'threshold': ['a', 'g', 't']}, {'type': 'branching', 'children': [25, 26], 'feature': '14', 'threshold': ['a', 'c']}, {'type': 'branching', 'children': [27, 28], 'feature': '14', 'threshold': ['a', 'c']}, {'type': 'branching', 'children': [29, 30], 'feature': '15', 'threshold': ['a', 'c', 'g']}, {'type': 'leaf', 'label': 0}, {'type': 'leaf', 'label': 1}, {'type': 'leaf', 'label': 1}, {'type': 'leaf', 'label': 0}, {'type': 'leaf', 'label': 1}, {'type': 'leaf', 'label': 0}, {'type': 'leaf', 'label': 1}, {'type': 'leaf', 'label': 0}, {'type': 'leaf', 'label': 1}, {'type': 'leaf', 'label': 0}, {'type': 'leaf', 'label': 1}, {'type': 'leaf', 'label': 0}, {'type': 'leaf', 'label': 1}, {'type': 'leaf', 'label': 0}, {'type': 'leaf', 'label': 1}, {'type': 'leaf', 'label': 0}]\n",
      "min depth found:  4\n"
     ]
    }
   ],
   "source": [
    "min_height_categorical_problem = SATreeCraft(dataset=dataset,\n",
    "                                           features=features,\n",
    "                                           labels=labels,\n",
    "                                           true_labels_for_points=true_labels_for_points,\n",
    "                                           features_categorical=features_categorical,\n",
    "                                           features_numerical=features_numerical)\n",
    "min_height_categorical_problem.solve()\n",
    "min_height_categorical_problem.export_cnf()\n",
    "print(\"Final Model: \", min_height_categorical_problem.model)\n",
    "print(\"min depth found: \", min_height_categorical_problem.min_depth)"
   ]
  },
  {
   "cell_type": "code",
   "execution_count": null,
   "metadata": {},
   "outputs": [],
   "source": [
    "max_accuracy_categorical_problem = SATreeCraft(dataset=dataset,\n",
    "                                           features=features,\n",
    "                                           labels=labels,\n",
    "                                           true_labels_for_points=true_labels_for_points,\n",
    "                                           features_categorical=features_categorical,\n",
    "                                           features_numerical=features_numerical,\n",
    "                                           classifciation_objective= 'max_accuracy',\n",
    "                                           fixed_depth=2)\n",
    "\n",
    "max_accuracy_categorical_problem.solve()\n",
    "max_accuracy_categorical_problem.export_cnf()\n",
    "print(\"Final Model: \", max_accuracy_categorical_problem.model)\n",
    "print(\"Min cost found: \", max_accuracy_categorical_problem.min_cost)"
   ]
  },
  {
   "cell_type": "markdown",
   "metadata": {},
   "source": [
    "Tree Classifier Tests Metrics - Sklearn"
   ]
  },
  {
   "cell_type": "code",
   "execution_count": 19,
   "metadata": {},
   "outputs": [
    {
     "name": "stdout",
     "output_type": "stream",
     "text": [
      "Accuracy: 1.0\n",
      "Classification Report:\n",
      "              precision    recall  f1-score   support\n",
      "\n",
      "           0       1.00      1.00      1.00        53\n",
      "           1       1.00      1.00      1.00        53\n",
      "\n",
      "    accuracy                           1.00       106\n",
      "   macro avg       1.00      1.00      1.00       106\n",
      "weighted avg       1.00      1.00      1.00       106\n",
      "\n",
      "Confusion Matrix:\n",
      "[[53  0]\n",
      " [ 0 53]]\n"
     ]
    }
   ],
   "source": [
    "# Classifier - sklearn Integration \n",
    "\n",
    "# Build model\n",
    "model = SATreeClassifier(min_height_categorical_problem.model)\n",
    "\n",
    "# Test cases 0- uisng training set expecting 100%\n",
    "X_test = dataset\n",
    "y_test = true_labels_for_points\n",
    "\n",
    "# To get the accuracy score\n",
    "accuracy = model.score(X_test, y_test)\n",
    "print(f\"Accuracy: {accuracy}\")\n",
    "\n",
    "# To get the classification report\n",
    "report = model.get_classification_report(X_test, y_test)\n",
    "print(\"Classification Report:\")\n",
    "print(report)\n",
    "\n",
    "# To get the confusion matrix\n",
    "conf_matrix = model.get_confusion_matrix(X_test, y_test)\n",
    "print(\"Confusion Matrix:\")\n",
    "print(conf_matrix)"
   ]
  }
 ],
 "metadata": {
  "kernelspec": {
   "display_name": "Python 3",
   "language": "python",
   "name": "python3"
  },
  "language_info": {
   "codemirror_mode": {
    "name": "ipython",
    "version": 3
   },
   "file_extension": ".py",
   "mimetype": "text/x-python",
   "name": "python",
   "nbconvert_exporter": "python",
   "pygments_lexer": "ipython3",
   "version": "3.9.7"
  }
 },
 "nbformat": 4,
 "nbformat_minor": 2
}
