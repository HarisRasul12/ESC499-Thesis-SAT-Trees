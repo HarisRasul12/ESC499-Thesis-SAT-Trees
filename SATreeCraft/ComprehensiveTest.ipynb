{
 "cells": [
  {
   "cell_type": "code",
   "execution_count": 1,
   "metadata": {},
   "outputs": [],
   "source": [
    "import numpy as np\n",
    "import pandas as pd\n",
    "import openpyxl\n",
    "from sklearn.preprocessing import LabelEncoder\n",
    "\n",
    "from utils import * # Dataloader and K-fold mechanism \n",
    "from SATreeCraft import * # Tree solver framework\n",
    "from SATreeClassifier import * "
   ]
  },
  {
   "cell_type": "markdown",
   "metadata": {},
   "source": [
    "Numerical Tests"
   ]
  },
  {
   "cell_type": "code",
   "execution_count": null,
   "metadata": {},
   "outputs": [],
   "source": [
    "from utils import *\n",
    "\n",
    "file_path_to_test = 'Datasets/wine/wine.data'\n",
    "delimiter = ','\n",
    "label_position = 0 \n",
    "\n",
    "data_loader = TreeDataLoaderBinaryNumerical(file_path=file_path_to_test, delimiter=delimiter, label_position= label_position)\n",
    "\n",
    "\n",
    "\n",
    "print(\"Features:\", data_loader.features, data_loader.features.shape)\n",
    "print(\"Labels:\", data_loader.labels, data_loader.labels.shape)\n",
    "print(\"True Labels for Points:\", data_loader.true_labels_for_points, data_loader.true_labels_for_points.shape)\n",
    "print(\"Dataset:\\n\", data_loader.dataset,data_loader.dataset.shape)\n",
    "\n",
    "\n",
    "features = data_loader.features\n",
    "labels = data_loader.labels\n",
    "true_labels_for_points = data_loader.true_labels_for_points\n",
    "dataset = data_loader.dataset"
   ]
  },
  {
   "cell_type": "markdown",
   "metadata": {},
   "source": [
    "Min-Height Problem 100% Training Accuracy"
   ]
  },
  {
   "cell_type": "code",
   "execution_count": null,
   "metadata": {},
   "outputs": [],
   "source": [
    "min_height_numerical_problem = SATreeCraft(dataset=dataset,features=features,labels=labels,true_labels_for_points=true_labels_for_points)\n",
    "min_height_numerical_problem.solve()\n",
    "#min_height_numerical_problem.export_cnf_min_height(\"dimacs/testPerfectHeight.cnf\")\n",
    "print(\"Final Model: \", min_height_numerical_problem.model)\n",
    "print(\"min depth found: \", min_height_numerical_problem.min_depth)"
   ]
  },
  {
   "cell_type": "code",
   "execution_count": null,
   "metadata": {},
   "outputs": [],
   "source": [
    "max_accuracy_numerical_problem = SATreeCraft(dataset=dataset,\n",
    "                                             features=features,labels=labels,\n",
    "                                             true_labels_for_points=true_labels_for_points,\n",
    "                                             classification_objective='max_accuracy',\n",
    "                                             fixed_depth=2,\n",
    "                                             # min_support= 5\n",
    "                                             # min_margin  = 10\n",
    "                                             # tree_structure= 'Oblivious'\n",
    "                                             )\n",
    "max_accuracy_numerical_problem.solve()\n",
    "max_accuracy_numerical_problem.export_cnf()\n",
    "print(\"Final Model: \", max_accuracy_numerical_problem.model)\n",
    "print(\"Min cost found: \", max_accuracy_numerical_problem.min_cost)"
   ]
  },
  {
   "cell_type": "code",
   "execution_count": null,
   "metadata": {},
   "outputs": [],
   "source": [
    "max_accuracy_numerical_problem.sat_solution"
   ]
  },
  {
   "cell_type": "code",
   "execution_count": null,
   "metadata": {},
   "outputs": [],
   "source": [
    "min_height_numerical_problem.display_solution()"
   ]
  },
  {
   "cell_type": "code",
   "execution_count": null,
   "metadata": {},
   "outputs": [],
   "source": [
    "max_accuracy_numerical_problem.display_solution()"
   ]
  },
  {
   "cell_type": "markdown",
   "metadata": {},
   "source": [
    "Model Classifier Tests - Numerical"
   ]
  },
  {
   "cell_type": "code",
   "execution_count": null,
   "metadata": {},
   "outputs": [],
   "source": [
    "# Classifier - sklearn Integration \n",
    "\n",
    "# Build model\n",
    "model = SATreeClassifier(max_accuracy_numerical_problem.model)\n",
    "\n",
    "# Test cases 0- uisng training set expecting 100%\n",
    "X_test = dataset[5:160]\n",
    "y_test = true_labels_for_points[5:160]\n",
    "\n",
    "# To get the accuracy score\n",
    "accuracy = model.score(X_test, y_test)\n",
    "print(f\"Accuracy: {accuracy}\")\n",
    "\n",
    "# To get the classification report\n",
    "report = model.get_classification_report(X_test, y_test)\n",
    "print(\"Classification Report:\")\n",
    "print(report)\n",
    "\n",
    "# To get the confusion matrix\n",
    "conf_matrix = model.get_confusion_matrix(X_test, y_test)\n",
    "print(\"Confusion Matrix:\")\n",
    "print(conf_matrix)"
   ]
  },
  {
   "cell_type": "markdown",
   "metadata": {},
   "source": [
    "K-Fold TESTS - NUMERICAL FOR MINIMUM Support "
   ]
  },
  {
   "cell_type": "code",
   "execution_count": null,
   "metadata": {},
   "outputs": [],
   "source": [
    "k = 5\n",
    "depth = 2 \n",
    "minimum_support = 0\n",
    "accuracies, mean_score = k_fold_tester(k=k, depth=depth, dataset=dataset, true_labels_for_points=true_labels_for_points, \n",
    "                                       labels=labels, features=features, min_support_level=minimum_support, \n",
    "                                       # complete_tree=False\n",
    "                                       )\n",
    "\n",
    "print(accuracies)\n",
    "print(mean_score)"
   ]
  },
  {
   "cell_type": "markdown",
   "metadata": {},
   "source": [
    "Minimum Margin Testing - Numerical Dataset"
   ]
  },
  {
   "cell_type": "code",
   "execution_count": null,
   "metadata": {},
   "outputs": [],
   "source": [
    "k = 5\n",
    "depth = 2 \n",
    "minimum_margin = 4\n",
    "accuracies, mean_score = k_fold_tester(k=k, depth=depth, dataset=dataset, true_labels_for_points=true_labels_for_points, \n",
    "                                       labels=labels, features=features, min_margin_level= minimum_margin,\n",
    "                                       # complete_tree=False\n",
    "                                       )\n",
    "\n",
    "print(accuracies)\n",
    "print(mean_score)"
   ]
  },
  {
   "cell_type": "markdown",
   "metadata": {},
   "source": [
    "Categorical Datasets Test"
   ]
  },
  {
   "cell_type": "code",
   "execution_count": null,
   "metadata": {},
   "outputs": [],
   "source": [
    "# Promoter data set\n",
    "file_path = 'Datasets/molecular+biology+promoter+gene+sequences/promoters.data'\n",
    "label_index = 0\n",
    "categorical_feature_index = 2  \n",
    "numerical_indices = None\n",
    "\n",
    "data_loader = TreeDataLoaderWithCategorical(\n",
    "    file_path= file_path,\n",
    "    label_index= label_index,\n",
    "    numerical_indices= numerical_indices,\n",
    "    categorical_feature_index=categorical_feature_index\n",
    ")\n",
    "\n",
    "print(\"Features:\", data_loader.features, data_loader.features.shape)\n",
    "print(\"Categorical Features:\", data_loader.features_categorical, data_loader.features_categorical.shape)\n",
    "print(\"Numerical Features:\", data_loader.features_numerical, data_loader.features_numerical.shape)\n",
    "print(\"Labels:\", data_loader.labels, data_loader.labels.shape)\n",
    "print(\"True Labels for Points:\", data_loader.true_labels_for_points, data_loader.true_labels_for_points.shape)\n",
    "print(\"Dataset:\\n\", data_loader.dataset,data_loader.dataset.shape)\n",
    "\n",
    "\n",
    "features = data_loader.features\n",
    "features_categorical = data_loader.features_categorical\n",
    "features_numerical = data_loader.features_numerical\n",
    "labels = data_loader.labels\n",
    "true_labels_for_points = data_loader.true_labels_for_points\n",
    "dataset = data_loader.dataset"
   ]
  },
  {
   "cell_type": "code",
   "execution_count": null,
   "metadata": {},
   "outputs": [],
   "source": [
    "min_height_categorical_problem = SATreeCraft(dataset=dataset,\n",
    "                                           features=features,\n",
    "                                           labels=labels,\n",
    "                                           true_labels_for_points=true_labels_for_points,\n",
    "                                           features_categorical=features_categorical,\n",
    "                                           features_numerical=features_numerical)\n",
    "min_height_categorical_problem.solve()\n",
    "min_height_categorical_problem.export_cnf()\n",
    "print(\"Final Model: \", min_height_categorical_problem.model)\n",
    "print(\"min depth found: \", min_height_categorical_problem.min_depth)"
   ]
  },
  {
   "cell_type": "code",
   "execution_count": null,
   "metadata": {},
   "outputs": [],
   "source": [
    "max_accuracy_categorical_problem = SATreeCraft(dataset=dataset,\n",
    "                                           features=features,\n",
    "                                           labels=labels,\n",
    "                                           true_labels_for_points=true_labels_for_points,\n",
    "                                           features_categorical=features_categorical,\n",
    "                                           features_numerical=features_numerical,\n",
    "                                           classification_objective= 'max_accuracy',\n",
    "                                           fixed_depth=2,\n",
    "                                           # min_support= 2,\n",
    "                                           # tree_structure = 'Oblivious'\n",
    "                                           )\n",
    "\n",
    "max_accuracy_categorical_problem.solve()\n",
    "max_accuracy_categorical_problem.export_cnf(\"dimacs/testThisFile.cnf\")\n",
    "print(\"Final Model: \", max_accuracy_categorical_problem.model)\n",
    "print(\"Min cost found: \", max_accuracy_categorical_problem.min_cost)"
   ]
  },
  {
   "cell_type": "markdown",
   "metadata": {},
   "source": [
    "Tree Classifier Tests Metrics - Sklearn"
   ]
  },
  {
   "cell_type": "code",
   "execution_count": null,
   "metadata": {},
   "outputs": [],
   "source": [
    "# Classifier - sklearn Integration \n",
    "\n",
    "# Build model\n",
    "model = SATreeClassifier(max_accuracy_categorical_problem.model)\n",
    "\n",
    "# Test cases 0- uisng training set expecting 100%\n",
    "X_test = dataset\n",
    "y_test = true_labels_for_points\n",
    "\n",
    "# To get the accuracy score\n",
    "accuracy = model.score(X_test, y_test)\n",
    "print(f\"Accuracy: {accuracy}\")\n",
    "\n",
    "# To get the classification report\n",
    "report = model.get_classification_report(X_test, y_test)\n",
    "print(\"Classification Report:\")\n",
    "print(report)\n",
    "\n",
    "# To get the confusion matrix\n",
    "conf_matrix = model.get_confusion_matrix(X_test, y_test)\n",
    "print(\"Confusion Matrix:\")\n",
    "print(conf_matrix)"
   ]
  },
  {
   "cell_type": "markdown",
   "metadata": {},
   "source": [
    "K-Fold Module test"
   ]
  },
  {
   "cell_type": "code",
   "execution_count": null,
   "metadata": {},
   "outputs": [],
   "source": [
    "k = 5\n",
    "depth = 2 \n",
    "minimum_support = 0\n",
    "accuracies, mean_score = k_fold_tester(k, depth, dataset, true_labels_for_points, labels, features, features_categorical, features_numerical, \n",
    "                                       # complete_tree= False\n",
    "                                       )\n",
    "                                       \n",
    "print(accuracies)\n",
    "print(mean_score)"
   ]
  },
  {
   "cell_type": "markdown",
   "metadata": {},
   "source": [
    "Adding Additional Constraints - Minimum Support"
   ]
  },
  {
   "cell_type": "code",
   "execution_count": null,
   "metadata": {},
   "outputs": [],
   "source": [
    "k = 5\n",
    "depth = 2 \n",
    "minimum_support = 2\n",
    "accuracies, mean_score = k_fold_tester(k, depth, dataset, true_labels_for_points, labels, features, features_categorical, features_numerical, True, minimum_support)\n",
    "\n",
    "print(accuracies)\n",
    "print(mean_score)"
   ]
  },
  {
   "cell_type": "markdown",
   "metadata": {},
   "source": [
    "Own Toy sample"
   ]
  },
  {
   "cell_type": "code",
   "execution_count": null,
   "metadata": {},
   "outputs": [],
   "source": [
    "features = np.array(['0', '1'])\n",
    "labels = np.array([0,1,2])\n",
    "dataset = np.array([[1, 1], [1, 2], [7, 7], [7, 8], [15,5],[15,7]])  # Dataset X\n",
    "true_labels_for_points = np.array([0,0,1,1,2,2])\n",
    "\n",
    "print(\"Features:\", features, features.shape)\n",
    "print(\"Labels:\", labels, labels.shape)\n",
    "print(\"True Labels for Points:\", true_labels_for_points, true_labels_for_points.shape)\n",
    "print(\"Dataset:\\n\", dataset,dataset.shape)\n",
    "\n",
    "max_accuracy_numerical_problem = SATreeCraft(dataset=dataset,\n",
    "                                             features=features,labels=labels,\n",
    "                                             true_labels_for_points=true_labels_for_points,\n",
    "                                             classification_objective='max_accuracy',\n",
    "                                             fixed_depth=2,\n",
    "                                             # min_support= 5\n",
    "                                             # min_margin  = 10\n",
    "                                             # tree_structure= 'Oblivious'\n",
    "                                             )\n",
    "max_accuracy_numerical_problem.solve()\n",
    "max_accuracy_numerical_problem.export_cnf()\n",
    "print(\"Final Model: \", max_accuracy_numerical_problem.model)\n",
    "print(\"Min cost found: \", max_accuracy_numerical_problem.min_cost)\n",
    "\n"
   ]
  },
  {
   "cell_type": "markdown",
   "metadata": {},
   "source": [
    "# CLUSTERING"
   ]
  },
  {
   "cell_type": "code",
   "execution_count": 1,
   "metadata": {},
   "outputs": [],
   "source": [
    "import numpy as np\n",
    "import pandas as pd\n",
    "import openpyxl\n",
    "from sklearn.preprocessing import LabelEncoder\n",
    "\n",
    "from utils import * # Dataloader and K-fold mechanism \n",
    "from SATreeCraft import * # Tree solver framework\n",
    "from SATreeClassifier import * "
   ]
  },
  {
   "cell_type": "code",
   "execution_count": null,
   "metadata": {},
   "outputs": [],
   "source": [
    "features = np.array(['0', '1'])\n",
    "dataset = np.array([[1, 1], [1, 2], [7, 7], [7, 8], [15,5],[15,6]])  # Dataset X\n",
    "epsilon = 0 \n",
    "k_clusters = 4\n",
    "depth = 2\n",
    "\n",
    "# CL_pairs = np.array([])\n",
    "ML_pairs = np.array([])\n",
    "CL_pairs = np.array([[2,3],[3,1]])\n",
    "# # ML_pairs = np.array([[4,5],[0,1],[2,3]])\n",
    "\n",
    "clustering_problem = max_accuracy_numerical_problem = SATreeCraft(dataset=dataset,\n",
    "                                                                  features= features,\n",
    "                                                                  k_clusters= k_clusters,\n",
    "                                                                  #ML_pairs= ML_pairs,\n",
    "                                                                  CL_pairs= CL_pairs,\n",
    "                                                                  epsilon = epsilon,\n",
    "                                                                  fixed_depth= depth\n",
    "                                             )\n"
   ]
  },
  {
   "cell_type": "code",
   "execution_count": null,
   "metadata": {},
   "outputs": [],
   "source": [
    "loandra_path = '/Users/harisrasul/Desktop/loandra'\n",
    "clustering_problem.solve_loandra(loandra_path)\n",
    "print(clustering_problem.cluster_assignments)\n",
    "print(clustering_problem.cluster_diameters)"
   ]
  },
  {
   "cell_type": "markdown",
   "metadata": {},
   "source": [
    "# Tests for results "
   ]
  },
  {
   "cell_type": "markdown",
   "metadata": {},
   "source": [
    "Numerical Datasets"
   ]
  },
  {
   "cell_type": "code",
   "execution_count": 8,
   "metadata": {},
   "outputs": [],
   "source": [
    "import numpy as np\n",
    "import pandas as pd\n",
    "import openpyxl\n",
    "from sklearn.preprocessing import LabelEncoder\n",
    "from utils import * # Dataloader and K-fold mechanism \n",
    "from SATreeCraft import * # Tree solver framework\n",
    "from SATreeClassifier import * "
   ]
  },
  {
   "cell_type": "code",
   "execution_count": 9,
   "metadata": {},
   "outputs": [
    {
     "name": "stdout",
     "output_type": "stream",
     "text": [
      "Features: ['0' '1' '2' '3'] (4,)\n",
      "Labels: [0 1] (2,)\n",
      "True Labels for Points: [0 0 0 ... 1 1 1] (1372,)\n",
      "Dataset:\n",
      " [[  3.6216    8.6661   -2.8073   -0.44699]\n",
      " [  4.5459    8.1674   -2.4586   -1.4621 ]\n",
      " [  3.866    -2.6383    1.9242    0.10645]\n",
      " ...\n",
      " [ -3.7503  -13.4586   17.5932   -2.7771 ]\n",
      " [ -3.5637   -8.3827   12.393    -1.2823 ]\n",
      " [ -2.5419   -0.65804   2.6842    1.1952 ]] (1372, 4)\n"
     ]
    }
   ],
   "source": [
    "file_path_to_test = 'Datasets/data_banknote_authentication.txt'\n",
    "delimiter = ','\n",
    "label_position = -1 \n",
    "data_loader = TreeDataLoaderBinaryNumerical(file_path=file_path_to_test, delimiter=delimiter, label_position= label_position)\n",
    "print(\"Features:\", data_loader.features, data_loader.features.shape)\n",
    "print(\"Labels:\", data_loader.labels, data_loader.labels.shape)\n",
    "print(\"True Labels for Points:\", data_loader.true_labels_for_points, data_loader.true_labels_for_points.shape)\n",
    "print(\"Dataset:\\n\", data_loader.dataset,data_loader.dataset.shape)\n",
    "features = data_loader.features\n",
    "labels = data_loader.labels\n",
    "true_labels_for_points = data_loader.true_labels_for_points\n",
    "dataset = data_loader.dataset"
   ]
  },
  {
   "cell_type": "code",
   "execution_count": 10,
   "metadata": {},
   "outputs": [
    {
     "name": "stdout",
     "output_type": "stream",
     "text": [
      "Iteration complete\n",
      "Iteration complete\n",
      "Iteration complete\n",
      "Iteration complete\n",
      "Iteration complete\n",
      "Oblivious Depth: 2, Time Taken: 38.46 seconds\n",
      "Accuracies: [0.91636364 0.92       0.9379562  0.91240876 0.89781022]\n",
      "Mean Score: 0.9169077637690777\n",
      "\n",
      "Iteration complete\n",
      "Iteration complete\n",
      "Iteration complete\n",
      "Iteration complete\n",
      "Iteration complete\n",
      "Oblivious Depth: 3, Time Taken: 125.89 seconds\n",
      "Accuracies: [0.98181818 0.94545455 0.97445255 0.97080292 0.98175182]\n",
      "Mean Score: 0.97085600530856\n",
      "\n",
      "Iteration complete\n",
      "Iteration complete\n",
      "Iteration complete\n",
      "Iteration complete\n",
      "Iteration complete\n",
      "Oblivious Depth: 4, Time Taken: 193.79 seconds\n",
      "Accuracies: [0.99272727 0.99272727 0.98905109 0.97810219 0.98175182]\n",
      "Mean Score: 0.9868719309887192\n",
      "\n"
     ]
    }
   ],
   "source": [
    "import time\n",
    "loandra_path = '/Users/harisrasul/Desktop/loandra'\n",
    "k = 5\n",
    "depths = [2,3,4]\n",
    "# depths = [3,4]\n",
    "# Iterate through each combination of depth\n",
    "for depth in depths:\n",
    "    # Capture the start time\n",
    "    start_time = time.time()\n",
    "\n",
    "    # Execute the k-fold tester\n",
    "    accuracies, mean_score = k_fold_tester_loandra(loandra_path=loandra_path,\n",
    "                                                    k=k, depth=depth, dataset=dataset, \n",
    "                                                    true_labels_for_points=true_labels_for_points, \n",
    "                                                    labels=labels, features=features, \n",
    "                                                    min_support_level= 0,\n",
    "                                                    complete_tree= False)\n",
    "    # Capture the end time\n",
    "    end_time = time.time()\n",
    "\n",
    "    # Calculate the duration\n",
    "    duration = end_time - start_time\n",
    "\n",
    "    # Print or log the results including the time taken\n",
    "    print(f\"Oblivious Depth: {depth}, Time Taken: {duration:.2f} seconds\")\n",
    "    print(f\"Accuracies: {accuracies}\")\n",
    "    print(f\"Mean Score: {mean_score}\\n\")\n"
   ]
  },
  {
   "cell_type": "code",
   "execution_count": 11,
   "metadata": {},
   "outputs": [
    {
     "name": "stdout",
     "output_type": "stream",
     "text": [
      "Features: ['0' '1' '2' '3' '4' '5' '6' '7' '8'] (9,)\n",
      "Labels: [0 1] (2,)\n",
      "True Labels for Points: [0 0 0 0 0 0 0 0 0 0 0 0 0 0 0 0 0 0 0 0 0 0 0 0 0 0 0 0 0 0 0 0 0 0 0 0 0\n",
      " 0 0 0 0 0 0 0 0 0 0 0 0 0 0 0 1 1 1 1 1 1 1 1 1 1 1 1 1 1 1 1 1 1 1 1 1 1\n",
      " 1 1 1 1 1 1 1 1 1 1 1 1 1 1 1 1 1 1 1 1 1 1 1 1 1 1 1 1 1 1 1 1 1 1 1 1 1\n",
      " 1 1 1 1 1] (116,)\n",
      "Dataset:\n",
      " [[ 48.          23.5         70.         ...   9.7024       7.99585\n",
      "  417.114     ]\n",
      " [ 83.          20.69049454  92.         ...   5.429285     4.06405\n",
      "  468.786     ]\n",
      " [ 82.          23.12467037  91.         ...  22.43204      9.27715\n",
      "  554.697     ]\n",
      " ...\n",
      " [ 65.          32.05        97.         ...  22.54        10.33\n",
      "  314.05      ]\n",
      " [ 72.          25.59        82.         ...  33.75         3.27\n",
      "  392.46      ]\n",
      " [ 86.          27.18       138.         ...  14.11         4.35\n",
      "   90.09      ]] (116, 9)\n"
     ]
    }
   ],
   "source": [
    "file_path_to_test = 'Datasets/breast+cancer+coimbra/dataR2.csv'\n",
    "delimiter = ','\n",
    "label_position = -1 \n",
    "data_loader = TreeDataLoaderBinaryNumerical(file_path=file_path_to_test, delimiter=delimiter, label_position= label_position)\n",
    "print(\"Features:\", data_loader.features, data_loader.features.shape)\n",
    "print(\"Labels:\", data_loader.labels, data_loader.labels.shape)\n",
    "print(\"True Labels for Points:\", data_loader.true_labels_for_points, data_loader.true_labels_for_points.shape)\n",
    "print(\"Dataset:\\n\", data_loader.dataset,data_loader.dataset.shape)\n",
    "features = data_loader.features\n",
    "labels = data_loader.labels\n",
    "true_labels_for_points = data_loader.true_labels_for_points\n",
    "dataset = data_loader.dataset"
   ]
  },
  {
   "cell_type": "code",
   "execution_count": 12,
   "metadata": {},
   "outputs": [
    {
     "name": "stdout",
     "output_type": "stream",
     "text": [
      "Iteration complete\n",
      "Iteration complete\n",
      "Iteration complete\n",
      "Iteration complete\n",
      "Iteration complete\n",
      "Oblivious Depth: 2, Time Taken: 14.33 seconds\n",
      "Accuracies: [0.625      0.65217391 0.39130435 0.82608696 0.69565217]\n",
      "Mean Score: 0.6380434782608695\n",
      "\n",
      "Iteration complete\n",
      "Iteration complete\n",
      "Iteration complete\n",
      "Iteration complete\n",
      "Iteration complete\n",
      "Oblivious Depth: 3, Time Taken: 2824.99 seconds\n",
      "Accuracies: [0.79166667 0.7826087  0.60869565 0.69565217 0.52173913]\n",
      "Mean Score: 0.680072463768116\n",
      "\n",
      "Iteration complete\n",
      "Iteration complete\n",
      "Iteration complete\n",
      "Iteration complete\n",
      "Iteration complete\n",
      "Oblivious Depth: 4, Time Taken: 15071.69 seconds\n",
      "Accuracies: [0.58333333 0.65217391 0.73913043 0.65217391 0.69565217]\n",
      "Mean Score: 0.6644927536231884\n",
      "\n"
     ]
    }
   ],
   "source": [
    "import time\n",
    "loandra_path = '/Users/harisrasul/Desktop/loandra'\n",
    "k = 5\n",
    "depths = [2,3,4]\n",
    "# depths = [3,4]\n",
    "# Iterate through each combination of depth\n",
    "for depth in depths:\n",
    "    # Capture the start time\n",
    "    start_time = time.time()\n",
    "\n",
    "    # Execute the k-fold tester\n",
    "    accuracies, mean_score = k_fold_tester_loandra(loandra_path=loandra_path,\n",
    "                                                    k=k, depth=depth, dataset=dataset, \n",
    "                                                    true_labels_for_points=true_labels_for_points, \n",
    "                                                    labels=labels, features=features, \n",
    "                                                    min_support_level= 0,\n",
    "                                                    complete_tree= False)\n",
    "    # Capture the end time\n",
    "    end_time = time.time()\n",
    "\n",
    "    # Calculate the duration\n",
    "    duration = end_time - start_time\n",
    "\n",
    "    # Print or log the results including the time taken\n",
    "    print(f\"Oblivious Depth: {depth}, Time Taken: {duration:.2f} seconds\")\n",
    "    print(f\"Accuracies: {accuracies}\")\n",
    "    print(f\"Mean Score: {mean_score}\\n\")\n"
   ]
  },
  {
   "cell_type": "code",
   "execution_count": 4,
   "metadata": {},
   "outputs": [
    {
     "name": "stdout",
     "output_type": "stream",
     "text": [
      "Features: ['0' '1' '2' '3' '4' '5'] (6,)\n",
      "Labels: [0 1] (2,)\n",
      "True Labels for Points: [0 1 0 0 0 1 0 0 1 0 0 1 1 1 0 1 0 0 1 1 1 1 1 0 1 0 1 0 0 1 1 1 0 0 0 1 0\n",
      " 0 1 0 0 1 1 1 0 1 0 0 1 1 1 1 1 0 1 0 1 0 1 1 1 0 0 0 0 1 0 0 1 0 0 1 1 1\n",
      " 0 1 0 0 1 1 1 1 1 0 1 0 1 0 1 1] (90,)\n",
      "Dataset:\n",
      " [[1.000e+00 3.500e+01 1.200e+01 5.000e+00 1.000e+00 1.000e+02]\n",
      " [1.000e+00 2.900e+01 7.000e+00 5.000e+00 1.000e+00 9.600e+01]\n",
      " [1.000e+00 5.000e+01 8.000e+00 1.000e+00 3.000e+00 1.320e+02]\n",
      " [1.000e+00 3.200e+01 1.175e+01 7.000e+00 3.000e+00 7.500e+02]\n",
      " [1.000e+00 6.700e+01 9.250e+00 1.000e+00 1.000e+00 4.200e+01]\n",
      " [1.000e+00 4.100e+01 8.000e+00 2.000e+00 2.000e+00 2.000e+01]\n",
      " [1.000e+00 3.600e+01 1.100e+01 2.000e+00 1.000e+00 8.000e+00]\n",
      " [1.000e+00 5.900e+01 3.500e+00 3.000e+00 3.000e+00 2.000e+01]\n",
      " [1.000e+00 2.000e+01 4.500e+00 1.200e+01 1.000e+00 6.000e+00]\n",
      " [2.000e+00 3.400e+01 1.125e+01 3.000e+00 3.000e+00 1.500e+02]\n",
      " [2.000e+00 2.100e+01 1.075e+01 5.000e+00 1.000e+00 3.500e+01]\n",
      " [2.000e+00 1.500e+01 6.000e+00 2.000e+00 1.000e+00 3.000e+01]\n",
      " [2.000e+00 1.500e+01 2.000e+00 3.000e+00 1.000e+00 4.000e+00]\n",
      " [2.000e+00 1.500e+01 3.750e+00 2.000e+00 3.000e+00 7.000e+01]\n",
      " [2.000e+00 1.700e+01 1.100e+01 2.000e+00 1.000e+00 1.000e+01]\n",
      " [2.000e+00 1.700e+01 5.250e+00 3.000e+00 1.000e+00 6.300e+01]\n",
      " [2.000e+00 2.300e+01 1.175e+01 1.200e+01 3.000e+00 7.200e+01]\n",
      " [2.000e+00 2.700e+01 8.750e+00 2.000e+00 1.000e+00 6.000e+00]\n",
      " [2.000e+00 1.500e+01 4.250e+00 1.000e+00 1.000e+00 6.000e+00]\n",
      " [2.000e+00 1.800e+01 5.750e+00 1.000e+00 1.000e+00 8.000e+01]\n",
      " [1.000e+00 2.200e+01 5.500e+00 2.000e+00 1.000e+00 7.000e+01]\n",
      " [2.000e+00 1.600e+01 8.500e+00 1.000e+00 2.000e+00 6.000e+01]\n",
      " [1.000e+00 2.800e+01 4.750e+00 3.000e+00 1.000e+00 1.000e+02]\n",
      " [2.000e+00 4.000e+01 9.750e+00 1.000e+00 2.000e+00 8.000e+01]\n",
      " [1.000e+00 3.000e+01 2.500e+00 2.000e+00 1.000e+00 1.150e+02]\n",
      " [2.000e+00 3.400e+01 1.200e+01 3.000e+00 3.000e+00 9.500e+01]\n",
      " [1.000e+00 2.000e+01 5.000e-01 2.000e+00 1.000e+00 7.500e+01]\n",
      " [2.000e+00 3.500e+01 1.200e+01 5.000e+00 3.000e+00 1.000e+02]\n",
      " [2.000e+00 2.400e+01 9.500e+00 3.000e+00 3.000e+00 2.000e+01]\n",
      " [2.000e+00 1.900e+01 8.750e+00 6.000e+00 1.000e+00 1.600e+02]\n",
      " [1.000e+00 3.500e+01 9.250e+00 9.000e+00 1.000e+00 1.000e+02]\n",
      " [1.000e+00 2.900e+01 7.250e+00 6.000e+00 1.000e+00 9.600e+01]\n",
      " [1.000e+00 5.000e+01 8.750e+00 1.100e+01 3.000e+00 1.320e+02]\n",
      " [2.000e+00 3.200e+01 1.200e+01 4.000e+00 3.000e+00 7.500e+02]\n",
      " [2.000e+00 6.700e+01 1.200e+01 1.200e+01 3.000e+00 4.200e+01]\n",
      " [2.000e+00 4.100e+01 1.050e+01 2.000e+00 2.000e+00 2.000e+01]\n",
      " [2.000e+00 3.600e+01 1.100e+01 6.000e+00 1.000e+00 8.000e+00]\n",
      " [1.000e+00 6.300e+01 2.750e+00 3.000e+00 3.000e+00 2.000e+01]\n",
      " [1.000e+00 2.000e+01 5.000e+00 3.000e+00 1.000e+00 6.000e+00]\n",
      " [1.000e+00 3.400e+01 1.200e+01 1.000e+00 3.000e+00 1.500e+02]\n",
      " [2.000e+00 2.100e+01 1.050e+01 5.000e+00 1.000e+00 3.500e+01]\n",
      " [2.000e+00 1.500e+01 8.000e+00 1.200e+01 1.000e+00 3.000e+01]\n",
      " [1.000e+00 1.500e+01 3.500e+00 2.000e+00 1.000e+00 4.000e+00]\n",
      " [2.000e+00 1.500e+01 1.500e+00 1.200e+01 3.000e+00 7.000e+01]\n",
      " [1.000e+00 1.700e+01 1.150e+01 2.000e+00 1.000e+00 1.000e+01]\n",
      " [1.000e+00 1.700e+01 5.250e+00 4.000e+00 1.000e+00 6.300e+01]\n",
      " [2.000e+00 2.300e+01 9.500e+00 5.000e+00 3.000e+00 7.200e+01]\n",
      " [1.000e+00 2.700e+01 1.000e+01 5.000e+00 1.000e+00 6.000e+00]\n",
      " [1.000e+00 1.500e+01 4.000e+00 7.000e+00 1.000e+00 6.000e+00]\n",
      " [2.000e+00 1.800e+01 4.500e+00 8.000e+00 1.000e+00 8.000e+01]\n",
      " [2.000e+00 2.200e+01 5.000e+00 9.000e+00 1.000e+00 7.000e+01]\n",
      " [1.000e+00 1.600e+01 1.025e+01 3.000e+00 2.000e+00 6.000e+01]\n",
      " [2.000e+00 2.800e+01 4.000e+00 1.100e+01 1.000e+00 1.000e+02]\n",
      " [2.000e+00 4.000e+01 8.750e+00 6.000e+00 2.000e+00 8.000e+01]\n",
      " [2.000e+00 3.000e+01 5.000e-01 8.000e+00 3.000e+00 1.150e+02]\n",
      " [1.000e+00 3.400e+01 1.075e+01 1.000e+00 3.000e+00 9.500e+01]\n",
      " [1.000e+00 2.000e+01 3.750e+00 1.100e+01 1.000e+00 7.500e+01]\n",
      " [2.000e+00 3.500e+01 8.500e+00 6.000e+00 3.000e+00 1.000e+02]\n",
      " [1.000e+00 2.400e+01 9.500e+00 8.000e+00 1.000e+00 2.000e+01]\n",
      " [2.000e+00 1.900e+01 8.000e+00 9.000e+00 1.000e+00 1.600e+02]\n",
      " [1.000e+00 3.500e+01 7.250e+00 2.000e+00 1.000e+00 1.000e+02]\n",
      " [1.000e+00 2.900e+01 1.175e+01 5.000e+00 1.000e+00 9.600e+01]\n",
      " [2.000e+00 5.000e+01 9.500e+00 4.000e+00 3.000e+00 1.320e+02]\n",
      " [2.000e+00 3.200e+01 1.200e+01 1.200e+01 3.000e+00 7.500e+02]\n",
      " [1.000e+00 6.700e+01 1.000e+01 7.000e+00 1.000e+00 4.200e+01]\n",
      " [2.000e+00 4.100e+01 7.750e+00 5.000e+00 2.000e+00 2.000e+01]\n",
      " [2.000e+00 3.600e+01 1.050e+01 4.000e+00 1.000e+00 8.000e+00]\n",
      " [1.000e+00 6.700e+01 3.750e+00 1.100e+01 3.000e+00 2.000e+01]\n",
      " [1.000e+00 2.000e+01 4.000e+00 3.000e+00 1.000e+00 6.000e+00]\n",
      " [1.000e+00 3.400e+01 1.125e+01 1.000e+00 3.000e+00 1.500e+02]\n",
      " [2.000e+00 2.100e+01 1.075e+01 7.000e+00 1.000e+00 3.500e+01]\n",
      " [1.000e+00 1.500e+01 1.050e+01 1.100e+01 1.000e+00 3.000e+01]\n",
      " [1.000e+00 1.500e+01 2.000e+00 1.100e+01 1.000e+00 4.000e+00]\n",
      " [2.000e+00 1.500e+01 2.000e+00 1.000e+01 3.000e+00 7.000e+01]\n",
      " [1.000e+00 1.700e+01 9.250e+00 1.200e+01 1.000e+00 1.000e+01]\n",
      " [1.000e+00 1.700e+01 5.750e+00 1.000e+01 1.000e+00 6.300e+01]\n",
      " [1.000e+00 2.300e+01 1.025e+01 7.000e+00 3.000e+00 7.200e+01]\n",
      " [1.000e+00 2.700e+01 1.050e+01 7.000e+00 1.000e+00 6.000e+00]\n",
      " [1.000e+00 1.500e+01 5.500e+00 5.000e+00 1.000e+00 6.000e+00]\n",
      " [1.000e+00 1.800e+01 4.000e+00 1.000e+00 1.000e+00 8.000e+01]\n",
      " [2.000e+00 2.200e+01 4.500e+00 2.000e+00 1.000e+00 7.000e+01]\n",
      " [1.000e+00 1.600e+01 1.100e+01 3.000e+00 2.000e+00 6.000e+01]\n",
      " [2.000e+00 2.800e+01 5.000e+00 9.000e+00 1.000e+00 1.000e+02]\n",
      " [1.000e+00 4.000e+01 1.150e+01 9.000e+00 2.000e+00 8.000e+01]\n",
      " [1.000e+00 3.000e+01 2.500e-01 1.000e+01 1.000e+00 1.150e+02]\n",
      " [2.000e+00 3.400e+01 1.200e+01 3.000e+00 3.000e+00 9.500e+01]\n",
      " [2.000e+00 2.000e+01 3.500e+00 6.000e+00 1.000e+00 7.500e+01]\n",
      " [2.000e+00 3.500e+01 8.250e+00 8.000e+00 3.000e+00 1.000e+02]\n",
      " [1.000e+00 2.400e+01 1.075e+01 1.000e+01 1.000e+00 2.000e+01]\n",
      " [1.000e+00 1.900e+01 8.000e+00 8.000e+00 1.000e+00 1.600e+02]] (90, 6)\n"
     ]
    }
   ],
   "source": [
    "file_path_to_test = 'Datasets/Cryotherapy.xlsx'\n",
    "delimiter = ','\n",
    "label_position = -1 \n",
    "data_loader = TreeDataLoaderBinaryNumerical(file_path=file_path_to_test, delimiter=delimiter, label_position= label_position)\n",
    "print(\"Features:\", data_loader.features, data_loader.features.shape)\n",
    "print(\"Labels:\", data_loader.labels, data_loader.labels.shape)\n",
    "print(\"True Labels for Points:\", data_loader.true_labels_for_points, data_loader.true_labels_for_points.shape)\n",
    "print(\"Dataset:\\n\", data_loader.dataset,data_loader.dataset.shape)\n",
    "features = data_loader.features\n",
    "labels = data_loader.labels\n",
    "true_labels_for_points = data_loader.true_labels_for_points\n",
    "dataset = data_loader.dataset"
   ]
  },
  {
   "cell_type": "code",
   "execution_count": 5,
   "metadata": {},
   "outputs": [
    {
     "name": "stdout",
     "output_type": "stream",
     "text": [
      "Iteration complete\n",
      "Iteration complete\n",
      "Iteration complete\n",
      "Iteration complete\n",
      "Iteration complete\n",
      "Oblivious Depth: 2, Time Taken: 1.76 seconds\n",
      "Accuracies: [0.94444444 0.83333333 0.88888889 1.         0.83333333]\n",
      "Mean Score: 0.9\n",
      "\n",
      "Iteration complete\n",
      "Iteration complete\n",
      "Iteration complete\n",
      "Iteration complete\n",
      "Iteration complete\n",
      "Oblivious Depth: 3, Time Taken: 3.22 seconds\n",
      "Accuracies: [0.72222222 0.94444444 0.94444444 0.94444444 0.77777778]\n",
      "Mean Score: 0.8666666666666666\n",
      "\n",
      "Iteration complete\n",
      "Iteration complete\n",
      "Iteration complete\n",
      "Iteration complete\n",
      "Iteration complete\n",
      "Oblivious Depth: 4, Time Taken: 2.95 seconds\n",
      "Accuracies: [0.83333333 0.83333333 0.94444444 0.88888889 0.83333333]\n",
      "Mean Score: 0.8666666666666666\n",
      "\n"
     ]
    }
   ],
   "source": [
    "import time\n",
    "loandra_path = '/Users/harisrasul/Desktop/loandra'\n",
    "k = 5\n",
    "depths = [2,3,4]\n",
    "# depths = [3,4]\n",
    "# Iterate through each combination of depth\n",
    "for depth in depths:\n",
    "    # Capture the start time\n",
    "    start_time = time.time()\n",
    "\n",
    "    # Execute the k-fold tester\n",
    "    accuracies, mean_score = k_fold_tester_loandra(loandra_path=loandra_path,\n",
    "                                                    k=k, depth=depth, dataset=dataset, \n",
    "                                                    true_labels_for_points=true_labels_for_points, \n",
    "                                                    labels=labels, features=features, \n",
    "                                                    min_support_level= 0,\n",
    "                                                    complete_tree= False)\n",
    "    # Capture the end time\n",
    "    end_time = time.time()\n",
    "\n",
    "    # Calculate the duration\n",
    "    duration = end_time - start_time\n",
    "\n",
    "    # Print or log the results including the time taken\n",
    "    print(f\"Oblivious Depth: {depth}, Time Taken: {duration:.2f} seconds\")\n",
    "    print(f\"Accuracies: {accuracies}\")\n",
    "    print(f\"Mean Score: {mean_score}\\n\")\n"
   ]
  },
  {
   "cell_type": "code",
   "execution_count": 15,
   "metadata": {},
   "outputs": [
    {
     "name": "stdout",
     "output_type": "stream",
     "text": [
      "Features: ['0' '1' '2' '3' '4' '5' '6'] (7,)\n",
      "Labels: [0 1] (2,)\n",
      "True Labels for Points: [1 1 1 1 1 1 1 1 1 0 1 1 0 1 1 1 1 1 1 1 1 1 0 1 1 1 1 0 0 1 1 1 1 1 1 0 0\n",
      " 1 1 0 1 1 0 0 1 1 1 1 1 0 1 1 1 1 1 1 1 1 0 1 1 1 1 1 1 1 0 1 1 0 1 1 0 1\n",
      " 1 1 1 1 1 0 1 1 0 1 1 1 1 0 0 1] (90,)\n",
      "Dataset:\n",
      " [[  1.    22.     2.25  14.     3.    51.    50.  ]\n",
      " [  1.    15.     3.     2.     3.   900.    70.  ]\n",
      " [  1.    16.    10.5    2.     1.   100.    25.  ]\n",
      " [  1.    27.     4.5    9.     3.    80.    30.  ]\n",
      " [  1.    20.     8.     6.     1.    45.     8.  ]\n",
      " [  1.    15.     5.     3.     3.    84.     7.  ]\n",
      " [  1.    35.     9.75   2.     2.     8.     6.  ]\n",
      " [  2.    28.     7.5    4.     1.     9.     2.  ]\n",
      " [  2.    19.     6.     2.     1.   225.     8.  ]\n",
      " [  2.    32.    12.     6.     3.    35.     5.  ]\n",
      " [  2.    33.     6.25   2.     1.    30.     3.  ]\n",
      " [  2.    17.     5.75  12.     3.    25.     7.  ]\n",
      " [  2.    15.     1.75   1.     2.    49.     7.  ]\n",
      " [  2.    15.     5.5   12.     1.    48.     7.  ]\n",
      " [  2.    16.    10.     7.     1.   143.     6.  ]\n",
      " [  2.    33.     9.25   2.     2.   150.     8.  ]\n",
      " [  2.    26.     7.75   6.     2.     6.     5.  ]\n",
      " [  2.    23.     7.5   10.     2.    43.     3.  ]\n",
      " [  2.    15.     6.5   19.     1.    56.     7.  ]\n",
      " [  2.    26.     6.75   2.     1.     6.     6.  ]\n",
      " [  1.    22.     1.25   3.     3.    47.     3.  ]\n",
      " [  2.    19.     2.25   2.     1.    60.     7.  ]\n",
      " [  2.    26.    10.5    6.     1.    50.     9.  ]\n",
      " [  1.    25.     5.75   2.     1.   300.     7.  ]\n",
      " [  2.    17.    11.25   4.     3.    70.     7.  ]\n",
      " [  1.    27.     5.     2.     1.    20.     5.  ]\n",
      " [  2.    24.     4.75  10.     3.    30.    45.  ]\n",
      " [  1.    15.    11.     6.     1.    30.    25.  ]\n",
      " [  2.    34.    11.5   12.     1.    25.    50.  ]\n",
      " [  2.    20.     7.75  18.     3.    45.     2.  ]\n",
      " [  2.    38.     2.5    1.     3.    43.    50.  ]\n",
      " [  1.    23.     3.     2.     3.    87.    70.  ]\n",
      " [  2.    48.    10.25   7.     1.    50.    25.  ]\n",
      " [  2.    24.     4.25   1.     1.   174.    30.  ]\n",
      " [  2.    33.     8.     3.     1.   502.     8.  ]\n",
      " [  1.    34.     5.     7.     3.    64.     7.  ]\n",
      " [  2.    41.    11.    11.     2.    21.     6.  ]\n",
      " [  1.    29.     8.75   3.     1.   504.     2.  ]\n",
      " [  2.    22.     8.5    5.     1.    99.     8.  ]\n",
      " [  1.    45.    11.25   4.     1.    72.     5.  ]\n",
      " [  2.    22.     8.25   9.     1.   352.     3.  ]\n",
      " [  1.    35.     8.75  10.     2.    69.     7.  ]\n",
      " [  2.    34.     8.5    1.     2.   163.     7.  ]\n",
      " [  1.    49.     4.5    2.     1.    33.     7.  ]\n",
      " [  2.    19.    11.     5.     2.    51.     6.  ]\n",
      " [  1.    21.     8.     3.     1.    17.     8.  ]\n",
      " [  1.    26.     7.75  13.     2.    13.     5.  ]\n",
      " [  1.    51.     8.75   2.     2.    57.     3.  ]\n",
      " [  1.    19.     7.75   6.     1.    32.     7.  ]\n",
      " [  1.    38.    12.    14.     1.    87.     6.  ]\n",
      " [  2.    36.     1.75  10.     3.    45.     3.  ]\n",
      " [  2.    52.     2.25   5.     1.    63.     7.  ]\n",
      " [  2.    49.     9.     4.     2.    14.     9.  ]\n",
      " [  1.    23.     5.75   2.     1.    43.     7.  ]\n",
      " [  1.    45.    10.     8.     1.    58.     7.  ]\n",
      " [  1.    54.     7.5   13.     3.    43.     5.  ]\n",
      " [  2.    47.     5.25   3.     3.    23.    45.  ]\n",
      " [  2.    53.    10.     1.     2.    30.    25.  ]\n",
      " [  2.    56.    11.75   7.     1.    31.    50.  ]\n",
      " [  1.    27.    11.25   3.     2.    37.     2.  ]\n",
      " [  2.    47.     3.75  14.     2.    67.    50.  ]\n",
      " [  2.    19.     2.25   8.     2.    42.    70.  ]\n",
      " [  2.    33.     8.     5.     1.    63.    25.  ]\n",
      " [  2.    15.     4.    12.     1.    72.    30.  ]\n",
      " [  1.    17.     8.5    2.     1.    44.     8.  ]\n",
      " [  1.    29.     5.    12.     3.    75.     7.  ]\n",
      " [  1.    27.    11.75   8.     1.   208.     6.  ]\n",
      " [  2.    51.     6.     6.     1.    80.     2.  ]\n",
      " [  1.    35.     6.75   4.     3.    41.     8.  ]\n",
      " [  2.    47.    10.75   8.     1.    57.     5.  ]\n",
      " [  1.    43.     8.     1.     1.    59.     3.  ]\n",
      " [  1.    15.     4.     4.     3.    25.     7.  ]\n",
      " [  1.    33.     1.75   7.     2.   379.     7.  ]\n",
      " [  2.    51.     4.     1.     1.    65.     7.  ]\n",
      " [  1.    45.     6.5    9.     2.    49.     6.  ]\n",
      " [  2.    47.     9.25  13.     2.   367.     8.  ]\n",
      " [  1.    18.    11.75   5.     2.    13.     5.  ]\n",
      " [  2.    46.     7.75   8.     1.    40.     3.  ]\n",
      " [  1.    43.    11.     7.     1.   507.     7.  ]\n",
      " [  2.    28.    11.     3.     3.    91.     6.  ]\n",
      " [  1.    30.     1.     2.     1.    88.     3.  ]\n",
      " [  2.    16.     2.    11.     1.    47.     7.  ]\n",
      " [  2.    42.     8.75   8.     2.    73.     9.  ]\n",
      " [  2.    15.     8.     1.     1.    55.     7.  ]\n",
      " [  2.    53.     7.25   6.     1.    81.     7.  ]\n",
      " [  1.    40.     5.5    8.     3.    69.     5.  ]\n",
      " [  1.    38.     7.5    8.     2.    56.    45.  ]\n",
      " [  1.    46.    11.5    4.     1.    91.    25.  ]\n",
      " [  1.    32.    12.     9.     1.    43.    50.  ]\n",
      " [  2.    23.     6.75   6.     1.    19.     2.  ]] (90, 7)\n"
     ]
    }
   ],
   "source": [
    "file_path_to_test = 'Datasets/Immunotherapy.xlsx'\n",
    "delimiter = ','\n",
    "label_position = -1 \n",
    "data_loader = TreeDataLoaderBinaryNumerical(file_path=file_path_to_test, delimiter=delimiter, label_position= label_position)\n",
    "print(\"Features:\", data_loader.features, data_loader.features.shape)\n",
    "print(\"Labels:\", data_loader.labels, data_loader.labels.shape)\n",
    "print(\"True Labels for Points:\", data_loader.true_labels_for_points, data_loader.true_labels_for_points.shape)\n",
    "print(\"Dataset:\\n\", data_loader.dataset,data_loader.dataset.shape)\n",
    "features = data_loader.features\n",
    "labels = data_loader.labels\n",
    "true_labels_for_points = data_loader.true_labels_for_points\n",
    "dataset = data_loader.dataset"
   ]
  },
  {
   "cell_type": "code",
   "execution_count": 16,
   "metadata": {},
   "outputs": [
    {
     "name": "stdout",
     "output_type": "stream",
     "text": [
      "Iteration complete\n",
      "Iteration complete\n",
      "Iteration complete\n",
      "Iteration complete\n",
      "Iteration complete\n",
      "Oblivious Depth: 2, Time Taken: 1.43 seconds\n",
      "Accuracies: [0.72222222 0.83333333 0.83333333 0.83333333 0.88888889]\n",
      "Mean Score: 0.8222222222222222\n",
      "\n",
      "Iteration complete\n",
      "Iteration complete\n",
      "Iteration complete\n",
      "Iteration complete\n",
      "Iteration complete\n",
      "Oblivious Depth: 3, Time Taken: 9.30 seconds\n",
      "Accuracies: [0.72222222 0.66666667 0.66666667 0.83333333 1.        ]\n",
      "Mean Score: 0.7777777777777778\n",
      "\n",
      "Iteration complete\n",
      "Iteration complete\n",
      "Iteration complete\n",
      "Iteration complete\n",
      "Iteration complete\n",
      "Oblivious Depth: 4, Time Taken: 3.68 seconds\n",
      "Accuracies: [0.61111111 0.77777778 0.77777778 0.77777778 0.72222222]\n",
      "Mean Score: 0.7333333333333333\n",
      "\n"
     ]
    }
   ],
   "source": [
    "import time\n",
    "loandra_path = '/Users/harisrasul/Desktop/loandra'\n",
    "k = 5\n",
    "depths = [2,3,4]\n",
    "# depths = [3,4]\n",
    "# Iterate through each combination of depth\n",
    "for depth in depths:\n",
    "    # Capture the start time\n",
    "    start_time = time.time()\n",
    "\n",
    "    # Execute the k-fold tester\n",
    "    accuracies, mean_score = k_fold_tester_loandra(loandra_path=loandra_path,\n",
    "                                                    k=k, depth=depth, dataset=dataset, \n",
    "                                                    true_labels_for_points=true_labels_for_points, \n",
    "                                                    labels=labels, features=features, \n",
    "                                                    min_support_level= 0,\n",
    "                                                    complete_tree= False)\n",
    "    # Capture the end time\n",
    "    end_time = time.time()\n",
    "\n",
    "    # Calculate the duration\n",
    "    duration = end_time - start_time\n",
    "\n",
    "    # Print or log the results including the time taken\n",
    "    print(f\"Oblivious Depth: {depth}, Time Taken: {duration:.2f} seconds\")\n",
    "    print(f\"Accuracies: {accuracies}\")\n",
    "    print(f\"Mean Score: {mean_score}\\n\")\n"
   ]
  },
  {
   "cell_type": "code",
   "execution_count": 17,
   "metadata": {},
   "outputs": [
    {
     "name": "stdout",
     "output_type": "stream",
     "text": [
      "Features: ['0' '1' '2' '3' '4' '5' '6' '7' '8' '9' '10' '11' '12' '13' '14' '15'\n",
      " '16' '17' '18' '19' '20' '21' '22' '23' '24' '25' '26' '27' '28' '29'\n",
      " '30' '31' '32' '33'] (34,)\n",
      "Labels: [0 1] (2,)\n",
      "True Labels for Points: [1 0 1 0 1 0 1 0 1 0 1 0 1 0 1 0 1 0 1 0 1 0 1 0 1 0 1 0 1 0 1 0 1 0 1 0 1\n",
      " 0 1 0 1 0 1 0 1 0 1 0 1 0 1 0 1 0 1 0 1 0 1 0 1 0 1 0 1 0 1 0 1 0 1 0 1 0\n",
      " 1 0 1 0 1 0 1 0 1 0 1 0 1 0 1 0 1 0 1 0 1 0 1 1 0 1 0 1 0 1 0 1 0 1 0 1 0\n",
      " 1 0 1 0 1 0 1 0 1 0 1 0 1 0 1 0 1 0 1 0 1 0 1 0 1 0 1 0 1 0 1 0 1 0 1 0 1\n",
      " 0 1 0 1 0 1 0 1 0 1 0 1 0 1 0 1 0 1 0 1 0 1 0 1 0 1 0 1 0 1 0 1 0 1 0 1 0\n",
      " 1 0 1 0 1 0 1 0 1 0 1 0 1 0 1 0 1 0 1 0 1 0 1 0 1 0 1 0 1 0 1 0 1 0 1 0 1\n",
      " 0 1 0 1 0 1 0 1 0 1 0 1 0 1 0 1 0 1 0 1 0 1 0 1 0 1 0 1 0 1 0 1 1 1 1 1 1\n",
      " 1 1 1 1 1 1 1 1 1 1 1 1 1 1 1 1 1 1 1 1 1 1 1 1 1 1 1 1 1 1 1 1 1 1 1 1 1\n",
      " 1 1 1 1 1 1 1 1 1 1 1 1 1 1 1 1 1 1 1 1 1 1 1 1 1 1 1 1 1 1 1 1 1 1 1 1 1\n",
      " 1 1 1 1 1 1 1 1 1 1 1 1 1 1 1 1 1 1] (351,)\n",
      "Dataset:\n",
      " [[ 1.       0.       0.99539 ... -0.54487  0.18641 -0.453  ]\n",
      " [ 1.       0.       1.      ... -0.06288 -0.13738 -0.02447]\n",
      " [ 1.       0.       1.      ... -0.2418   0.56045 -0.38238]\n",
      " ...\n",
      " [ 1.       0.       0.94701 ...  0.00442  0.92697 -0.00577]\n",
      " [ 1.       0.       0.90608 ... -0.03757  0.87403 -0.16243]\n",
      " [ 1.       0.       0.8471  ... -0.06678  0.85764 -0.06151]] (351, 34)\n"
     ]
    }
   ],
   "source": [
    "file_path_to_test = 'Datasets/ionosphere/ionosphere.data'\n",
    "label_position = -1 \n",
    "delimiter = ','\n",
    "data_loader = TreeDataLoaderBinaryNumerical(file_path=file_path_to_test, delimiter=delimiter, label_position= label_position)\n",
    "print(\"Features:\", data_loader.features, data_loader.features.shape)\n",
    "print(\"Labels:\", data_loader.labels, data_loader.labels.shape)\n",
    "print(\"True Labels for Points:\", data_loader.true_labels_for_points, data_loader.true_labels_for_points.shape)\n",
    "print(\"Dataset:\\n\", data_loader.dataset,data_loader.dataset.shape)\n",
    "features = data_loader.features\n",
    "labels = data_loader.labels\n",
    "true_labels_for_points = data_loader.true_labels_for_points\n",
    "dataset = data_loader.dataset"
   ]
  },
  {
   "cell_type": "code",
   "execution_count": 18,
   "metadata": {},
   "outputs": [
    {
     "name": "stdout",
     "output_type": "stream",
     "text": [
      "Iteration complete\n",
      "Iteration complete\n",
      "Iteration complete\n",
      "Iteration complete\n",
      "Iteration complete\n",
      "Oblivious Depth: 2, Time Taken: 44.23 seconds\n",
      "Accuracies: [0.87323944 0.9        0.9        0.92857143 0.91428571]\n",
      "Mean Score: 0.9032193158953723\n",
      "\n"
     ]
    },
    {
     "ename": "KeyboardInterrupt",
     "evalue": "",
     "output_type": "error",
     "traceback": [
      "\u001b[0;31m---------------------------------------------------------------------------\u001b[0m",
      "\u001b[0;31mKeyboardInterrupt\u001b[0m                         Traceback (most recent call last)",
      "Input \u001b[0;32mIn [18]\u001b[0m, in \u001b[0;36m<cell line: 7>\u001b[0;34m()\u001b[0m\n\u001b[1;32m      9\u001b[0m start_time \u001b[38;5;241m=\u001b[39m time\u001b[38;5;241m.\u001b[39mtime()\n\u001b[1;32m     11\u001b[0m \u001b[38;5;66;03m# Execute the k-fold tester\u001b[39;00m\n\u001b[0;32m---> 12\u001b[0m accuracies, mean_score \u001b[38;5;241m=\u001b[39m \u001b[43mk_fold_tester_loandra\u001b[49m\u001b[43m(\u001b[49m\u001b[43mloandra_path\u001b[49m\u001b[38;5;241;43m=\u001b[39;49m\u001b[43mloandra_path\u001b[49m\u001b[43m,\u001b[49m\n\u001b[1;32m     13\u001b[0m \u001b[43m                                                \u001b[49m\u001b[43mk\u001b[49m\u001b[38;5;241;43m=\u001b[39;49m\u001b[43mk\u001b[49m\u001b[43m,\u001b[49m\u001b[43m \u001b[49m\u001b[43mdepth\u001b[49m\u001b[38;5;241;43m=\u001b[39;49m\u001b[43mdepth\u001b[49m\u001b[43m,\u001b[49m\u001b[43m \u001b[49m\u001b[43mdataset\u001b[49m\u001b[38;5;241;43m=\u001b[39;49m\u001b[43mdataset\u001b[49m\u001b[43m,\u001b[49m\u001b[43m \u001b[49m\n\u001b[1;32m     14\u001b[0m \u001b[43m                                                \u001b[49m\u001b[43mtrue_labels_for_points\u001b[49m\u001b[38;5;241;43m=\u001b[39;49m\u001b[43mtrue_labels_for_points\u001b[49m\u001b[43m,\u001b[49m\u001b[43m \u001b[49m\n\u001b[1;32m     15\u001b[0m \u001b[43m                                                \u001b[49m\u001b[43mlabels\u001b[49m\u001b[38;5;241;43m=\u001b[39;49m\u001b[43mlabels\u001b[49m\u001b[43m,\u001b[49m\u001b[43m \u001b[49m\u001b[43mfeatures\u001b[49m\u001b[38;5;241;43m=\u001b[39;49m\u001b[43mfeatures\u001b[49m\u001b[43m,\u001b[49m\u001b[43m \u001b[49m\n\u001b[1;32m     16\u001b[0m \u001b[43m                                                \u001b[49m\u001b[43mmin_support_level\u001b[49m\u001b[38;5;241;43m=\u001b[39;49m\u001b[43m \u001b[49m\u001b[38;5;241;43m0\u001b[39;49m\u001b[43m,\u001b[49m\n\u001b[1;32m     17\u001b[0m \u001b[43m                                                \u001b[49m\u001b[43mcomplete_tree\u001b[49m\u001b[38;5;241;43m=\u001b[39;49m\u001b[43m \u001b[49m\u001b[38;5;28;43;01mFalse\u001b[39;49;00m\u001b[43m)\u001b[49m\n\u001b[1;32m     18\u001b[0m \u001b[38;5;66;03m# Capture the end time\u001b[39;00m\n\u001b[1;32m     19\u001b[0m end_time \u001b[38;5;241m=\u001b[39m time\u001b[38;5;241m.\u001b[39mtime()\n",
      "File \u001b[0;32m~/Desktop/ESC499-THESIS/ESC499-Thesis-SAT-Trees/SATreeCraft/utils.py:361\u001b[0m, in \u001b[0;36mk_fold_tester_loandra\u001b[0;34m(loandra_path, k, depth, dataset, true_labels_for_points, labels, features, features_categorical, features_numerical, complete_tree, min_support_level, min_margin_level)\u001b[0m\n\u001b[1;32m    349\u001b[0m max_accuracy_problem \u001b[38;5;241m=\u001b[39m SATreeCraft(dataset\u001b[38;5;241m=\u001b[39mX_train,\n\u001b[1;32m    350\u001b[0m                                    features\u001b[38;5;241m=\u001b[39mfeatures,\n\u001b[1;32m    351\u001b[0m                                    labels\u001b[38;5;241m=\u001b[39mlabels,\n\u001b[0;32m   (...)\u001b[0m\n\u001b[1;32m    358\u001b[0m                                    min_margin\u001b[38;5;241m=\u001b[39m min_margin_level,\n\u001b[1;32m    359\u001b[0m                                    tree_structure\u001b[38;5;241m=\u001b[39m tree_structure)\n\u001b[1;32m    360\u001b[0m \u001b[38;5;66;03m# build model\u001b[39;00m\n\u001b[0;32m--> 361\u001b[0m \u001b[43mmax_accuracy_problem\u001b[49m\u001b[38;5;241;43m.\u001b[39;49m\u001b[43msolve_loandra\u001b[49m\u001b[43m(\u001b[49m\u001b[43mloandra_path\u001b[49m\u001b[43m)\u001b[49m\n\u001b[1;32m    362\u001b[0m model \u001b[38;5;241m=\u001b[39m SATreeClassifier(max_accuracy_problem\u001b[38;5;241m.\u001b[39mmodel)\n\u001b[1;32m    364\u001b[0m \u001b[38;5;66;03m# score model on test data\u001b[39;00m\n",
      "File \u001b[0;32m~/Desktop/ESC499-THESIS/ESC499-Thesis-SAT-Trees/SATreeCraft/SATreeCraft.py:677\u001b[0m, in \u001b[0;36mSATreeCraft.solve_loandra\u001b[0;34m(self, loandra_path, execution_path)\u001b[0m\n\u001b[1;32m    670\u001b[0m             \u001b[38;5;28mself\u001b[39m\u001b[38;5;241m.\u001b[39mmodel, \u001b[38;5;28mself\u001b[39m\u001b[38;5;241m.\u001b[39mfinal_literals, \u001b[38;5;28mself\u001b[39m\u001b[38;5;241m.\u001b[39mmin_depth,\u001b[38;5;28mself\u001b[39m\u001b[38;5;241m.\u001b[39msat_solution, \u001b[38;5;28mself\u001b[39m\u001b[38;5;241m.\u001b[39mfinal_cnf \u001b[38;5;241m=\u001b[39m \u001b[38;5;28mself\u001b[39m\u001b[38;5;241m.\u001b[39mfind_min_depth_tree_problem_loandra(\u001b[38;5;28mself\u001b[39m\u001b[38;5;241m.\u001b[39mfeatures, \n\u001b[1;32m    671\u001b[0m                                                                                                                   \u001b[38;5;28mself\u001b[39m\u001b[38;5;241m.\u001b[39mlabels, \n\u001b[1;32m    672\u001b[0m                                                                                                                   \u001b[38;5;28mself\u001b[39m\u001b[38;5;241m.\u001b[39mtrue_labels_for_points, \n\u001b[1;32m    673\u001b[0m                                                                                                                   \u001b[38;5;28mself\u001b[39m\u001b[38;5;241m.\u001b[39mdataset,\n\u001b[1;32m    674\u001b[0m                                                                                                                   loandra_path,\n\u001b[1;32m    675\u001b[0m                                                                                                                   execution_path)\n\u001b[1;32m    676\u001b[0m         \u001b[38;5;28;01melse\u001b[39;00m: \u001b[38;5;66;03m# max accuracy problem\u001b[39;00m\n\u001b[0;32m--> 677\u001b[0m             \u001b[38;5;28mself\u001b[39m\u001b[38;5;241m.\u001b[39mmodel, \u001b[38;5;28mself\u001b[39m\u001b[38;5;241m.\u001b[39mfinal_literals, \u001b[38;5;28mself\u001b[39m\u001b[38;5;241m.\u001b[39mfixed_depth, \u001b[38;5;28mself\u001b[39m\u001b[38;5;241m.\u001b[39msat_solution, \u001b[38;5;28mself\u001b[39m\u001b[38;5;241m.\u001b[39mmin_cost, \u001b[38;5;28mself\u001b[39m\u001b[38;5;241m.\u001b[39mfinal_cnf \u001b[38;5;241m=\u001b[39m \u001b[38;5;28;43mself\u001b[39;49m\u001b[38;5;241;43m.\u001b[39;49m\u001b[43mfind_fixed_depth_tree_problem_loandra\u001b[49m\u001b[43m(\u001b[49m\u001b[38;5;28;43mself\u001b[39;49m\u001b[38;5;241;43m.\u001b[39;49m\u001b[43mfeatures\u001b[49m\u001b[43m,\u001b[49m\u001b[43m \u001b[49m\n\u001b[1;32m    678\u001b[0m \u001b[43m                                                                                                       \u001b[49m\u001b[38;5;28;43mself\u001b[39;49m\u001b[38;5;241;43m.\u001b[39;49m\u001b[43mlabels\u001b[49m\u001b[43m,\u001b[49m\u001b[43m \u001b[49m\n\u001b[1;32m    679\u001b[0m \u001b[43m                                                                                                       \u001b[49m\u001b[38;5;28;43mself\u001b[39;49m\u001b[38;5;241;43m.\u001b[39;49m\u001b[43mtrue_labels_for_points\u001b[49m\u001b[43m,\u001b[49m\u001b[43m \u001b[49m\n\u001b[1;32m    680\u001b[0m \u001b[43m                                                                                                       \u001b[49m\u001b[38;5;28;43mself\u001b[39;49m\u001b[38;5;241;43m.\u001b[39;49m\u001b[43mdataset\u001b[49m\u001b[43m,\u001b[49m\n\u001b[1;32m    681\u001b[0m \u001b[43m                                                                                                       \u001b[49m\u001b[38;5;28;43mself\u001b[39;49m\u001b[38;5;241;43m.\u001b[39;49m\u001b[43mfixed_depth\u001b[49m\u001b[43m,\u001b[49m\n\u001b[1;32m    682\u001b[0m \u001b[43m                                                                                                       \u001b[49m\u001b[43mloandra_path\u001b[49m\u001b[43m,\u001b[49m\n\u001b[1;32m    683\u001b[0m \u001b[43m                                                                                                       \u001b[49m\u001b[43mexecution_path\u001b[49m\u001b[43m)\u001b[49m\n\u001b[1;32m    684\u001b[0m \u001b[38;5;28;01melse\u001b[39;00m:\n\u001b[1;32m    685\u001b[0m     max_clusters \u001b[38;5;241m=\u001b[39m \u001b[38;5;241m2\u001b[39m \u001b[38;5;241m*\u001b[39m\u001b[38;5;241m*\u001b[39m \u001b[38;5;28mself\u001b[39m\u001b[38;5;241m.\u001b[39mfixed_depth\n",
      "File \u001b[0;32m~/Desktop/ESC499-THESIS/ESC499-Thesis-SAT-Trees/SATreeCraft/SATreeCraft.py:472\u001b[0m, in \u001b[0;36mSATreeCraft.find_fixed_depth_tree_problem_loandra\u001b[0;34m(self, features, labels, true_labels_for_points, dataset, depth, loandra_path, execution_path)\u001b[0m\n\u001b[1;32m    470\u001b[0m \u001b[38;5;66;03m# LOANDRA SUPPORT - EXPORT FILE \u001b[39;00m\n\u001b[1;32m    471\u001b[0m wcnf\u001b[38;5;241m.\u001b[39mto_file(execution_path)\n\u001b[0;32m--> 472\u001b[0m solution,cost \u001b[38;5;241m=\u001b[39m \u001b[43mrun_loandra_and_parse_results\u001b[49m\u001b[43m(\u001b[49m\u001b[43mloandra_path\u001b[49m\u001b[43m,\u001b[49m\u001b[43m \u001b[49m\u001b[43mexecution_path\u001b[49m\u001b[43m)\u001b[49m\n\u001b[1;32m    473\u001b[0m solution \u001b[38;5;241m=\u001b[39m transform_tree_from_loandra(solution, literals, TL, tree, labels,features,dataset)\n\u001b[1;32m    476\u001b[0m \u001b[38;5;28;01mif\u001b[39;00m solution \u001b[38;5;241m!=\u001b[39m \u001b[38;5;124m\"\u001b[39m\u001b[38;5;124mNo solution exists\u001b[39m\u001b[38;5;124m\"\u001b[39m:\n",
      "File \u001b[0;32m~/Desktop/ESC499-THESIS/ESC499-Thesis-SAT-Trees/SATreeCraft/loandra_support/loandra.py:43\u001b[0m, in \u001b[0;36mrun_loandra_and_parse_results\u001b[0;34m(loandra_path, execution_path)\u001b[0m\n\u001b[1;32m     40\u001b[0m full_execution_path \u001b[38;5;241m=\u001b[39m os\u001b[38;5;241m.\u001b[39mpath\u001b[38;5;241m.\u001b[39mabspath(execution_path)\n\u001b[1;32m     42\u001b[0m \u001b[38;5;66;03m# Run the Loandra command with absolute paths\u001b[39;00m\n\u001b[0;32m---> 43\u001b[0m result \u001b[38;5;241m=\u001b[39m \u001b[43msubprocess\u001b[49m\u001b[38;5;241;43m.\u001b[39;49m\u001b[43mrun\u001b[49m\u001b[43m(\u001b[49m\u001b[43m[\u001b[49m\u001b[43mloandra_executable\u001b[49m\u001b[43m,\u001b[49m\u001b[43m \u001b[49m\u001b[43mfull_execution_path\u001b[49m\u001b[43m,\u001b[49m\u001b[43m \u001b[49m\u001b[38;5;124;43m\"\u001b[39;49m\u001b[38;5;124;43m-print-model\u001b[39;49m\u001b[38;5;124;43m\"\u001b[39;49m\u001b[43m]\u001b[49m\u001b[43m,\u001b[49m\u001b[43m \u001b[49m\n\u001b[1;32m     44\u001b[0m \u001b[43m                        \u001b[49m\u001b[43mstdout\u001b[49m\u001b[38;5;241;43m=\u001b[39;49m\u001b[43msubprocess\u001b[49m\u001b[38;5;241;43m.\u001b[39;49m\u001b[43mPIPE\u001b[49m\u001b[43m,\u001b[49m\u001b[43m \u001b[49m\u001b[43mstderr\u001b[49m\u001b[38;5;241;43m=\u001b[39;49m\u001b[43msubprocess\u001b[49m\u001b[38;5;241;43m.\u001b[39;49m\u001b[43mPIPE\u001b[49m\u001b[43m,\u001b[49m\u001b[43m \u001b[49m\u001b[43mtext\u001b[49m\u001b[38;5;241;43m=\u001b[39;49m\u001b[38;5;28;43;01mTrue\u001b[39;49;00m\u001b[43m)\u001b[49m\n\u001b[1;32m     46\u001b[0m \u001b[38;5;66;03m# Process result\u001b[39;00m\n\u001b[1;32m     47\u001b[0m output \u001b[38;5;241m=\u001b[39m result\u001b[38;5;241m.\u001b[39mstdout\u001b[38;5;241m.\u001b[39msplitlines()\n",
      "File \u001b[0;32m/Library/Frameworks/Python.framework/Versions/3.9/lib/python3.9/subprocess.py:507\u001b[0m, in \u001b[0;36mrun\u001b[0;34m(input, capture_output, timeout, check, *popenargs, **kwargs)\u001b[0m\n\u001b[1;32m    505\u001b[0m \u001b[38;5;28;01mwith\u001b[39;00m Popen(\u001b[38;5;241m*\u001b[39mpopenargs, \u001b[38;5;241m*\u001b[39m\u001b[38;5;241m*\u001b[39mkwargs) \u001b[38;5;28;01mas\u001b[39;00m process:\n\u001b[1;32m    506\u001b[0m     \u001b[38;5;28;01mtry\u001b[39;00m:\n\u001b[0;32m--> 507\u001b[0m         stdout, stderr \u001b[38;5;241m=\u001b[39m \u001b[43mprocess\u001b[49m\u001b[38;5;241;43m.\u001b[39;49m\u001b[43mcommunicate\u001b[49m\u001b[43m(\u001b[49m\u001b[38;5;28;43minput\u001b[39;49m\u001b[43m,\u001b[49m\u001b[43m \u001b[49m\u001b[43mtimeout\u001b[49m\u001b[38;5;241;43m=\u001b[39;49m\u001b[43mtimeout\u001b[49m\u001b[43m)\u001b[49m\n\u001b[1;32m    508\u001b[0m     \u001b[38;5;28;01mexcept\u001b[39;00m TimeoutExpired \u001b[38;5;28;01mas\u001b[39;00m exc:\n\u001b[1;32m    509\u001b[0m         process\u001b[38;5;241m.\u001b[39mkill()\n",
      "File \u001b[0;32m/Library/Frameworks/Python.framework/Versions/3.9/lib/python3.9/subprocess.py:1134\u001b[0m, in \u001b[0;36mPopen.communicate\u001b[0;34m(self, input, timeout)\u001b[0m\n\u001b[1;32m   1131\u001b[0m     endtime \u001b[38;5;241m=\u001b[39m \u001b[38;5;28;01mNone\u001b[39;00m\n\u001b[1;32m   1133\u001b[0m \u001b[38;5;28;01mtry\u001b[39;00m:\n\u001b[0;32m-> 1134\u001b[0m     stdout, stderr \u001b[38;5;241m=\u001b[39m \u001b[38;5;28;43mself\u001b[39;49m\u001b[38;5;241;43m.\u001b[39;49m\u001b[43m_communicate\u001b[49m\u001b[43m(\u001b[49m\u001b[38;5;28;43minput\u001b[39;49m\u001b[43m,\u001b[49m\u001b[43m \u001b[49m\u001b[43mendtime\u001b[49m\u001b[43m,\u001b[49m\u001b[43m \u001b[49m\u001b[43mtimeout\u001b[49m\u001b[43m)\u001b[49m\n\u001b[1;32m   1135\u001b[0m \u001b[38;5;28;01mexcept\u001b[39;00m \u001b[38;5;167;01mKeyboardInterrupt\u001b[39;00m:\n\u001b[1;32m   1136\u001b[0m     \u001b[38;5;66;03m# https://bugs.python.org/issue25942\u001b[39;00m\n\u001b[1;32m   1137\u001b[0m     \u001b[38;5;66;03m# See the detailed comment in .wait().\u001b[39;00m\n\u001b[1;32m   1138\u001b[0m     \u001b[38;5;28;01mif\u001b[39;00m timeout \u001b[38;5;129;01mis\u001b[39;00m \u001b[38;5;129;01mnot\u001b[39;00m \u001b[38;5;28;01mNone\u001b[39;00m:\n",
      "File \u001b[0;32m/Library/Frameworks/Python.framework/Versions/3.9/lib/python3.9/subprocess.py:1979\u001b[0m, in \u001b[0;36mPopen._communicate\u001b[0;34m(self, input, endtime, orig_timeout)\u001b[0m\n\u001b[1;32m   1972\u001b[0m     \u001b[38;5;28mself\u001b[39m\u001b[38;5;241m.\u001b[39m_check_timeout(endtime, orig_timeout,\n\u001b[1;32m   1973\u001b[0m                         stdout, stderr,\n\u001b[1;32m   1974\u001b[0m                         skip_check_and_raise\u001b[38;5;241m=\u001b[39m\u001b[38;5;28;01mTrue\u001b[39;00m)\n\u001b[1;32m   1975\u001b[0m     \u001b[38;5;28;01mraise\u001b[39;00m \u001b[38;5;167;01mRuntimeError\u001b[39;00m(  \u001b[38;5;66;03m# Impossible :)\u001b[39;00m\n\u001b[1;32m   1976\u001b[0m         \u001b[38;5;124m'\u001b[39m\u001b[38;5;124m_check_timeout(..., skip_check_and_raise=True) \u001b[39m\u001b[38;5;124m'\u001b[39m\n\u001b[1;32m   1977\u001b[0m         \u001b[38;5;124m'\u001b[39m\u001b[38;5;124mfailed to raise TimeoutExpired.\u001b[39m\u001b[38;5;124m'\u001b[39m)\n\u001b[0;32m-> 1979\u001b[0m ready \u001b[38;5;241m=\u001b[39m \u001b[43mselector\u001b[49m\u001b[38;5;241;43m.\u001b[39;49m\u001b[43mselect\u001b[49m\u001b[43m(\u001b[49m\u001b[43mtimeout\u001b[49m\u001b[43m)\u001b[49m\n\u001b[1;32m   1980\u001b[0m \u001b[38;5;28mself\u001b[39m\u001b[38;5;241m.\u001b[39m_check_timeout(endtime, orig_timeout, stdout, stderr)\n\u001b[1;32m   1982\u001b[0m \u001b[38;5;66;03m# XXX Rewrite these to use non-blocking I/O on the file\u001b[39;00m\n\u001b[1;32m   1983\u001b[0m \u001b[38;5;66;03m# objects; they are no longer using C stdio!\u001b[39;00m\n",
      "File \u001b[0;32m/Library/Frameworks/Python.framework/Versions/3.9/lib/python3.9/selectors.py:416\u001b[0m, in \u001b[0;36m_PollLikeSelector.select\u001b[0;34m(self, timeout)\u001b[0m\n\u001b[1;32m    414\u001b[0m ready \u001b[38;5;241m=\u001b[39m []\n\u001b[1;32m    415\u001b[0m \u001b[38;5;28;01mtry\u001b[39;00m:\n\u001b[0;32m--> 416\u001b[0m     fd_event_list \u001b[38;5;241m=\u001b[39m \u001b[38;5;28;43mself\u001b[39;49m\u001b[38;5;241;43m.\u001b[39;49m\u001b[43m_selector\u001b[49m\u001b[38;5;241;43m.\u001b[39;49m\u001b[43mpoll\u001b[49m\u001b[43m(\u001b[49m\u001b[43mtimeout\u001b[49m\u001b[43m)\u001b[49m\n\u001b[1;32m    417\u001b[0m \u001b[38;5;28;01mexcept\u001b[39;00m \u001b[38;5;167;01mInterruptedError\u001b[39;00m:\n\u001b[1;32m    418\u001b[0m     \u001b[38;5;28;01mreturn\u001b[39;00m ready\n",
      "\u001b[0;31mKeyboardInterrupt\u001b[0m: "
     ]
    }
   ],
   "source": [
    "import time\n",
    "loandra_path = '/Users/harisrasul/Desktop/loandra'\n",
    "k = 5\n",
    "depths = [2,3,4]\n",
    "# depths = [3,4]\n",
    "# Iterate through each combination of depth\n",
    "for depth in depths:\n",
    "    # Capture the start time\n",
    "    start_time = time.time()\n",
    "\n",
    "    # Execute the k-fold tester\n",
    "    accuracies, mean_score = k_fold_tester_loandra(loandra_path=loandra_path,\n",
    "                                                    k=k, depth=depth, dataset=dataset, \n",
    "                                                    true_labels_for_points=true_labels_for_points, \n",
    "                                                    labels=labels, features=features, \n",
    "                                                    min_support_level= 0,\n",
    "                                                    complete_tree= False)\n",
    "    # Capture the end time\n",
    "    end_time = time.time()\n",
    "\n",
    "    # Calculate the duration\n",
    "    duration = end_time - start_time\n",
    "\n",
    "    # Print or log the results including the time taken\n",
    "    print(f\"Oblivious Depth: {depth}, Time Taken: {duration:.2f} seconds\")\n",
    "    print(f\"Accuracies: {accuracies}\")\n",
    "    print(f\"Mean Score: {mean_score}\\n\")\n"
   ]
  },
  {
   "cell_type": "code",
   "execution_count": 19,
   "metadata": {},
   "outputs": [
    {
     "name": "stdout",
     "output_type": "stream",
     "text": [
      "Features: ['0' '1' '2' '3'] (4,)\n",
      "Labels: [0 1 2] (3,)\n",
      "True Labels for Points: [0 0 0 0 0 0 0 0 0 0 0 0 0 0 0 0 0 0 0 0 0 0 0 0 0 0 0 0 0 0 0 0 0 0 0 0 0\n",
      " 0 0 0 0 0 0 0 0 0 0 0 0 0 1 1 1 1 1 1 1 1 1 1 1 1 1 1 1 1 1 1 1 1 1 1 1 1\n",
      " 1 1 1 1 1 1 1 1 1 1 1 1 1 1 1 1 1 1 1 1 1 1 1 1 1 1 2 2 2 2 2 2 2 2 2 2 2\n",
      " 2 2 2 2 2 2 2 2 2 2 2 2 2 2 2 2 2 2 2 2 2 2 2 2 2 2 2 2 2 2 2 2 2 2 2 2 2\n",
      " 2 2] (150,)\n",
      "Dataset:\n",
      " [[5.1 3.5 1.4 0.2]\n",
      " [4.9 3.  1.4 0.2]\n",
      " [4.7 3.2 1.3 0.2]\n",
      " [4.6 3.1 1.5 0.2]\n",
      " [5.  3.6 1.4 0.2]\n",
      " [5.4 3.9 1.7 0.4]\n",
      " [4.6 3.4 1.4 0.3]\n",
      " [5.  3.4 1.5 0.2]\n",
      " [4.4 2.9 1.4 0.2]\n",
      " [4.9 3.1 1.5 0.1]\n",
      " [5.4 3.7 1.5 0.2]\n",
      " [4.8 3.4 1.6 0.2]\n",
      " [4.8 3.  1.4 0.1]\n",
      " [4.3 3.  1.1 0.1]\n",
      " [5.8 4.  1.2 0.2]\n",
      " [5.7 4.4 1.5 0.4]\n",
      " [5.4 3.9 1.3 0.4]\n",
      " [5.1 3.5 1.4 0.3]\n",
      " [5.7 3.8 1.7 0.3]\n",
      " [5.1 3.8 1.5 0.3]\n",
      " [5.4 3.4 1.7 0.2]\n",
      " [5.1 3.7 1.5 0.4]\n",
      " [4.6 3.6 1.  0.2]\n",
      " [5.1 3.3 1.7 0.5]\n",
      " [4.8 3.4 1.9 0.2]\n",
      " [5.  3.  1.6 0.2]\n",
      " [5.  3.4 1.6 0.4]\n",
      " [5.2 3.5 1.5 0.2]\n",
      " [5.2 3.4 1.4 0.2]\n",
      " [4.7 3.2 1.6 0.2]\n",
      " [4.8 3.1 1.6 0.2]\n",
      " [5.4 3.4 1.5 0.4]\n",
      " [5.2 4.1 1.5 0.1]\n",
      " [5.5 4.2 1.4 0.2]\n",
      " [4.9 3.1 1.5 0.1]\n",
      " [5.  3.2 1.2 0.2]\n",
      " [5.5 3.5 1.3 0.2]\n",
      " [4.9 3.1 1.5 0.1]\n",
      " [4.4 3.  1.3 0.2]\n",
      " [5.1 3.4 1.5 0.2]\n",
      " [5.  3.5 1.3 0.3]\n",
      " [4.5 2.3 1.3 0.3]\n",
      " [4.4 3.2 1.3 0.2]\n",
      " [5.  3.5 1.6 0.6]\n",
      " [5.1 3.8 1.9 0.4]\n",
      " [4.8 3.  1.4 0.3]\n",
      " [5.1 3.8 1.6 0.2]\n",
      " [4.6 3.2 1.4 0.2]\n",
      " [5.3 3.7 1.5 0.2]\n",
      " [5.  3.3 1.4 0.2]\n",
      " [7.  3.2 4.7 1.4]\n",
      " [6.4 3.2 4.5 1.5]\n",
      " [6.9 3.1 4.9 1.5]\n",
      " [5.5 2.3 4.  1.3]\n",
      " [6.5 2.8 4.6 1.5]\n",
      " [5.7 2.8 4.5 1.3]\n",
      " [6.3 3.3 4.7 1.6]\n",
      " [4.9 2.4 3.3 1. ]\n",
      " [6.6 2.9 4.6 1.3]\n",
      " [5.2 2.7 3.9 1.4]\n",
      " [5.  2.  3.5 1. ]\n",
      " [5.9 3.  4.2 1.5]\n",
      " [6.  2.2 4.  1. ]\n",
      " [6.1 2.9 4.7 1.4]\n",
      " [5.6 2.9 3.6 1.3]\n",
      " [6.7 3.1 4.4 1.4]\n",
      " [5.6 3.  4.5 1.5]\n",
      " [5.8 2.7 4.1 1. ]\n",
      " [6.2 2.2 4.5 1.5]\n",
      " [5.6 2.5 3.9 1.1]\n",
      " [5.9 3.2 4.8 1.8]\n",
      " [6.1 2.8 4.  1.3]\n",
      " [6.3 2.5 4.9 1.5]\n",
      " [6.1 2.8 4.7 1.2]\n",
      " [6.4 2.9 4.3 1.3]\n",
      " [6.6 3.  4.4 1.4]\n",
      " [6.8 2.8 4.8 1.4]\n",
      " [6.7 3.  5.  1.7]\n",
      " [6.  2.9 4.5 1.5]\n",
      " [5.7 2.6 3.5 1. ]\n",
      " [5.5 2.4 3.8 1.1]\n",
      " [5.5 2.4 3.7 1. ]\n",
      " [5.8 2.7 3.9 1.2]\n",
      " [6.  2.7 5.1 1.6]\n",
      " [5.4 3.  4.5 1.5]\n",
      " [6.  3.4 4.5 1.6]\n",
      " [6.7 3.1 4.7 1.5]\n",
      " [6.3 2.3 4.4 1.3]\n",
      " [5.6 3.  4.1 1.3]\n",
      " [5.5 2.5 4.  1.3]\n",
      " [5.5 2.6 4.4 1.2]\n",
      " [6.1 3.  4.6 1.4]\n",
      " [5.8 2.6 4.  1.2]\n",
      " [5.  2.3 3.3 1. ]\n",
      " [5.6 2.7 4.2 1.3]\n",
      " [5.7 3.  4.2 1.2]\n",
      " [5.7 2.9 4.2 1.3]\n",
      " [6.2 2.9 4.3 1.3]\n",
      " [5.1 2.5 3.  1.1]\n",
      " [5.7 2.8 4.1 1.3]\n",
      " [6.3 3.3 6.  2.5]\n",
      " [5.8 2.7 5.1 1.9]\n",
      " [7.1 3.  5.9 2.1]\n",
      " [6.3 2.9 5.6 1.8]\n",
      " [6.5 3.  5.8 2.2]\n",
      " [7.6 3.  6.6 2.1]\n",
      " [4.9 2.5 4.5 1.7]\n",
      " [7.3 2.9 6.3 1.8]\n",
      " [6.7 2.5 5.8 1.8]\n",
      " [7.2 3.6 6.1 2.5]\n",
      " [6.5 3.2 5.1 2. ]\n",
      " [6.4 2.7 5.3 1.9]\n",
      " [6.8 3.  5.5 2.1]\n",
      " [5.7 2.5 5.  2. ]\n",
      " [5.8 2.8 5.1 2.4]\n",
      " [6.4 3.2 5.3 2.3]\n",
      " [6.5 3.  5.5 1.8]\n",
      " [7.7 3.8 6.7 2.2]\n",
      " [7.7 2.6 6.9 2.3]\n",
      " [6.  2.2 5.  1.5]\n",
      " [6.9 3.2 5.7 2.3]\n",
      " [5.6 2.8 4.9 2. ]\n",
      " [7.7 2.8 6.7 2. ]\n",
      " [6.3 2.7 4.9 1.8]\n",
      " [6.7 3.3 5.7 2.1]\n",
      " [7.2 3.2 6.  1.8]\n",
      " [6.2 2.8 4.8 1.8]\n",
      " [6.1 3.  4.9 1.8]\n",
      " [6.4 2.8 5.6 2.1]\n",
      " [7.2 3.  5.8 1.6]\n",
      " [7.4 2.8 6.1 1.9]\n",
      " [7.9 3.8 6.4 2. ]\n",
      " [6.4 2.8 5.6 2.2]\n",
      " [6.3 2.8 5.1 1.5]\n",
      " [6.1 2.6 5.6 1.4]\n",
      " [7.7 3.  6.1 2.3]\n",
      " [6.3 3.4 5.6 2.4]\n",
      " [6.4 3.1 5.5 1.8]\n",
      " [6.  3.  4.8 1.8]\n",
      " [6.9 3.1 5.4 2.1]\n",
      " [6.7 3.1 5.6 2.4]\n",
      " [6.9 3.1 5.1 2.3]\n",
      " [5.8 2.7 5.1 1.9]\n",
      " [6.8 3.2 5.9 2.3]\n",
      " [6.7 3.3 5.7 2.5]\n",
      " [6.7 3.  5.2 2.3]\n",
      " [6.3 2.5 5.  1.9]\n",
      " [6.5 3.  5.2 2. ]\n",
      " [6.2 3.4 5.4 2.3]\n",
      " [5.9 3.  5.1 1.8]] (150, 4)\n"
     ]
    }
   ],
   "source": [
    "file_path_to_test = 'Datasets/iris/iris.data'\n",
    "label_position = -1 \n",
    "delimiter = ','\n",
    "data_loader = TreeDataLoaderBinaryNumerical(file_path=file_path_to_test, delimiter=delimiter, label_position= label_position)\n",
    "print(\"Features:\", data_loader.features, data_loader.features.shape)\n",
    "print(\"Labels:\", data_loader.labels, data_loader.labels.shape)\n",
    "print(\"True Labels for Points:\", data_loader.true_labels_for_points, data_loader.true_labels_for_points.shape)\n",
    "print(\"Dataset:\\n\", data_loader.dataset,data_loader.dataset.shape)\n",
    "features = data_loader.features\n",
    "labels = data_loader.labels\n",
    "true_labels_for_points = data_loader.true_labels_for_points\n",
    "dataset = data_loader.dataset"
   ]
  },
  {
   "cell_type": "code",
   "execution_count": 20,
   "metadata": {},
   "outputs": [
    {
     "name": "stdout",
     "output_type": "stream",
     "text": [
      "Iteration complete\n",
      "Iteration complete\n",
      "Iteration complete\n",
      "Iteration complete\n",
      "Iteration complete\n",
      "Oblivious Depth: 2, Time Taken: 2.37 seconds\n",
      "Accuracies: [0.96666667 0.86666667 1.         0.9        0.9       ]\n",
      "Mean Score: 0.9266666666666667\n",
      "\n",
      "Iteration complete\n",
      "Iteration complete\n",
      "Iteration complete\n",
      "Iteration complete\n",
      "Iteration complete\n",
      "Oblivious Depth: 3, Time Taken: 2.08 seconds\n",
      "Accuracies: [0.96666667 0.96666667 0.93333333 0.93333333 0.96666667]\n",
      "Mean Score: 0.9533333333333334\n",
      "\n",
      "Iteration complete\n",
      "Iteration complete\n",
      "Iteration complete\n",
      "Iteration complete\n",
      "Iteration complete\n",
      "Oblivious Depth: 4, Time Taken: 3.92 seconds\n",
      "Accuracies: [1.         0.96666667 0.86666667 0.93333333 0.93333333]\n",
      "Mean Score: 0.9400000000000001\n",
      "\n"
     ]
    }
   ],
   "source": [
    "import time\n",
    "loandra_path = '/Users/harisrasul/Desktop/loandra'\n",
    "k = 5\n",
    "depths = [2,3,4]\n",
    "# depths = [3,4]\n",
    "# Iterate through each combination of depth\n",
    "for depth in depths:\n",
    "    # Capture the start time\n",
    "    start_time = time.time()\n",
    "\n",
    "    # Execute the k-fold tester\n",
    "    accuracies, mean_score = k_fold_tester_loandra(loandra_path=loandra_path,\n",
    "                                                    k=k, depth=depth, dataset=dataset, \n",
    "                                                    true_labels_for_points=true_labels_for_points, \n",
    "                                                    labels=labels, features=features, \n",
    "                                                    min_support_level= 0,\n",
    "                                                    complete_tree= False)\n",
    "    # Capture the end time\n",
    "    end_time = time.time()\n",
    "\n",
    "    # Calculate the duration\n",
    "    duration = end_time - start_time\n",
    "\n",
    "    # Print or log the results including the time taken\n",
    "    print(f\"Oblivious Depth: {depth}, Time Taken: {duration:.2f} seconds\")\n",
    "    print(f\"Accuracies: {accuracies}\")\n",
    "    print(f\"Mean Score: {mean_score}\\n\")\n"
   ]
  },
  {
   "cell_type": "code",
   "execution_count": 21,
   "metadata": {},
   "outputs": [
    {
     "name": "stdout",
     "output_type": "stream",
     "text": [
      "Features: ['0' '1' '2' '3' '4'] (5,)\n",
      "Labels: [0 1 2 3] (4,)\n",
      "True Labels for Points: [3 0 1 2 1 2 2 3 1 0 0 1 2 0 2 0 3 1 1 2 1 2 2 1 1 0 3 1 0 0 2 1 1 0 0 1 1\n",
      " 1 3 2 1 0 2 2 3 2 2 0 0 2 1 2 1 0 2 1 2 2 0 1 1 2 2 1 2 3 3 2 1 2 2 0 3 2\n",
      " 0 3 1 1 3 1 1 2 2 1 1 3 0 1 1 2 2 2 3 1 0 1 1 0 2 1 1 0 2 1 1 2 2 2 2 0 1\n",
      " 1 0 0 2 2 3 0 2 0 1 1 1 2 0 0 0 1 1 2 1 2 3 0 2 2 1 1 2 1 3 2 2 1 2 0 1 3\n",
      " 1 0 0 1 3 1 2 2 2 0 2 2 1 2 0 0 3 0 2 0 1 0 1 2 0 1 2 1 1 0 2 0 1 0 0 1 1\n",
      " 1 0 2 1 0 2 0 2 0 2 1 3 1 2 3 3 2 3 1 0 1 2 2 3 0 2 2 0 2 2 1 1 0 2 1 1 2\n",
      " 2 2 1 0 2 1 0 0 2 1 1 0 2 1 1 0 2 2 1 0 2 1 2 0 2 1 0 2 2 2 1 0 2 0 2 0] (258,)\n",
      "Dataset:\n",
      " [[0.   0.   0.   0.   0.  ]\n",
      " [0.08 0.08 0.1  0.24 0.9 ]\n",
      " [0.06 0.06 0.05 0.25 0.33]\n",
      " ...\n",
      " [0.54 0.82 0.71 0.29 0.77]\n",
      " [0.5  0.75 0.81 0.61 0.26]\n",
      " [0.66 0.9  0.76 0.87 0.74]] (258, 5)\n"
     ]
    }
   ],
   "source": [
    "file_path_to_test = 'Datasets/Data_User_Modeling_Dataset_Hamdi_Tolga_KAHRAMAN.xls'\n",
    "delimiter = ','\n",
    "label_position = -1 \n",
    "data_loader = TreeDataLoaderBinaryNumerical(file_path=file_path_to_test, delimiter=delimiter, label_position= label_position)\n",
    "print(\"Features:\", data_loader.features, data_loader.features.shape)\n",
    "print(\"Labels:\", data_loader.labels, data_loader.labels.shape)\n",
    "print(\"True Labels for Points:\", data_loader.true_labels_for_points, data_loader.true_labels_for_points.shape)\n",
    "print(\"Dataset:\\n\", data_loader.dataset,data_loader.dataset.shape)\n",
    "features = data_loader.features\n",
    "labels = data_loader.labels\n",
    "true_labels_for_points = data_loader.true_labels_for_points\n",
    "dataset = data_loader.dataset"
   ]
  },
  {
   "cell_type": "code",
   "execution_count": 22,
   "metadata": {},
   "outputs": [
    {
     "name": "stdout",
     "output_type": "stream",
     "text": [
      "Iteration complete\n",
      "Iteration complete\n",
      "Iteration complete\n",
      "Iteration complete\n",
      "Iteration complete\n",
      "Oblivious Depth: 2, Time Taken: 4.02 seconds\n",
      "Accuracies: [0.76923077 0.90384615 0.84615385 0.8627451  0.90196078]\n",
      "Mean Score: 0.856787330316742\n",
      "\n",
      "Iteration complete\n",
      "Iteration complete\n",
      "Iteration complete\n",
      "Iteration complete\n",
      "Iteration complete\n",
      "Oblivious Depth: 3, Time Taken: 10.71 seconds\n",
      "Accuracies: [0.90384615 0.92307692 0.90384615 0.92156863 0.90196078]\n",
      "Mean Score: 0.9108597285067873\n",
      "\n",
      "Iteration complete\n",
      "Iteration complete\n",
      "Iteration complete\n",
      "Iteration complete\n",
      "Iteration complete\n",
      "Oblivious Depth: 4, Time Taken: 32.35 seconds\n",
      "Accuracies: [0.88461538 0.90384615 0.94230769 0.96078431 0.94117647]\n",
      "Mean Score: 0.9265460030165913\n",
      "\n"
     ]
    }
   ],
   "source": [
    "import time\n",
    "loandra_path = '/Users/harisrasul/Desktop/loandra'\n",
    "k = 5\n",
    "depths = [2,3,4]\n",
    "# depths = [3,4]\n",
    "# Iterate through each combination of depth\n",
    "for depth in depths:\n",
    "    # Capture the start time\n",
    "    start_time = time.time()\n",
    "\n",
    "    # Execute the k-fold tester\n",
    "    accuracies, mean_score = k_fold_tester_loandra(loandra_path=loandra_path,\n",
    "                                                    k=k, depth=depth, dataset=dataset, \n",
    "                                                    true_labels_for_points=true_labels_for_points, \n",
    "                                                    labels=labels, features=features, \n",
    "                                                    min_support_level= 0,\n",
    "                                                    complete_tree= False)\n",
    "    # Capture the end time\n",
    "    end_time = time.time()\n",
    "\n",
    "    # Calculate the duration\n",
    "    duration = end_time - start_time\n",
    "\n",
    "    # Print or log the results including the time taken\n",
    "    print(f\"Oblivious Depth: {depth}, Time Taken: {duration:.2f} seconds\")\n",
    "    print(f\"Accuracies: {accuracies}\")\n",
    "    print(f\"Mean Score: {mean_score}\\n\")\n"
   ]
  },
  {
   "cell_type": "code",
   "execution_count": 23,
   "metadata": {},
   "outputs": [
    {
     "name": "stdout",
     "output_type": "stream",
     "text": [
      "Features: ['0' '1' '2' '3' '4' '5'] (6,)\n",
      "Labels: [0 1] (2,)\n",
      "True Labels for Points: [0 0 0 0 0 0 0 0 0 0 0 0 0 0 0 0 0 0 0 0 0 0 0 0 0 0 0 0 0 0 0 0 0 0 0 0 0\n",
      " 0 0 0 0 0 0 0 0 0 0 0 0 0 0 0 0 0 0 0 0 0 0 0 0 0 0 0 0 0 0 0 0 0 0 0 0 0\n",
      " 0 0 0 0 0 0 0 0 0 0 0 0 0 0 0 0 0 0 0 0 0 0 0 0 0 0 0 0 0 0 0 0 0 0 0 0 0\n",
      " 0 0 0 0 0 0 0 0 0 0 0 0 0 0 0 0 0 0 0 0 0 0 0 0 0 0 0 0 0 0 0 0 0 0 0 0 0\n",
      " 0 0 0 0 0 0 0 0 0 0 0 0 0 0 0 0 0 0 0 0 0 0 0 0 0 0 0 0 0 0 0 0 0 0 0 0 0\n",
      " 0 0 0 0 0 0 0 0 0 0 0 0 0 0 0 0 0 0 0 0 0 0 0 0 0 1 1 1 1 1 1 1 1 1 1 1 1\n",
      " 1 1 1 1 1 1 1 1 1 1 1 1 1 1 1 1 1 1 1 1 1 1 1 1 1 1 1 1 1 1 1 1 1 1 1 1 1\n",
      " 1 1 1 1 1 1 1 1 1 1 1 1 1 1 1 1 1 1 1 1 1 1 1 1 1 1 1 1 1 1 1 1 1 1 1 1 1\n",
      " 1 1 1 1 1 1 1 1 1 1 1 1 1 1] (310,)\n",
      "Dataset:\n",
      " [[ 63.0278175   22.55258597  39.60911701  40.47523153  98.67291675\n",
      "   -0.25439999]\n",
      " [ 39.05695098  10.06099147  25.01537822  28.99595951 114.4054254\n",
      "    4.56425864]\n",
      " [ 68.83202098  22.21848205  50.09219357  46.61353893 105.9851355\n",
      "   -3.53031731]\n",
      " ...\n",
      " [ 61.44659663  22.6949683   46.17034732  38.75162833 125.6707246\n",
      "   -2.70787952]\n",
      " [ 45.25279209   8.69315736  41.5831264   36.55963472 118.5458418\n",
      "    0.21475017]\n",
      " [ 33.84164075   5.07399141  36.64123294  28.76764934 123.9452436\n",
      "   -0.19924909]] (310, 6)\n"
     ]
    }
   ],
   "source": [
    "file_path_to_test = 'Datasets/vertebral+column/verbex.data'\n",
    "delimiter = ','\n",
    "label_position = -1 \n",
    "data_loader = TreeDataLoaderBinaryNumerical(file_path=file_path_to_test, delimiter=delimiter, label_position= label_position)\n",
    "print(\"Features:\", data_loader.features, data_loader.features.shape)\n",
    "print(\"Labels:\", data_loader.labels, data_loader.labels.shape)\n",
    "print(\"True Labels for Points:\", data_loader.true_labels_for_points, data_loader.true_labels_for_points.shape)\n",
    "print(\"Dataset:\\n\", data_loader.dataset,data_loader.dataset.shape)\n",
    "features = data_loader.features\n",
    "labels = data_loader.labels\n",
    "true_labels_for_points = data_loader.true_labels_for_points\n",
    "dataset = data_loader.dataset"
   ]
  },
  {
   "cell_type": "code",
   "execution_count": 24,
   "metadata": {},
   "outputs": [
    {
     "name": "stdout",
     "output_type": "stream",
     "text": [
      "Iteration complete\n",
      "Iteration complete\n",
      "Iteration complete\n",
      "Iteration complete\n",
      "Iteration complete\n",
      "Oblivious Depth: 2, Time Taken: 12.61 seconds\n",
      "Accuracies: [0.77419355 0.82258065 0.75806452 0.82258065 0.82258065]\n",
      "Mean Score: 0.8\n",
      "\n",
      "Iteration complete\n",
      "Iteration complete\n",
      "Iteration complete\n",
      "Iteration complete\n",
      "Iteration complete\n",
      "Oblivious Depth: 3, Time Taken: 3392.52 seconds\n",
      "Accuracies: [0.77419355 0.80645161 0.79032258 0.85483871 0.79032258]\n",
      "Mean Score: 0.803225806451613\n",
      "\n"
     ]
    },
    {
     "ename": "KeyboardInterrupt",
     "evalue": "",
     "output_type": "error",
     "traceback": [
      "\u001b[0;31m---------------------------------------------------------------------------\u001b[0m",
      "\u001b[0;31mKeyboardInterrupt\u001b[0m                         Traceback (most recent call last)",
      "Input \u001b[0;32mIn [24]\u001b[0m, in \u001b[0;36m<cell line: 7>\u001b[0;34m()\u001b[0m\n\u001b[1;32m      9\u001b[0m start_time \u001b[38;5;241m=\u001b[39m time\u001b[38;5;241m.\u001b[39mtime()\n\u001b[1;32m     11\u001b[0m \u001b[38;5;66;03m# Execute the k-fold tester\u001b[39;00m\n\u001b[0;32m---> 12\u001b[0m accuracies, mean_score \u001b[38;5;241m=\u001b[39m \u001b[43mk_fold_tester_loandra\u001b[49m\u001b[43m(\u001b[49m\u001b[43mloandra_path\u001b[49m\u001b[38;5;241;43m=\u001b[39;49m\u001b[43mloandra_path\u001b[49m\u001b[43m,\u001b[49m\n\u001b[1;32m     13\u001b[0m \u001b[43m                                                \u001b[49m\u001b[43mk\u001b[49m\u001b[38;5;241;43m=\u001b[39;49m\u001b[43mk\u001b[49m\u001b[43m,\u001b[49m\u001b[43m \u001b[49m\u001b[43mdepth\u001b[49m\u001b[38;5;241;43m=\u001b[39;49m\u001b[43mdepth\u001b[49m\u001b[43m,\u001b[49m\u001b[43m \u001b[49m\u001b[43mdataset\u001b[49m\u001b[38;5;241;43m=\u001b[39;49m\u001b[43mdataset\u001b[49m\u001b[43m,\u001b[49m\u001b[43m \u001b[49m\n\u001b[1;32m     14\u001b[0m \u001b[43m                                                \u001b[49m\u001b[43mtrue_labels_for_points\u001b[49m\u001b[38;5;241;43m=\u001b[39;49m\u001b[43mtrue_labels_for_points\u001b[49m\u001b[43m,\u001b[49m\u001b[43m \u001b[49m\n\u001b[1;32m     15\u001b[0m \u001b[43m                                                \u001b[49m\u001b[43mlabels\u001b[49m\u001b[38;5;241;43m=\u001b[39;49m\u001b[43mlabels\u001b[49m\u001b[43m,\u001b[49m\u001b[43m \u001b[49m\u001b[43mfeatures\u001b[49m\u001b[38;5;241;43m=\u001b[39;49m\u001b[43mfeatures\u001b[49m\u001b[43m,\u001b[49m\u001b[43m \u001b[49m\n\u001b[1;32m     16\u001b[0m \u001b[43m                                                \u001b[49m\u001b[43mmin_support_level\u001b[49m\u001b[38;5;241;43m=\u001b[39;49m\u001b[43m \u001b[49m\u001b[38;5;241;43m0\u001b[39;49m\u001b[43m,\u001b[49m\n\u001b[1;32m     17\u001b[0m \u001b[43m                                                \u001b[49m\u001b[43mcomplete_tree\u001b[49m\u001b[38;5;241;43m=\u001b[39;49m\u001b[43m \u001b[49m\u001b[38;5;28;43;01mFalse\u001b[39;49;00m\u001b[43m)\u001b[49m\n\u001b[1;32m     18\u001b[0m \u001b[38;5;66;03m# Capture the end time\u001b[39;00m\n\u001b[1;32m     19\u001b[0m end_time \u001b[38;5;241m=\u001b[39m time\u001b[38;5;241m.\u001b[39mtime()\n",
      "File \u001b[0;32m~/Desktop/ESC499-THESIS/ESC499-Thesis-SAT-Trees/SATreeCraft/utils.py:361\u001b[0m, in \u001b[0;36mk_fold_tester_loandra\u001b[0;34m(loandra_path, k, depth, dataset, true_labels_for_points, labels, features, features_categorical, features_numerical, complete_tree, min_support_level, min_margin_level)\u001b[0m\n\u001b[1;32m    349\u001b[0m max_accuracy_problem \u001b[38;5;241m=\u001b[39m SATreeCraft(dataset\u001b[38;5;241m=\u001b[39mX_train,\n\u001b[1;32m    350\u001b[0m                                    features\u001b[38;5;241m=\u001b[39mfeatures,\n\u001b[1;32m    351\u001b[0m                                    labels\u001b[38;5;241m=\u001b[39mlabels,\n\u001b[0;32m   (...)\u001b[0m\n\u001b[1;32m    358\u001b[0m                                    min_margin\u001b[38;5;241m=\u001b[39m min_margin_level,\n\u001b[1;32m    359\u001b[0m                                    tree_structure\u001b[38;5;241m=\u001b[39m tree_structure)\n\u001b[1;32m    360\u001b[0m \u001b[38;5;66;03m# build model\u001b[39;00m\n\u001b[0;32m--> 361\u001b[0m \u001b[43mmax_accuracy_problem\u001b[49m\u001b[38;5;241;43m.\u001b[39;49m\u001b[43msolve_loandra\u001b[49m\u001b[43m(\u001b[49m\u001b[43mloandra_path\u001b[49m\u001b[43m)\u001b[49m\n\u001b[1;32m    362\u001b[0m model \u001b[38;5;241m=\u001b[39m SATreeClassifier(max_accuracy_problem\u001b[38;5;241m.\u001b[39mmodel)\n\u001b[1;32m    364\u001b[0m \u001b[38;5;66;03m# score model on test data\u001b[39;00m\n",
      "File \u001b[0;32m~/Desktop/ESC499-THESIS/ESC499-Thesis-SAT-Trees/SATreeCraft/SATreeCraft.py:677\u001b[0m, in \u001b[0;36mSATreeCraft.solve_loandra\u001b[0;34m(self, loandra_path, execution_path)\u001b[0m\n\u001b[1;32m    670\u001b[0m             \u001b[38;5;28mself\u001b[39m\u001b[38;5;241m.\u001b[39mmodel, \u001b[38;5;28mself\u001b[39m\u001b[38;5;241m.\u001b[39mfinal_literals, \u001b[38;5;28mself\u001b[39m\u001b[38;5;241m.\u001b[39mmin_depth,\u001b[38;5;28mself\u001b[39m\u001b[38;5;241m.\u001b[39msat_solution, \u001b[38;5;28mself\u001b[39m\u001b[38;5;241m.\u001b[39mfinal_cnf \u001b[38;5;241m=\u001b[39m \u001b[38;5;28mself\u001b[39m\u001b[38;5;241m.\u001b[39mfind_min_depth_tree_problem_loandra(\u001b[38;5;28mself\u001b[39m\u001b[38;5;241m.\u001b[39mfeatures, \n\u001b[1;32m    671\u001b[0m                                                                                                                   \u001b[38;5;28mself\u001b[39m\u001b[38;5;241m.\u001b[39mlabels, \n\u001b[1;32m    672\u001b[0m                                                                                                                   \u001b[38;5;28mself\u001b[39m\u001b[38;5;241m.\u001b[39mtrue_labels_for_points, \n\u001b[1;32m    673\u001b[0m                                                                                                                   \u001b[38;5;28mself\u001b[39m\u001b[38;5;241m.\u001b[39mdataset,\n\u001b[1;32m    674\u001b[0m                                                                                                                   loandra_path,\n\u001b[1;32m    675\u001b[0m                                                                                                                   execution_path)\n\u001b[1;32m    676\u001b[0m         \u001b[38;5;28;01melse\u001b[39;00m: \u001b[38;5;66;03m# max accuracy problem\u001b[39;00m\n\u001b[0;32m--> 677\u001b[0m             \u001b[38;5;28mself\u001b[39m\u001b[38;5;241m.\u001b[39mmodel, \u001b[38;5;28mself\u001b[39m\u001b[38;5;241m.\u001b[39mfinal_literals, \u001b[38;5;28mself\u001b[39m\u001b[38;5;241m.\u001b[39mfixed_depth, \u001b[38;5;28mself\u001b[39m\u001b[38;5;241m.\u001b[39msat_solution, \u001b[38;5;28mself\u001b[39m\u001b[38;5;241m.\u001b[39mmin_cost, \u001b[38;5;28mself\u001b[39m\u001b[38;5;241m.\u001b[39mfinal_cnf \u001b[38;5;241m=\u001b[39m \u001b[38;5;28;43mself\u001b[39;49m\u001b[38;5;241;43m.\u001b[39;49m\u001b[43mfind_fixed_depth_tree_problem_loandra\u001b[49m\u001b[43m(\u001b[49m\u001b[38;5;28;43mself\u001b[39;49m\u001b[38;5;241;43m.\u001b[39;49m\u001b[43mfeatures\u001b[49m\u001b[43m,\u001b[49m\u001b[43m \u001b[49m\n\u001b[1;32m    678\u001b[0m \u001b[43m                                                                                                       \u001b[49m\u001b[38;5;28;43mself\u001b[39;49m\u001b[38;5;241;43m.\u001b[39;49m\u001b[43mlabels\u001b[49m\u001b[43m,\u001b[49m\u001b[43m \u001b[49m\n\u001b[1;32m    679\u001b[0m \u001b[43m                                                                                                       \u001b[49m\u001b[38;5;28;43mself\u001b[39;49m\u001b[38;5;241;43m.\u001b[39;49m\u001b[43mtrue_labels_for_points\u001b[49m\u001b[43m,\u001b[49m\u001b[43m \u001b[49m\n\u001b[1;32m    680\u001b[0m \u001b[43m                                                                                                       \u001b[49m\u001b[38;5;28;43mself\u001b[39;49m\u001b[38;5;241;43m.\u001b[39;49m\u001b[43mdataset\u001b[49m\u001b[43m,\u001b[49m\n\u001b[1;32m    681\u001b[0m \u001b[43m                                                                                                       \u001b[49m\u001b[38;5;28;43mself\u001b[39;49m\u001b[38;5;241;43m.\u001b[39;49m\u001b[43mfixed_depth\u001b[49m\u001b[43m,\u001b[49m\n\u001b[1;32m    682\u001b[0m \u001b[43m                                                                                                       \u001b[49m\u001b[43mloandra_path\u001b[49m\u001b[43m,\u001b[49m\n\u001b[1;32m    683\u001b[0m \u001b[43m                                                                                                       \u001b[49m\u001b[43mexecution_path\u001b[49m\u001b[43m)\u001b[49m\n\u001b[1;32m    684\u001b[0m \u001b[38;5;28;01melse\u001b[39;00m:\n\u001b[1;32m    685\u001b[0m     max_clusters \u001b[38;5;241m=\u001b[39m \u001b[38;5;241m2\u001b[39m \u001b[38;5;241m*\u001b[39m\u001b[38;5;241m*\u001b[39m \u001b[38;5;28mself\u001b[39m\u001b[38;5;241m.\u001b[39mfixed_depth\n",
      "File \u001b[0;32m~/Desktop/ESC499-THESIS/ESC499-Thesis-SAT-Trees/SATreeCraft/SATreeCraft.py:472\u001b[0m, in \u001b[0;36mSATreeCraft.find_fixed_depth_tree_problem_loandra\u001b[0;34m(self, features, labels, true_labels_for_points, dataset, depth, loandra_path, execution_path)\u001b[0m\n\u001b[1;32m    470\u001b[0m \u001b[38;5;66;03m# LOANDRA SUPPORT - EXPORT FILE \u001b[39;00m\n\u001b[1;32m    471\u001b[0m wcnf\u001b[38;5;241m.\u001b[39mto_file(execution_path)\n\u001b[0;32m--> 472\u001b[0m solution,cost \u001b[38;5;241m=\u001b[39m \u001b[43mrun_loandra_and_parse_results\u001b[49m\u001b[43m(\u001b[49m\u001b[43mloandra_path\u001b[49m\u001b[43m,\u001b[49m\u001b[43m \u001b[49m\u001b[43mexecution_path\u001b[49m\u001b[43m)\u001b[49m\n\u001b[1;32m    473\u001b[0m solution \u001b[38;5;241m=\u001b[39m transform_tree_from_loandra(solution, literals, TL, tree, labels,features,dataset)\n\u001b[1;32m    476\u001b[0m \u001b[38;5;28;01mif\u001b[39;00m solution \u001b[38;5;241m!=\u001b[39m \u001b[38;5;124m\"\u001b[39m\u001b[38;5;124mNo solution exists\u001b[39m\u001b[38;5;124m\"\u001b[39m:\n",
      "File \u001b[0;32m~/Desktop/ESC499-THESIS/ESC499-Thesis-SAT-Trees/SATreeCraft/loandra_support/loandra.py:43\u001b[0m, in \u001b[0;36mrun_loandra_and_parse_results\u001b[0;34m(loandra_path, execution_path)\u001b[0m\n\u001b[1;32m     40\u001b[0m full_execution_path \u001b[38;5;241m=\u001b[39m os\u001b[38;5;241m.\u001b[39mpath\u001b[38;5;241m.\u001b[39mabspath(execution_path)\n\u001b[1;32m     42\u001b[0m \u001b[38;5;66;03m# Run the Loandra command with absolute paths\u001b[39;00m\n\u001b[0;32m---> 43\u001b[0m result \u001b[38;5;241m=\u001b[39m \u001b[43msubprocess\u001b[49m\u001b[38;5;241;43m.\u001b[39;49m\u001b[43mrun\u001b[49m\u001b[43m(\u001b[49m\u001b[43m[\u001b[49m\u001b[43mloandra_executable\u001b[49m\u001b[43m,\u001b[49m\u001b[43m \u001b[49m\u001b[43mfull_execution_path\u001b[49m\u001b[43m,\u001b[49m\u001b[43m \u001b[49m\u001b[38;5;124;43m\"\u001b[39;49m\u001b[38;5;124;43m-print-model\u001b[39;49m\u001b[38;5;124;43m\"\u001b[39;49m\u001b[43m]\u001b[49m\u001b[43m,\u001b[49m\u001b[43m \u001b[49m\n\u001b[1;32m     44\u001b[0m \u001b[43m                        \u001b[49m\u001b[43mstdout\u001b[49m\u001b[38;5;241;43m=\u001b[39;49m\u001b[43msubprocess\u001b[49m\u001b[38;5;241;43m.\u001b[39;49m\u001b[43mPIPE\u001b[49m\u001b[43m,\u001b[49m\u001b[43m \u001b[49m\u001b[43mstderr\u001b[49m\u001b[38;5;241;43m=\u001b[39;49m\u001b[43msubprocess\u001b[49m\u001b[38;5;241;43m.\u001b[39;49m\u001b[43mPIPE\u001b[49m\u001b[43m,\u001b[49m\u001b[43m \u001b[49m\u001b[43mtext\u001b[49m\u001b[38;5;241;43m=\u001b[39;49m\u001b[38;5;28;43;01mTrue\u001b[39;49;00m\u001b[43m)\u001b[49m\n\u001b[1;32m     46\u001b[0m \u001b[38;5;66;03m# Process result\u001b[39;00m\n\u001b[1;32m     47\u001b[0m output \u001b[38;5;241m=\u001b[39m result\u001b[38;5;241m.\u001b[39mstdout\u001b[38;5;241m.\u001b[39msplitlines()\n",
      "File \u001b[0;32m/Library/Frameworks/Python.framework/Versions/3.9/lib/python3.9/subprocess.py:507\u001b[0m, in \u001b[0;36mrun\u001b[0;34m(input, capture_output, timeout, check, *popenargs, **kwargs)\u001b[0m\n\u001b[1;32m    505\u001b[0m \u001b[38;5;28;01mwith\u001b[39;00m Popen(\u001b[38;5;241m*\u001b[39mpopenargs, \u001b[38;5;241m*\u001b[39m\u001b[38;5;241m*\u001b[39mkwargs) \u001b[38;5;28;01mas\u001b[39;00m process:\n\u001b[1;32m    506\u001b[0m     \u001b[38;5;28;01mtry\u001b[39;00m:\n\u001b[0;32m--> 507\u001b[0m         stdout, stderr \u001b[38;5;241m=\u001b[39m \u001b[43mprocess\u001b[49m\u001b[38;5;241;43m.\u001b[39;49m\u001b[43mcommunicate\u001b[49m\u001b[43m(\u001b[49m\u001b[38;5;28;43minput\u001b[39;49m\u001b[43m,\u001b[49m\u001b[43m \u001b[49m\u001b[43mtimeout\u001b[49m\u001b[38;5;241;43m=\u001b[39;49m\u001b[43mtimeout\u001b[49m\u001b[43m)\u001b[49m\n\u001b[1;32m    508\u001b[0m     \u001b[38;5;28;01mexcept\u001b[39;00m TimeoutExpired \u001b[38;5;28;01mas\u001b[39;00m exc:\n\u001b[1;32m    509\u001b[0m         process\u001b[38;5;241m.\u001b[39mkill()\n",
      "File \u001b[0;32m/Library/Frameworks/Python.framework/Versions/3.9/lib/python3.9/subprocess.py:1134\u001b[0m, in \u001b[0;36mPopen.communicate\u001b[0;34m(self, input, timeout)\u001b[0m\n\u001b[1;32m   1131\u001b[0m     endtime \u001b[38;5;241m=\u001b[39m \u001b[38;5;28;01mNone\u001b[39;00m\n\u001b[1;32m   1133\u001b[0m \u001b[38;5;28;01mtry\u001b[39;00m:\n\u001b[0;32m-> 1134\u001b[0m     stdout, stderr \u001b[38;5;241m=\u001b[39m \u001b[38;5;28;43mself\u001b[39;49m\u001b[38;5;241;43m.\u001b[39;49m\u001b[43m_communicate\u001b[49m\u001b[43m(\u001b[49m\u001b[38;5;28;43minput\u001b[39;49m\u001b[43m,\u001b[49m\u001b[43m \u001b[49m\u001b[43mendtime\u001b[49m\u001b[43m,\u001b[49m\u001b[43m \u001b[49m\u001b[43mtimeout\u001b[49m\u001b[43m)\u001b[49m\n\u001b[1;32m   1135\u001b[0m \u001b[38;5;28;01mexcept\u001b[39;00m \u001b[38;5;167;01mKeyboardInterrupt\u001b[39;00m:\n\u001b[1;32m   1136\u001b[0m     \u001b[38;5;66;03m# https://bugs.python.org/issue25942\u001b[39;00m\n\u001b[1;32m   1137\u001b[0m     \u001b[38;5;66;03m# See the detailed comment in .wait().\u001b[39;00m\n\u001b[1;32m   1138\u001b[0m     \u001b[38;5;28;01mif\u001b[39;00m timeout \u001b[38;5;129;01mis\u001b[39;00m \u001b[38;5;129;01mnot\u001b[39;00m \u001b[38;5;28;01mNone\u001b[39;00m:\n",
      "File \u001b[0;32m/Library/Frameworks/Python.framework/Versions/3.9/lib/python3.9/subprocess.py:1979\u001b[0m, in \u001b[0;36mPopen._communicate\u001b[0;34m(self, input, endtime, orig_timeout)\u001b[0m\n\u001b[1;32m   1972\u001b[0m     \u001b[38;5;28mself\u001b[39m\u001b[38;5;241m.\u001b[39m_check_timeout(endtime, orig_timeout,\n\u001b[1;32m   1973\u001b[0m                         stdout, stderr,\n\u001b[1;32m   1974\u001b[0m                         skip_check_and_raise\u001b[38;5;241m=\u001b[39m\u001b[38;5;28;01mTrue\u001b[39;00m)\n\u001b[1;32m   1975\u001b[0m     \u001b[38;5;28;01mraise\u001b[39;00m \u001b[38;5;167;01mRuntimeError\u001b[39;00m(  \u001b[38;5;66;03m# Impossible :)\u001b[39;00m\n\u001b[1;32m   1976\u001b[0m         \u001b[38;5;124m'\u001b[39m\u001b[38;5;124m_check_timeout(..., skip_check_and_raise=True) \u001b[39m\u001b[38;5;124m'\u001b[39m\n\u001b[1;32m   1977\u001b[0m         \u001b[38;5;124m'\u001b[39m\u001b[38;5;124mfailed to raise TimeoutExpired.\u001b[39m\u001b[38;5;124m'\u001b[39m)\n\u001b[0;32m-> 1979\u001b[0m ready \u001b[38;5;241m=\u001b[39m \u001b[43mselector\u001b[49m\u001b[38;5;241;43m.\u001b[39;49m\u001b[43mselect\u001b[49m\u001b[43m(\u001b[49m\u001b[43mtimeout\u001b[49m\u001b[43m)\u001b[49m\n\u001b[1;32m   1980\u001b[0m \u001b[38;5;28mself\u001b[39m\u001b[38;5;241m.\u001b[39m_check_timeout(endtime, orig_timeout, stdout, stderr)\n\u001b[1;32m   1982\u001b[0m \u001b[38;5;66;03m# XXX Rewrite these to use non-blocking I/O on the file\u001b[39;00m\n\u001b[1;32m   1983\u001b[0m \u001b[38;5;66;03m# objects; they are no longer using C stdio!\u001b[39;00m\n",
      "File \u001b[0;32m/Library/Frameworks/Python.framework/Versions/3.9/lib/python3.9/selectors.py:416\u001b[0m, in \u001b[0;36m_PollLikeSelector.select\u001b[0;34m(self, timeout)\u001b[0m\n\u001b[1;32m    414\u001b[0m ready \u001b[38;5;241m=\u001b[39m []\n\u001b[1;32m    415\u001b[0m \u001b[38;5;28;01mtry\u001b[39;00m:\n\u001b[0;32m--> 416\u001b[0m     fd_event_list \u001b[38;5;241m=\u001b[39m \u001b[38;5;28;43mself\u001b[39;49m\u001b[38;5;241;43m.\u001b[39;49m\u001b[43m_selector\u001b[49m\u001b[38;5;241;43m.\u001b[39;49m\u001b[43mpoll\u001b[49m\u001b[43m(\u001b[49m\u001b[43mtimeout\u001b[49m\u001b[43m)\u001b[49m\n\u001b[1;32m    417\u001b[0m \u001b[38;5;28;01mexcept\u001b[39;00m \u001b[38;5;167;01mInterruptedError\u001b[39;00m:\n\u001b[1;32m    418\u001b[0m     \u001b[38;5;28;01mreturn\u001b[39;00m ready\n",
      "\u001b[0;31mKeyboardInterrupt\u001b[0m: "
     ]
    }
   ],
   "source": [
    "import time\n",
    "loandra_path = '/Users/harisrasul/Desktop/loandra'\n",
    "k = 5\n",
    "depths = [2,3,4]\n",
    "# depths = [3,4]\n",
    "# Iterate through each combination of depth\n",
    "for depth in depths:\n",
    "    # Capture the start time\n",
    "    start_time = time.time()\n",
    "\n",
    "    # Execute the k-fold tester\n",
    "    accuracies, mean_score = k_fold_tester_loandra(loandra_path=loandra_path,\n",
    "                                                    k=k, depth=depth, dataset=dataset, \n",
    "                                                    true_labels_for_points=true_labels_for_points, \n",
    "                                                    labels=labels, features=features, \n",
    "                                                    min_support_level= 0,\n",
    "                                                    complete_tree= False)\n",
    "    # Capture the end time\n",
    "    end_time = time.time()\n",
    "\n",
    "    # Calculate the duration\n",
    "    duration = end_time - start_time\n",
    "\n",
    "    # Print or log the results including the time taken\n",
    "    print(f\"Oblivious Depth: {depth}, Time Taken: {duration:.2f} seconds\")\n",
    "    print(f\"Accuracies: {accuracies}\")\n",
    "    print(f\"Mean Score: {mean_score}\\n\")\n"
   ]
  },
  {
   "cell_type": "code",
   "execution_count": 31,
   "metadata": {},
   "outputs": [
    {
     "name": "stdout",
     "output_type": "stream",
     "text": [
      "Features: ['0' '1' '2' '3' '4' '5' '6' '7' '8' '9' '10' '11' '12'] (13,)\n",
      "Labels: [0 1 2] (3,)\n",
      "True Labels for Points: [0 0 0 0 0 0 0 0 0 0 0 0 0 0 0 0 0 0 0 0 0 0 0 0 0 0 0 0 0 0 0 0 0 0 0 0 0\n",
      " 0 0 0 0 0 0 0 0 0 0 0 0 0 0 0 0 0 0 0 0 0 0 1 1 1 1 1 1 1 1 1 1 1 1 1 1 1\n",
      " 1 1 1 1 1 1 1 1 1 1 1 1 1 1 1 1 1 1 1 1 1 1 1 1 1 1 1 1 1 1 1 1 1 1 1 1 1\n",
      " 1 1 1 1 1 1 1 1 1 1 1 1 1 1 1 1 1 1 1 2 2 2 2 2 2 2 2 2 2 2 2 2 2 2 2 2 2\n",
      " 2 2 2 2 2 2 2 2 2 2 2 2 2 2 2 2 2 2 2 2 2 2 2 2 2 2 2 2 2 2] (178,)\n",
      "Dataset:\n",
      " [[1.423e+01 1.710e+00 2.430e+00 ... 1.040e+00 3.920e+00 1.065e+03]\n",
      " [1.320e+01 1.780e+00 2.140e+00 ... 1.050e+00 3.400e+00 1.050e+03]\n",
      " [1.316e+01 2.360e+00 2.670e+00 ... 1.030e+00 3.170e+00 1.185e+03]\n",
      " ...\n",
      " [1.327e+01 4.280e+00 2.260e+00 ... 5.900e-01 1.560e+00 8.350e+02]\n",
      " [1.317e+01 2.590e+00 2.370e+00 ... 6.000e-01 1.620e+00 8.400e+02]\n",
      " [1.413e+01 4.100e+00 2.740e+00 ... 6.100e-01 1.600e+00 5.600e+02]] (178, 13)\n"
     ]
    }
   ],
   "source": [
    "file_path_to_test = 'Datasets/wine/wine.data'\n",
    "delimiter = ','\n",
    "label_position = 0 \n",
    "data_loader = TreeDataLoaderBinaryNumerical(file_path=file_path_to_test, delimiter=delimiter, label_position= label_position)\n",
    "print(\"Features:\", data_loader.features, data_loader.features.shape)\n",
    "print(\"Labels:\", data_loader.labels, data_loader.labels.shape)\n",
    "print(\"True Labels for Points:\", data_loader.true_labels_for_points, data_loader.true_labels_for_points.shape)\n",
    "print(\"Dataset:\\n\", data_loader.dataset,data_loader.dataset.shape)\n",
    "features = data_loader.features\n",
    "labels = data_loader.labels\n",
    "true_labels_for_points = data_loader.true_labels_for_points\n",
    "dataset = data_loader.dataset"
   ]
  },
  {
   "cell_type": "code",
   "execution_count": 32,
   "metadata": {},
   "outputs": [
    {
     "name": "stdout",
     "output_type": "stream",
     "text": [
      "Iteration complete\n",
      "Iteration complete\n",
      "Iteration complete\n",
      "Iteration complete\n",
      "Iteration complete\n",
      "Oblivious Depth: 2, Time Taken: 4.31 seconds\n",
      "Accuracies: [0.91666667 0.94444444 0.83333333 0.8        0.94285714]\n",
      "Mean Score: 0.8874603174603175\n",
      "\n",
      "Iteration complete\n",
      "Iteration complete\n",
      "Iteration complete\n",
      "Iteration complete\n",
      "Iteration complete\n",
      "Oblivious Depth: 3, Time Taken: 6.05 seconds\n",
      "Accuracies: [0.86111111 0.94444444 0.97222222 0.91428571 0.97142857]\n",
      "Mean Score: 0.9326984126984126\n",
      "\n",
      "Iteration complete\n",
      "Iteration complete\n",
      "Iteration complete\n",
      "Iteration complete\n",
      "Iteration complete\n",
      "Oblivious Depth: 4, Time Taken: 6.75 seconds\n",
      "Accuracies: [0.91666667 0.80555556 0.94444444 0.91428571 0.88571429]\n",
      "Mean Score: 0.8933333333333333\n",
      "\n"
     ]
    }
   ],
   "source": [
    "import time\n",
    "loandra_path = '/Users/harisrasul/Desktop/loandra'\n",
    "k = 5\n",
    "depths = [2,3,4]\n",
    "# depths = [3,4]\n",
    "# Iterate through each combination of depth\n",
    "for depth in depths:\n",
    "    # Capture the start time\n",
    "    start_time = time.time()\n",
    "\n",
    "    # Execute the k-fold tester\n",
    "    accuracies, mean_score = k_fold_tester_loandra(loandra_path=loandra_path,\n",
    "                                                    k=k, depth=depth, dataset=dataset, \n",
    "                                                    true_labels_for_points=true_labels_for_points, \n",
    "                                                    labels=labels, features=features, \n",
    "                                                    min_support_level= 0,\n",
    "                                                    complete_tree= False)\n",
    "    # Capture the end time\n",
    "    end_time = time.time()\n",
    "\n",
    "    # Calculate the duration\n",
    "    duration = end_time - start_time\n",
    "\n",
    "    # Print or log the results including the time taken\n",
    "    print(f\"Oblivious Depth: {depth}, Time Taken: {duration:.2f} seconds\")\n",
    "    print(f\"Accuracies: {accuracies}\")\n",
    "    print(f\"Mean Score: {mean_score}\\n\")\n"
   ]
  },
  {
   "cell_type": "code",
   "execution_count": 33,
   "metadata": {},
   "outputs": [
    {
     "name": "stdout",
     "output_type": "stream",
     "text": [
      "Features: ['0' '1' '2' '3' '4' '5'] (6,)\n",
      "Labels: [0 1] (2,)\n",
      "True Labels for Points: [0 0 0 0 0 0 0 0 0 0 0 0 0 1 0 1 0 0 1 0 1 0 0 0 1 0 1 0 1 0 0 1 1 0 1 1 0\n",
      " 1 0 0 0 0 0 0 1 1 0 1 0 1 0 1 0 1 0 0 1 0 0 0 1 0 1 1 0 0 1 0 1 0 0 1 0 0\n",
      " 0 0 1 0 1 1 0 1 0 0 0 1 0 1 0 0 1 0 0 0 0 0 1 0 1 0 0 1 1 1 1 1 1 0 1 0 0\n",
      " 0 0 0 0 0 1 1 0 1 0 0 1 1 0 1 0 1 0 1 1 1 1 0 0 0 1 0 1 1 1 0 1 1 0 0 0 1\n",
      " 0 1 0 0 0 1 0 0 0 0 0 1 0 0 1 0 0 0 1 0 0] (169,)\n",
      "Dataset:\n",
      " [[1. 1. 1. 1. 2. 2.]\n",
      " [1. 1. 1. 1. 4. 1.]\n",
      " [1. 1. 1. 2. 1. 1.]\n",
      " ...\n",
      " [3. 3. 2. 3. 1. 1.]\n",
      " [3. 3. 2. 3. 2. 1.]\n",
      " [3. 3. 2. 3. 4. 2.]] (169, 6)\n"
     ]
    }
   ],
   "source": [
    "file_path_to_test = 'Datasets/monk+s+problems/monks-2.train' # Update this to the path of your data file\n",
    "delimiter = ' '\n",
    "label_position = 0 \n",
    "data_loader = TreeDataLoaderBinaryNumerical(file_path=file_path_to_test, delimiter=delimiter, label_position= label_position, custom_exclude=[-1])\n",
    "print(\"Features:\", data_loader.features, data_loader.features.shape)\n",
    "print(\"Labels:\", data_loader.labels, data_loader.labels.shape)\n",
    "print(\"True Labels for Points:\", data_loader.true_labels_for_points, data_loader.true_labels_for_points.shape)\n",
    "print(\"Dataset:\\n\", data_loader.dataset,data_loader.dataset.shape)\n",
    "features = data_loader.features\n",
    "labels = data_loader.labels\n",
    "true_labels_for_points = data_loader.true_labels_for_points\n",
    "dataset = data_loader.dataset"
   ]
  },
  {
   "cell_type": "code",
   "execution_count": 34,
   "metadata": {},
   "outputs": [
    {
     "name": "stdout",
     "output_type": "stream",
     "text": [
      "Iteration complete\n",
      "Iteration complete\n",
      "Iteration complete\n",
      "Iteration complete\n",
      "Iteration complete\n",
      "Oblivious Depth: 2, Time Taken: 2.53 seconds\n",
      "Accuracies: [0.58823529 0.5        0.55882353 0.55882353 0.57575758]\n",
      "Mean Score: 0.5563279857397505\n",
      "\n",
      "Iteration complete\n",
      "Iteration complete\n",
      "Iteration complete\n",
      "Iteration complete\n",
      "Iteration complete\n",
      "Oblivious Depth: 3, Time Taken: 37.50 seconds\n",
      "Accuracies: [0.5        0.47058824 0.70588235 0.73529412 0.57575758]\n",
      "Mean Score: 0.5975044563279858\n",
      "\n",
      "Iteration complete\n",
      "Iteration complete\n",
      "Iteration complete\n",
      "Iteration complete\n",
      "Iteration complete\n",
      "Oblivious Depth: 4, Time Taken: 1544.88 seconds\n",
      "Accuracies: [0.55882353 0.61764706 0.67647059 0.64705882 0.60606061]\n",
      "Mean Score: 0.6212121212121212\n",
      "\n"
     ]
    }
   ],
   "source": [
    "import time\n",
    "loandra_path = '/Users/harisrasul/Desktop/loandra'\n",
    "k = 5\n",
    "depths = [2,3,4]\n",
    "# depths = [3,4]\n",
    "# Iterate through each combination of depth\n",
    "for depth in depths:\n",
    "    # Capture the start time\n",
    "    start_time = time.time()\n",
    "\n",
    "    # Execute the k-fold tester\n",
    "    accuracies, mean_score = k_fold_tester_loandra(loandra_path=loandra_path,\n",
    "                                                    k=k, depth=depth, dataset=dataset, \n",
    "                                                    true_labels_for_points=true_labels_for_points, \n",
    "                                                    labels=labels, features=features, \n",
    "                                                    min_support_level= 0,\n",
    "                                                    complete_tree= False)\n",
    "    # Capture the end time\n",
    "    end_time = time.time()\n",
    "\n",
    "    # Calculate the duration\n",
    "    duration = end_time - start_time\n",
    "\n",
    "    # Print or log the results including the time taken\n",
    "    print(f\"Oblivious Depth: {depth}, Time Taken: {duration:.2f} seconds\")\n",
    "    print(f\"Accuracies: {accuracies}\")\n",
    "    print(f\"Mean Score: {mean_score}\\n\")\n"
   ]
  },
  {
   "cell_type": "markdown",
   "metadata": {},
   "source": [
    "Max height Problem - Numerical"
   ]
  },
  {
   "cell_type": "code",
   "execution_count": null,
   "metadata": {},
   "outputs": [],
   "source": [
    "loandra_path = '/Users/harisrasul/Desktop/loandra'"
   ]
  },
  {
   "cell_type": "code",
   "execution_count": null,
   "metadata": {},
   "outputs": [],
   "source": [
    "max_accuracy_numerical_problem = SATreeCraft(dataset=dataset,\n",
    "                                             features=features,labels=labels,\n",
    "                                             true_labels_for_points=true_labels_for_points,\n",
    "                                             classification_objective='max_accuracy',\n",
    "                                             fixed_depth=3,\n",
    "                                             # min_support= 5\n",
    "                                             # min_margin  = 10\n",
    "                                             # tree_structure= 'Oblivious'\n",
    "                                             )\n",
    "max_accuracy_numerical_problem.solve_loandra(loandra_path= loandra_path)\n",
    "print(\"Final Model: \", max_accuracy_numerical_problem.model)\n",
    "print(\"Min cost found: \", max_accuracy_numerical_problem.min_cost)"
   ]
  },
  {
   "cell_type": "markdown",
   "metadata": {},
   "source": [
    "Min Height Problem - Numerical"
   ]
  },
  {
   "cell_type": "code",
   "execution_count": null,
   "metadata": {},
   "outputs": [],
   "source": [
    "min_height_numerical_problem = SATreeCraft(dataset=dataset,features=features,labels=labels,true_labels_for_points=true_labels_for_points)\n",
    "min_height_numerical_problem.solve_loandra(loandra_path)\n",
    "print(\"Final Model: \", min_height_numerical_problem.model)\n",
    "print(\"min depth found: \", min_height_numerical_problem.min_depth)"
   ]
  },
  {
   "cell_type": "markdown",
   "metadata": {},
   "source": [
    "K-fold tests accuracies"
   ]
  },
  {
   "cell_type": "code",
   "execution_count": null,
   "metadata": {},
   "outputs": [],
   "source": [
    "import time\n",
    "loandra_path = '/Users/harisrasul/Desktop/loandra'\n",
    "k = 5\n",
    "depths = [2,3,4]\n",
    "# depths = [3,4]\n",
    "# Iterate through each combination of depth\n",
    "for depth in depths:\n",
    "    # Capture the start time\n",
    "    start_time = time.time()\n",
    "\n",
    "    # Execute the k-fold tester\n",
    "    accuracies, mean_score = k_fold_tester_loandra(loandra_path=loandra_path,\n",
    "                                                    k=k, depth=depth, dataset=dataset, \n",
    "                                                    true_labels_for_points=true_labels_for_points, \n",
    "                                                    labels=labels, features=features, \n",
    "                                                    min_support_level= 0)\n",
    "    # Capture the end time\n",
    "    end_time = time.time()\n",
    "\n",
    "    # Calculate the duration\n",
    "    duration = end_time - start_time\n",
    "\n",
    "    # Print or log the results including the time taken\n",
    "    print(f\"Depth: {depth}, Min Support: {minimum_support}, Time Taken: {duration:.2f} seconds\")\n",
    "    print(f\"Accuracies: {accuracies}\")\n",
    "    print(f\"Mean Score: {mean_score}\\n\")\n"
   ]
  },
  {
   "cell_type": "markdown",
   "metadata": {},
   "source": [
    "Categorical Datasets"
   ]
  },
  {
   "cell_type": "code",
   "execution_count": 6,
   "metadata": {},
   "outputs": [
    {
     "name": "stdout",
     "output_type": "stream",
     "text": [
      "Features: ['0' '1' '2' '3' '4' '5' '6' '7' '8' '9' '10' '11' '12' '13' '14'] (15,)\n",
      "Categorical Features: ['0' '3' '4' '5' '6' '8' '9' '11' '12'] (9,)\n",
      "Numerical Features: ['1' '2' '7' '10' '13' '14'] (6,)\n",
      "Labels: [0 1] (2,)\n",
      "True Labels for Points: [0 0 0 0 0 0 0 0 0 0 0 0 0 0 0 0 0 0 0 0 0 0 0 0 0 0 0 0 0 0 0 0 0 0 0 0 0\n",
      " 0 0 0 0 0 0 0 0 0 0 0 0 0 0 0 0 0 0 0 0 0 0 0 0 0 0 0 0 0 0 0 0 0 1 1 1 1\n",
      " 1 1 1 1 1 1 1 1 1 1 1 1 1 1 1 1 1 1 1 1 1 1 1 1 1 1 1 1 1 1 1 1 1 1 1 1 1\n",
      " 1 0 0 0 0 0 0 0 0 0 0 0 0 0 0 0 0 0 0 0 0 0 0 0 0 0 0 0 0 0 0 0 0 0 0 0 0\n",
      " 0 0 0 0 0 0 0 0 0 0 0 0 0 0 0 0 0 0 0 0 0 0 0 0 0 0 0 0 0 0 0 0 0 0 0 0 0\n",
      " 0 0 0 0 0 0 0 0 0 0 0 0 0 0 0 0 0 0 0 0 0 0 0 0 0 0 0 0 0 0 0 0 0 0 0 0 0\n",
      " 0 0 0 0 0 0 0 0 0 0 0 0 0 0 0 0 0 0 0 0 0 0 0 1 1 1 1 1 1 1 1 1 1 1 1 1 0\n",
      " 0 1 1 1 1 1 1 1 1 1 1 1 1 1 1 1 1 1 1 1 1 1 1 1 1 1 1 1 1 1 1 1 1 1 1 1 1\n",
      " 1 1 1 1 1 1 1 1 0 0 0 0 0 0 0 1 1 1 1 1 1 1 1 1 1 1 1 1 1 1 1 1 1 1 1 1 1\n",
      " 1 1 1 1 1 1 1 1 1 1 1 1 1 1 1 1 1 1 1 1 1 1 1 1 1 1 1 1 1 1 1 1 1 1 1 1 1\n",
      " 1 1 1 1 1 1 1 1 1 1 1 1 1 1 1 1 1 1 1 1 1 1 1 1 1 1 1 1 1 1 1 1 1 1 1 1 1\n",
      " 1 1 1 1 1 1 1 1 1 1 1 1 1 1 1 1 1 1 1 1 1 1 1 1 1 1 1 1 1 1 1 1 1 1 1 1 1\n",
      " 1 1 1 1 1 1 1 1 1 1 1 1 1 1 1 1 1 1 1 1 1 0 0 0 0 0 0 0 0 0 0 0 0 0 0 0 0\n",
      " 0 0 0 0 0 0 0 0 0 0 0 0 0 0 1 1 1 1 1 1 1 1 1 1 1 1 1 1 1 1 1 1 1 1 1 1 1\n",
      " 0 0 0 0 0 0 0 0 0 0 0 0 0 0 0 0 0 0 0 0 0 0 0 0 0 0 0 0 0 0 0 0 0 0 0 0 0\n",
      " 0 0 0 0 0 0 0 0 0 0 0 0 0 0 0 1 1 1 1 0 1 1 1 1 1 1 1 1 1 1 1 1 1 0 1 1 1\n",
      " 1 1 1 1 1 1 1 1 1 1 1 1 1 1 1 1 1 1 1 1 1 1 1 1 1 1 1 1 1 1 1 1 1 1 1 1 1\n",
      " 1 1 1 1 1 1 1 1 1 1 1 1 1 1 1 1 1 1 1 1 1 1 1 1] (653,)\n",
      "Dataset:\n",
      " [['b' '30.83' '0' ... 'g' '00202' '0']\n",
      " ['a' '58.67' '4.46' ... 'g' '00043' '560']\n",
      " ['a' '24.50' '0.5' ... 'g' '00280' '824']\n",
      " ...\n",
      " ['a' '25.25' '13.5' ... 'g' '00200' '1']\n",
      " ['b' '17.92' '0.205' ... 'g' '00280' '750']\n",
      " ['b' '35.00' '3.375' ... 'g' '00000' '0']] (653, 15)\n"
     ]
    }
   ],
   "source": [
    "from utils import *\n",
    "# Example usage:\n",
    "file_path = 'Datasets/credit+approval/crx.data'\n",
    "label_index = -1\n",
    "categorical_feature_index = None  \n",
    "numerical_indices = np.array([1, 2, 7, 10, 13,14]) \n",
    "\n",
    "data_loader = TreeDataLoaderWithCategorical(\n",
    "    file_path= file_path,\n",
    "    label_index= label_index,\n",
    "    numerical_indices= numerical_indices,\n",
    "    categorical_feature_index=categorical_feature_index\n",
    ")\n",
    "\n",
    "# Accessing the processed data\n",
    "print(\"Features:\", data_loader.features, data_loader.features.shape)\n",
    "print(\"Categorical Features:\", data_loader.features_categorical, data_loader.features_categorical.shape)\n",
    "print(\"Numerical Features:\", data_loader.features_numerical, data_loader.features_numerical.shape)\n",
    "print(\"Labels:\", data_loader.labels, data_loader.labels.shape)\n",
    "print(\"True Labels for Points:\", data_loader.true_labels_for_points, data_loader.true_labels_for_points.shape)\n",
    "print(\"Dataset:\\n\", data_loader.dataset,data_loader.dataset.shape)\n",
    "\n",
    "features = data_loader.features\n",
    "features_categorical = data_loader.features_categorical\n",
    "features_numerical = data_loader.features_numerical\n",
    "labels = data_loader.labels\n",
    "true_labels_for_points = data_loader.true_labels_for_points\n",
    "dataset = data_loader.dataset"
   ]
  },
  {
   "cell_type": "code",
   "execution_count": 7,
   "metadata": {},
   "outputs": [
    {
     "name": "stdout",
     "output_type": "stream",
     "text": [
      "Iteration complete\n",
      "Iteration complete\n",
      "Iteration complete\n",
      "Iteration complete\n",
      "Iteration complete\n",
      "Oblivious Depth: 2, Time Taken: 82.28 seconds\n",
      "Accuracies: [0.82442748 0.88549618 0.85496183 0.83076923 0.87692308]\n",
      "Mean Score: 0.8545155607751027\n",
      "\n"
     ]
    },
    {
     "ename": "KeyboardInterrupt",
     "evalue": "",
     "output_type": "error",
     "traceback": [
      "\u001b[0;31m---------------------------------------------------------------------------\u001b[0m",
      "\u001b[0;31mKeyboardInterrupt\u001b[0m                         Traceback (most recent call last)",
      "Input \u001b[0;32mIn [7]\u001b[0m, in \u001b[0;36m<cell line: 7>\u001b[0;34m()\u001b[0m\n\u001b[1;32m      9\u001b[0m start_time \u001b[38;5;241m=\u001b[39m time\u001b[38;5;241m.\u001b[39mtime()\n\u001b[1;32m     10\u001b[0m \u001b[38;5;66;03m# Execute the k-fold tester\u001b[39;00m\n\u001b[0;32m---> 11\u001b[0m accuracies, mean_score \u001b[38;5;241m=\u001b[39m \u001b[43mk_fold_tester_loandra\u001b[49m\u001b[43m(\u001b[49m\u001b[43mloandra_path\u001b[49m\u001b[38;5;241;43m=\u001b[39;49m\u001b[43mloandra_path\u001b[49m\u001b[43m,\u001b[49m\n\u001b[1;32m     12\u001b[0m \u001b[43m                                                \u001b[49m\u001b[43mk\u001b[49m\u001b[38;5;241;43m=\u001b[39;49m\u001b[43mk\u001b[49m\u001b[43m,\u001b[49m\u001b[43m \u001b[49m\u001b[43mdepth\u001b[49m\u001b[38;5;241;43m=\u001b[39;49m\u001b[43mdepth\u001b[49m\u001b[43m,\u001b[49m\u001b[43m \u001b[49m\u001b[43mdataset\u001b[49m\u001b[38;5;241;43m=\u001b[39;49m\u001b[43mdataset\u001b[49m\u001b[43m,\u001b[49m\u001b[43m \u001b[49m\n\u001b[1;32m     13\u001b[0m \u001b[43m                                                \u001b[49m\u001b[43mtrue_labels_for_points\u001b[49m\u001b[38;5;241;43m=\u001b[39;49m\u001b[43mtrue_labels_for_points\u001b[49m\u001b[43m,\u001b[49m\u001b[43m \u001b[49m\n\u001b[1;32m     14\u001b[0m \u001b[43m                                                \u001b[49m\u001b[43mlabels\u001b[49m\u001b[38;5;241;43m=\u001b[39;49m\u001b[43mlabels\u001b[49m\u001b[43m,\u001b[49m\u001b[43m \u001b[49m\u001b[43mfeatures\u001b[49m\u001b[38;5;241;43m=\u001b[39;49m\u001b[43mfeatures\u001b[49m\u001b[43m,\u001b[49m\u001b[43m \u001b[49m\u001b[43mfeatures_categorical\u001b[49m\u001b[38;5;241;43m=\u001b[39;49m\u001b[43mfeatures_categorical\u001b[49m\u001b[43m,\u001b[49m\u001b[43m \u001b[49m\u001b[43mfeatures_numerical\u001b[49m\u001b[38;5;241;43m=\u001b[39;49m\u001b[43mfeatures_numerical\u001b[49m\u001b[43m,\u001b[49m\u001b[43m \u001b[49m\n\u001b[1;32m     15\u001b[0m \u001b[43m                                                \u001b[49m\u001b[43mmin_support_level\u001b[49m\u001b[38;5;241;43m=\u001b[39;49m\u001b[38;5;241;43m0\u001b[39;49m\u001b[43m,\u001b[49m\u001b[43m \u001b[49m\u001b[43mcomplete_tree\u001b[49m\u001b[38;5;241;43m=\u001b[39;49m\u001b[43m \u001b[49m\u001b[38;5;28;43;01mFalse\u001b[39;49;00m\u001b[43m)\u001b[49m\n\u001b[1;32m     16\u001b[0m \u001b[38;5;66;03m# Capture the end time\u001b[39;00m\n\u001b[1;32m     17\u001b[0m end_time \u001b[38;5;241m=\u001b[39m time\u001b[38;5;241m.\u001b[39mtime()\n",
      "File \u001b[0;32m~/Desktop/ESC499-THESIS/ESC499-Thesis-SAT-Trees/SATreeCraft/utils.py:361\u001b[0m, in \u001b[0;36mk_fold_tester_loandra\u001b[0;34m(loandra_path, k, depth, dataset, true_labels_for_points, labels, features, features_categorical, features_numerical, complete_tree, min_support_level, min_margin_level)\u001b[0m\n\u001b[1;32m    349\u001b[0m max_accuracy_problem \u001b[38;5;241m=\u001b[39m SATreeCraft(dataset\u001b[38;5;241m=\u001b[39mX_train,\n\u001b[1;32m    350\u001b[0m                                    features\u001b[38;5;241m=\u001b[39mfeatures,\n\u001b[1;32m    351\u001b[0m                                    labels\u001b[38;5;241m=\u001b[39mlabels,\n\u001b[0;32m   (...)\u001b[0m\n\u001b[1;32m    358\u001b[0m                                    min_margin\u001b[38;5;241m=\u001b[39m min_margin_level,\n\u001b[1;32m    359\u001b[0m                                    tree_structure\u001b[38;5;241m=\u001b[39m tree_structure)\n\u001b[1;32m    360\u001b[0m \u001b[38;5;66;03m# build model\u001b[39;00m\n\u001b[0;32m--> 361\u001b[0m \u001b[43mmax_accuracy_problem\u001b[49m\u001b[38;5;241;43m.\u001b[39;49m\u001b[43msolve_loandra\u001b[49m\u001b[43m(\u001b[49m\u001b[43mloandra_path\u001b[49m\u001b[43m)\u001b[49m\n\u001b[1;32m    362\u001b[0m model \u001b[38;5;241m=\u001b[39m SATreeClassifier(max_accuracy_problem\u001b[38;5;241m.\u001b[39mmodel)\n\u001b[1;32m    364\u001b[0m \u001b[38;5;66;03m# score model on test data\u001b[39;00m\n",
      "File \u001b[0;32m~/Desktop/ESC499-THESIS/ESC499-Thesis-SAT-Trees/SATreeCraft/SATreeCraft.py:659\u001b[0m, in \u001b[0;36mSATreeCraft.solve_loandra\u001b[0;34m(self, loandra_path, execution_path)\u001b[0m\n\u001b[1;32m    652\u001b[0m         \u001b[38;5;28mself\u001b[39m\u001b[38;5;241m.\u001b[39mmodel, \u001b[38;5;28mself\u001b[39m\u001b[38;5;241m.\u001b[39mfinal_literals, \u001b[38;5;28mself\u001b[39m\u001b[38;5;241m.\u001b[39mmin_depth, \u001b[38;5;28mself\u001b[39m\u001b[38;5;241m.\u001b[39msat_solution, \u001b[38;5;28mself\u001b[39m\u001b[38;5;241m.\u001b[39mfinal_cnf \u001b[38;5;241m=\u001b[39m \u001b[38;5;28mself\u001b[39m\u001b[38;5;241m.\u001b[39mfind_min_depth_tree_categorical_problem_loandra(\u001b[38;5;28mself\u001b[39m\u001b[38;5;241m.\u001b[39mfeatures, \n\u001b[1;32m    653\u001b[0m                                                                                                   \u001b[38;5;28mself\u001b[39m\u001b[38;5;241m.\u001b[39mfeatures_categorical, \n\u001b[1;32m    654\u001b[0m                                                                                                   \u001b[38;5;28mself\u001b[39m\u001b[38;5;241m.\u001b[39mfeatures_numerical, \n\u001b[1;32m    655\u001b[0m                                                                                                   \u001b[38;5;28mself\u001b[39m\u001b[38;5;241m.\u001b[39mlabels, \u001b[38;5;28mself\u001b[39m\u001b[38;5;241m.\u001b[39mtrue_labels_for_points, \u001b[38;5;28mself\u001b[39m\u001b[38;5;241m.\u001b[39mdataset,\n\u001b[1;32m    656\u001b[0m                                                                                                   loandra_path,\n\u001b[1;32m    657\u001b[0m                                                                                                   execution_path)\n\u001b[1;32m    658\u001b[0m     \u001b[38;5;28;01melse\u001b[39;00m: \u001b[38;5;66;03m# Max accuracy problem\u001b[39;00m\n\u001b[0;32m--> 659\u001b[0m         \u001b[38;5;28mself\u001b[39m\u001b[38;5;241m.\u001b[39mmodel, \u001b[38;5;28mself\u001b[39m\u001b[38;5;241m.\u001b[39mfinal_literals, \u001b[38;5;28mself\u001b[39m\u001b[38;5;241m.\u001b[39mfixed_depth, \u001b[38;5;28mself\u001b[39m\u001b[38;5;241m.\u001b[39msat_solution, \u001b[38;5;28mself\u001b[39m\u001b[38;5;241m.\u001b[39mmin_cost, \u001b[38;5;28mself\u001b[39m\u001b[38;5;241m.\u001b[39mfinal_cnf \u001b[38;5;241m=\u001b[39m \u001b[38;5;28;43mself\u001b[39;49m\u001b[38;5;241;43m.\u001b[39;49m\u001b[43mfind_fixed_depth_tree_categorical_problem_loandra\u001b[49m\u001b[43m(\u001b[49m\u001b[38;5;28;43mself\u001b[39;49m\u001b[38;5;241;43m.\u001b[39;49m\u001b[43mfeatures\u001b[49m\u001b[43m,\u001b[49m\u001b[43m \u001b[49m\n\u001b[1;32m    660\u001b[0m \u001b[43m                                                                                                  \u001b[49m\u001b[38;5;28;43mself\u001b[39;49m\u001b[38;5;241;43m.\u001b[39;49m\u001b[43mfeatures_categorical\u001b[49m\u001b[43m,\u001b[49m\u001b[43m \u001b[49m\n\u001b[1;32m    661\u001b[0m \u001b[43m                                                                                                  \u001b[49m\u001b[38;5;28;43mself\u001b[39;49m\u001b[38;5;241;43m.\u001b[39;49m\u001b[43mfeatures_numerical\u001b[49m\u001b[43m,\u001b[49m\u001b[43m \u001b[49m\n\u001b[1;32m    662\u001b[0m \u001b[43m                                                                                                  \u001b[49m\u001b[38;5;28;43mself\u001b[39;49m\u001b[38;5;241;43m.\u001b[39;49m\u001b[43mlabels\u001b[49m\u001b[43m,\u001b[49m\u001b[43m \u001b[49m\n\u001b[1;32m    663\u001b[0m \u001b[43m                                                                                                  \u001b[49m\u001b[38;5;28;43mself\u001b[39;49m\u001b[38;5;241;43m.\u001b[39;49m\u001b[43mtrue_labels_for_points\u001b[49m\u001b[43m,\u001b[49m\u001b[43m \u001b[49m\n\u001b[1;32m    664\u001b[0m \u001b[43m                                                                                                  \u001b[49m\u001b[38;5;28;43mself\u001b[39;49m\u001b[38;5;241;43m.\u001b[39;49m\u001b[43mdataset\u001b[49m\u001b[43m,\u001b[49m\u001b[43m \u001b[49m\n\u001b[1;32m    665\u001b[0m \u001b[43m                                                                                                  \u001b[49m\u001b[38;5;28;43mself\u001b[39;49m\u001b[38;5;241;43m.\u001b[39;49m\u001b[43mfixed_depth\u001b[49m\u001b[43m,\u001b[49m\n\u001b[1;32m    666\u001b[0m \u001b[43m                                                                                                  \u001b[49m\u001b[43mloandra_path\u001b[49m\u001b[43m,\u001b[49m\n\u001b[1;32m    667\u001b[0m \u001b[43m                                                                                                  \u001b[49m\u001b[43mexecution_path\u001b[49m\u001b[43m)\u001b[49m\n\u001b[1;32m    668\u001b[0m \u001b[38;5;28;01melse\u001b[39;00m: \u001b[38;5;66;03m# numerical feature dataset strictly\u001b[39;00m\n\u001b[1;32m    669\u001b[0m     \u001b[38;5;28;01mif\u001b[39;00m \u001b[38;5;28mself\u001b[39m\u001b[38;5;241m.\u001b[39mclassification_objective \u001b[38;5;241m==\u001b[39m \u001b[38;5;124m'\u001b[39m\u001b[38;5;124mmin_height\u001b[39m\u001b[38;5;124m'\u001b[39m:\n",
      "File \u001b[0;32m~/Desktop/ESC499-THESIS/ESC499-Thesis-SAT-Trees/SATreeCraft/SATreeCraft.py:510\u001b[0m, in \u001b[0;36mSATreeCraft.find_fixed_depth_tree_categorical_problem_loandra\u001b[0;34m(self, features, features_categorical, features_numerical, labels, true_labels_for_points, dataset, depth, loandra_path, execution_path)\u001b[0m\n\u001b[1;32m    508\u001b[0m \u001b[38;5;66;03m# LOANDRA SUPPORT - EXPORT FILE \u001b[39;00m\n\u001b[1;32m    509\u001b[0m wcnf\u001b[38;5;241m.\u001b[39mto_file(execution_path)\n\u001b[0;32m--> 510\u001b[0m solution,cost \u001b[38;5;241m=\u001b[39m \u001b[43mrun_loandra_and_parse_results\u001b[49m\u001b[43m(\u001b[49m\u001b[43mloandra_path\u001b[49m\u001b[43m,\u001b[49m\u001b[43m \u001b[49m\u001b[43mexecution_path\u001b[49m\u001b[43m)\u001b[49m\n\u001b[1;32m    511\u001b[0m solution \u001b[38;5;241m=\u001b[39m transform_tree_from_loandra(solution, literals, TL, tree, labels,features,dataset)\n\u001b[1;32m    513\u001b[0m \u001b[38;5;28;01mif\u001b[39;00m solution \u001b[38;5;241m!=\u001b[39m \u001b[38;5;124m\"\u001b[39m\u001b[38;5;124mNo solution exists\u001b[39m\u001b[38;5;124m\"\u001b[39m:\n",
      "File \u001b[0;32m~/Desktop/ESC499-THESIS/ESC499-Thesis-SAT-Trees/SATreeCraft/loandra_support/loandra.py:43\u001b[0m, in \u001b[0;36mrun_loandra_and_parse_results\u001b[0;34m(loandra_path, execution_path)\u001b[0m\n\u001b[1;32m     40\u001b[0m full_execution_path \u001b[38;5;241m=\u001b[39m os\u001b[38;5;241m.\u001b[39mpath\u001b[38;5;241m.\u001b[39mabspath(execution_path)\n\u001b[1;32m     42\u001b[0m \u001b[38;5;66;03m# Run the Loandra command with absolute paths\u001b[39;00m\n\u001b[0;32m---> 43\u001b[0m result \u001b[38;5;241m=\u001b[39m \u001b[43msubprocess\u001b[49m\u001b[38;5;241;43m.\u001b[39;49m\u001b[43mrun\u001b[49m\u001b[43m(\u001b[49m\u001b[43m[\u001b[49m\u001b[43mloandra_executable\u001b[49m\u001b[43m,\u001b[49m\u001b[43m \u001b[49m\u001b[43mfull_execution_path\u001b[49m\u001b[43m,\u001b[49m\u001b[43m \u001b[49m\u001b[38;5;124;43m\"\u001b[39;49m\u001b[38;5;124;43m-print-model\u001b[39;49m\u001b[38;5;124;43m\"\u001b[39;49m\u001b[43m]\u001b[49m\u001b[43m,\u001b[49m\u001b[43m \u001b[49m\n\u001b[1;32m     44\u001b[0m \u001b[43m                        \u001b[49m\u001b[43mstdout\u001b[49m\u001b[38;5;241;43m=\u001b[39;49m\u001b[43msubprocess\u001b[49m\u001b[38;5;241;43m.\u001b[39;49m\u001b[43mPIPE\u001b[49m\u001b[43m,\u001b[49m\u001b[43m \u001b[49m\u001b[43mstderr\u001b[49m\u001b[38;5;241;43m=\u001b[39;49m\u001b[43msubprocess\u001b[49m\u001b[38;5;241;43m.\u001b[39;49m\u001b[43mPIPE\u001b[49m\u001b[43m,\u001b[49m\u001b[43m \u001b[49m\u001b[43mtext\u001b[49m\u001b[38;5;241;43m=\u001b[39;49m\u001b[38;5;28;43;01mTrue\u001b[39;49;00m\u001b[43m)\u001b[49m\n\u001b[1;32m     46\u001b[0m \u001b[38;5;66;03m# Process result\u001b[39;00m\n\u001b[1;32m     47\u001b[0m output \u001b[38;5;241m=\u001b[39m result\u001b[38;5;241m.\u001b[39mstdout\u001b[38;5;241m.\u001b[39msplitlines()\n",
      "File \u001b[0;32m/Library/Frameworks/Python.framework/Versions/3.9/lib/python3.9/subprocess.py:507\u001b[0m, in \u001b[0;36mrun\u001b[0;34m(input, capture_output, timeout, check, *popenargs, **kwargs)\u001b[0m\n\u001b[1;32m    505\u001b[0m \u001b[38;5;28;01mwith\u001b[39;00m Popen(\u001b[38;5;241m*\u001b[39mpopenargs, \u001b[38;5;241m*\u001b[39m\u001b[38;5;241m*\u001b[39mkwargs) \u001b[38;5;28;01mas\u001b[39;00m process:\n\u001b[1;32m    506\u001b[0m     \u001b[38;5;28;01mtry\u001b[39;00m:\n\u001b[0;32m--> 507\u001b[0m         stdout, stderr \u001b[38;5;241m=\u001b[39m \u001b[43mprocess\u001b[49m\u001b[38;5;241;43m.\u001b[39;49m\u001b[43mcommunicate\u001b[49m\u001b[43m(\u001b[49m\u001b[38;5;28;43minput\u001b[39;49m\u001b[43m,\u001b[49m\u001b[43m \u001b[49m\u001b[43mtimeout\u001b[49m\u001b[38;5;241;43m=\u001b[39;49m\u001b[43mtimeout\u001b[49m\u001b[43m)\u001b[49m\n\u001b[1;32m    508\u001b[0m     \u001b[38;5;28;01mexcept\u001b[39;00m TimeoutExpired \u001b[38;5;28;01mas\u001b[39;00m exc:\n\u001b[1;32m    509\u001b[0m         process\u001b[38;5;241m.\u001b[39mkill()\n",
      "File \u001b[0;32m/Library/Frameworks/Python.framework/Versions/3.9/lib/python3.9/subprocess.py:1134\u001b[0m, in \u001b[0;36mPopen.communicate\u001b[0;34m(self, input, timeout)\u001b[0m\n\u001b[1;32m   1131\u001b[0m     endtime \u001b[38;5;241m=\u001b[39m \u001b[38;5;28;01mNone\u001b[39;00m\n\u001b[1;32m   1133\u001b[0m \u001b[38;5;28;01mtry\u001b[39;00m:\n\u001b[0;32m-> 1134\u001b[0m     stdout, stderr \u001b[38;5;241m=\u001b[39m \u001b[38;5;28;43mself\u001b[39;49m\u001b[38;5;241;43m.\u001b[39;49m\u001b[43m_communicate\u001b[49m\u001b[43m(\u001b[49m\u001b[38;5;28;43minput\u001b[39;49m\u001b[43m,\u001b[49m\u001b[43m \u001b[49m\u001b[43mendtime\u001b[49m\u001b[43m,\u001b[49m\u001b[43m \u001b[49m\u001b[43mtimeout\u001b[49m\u001b[43m)\u001b[49m\n\u001b[1;32m   1135\u001b[0m \u001b[38;5;28;01mexcept\u001b[39;00m \u001b[38;5;167;01mKeyboardInterrupt\u001b[39;00m:\n\u001b[1;32m   1136\u001b[0m     \u001b[38;5;66;03m# https://bugs.python.org/issue25942\u001b[39;00m\n\u001b[1;32m   1137\u001b[0m     \u001b[38;5;66;03m# See the detailed comment in .wait().\u001b[39;00m\n\u001b[1;32m   1138\u001b[0m     \u001b[38;5;28;01mif\u001b[39;00m timeout \u001b[38;5;129;01mis\u001b[39;00m \u001b[38;5;129;01mnot\u001b[39;00m \u001b[38;5;28;01mNone\u001b[39;00m:\n",
      "File \u001b[0;32m/Library/Frameworks/Python.framework/Versions/3.9/lib/python3.9/subprocess.py:1979\u001b[0m, in \u001b[0;36mPopen._communicate\u001b[0;34m(self, input, endtime, orig_timeout)\u001b[0m\n\u001b[1;32m   1972\u001b[0m     \u001b[38;5;28mself\u001b[39m\u001b[38;5;241m.\u001b[39m_check_timeout(endtime, orig_timeout,\n\u001b[1;32m   1973\u001b[0m                         stdout, stderr,\n\u001b[1;32m   1974\u001b[0m                         skip_check_and_raise\u001b[38;5;241m=\u001b[39m\u001b[38;5;28;01mTrue\u001b[39;00m)\n\u001b[1;32m   1975\u001b[0m     \u001b[38;5;28;01mraise\u001b[39;00m \u001b[38;5;167;01mRuntimeError\u001b[39;00m(  \u001b[38;5;66;03m# Impossible :)\u001b[39;00m\n\u001b[1;32m   1976\u001b[0m         \u001b[38;5;124m'\u001b[39m\u001b[38;5;124m_check_timeout(..., skip_check_and_raise=True) \u001b[39m\u001b[38;5;124m'\u001b[39m\n\u001b[1;32m   1977\u001b[0m         \u001b[38;5;124m'\u001b[39m\u001b[38;5;124mfailed to raise TimeoutExpired.\u001b[39m\u001b[38;5;124m'\u001b[39m)\n\u001b[0;32m-> 1979\u001b[0m ready \u001b[38;5;241m=\u001b[39m \u001b[43mselector\u001b[49m\u001b[38;5;241;43m.\u001b[39;49m\u001b[43mselect\u001b[49m\u001b[43m(\u001b[49m\u001b[43mtimeout\u001b[49m\u001b[43m)\u001b[49m\n\u001b[1;32m   1980\u001b[0m \u001b[38;5;28mself\u001b[39m\u001b[38;5;241m.\u001b[39m_check_timeout(endtime, orig_timeout, stdout, stderr)\n\u001b[1;32m   1982\u001b[0m \u001b[38;5;66;03m# XXX Rewrite these to use non-blocking I/O on the file\u001b[39;00m\n\u001b[1;32m   1983\u001b[0m \u001b[38;5;66;03m# objects; they are no longer using C stdio!\u001b[39;00m\n",
      "File \u001b[0;32m/Library/Frameworks/Python.framework/Versions/3.9/lib/python3.9/selectors.py:416\u001b[0m, in \u001b[0;36m_PollLikeSelector.select\u001b[0;34m(self, timeout)\u001b[0m\n\u001b[1;32m    414\u001b[0m ready \u001b[38;5;241m=\u001b[39m []\n\u001b[1;32m    415\u001b[0m \u001b[38;5;28;01mtry\u001b[39;00m:\n\u001b[0;32m--> 416\u001b[0m     fd_event_list \u001b[38;5;241m=\u001b[39m \u001b[38;5;28;43mself\u001b[39;49m\u001b[38;5;241;43m.\u001b[39;49m\u001b[43m_selector\u001b[49m\u001b[38;5;241;43m.\u001b[39;49m\u001b[43mpoll\u001b[49m\u001b[43m(\u001b[49m\u001b[43mtimeout\u001b[49m\u001b[43m)\u001b[49m\n\u001b[1;32m    417\u001b[0m \u001b[38;5;28;01mexcept\u001b[39;00m \u001b[38;5;167;01mInterruptedError\u001b[39;00m:\n\u001b[1;32m    418\u001b[0m     \u001b[38;5;28;01mreturn\u001b[39;00m ready\n",
      "\u001b[0;31mKeyboardInterrupt\u001b[0m: "
     ]
    }
   ],
   "source": [
    "import time\n",
    "loandra_path = '/Users/harisrasul/Desktop/loandra'\n",
    "k = 5\n",
    "depths = [2,3,4]\n",
    "# depths = [3,4]\n",
    "# Iterate through each combination of depth and minimum support level\n",
    "for depth in depths:\n",
    "    # Capture the start time\n",
    "    start_time = time.time()\n",
    "    # Execute the k-fold tester\n",
    "    accuracies, mean_score = k_fold_tester_loandra(loandra_path=loandra_path,\n",
    "                                                    k=k, depth=depth, dataset=dataset, \n",
    "                                                    true_labels_for_points=true_labels_for_points, \n",
    "                                                    labels=labels, features=features, features_categorical=features_categorical, features_numerical=features_numerical, \n",
    "                                                    min_support_level=0, complete_tree= False)\n",
    "    # Capture the end time\n",
    "    end_time = time.time()\n",
    "    # Calculate the duration\n",
    "    duration = end_time - start_time\n",
    "    # Print or log the results including the time taken\n",
    "    print(f\"Oblivious Depth: {depth}, Time Taken: {duration:.2f} seconds\")\n",
    "    print(f\"Accuracies: {accuracies}\")\n",
    "    print(f\"Mean Score: {mean_score}\\n\")"
   ]
  },
  {
   "cell_type": "code",
   "execution_count": 2,
   "metadata": {},
   "outputs": [
    {
     "name": "stdout",
     "output_type": "stream",
     "text": [
      "Features: ['0' '1' '2' '3' '4' '5' '6' '7' '8' '9' '10' '11' '12' '13' '14' '15'\n",
      " '16' '17' '18' '19' '20' '21' '22' '23' '24' '25' '26' '27' '28' '29'\n",
      " '30' '31' '32' '33' '34' '35' '36' '37' '38' '39' '40' '41' '42' '43'\n",
      " '44' '45' '46' '47' '48' '49' '50' '51' '52' '53' '54' '55' '56'] (57,)\n",
      "Categorical Features: ['0' '1' '2' '3' '4' '5' '6' '7' '8' '9' '10' '11' '12' '13' '14' '15'\n",
      " '16' '17' '18' '19' '20' '21' '22' '23' '24' '25' '26' '27' '28' '29'\n",
      " '30' '31' '32' '33' '34' '35' '36' '37' '38' '39' '40' '41' '42' '43'\n",
      " '44' '45' '46' '47' '48' '49' '50' '51' '52' '53' '54' '55' '56'] (57,)\n",
      "Numerical Features: [] (106, 0)\n",
      "Labels: [0 1] (2,)\n",
      "True Labels for Points: [0 0 0 0 0 0 0 0 0 0 0 0 0 0 0 0 0 0 0 0 0 0 0 0 0 0 0 0 0 0 0 0 0 0 0 0 0\n",
      " 0 0 0 0 0 0 0 0 0 0 0 0 0 0 0 0 1 1 1 1 1 1 1 1 1 1 1 1 1 1 1 1 1 1 1 1 1\n",
      " 1 1 1 1 1 1 1 1 1 1 1 1 1 1 1 1 1 1 1 1 1 1 1 1 1 1 1 1 1 1 1 1] (106,)\n",
      "Dataset:\n",
      " [['t' 'a' 'c' ... 'c' 'g' 't']\n",
      " ['t' 'g' 'c' ... 'c' 'a' 'a']\n",
      " ['g' 't' 'a' ... 'g' 'c' 'g']\n",
      " ...\n",
      " ['c' 'g' 'c' ... 't' 'c' 'c']\n",
      " ['c' 't' 'c' ... 'a' 'a' 'c']\n",
      " ['t' 'a' 'a' ... 'a' 'c' 't']] (106, 57)\n"
     ]
    }
   ],
   "source": [
    "# Promoter data set\n",
    "file_path = 'Datasets/molecular+biology+promoter+gene+sequences/promoters.data'\n",
    "label_index = 0\n",
    "categorical_feature_index = 2  \n",
    "numerical_indices = None\n",
    "data_loader = TreeDataLoaderWithCategorical(\n",
    "    file_path= file_path,\n",
    "    label_index= label_index,\n",
    "    numerical_indices= numerical_indices,\n",
    "    categorical_feature_index=categorical_feature_index\n",
    ")\n",
    "print(\"Features:\", data_loader.features, data_loader.features.shape)\n",
    "print(\"Categorical Features:\", data_loader.features_categorical, data_loader.features_categorical.shape)\n",
    "print(\"Numerical Features:\", data_loader.features_numerical, data_loader.features_numerical.shape)\n",
    "print(\"Labels:\", data_loader.labels, data_loader.labels.shape)\n",
    "print(\"True Labels for Points:\", data_loader.true_labels_for_points, data_loader.true_labels_for_points.shape)\n",
    "print(\"Dataset:\\n\", data_loader.dataset,data_loader.dataset.shape)\n",
    "features = data_loader.features\n",
    "features_categorical = data_loader.features_categorical\n",
    "features_numerical = data_loader.features_numerical\n",
    "labels = data_loader.labels\n",
    "true_labels_for_points = data_loader.true_labels_for_points\n",
    "dataset = data_loader.dataset"
   ]
  },
  {
   "cell_type": "code",
   "execution_count": 3,
   "metadata": {},
   "outputs": [
    {
     "name": "stderr",
     "output_type": "stream",
     "text": [
      "/Users/harisrasul/Desktop/ESC499-THESIS/ESC499-Thesis-SAT-Trees/SATreeCraft/classification_problems/fixed_height_tree_categorical_module.py:110: FutureWarning: elementwise comparison failed; returning scalar instead, but in the future will perform elementwise comparison\n",
      "  if str(j) in features_numerical:\n"
     ]
    },
    {
     "name": "stdout",
     "output_type": "stream",
     "text": [
      "Iteration complete\n"
     ]
    },
    {
     "name": "stderr",
     "output_type": "stream",
     "text": [
      "/Users/harisrasul/Desktop/ESC499-THESIS/ESC499-Thesis-SAT-Trees/SATreeCraft/classification_problems/fixed_height_tree_categorical_module.py:110: FutureWarning: elementwise comparison failed; returning scalar instead, but in the future will perform elementwise comparison\n",
      "  if str(j) in features_numerical:\n"
     ]
    },
    {
     "name": "stdout",
     "output_type": "stream",
     "text": [
      "Iteration complete\n"
     ]
    },
    {
     "name": "stderr",
     "output_type": "stream",
     "text": [
      "/Users/harisrasul/Desktop/ESC499-THESIS/ESC499-Thesis-SAT-Trees/SATreeCraft/classification_problems/fixed_height_tree_categorical_module.py:110: FutureWarning: elementwise comparison failed; returning scalar instead, but in the future will perform elementwise comparison\n",
      "  if str(j) in features_numerical:\n"
     ]
    },
    {
     "name": "stdout",
     "output_type": "stream",
     "text": [
      "Iteration complete\n"
     ]
    },
    {
     "name": "stderr",
     "output_type": "stream",
     "text": [
      "/Users/harisrasul/Desktop/ESC499-THESIS/ESC499-Thesis-SAT-Trees/SATreeCraft/classification_problems/fixed_height_tree_categorical_module.py:110: FutureWarning: elementwise comparison failed; returning scalar instead, but in the future will perform elementwise comparison\n",
      "  if str(j) in features_numerical:\n"
     ]
    },
    {
     "name": "stdout",
     "output_type": "stream",
     "text": [
      "Iteration complete\n"
     ]
    },
    {
     "name": "stderr",
     "output_type": "stream",
     "text": [
      "/Users/harisrasul/Desktop/ESC499-THESIS/ESC499-Thesis-SAT-Trees/SATreeCraft/classification_problems/fixed_height_tree_categorical_module.py:110: FutureWarning: elementwise comparison failed; returning scalar instead, but in the future will perform elementwise comparison\n",
      "  if str(j) in features_numerical:\n"
     ]
    },
    {
     "name": "stdout",
     "output_type": "stream",
     "text": [
      "Iteration complete\n",
      "Oblivious Depth: 2, Time Taken: 190.17 seconds\n",
      "Accuracies: [0.86363636 0.71428571 0.71428571 0.76190476 0.80952381]\n",
      "Mean Score: 0.7727272727272727\n",
      "\n"
     ]
    },
    {
     "name": "stderr",
     "output_type": "stream",
     "text": [
      "/Users/harisrasul/Desktop/ESC499-THESIS/ESC499-Thesis-SAT-Trees/SATreeCraft/classification_problems/fixed_height_tree_categorical_module.py:110: FutureWarning: elementwise comparison failed; returning scalar instead, but in the future will perform elementwise comparison\n",
      "  if str(j) in features_numerical:\n"
     ]
    },
    {
     "ename": "KeyboardInterrupt",
     "evalue": "",
     "output_type": "error",
     "traceback": [
      "\u001b[0;31m---------------------------------------------------------------------------\u001b[0m",
      "\u001b[0;31mKeyboardInterrupt\u001b[0m                         Traceback (most recent call last)",
      "Input \u001b[0;32mIn [3]\u001b[0m, in \u001b[0;36m<cell line: 7>\u001b[0;34m()\u001b[0m\n\u001b[1;32m      9\u001b[0m start_time \u001b[38;5;241m=\u001b[39m time\u001b[38;5;241m.\u001b[39mtime()\n\u001b[1;32m     10\u001b[0m \u001b[38;5;66;03m# Execute the k-fold tester\u001b[39;00m\n\u001b[0;32m---> 11\u001b[0m accuracies, mean_score \u001b[38;5;241m=\u001b[39m \u001b[43mk_fold_tester_loandra\u001b[49m\u001b[43m(\u001b[49m\u001b[43mloandra_path\u001b[49m\u001b[38;5;241;43m=\u001b[39;49m\u001b[43mloandra_path\u001b[49m\u001b[43m,\u001b[49m\n\u001b[1;32m     12\u001b[0m \u001b[43m                                                \u001b[49m\u001b[43mk\u001b[49m\u001b[38;5;241;43m=\u001b[39;49m\u001b[43mk\u001b[49m\u001b[43m,\u001b[49m\u001b[43m \u001b[49m\u001b[43mdepth\u001b[49m\u001b[38;5;241;43m=\u001b[39;49m\u001b[43mdepth\u001b[49m\u001b[43m,\u001b[49m\u001b[43m \u001b[49m\u001b[43mdataset\u001b[49m\u001b[38;5;241;43m=\u001b[39;49m\u001b[43mdataset\u001b[49m\u001b[43m,\u001b[49m\u001b[43m \u001b[49m\n\u001b[1;32m     13\u001b[0m \u001b[43m                                                \u001b[49m\u001b[43mtrue_labels_for_points\u001b[49m\u001b[38;5;241;43m=\u001b[39;49m\u001b[43mtrue_labels_for_points\u001b[49m\u001b[43m,\u001b[49m\u001b[43m \u001b[49m\n\u001b[1;32m     14\u001b[0m \u001b[43m                                                \u001b[49m\u001b[43mlabels\u001b[49m\u001b[38;5;241;43m=\u001b[39;49m\u001b[43mlabels\u001b[49m\u001b[43m,\u001b[49m\u001b[43m \u001b[49m\u001b[43mfeatures\u001b[49m\u001b[38;5;241;43m=\u001b[39;49m\u001b[43mfeatures\u001b[49m\u001b[43m,\u001b[49m\u001b[43m \u001b[49m\u001b[43mfeatures_categorical\u001b[49m\u001b[38;5;241;43m=\u001b[39;49m\u001b[43mfeatures_categorical\u001b[49m\u001b[43m,\u001b[49m\u001b[43m \u001b[49m\u001b[43mfeatures_numerical\u001b[49m\u001b[38;5;241;43m=\u001b[39;49m\u001b[43mfeatures_numerical\u001b[49m\u001b[43m,\u001b[49m\u001b[43m \u001b[49m\n\u001b[1;32m     15\u001b[0m \u001b[43m                                                \u001b[49m\u001b[43mmin_support_level\u001b[49m\u001b[38;5;241;43m=\u001b[39;49m\u001b[38;5;241;43m0\u001b[39;49m\u001b[43m,\u001b[49m\u001b[43m \u001b[49m\u001b[43mcomplete_tree\u001b[49m\u001b[38;5;241;43m=\u001b[39;49m\u001b[43m \u001b[49m\u001b[38;5;28;43;01mFalse\u001b[39;49;00m\u001b[43m)\u001b[49m\n\u001b[1;32m     16\u001b[0m \u001b[38;5;66;03m# Capture the end time\u001b[39;00m\n\u001b[1;32m     17\u001b[0m end_time \u001b[38;5;241m=\u001b[39m time\u001b[38;5;241m.\u001b[39mtime()\n",
      "File \u001b[0;32m~/Desktop/ESC499-THESIS/ESC499-Thesis-SAT-Trees/SATreeCraft/utils.py:361\u001b[0m, in \u001b[0;36mk_fold_tester_loandra\u001b[0;34m(loandra_path, k, depth, dataset, true_labels_for_points, labels, features, features_categorical, features_numerical, complete_tree, min_support_level, min_margin_level)\u001b[0m\n\u001b[1;32m    349\u001b[0m max_accuracy_problem \u001b[38;5;241m=\u001b[39m SATreeCraft(dataset\u001b[38;5;241m=\u001b[39mX_train,\n\u001b[1;32m    350\u001b[0m                                    features\u001b[38;5;241m=\u001b[39mfeatures,\n\u001b[1;32m    351\u001b[0m                                    labels\u001b[38;5;241m=\u001b[39mlabels,\n\u001b[0;32m   (...)\u001b[0m\n\u001b[1;32m    358\u001b[0m                                    min_margin\u001b[38;5;241m=\u001b[39m min_margin_level,\n\u001b[1;32m    359\u001b[0m                                    tree_structure\u001b[38;5;241m=\u001b[39m tree_structure)\n\u001b[1;32m    360\u001b[0m \u001b[38;5;66;03m# build model\u001b[39;00m\n\u001b[0;32m--> 361\u001b[0m \u001b[43mmax_accuracy_problem\u001b[49m\u001b[38;5;241;43m.\u001b[39;49m\u001b[43msolve_loandra\u001b[49m\u001b[43m(\u001b[49m\u001b[43mloandra_path\u001b[49m\u001b[43m)\u001b[49m\n\u001b[1;32m    362\u001b[0m model \u001b[38;5;241m=\u001b[39m SATreeClassifier(max_accuracy_problem\u001b[38;5;241m.\u001b[39mmodel)\n\u001b[1;32m    364\u001b[0m \u001b[38;5;66;03m# score model on test data\u001b[39;00m\n",
      "File \u001b[0;32m~/Desktop/ESC499-THESIS/ESC499-Thesis-SAT-Trees/SATreeCraft/SATreeCraft.py:659\u001b[0m, in \u001b[0;36mSATreeCraft.solve_loandra\u001b[0;34m(self, loandra_path, execution_path)\u001b[0m\n\u001b[1;32m    652\u001b[0m         \u001b[38;5;28mself\u001b[39m\u001b[38;5;241m.\u001b[39mmodel, \u001b[38;5;28mself\u001b[39m\u001b[38;5;241m.\u001b[39mfinal_literals, \u001b[38;5;28mself\u001b[39m\u001b[38;5;241m.\u001b[39mmin_depth, \u001b[38;5;28mself\u001b[39m\u001b[38;5;241m.\u001b[39msat_solution, \u001b[38;5;28mself\u001b[39m\u001b[38;5;241m.\u001b[39mfinal_cnf \u001b[38;5;241m=\u001b[39m \u001b[38;5;28mself\u001b[39m\u001b[38;5;241m.\u001b[39mfind_min_depth_tree_categorical_problem_loandra(\u001b[38;5;28mself\u001b[39m\u001b[38;5;241m.\u001b[39mfeatures, \n\u001b[1;32m    653\u001b[0m                                                                                                   \u001b[38;5;28mself\u001b[39m\u001b[38;5;241m.\u001b[39mfeatures_categorical, \n\u001b[1;32m    654\u001b[0m                                                                                                   \u001b[38;5;28mself\u001b[39m\u001b[38;5;241m.\u001b[39mfeatures_numerical, \n\u001b[1;32m    655\u001b[0m                                                                                                   \u001b[38;5;28mself\u001b[39m\u001b[38;5;241m.\u001b[39mlabels, \u001b[38;5;28mself\u001b[39m\u001b[38;5;241m.\u001b[39mtrue_labels_for_points, \u001b[38;5;28mself\u001b[39m\u001b[38;5;241m.\u001b[39mdataset,\n\u001b[1;32m    656\u001b[0m                                                                                                   loandra_path,\n\u001b[1;32m    657\u001b[0m                                                                                                   execution_path)\n\u001b[1;32m    658\u001b[0m     \u001b[38;5;28;01melse\u001b[39;00m: \u001b[38;5;66;03m# Max accuracy problem\u001b[39;00m\n\u001b[0;32m--> 659\u001b[0m         \u001b[38;5;28mself\u001b[39m\u001b[38;5;241m.\u001b[39mmodel, \u001b[38;5;28mself\u001b[39m\u001b[38;5;241m.\u001b[39mfinal_literals, \u001b[38;5;28mself\u001b[39m\u001b[38;5;241m.\u001b[39mfixed_depth, \u001b[38;5;28mself\u001b[39m\u001b[38;5;241m.\u001b[39msat_solution, \u001b[38;5;28mself\u001b[39m\u001b[38;5;241m.\u001b[39mmin_cost, \u001b[38;5;28mself\u001b[39m\u001b[38;5;241m.\u001b[39mfinal_cnf \u001b[38;5;241m=\u001b[39m \u001b[38;5;28;43mself\u001b[39;49m\u001b[38;5;241;43m.\u001b[39;49m\u001b[43mfind_fixed_depth_tree_categorical_problem_loandra\u001b[49m\u001b[43m(\u001b[49m\u001b[38;5;28;43mself\u001b[39;49m\u001b[38;5;241;43m.\u001b[39;49m\u001b[43mfeatures\u001b[49m\u001b[43m,\u001b[49m\u001b[43m \u001b[49m\n\u001b[1;32m    660\u001b[0m \u001b[43m                                                                                                  \u001b[49m\u001b[38;5;28;43mself\u001b[39;49m\u001b[38;5;241;43m.\u001b[39;49m\u001b[43mfeatures_categorical\u001b[49m\u001b[43m,\u001b[49m\u001b[43m \u001b[49m\n\u001b[1;32m    661\u001b[0m \u001b[43m                                                                                                  \u001b[49m\u001b[38;5;28;43mself\u001b[39;49m\u001b[38;5;241;43m.\u001b[39;49m\u001b[43mfeatures_numerical\u001b[49m\u001b[43m,\u001b[49m\u001b[43m \u001b[49m\n\u001b[1;32m    662\u001b[0m \u001b[43m                                                                                                  \u001b[49m\u001b[38;5;28;43mself\u001b[39;49m\u001b[38;5;241;43m.\u001b[39;49m\u001b[43mlabels\u001b[49m\u001b[43m,\u001b[49m\u001b[43m \u001b[49m\n\u001b[1;32m    663\u001b[0m \u001b[43m                                                                                                  \u001b[49m\u001b[38;5;28;43mself\u001b[39;49m\u001b[38;5;241;43m.\u001b[39;49m\u001b[43mtrue_labels_for_points\u001b[49m\u001b[43m,\u001b[49m\u001b[43m \u001b[49m\n\u001b[1;32m    664\u001b[0m \u001b[43m                                                                                                  \u001b[49m\u001b[38;5;28;43mself\u001b[39;49m\u001b[38;5;241;43m.\u001b[39;49m\u001b[43mdataset\u001b[49m\u001b[43m,\u001b[49m\u001b[43m \u001b[49m\n\u001b[1;32m    665\u001b[0m \u001b[43m                                                                                                  \u001b[49m\u001b[38;5;28;43mself\u001b[39;49m\u001b[38;5;241;43m.\u001b[39;49m\u001b[43mfixed_depth\u001b[49m\u001b[43m,\u001b[49m\n\u001b[1;32m    666\u001b[0m \u001b[43m                                                                                                  \u001b[49m\u001b[43mloandra_path\u001b[49m\u001b[43m,\u001b[49m\n\u001b[1;32m    667\u001b[0m \u001b[43m                                                                                                  \u001b[49m\u001b[43mexecution_path\u001b[49m\u001b[43m)\u001b[49m\n\u001b[1;32m    668\u001b[0m \u001b[38;5;28;01melse\u001b[39;00m: \u001b[38;5;66;03m# numerical feature dataset strictly\u001b[39;00m\n\u001b[1;32m    669\u001b[0m     \u001b[38;5;28;01mif\u001b[39;00m \u001b[38;5;28mself\u001b[39m\u001b[38;5;241m.\u001b[39mclassification_objective \u001b[38;5;241m==\u001b[39m \u001b[38;5;124m'\u001b[39m\u001b[38;5;124mmin_height\u001b[39m\u001b[38;5;124m'\u001b[39m:\n",
      "File \u001b[0;32m~/Desktop/ESC499-THESIS/ESC499-Thesis-SAT-Trees/SATreeCraft/SATreeCraft.py:510\u001b[0m, in \u001b[0;36mSATreeCraft.find_fixed_depth_tree_categorical_problem_loandra\u001b[0;34m(self, features, features_categorical, features_numerical, labels, true_labels_for_points, dataset, depth, loandra_path, execution_path)\u001b[0m\n\u001b[1;32m    508\u001b[0m \u001b[38;5;66;03m# LOANDRA SUPPORT - EXPORT FILE \u001b[39;00m\n\u001b[1;32m    509\u001b[0m wcnf\u001b[38;5;241m.\u001b[39mto_file(execution_path)\n\u001b[0;32m--> 510\u001b[0m solution,cost \u001b[38;5;241m=\u001b[39m \u001b[43mrun_loandra_and_parse_results\u001b[49m\u001b[43m(\u001b[49m\u001b[43mloandra_path\u001b[49m\u001b[43m,\u001b[49m\u001b[43m \u001b[49m\u001b[43mexecution_path\u001b[49m\u001b[43m)\u001b[49m\n\u001b[1;32m    511\u001b[0m solution \u001b[38;5;241m=\u001b[39m transform_tree_from_loandra(solution, literals, TL, tree, labels,features,dataset)\n\u001b[1;32m    513\u001b[0m \u001b[38;5;28;01mif\u001b[39;00m solution \u001b[38;5;241m!=\u001b[39m \u001b[38;5;124m\"\u001b[39m\u001b[38;5;124mNo solution exists\u001b[39m\u001b[38;5;124m\"\u001b[39m:\n",
      "File \u001b[0;32m~/Desktop/ESC499-THESIS/ESC499-Thesis-SAT-Trees/SATreeCraft/loandra_support/loandra.py:43\u001b[0m, in \u001b[0;36mrun_loandra_and_parse_results\u001b[0;34m(loandra_path, execution_path)\u001b[0m\n\u001b[1;32m     40\u001b[0m full_execution_path \u001b[38;5;241m=\u001b[39m os\u001b[38;5;241m.\u001b[39mpath\u001b[38;5;241m.\u001b[39mabspath(execution_path)\n\u001b[1;32m     42\u001b[0m \u001b[38;5;66;03m# Run the Loandra command with absolute paths\u001b[39;00m\n\u001b[0;32m---> 43\u001b[0m result \u001b[38;5;241m=\u001b[39m \u001b[43msubprocess\u001b[49m\u001b[38;5;241;43m.\u001b[39;49m\u001b[43mrun\u001b[49m\u001b[43m(\u001b[49m\u001b[43m[\u001b[49m\u001b[43mloandra_executable\u001b[49m\u001b[43m,\u001b[49m\u001b[43m \u001b[49m\u001b[43mfull_execution_path\u001b[49m\u001b[43m,\u001b[49m\u001b[43m \u001b[49m\u001b[38;5;124;43m\"\u001b[39;49m\u001b[38;5;124;43m-print-model\u001b[39;49m\u001b[38;5;124;43m\"\u001b[39;49m\u001b[43m]\u001b[49m\u001b[43m,\u001b[49m\u001b[43m \u001b[49m\n\u001b[1;32m     44\u001b[0m \u001b[43m                        \u001b[49m\u001b[43mstdout\u001b[49m\u001b[38;5;241;43m=\u001b[39;49m\u001b[43msubprocess\u001b[49m\u001b[38;5;241;43m.\u001b[39;49m\u001b[43mPIPE\u001b[49m\u001b[43m,\u001b[49m\u001b[43m \u001b[49m\u001b[43mstderr\u001b[49m\u001b[38;5;241;43m=\u001b[39;49m\u001b[43msubprocess\u001b[49m\u001b[38;5;241;43m.\u001b[39;49m\u001b[43mPIPE\u001b[49m\u001b[43m,\u001b[49m\u001b[43m \u001b[49m\u001b[43mtext\u001b[49m\u001b[38;5;241;43m=\u001b[39;49m\u001b[38;5;28;43;01mTrue\u001b[39;49;00m\u001b[43m)\u001b[49m\n\u001b[1;32m     46\u001b[0m \u001b[38;5;66;03m# Process result\u001b[39;00m\n\u001b[1;32m     47\u001b[0m output \u001b[38;5;241m=\u001b[39m result\u001b[38;5;241m.\u001b[39mstdout\u001b[38;5;241m.\u001b[39msplitlines()\n",
      "File \u001b[0;32m/Library/Frameworks/Python.framework/Versions/3.9/lib/python3.9/subprocess.py:507\u001b[0m, in \u001b[0;36mrun\u001b[0;34m(input, capture_output, timeout, check, *popenargs, **kwargs)\u001b[0m\n\u001b[1;32m    505\u001b[0m \u001b[38;5;28;01mwith\u001b[39;00m Popen(\u001b[38;5;241m*\u001b[39mpopenargs, \u001b[38;5;241m*\u001b[39m\u001b[38;5;241m*\u001b[39mkwargs) \u001b[38;5;28;01mas\u001b[39;00m process:\n\u001b[1;32m    506\u001b[0m     \u001b[38;5;28;01mtry\u001b[39;00m:\n\u001b[0;32m--> 507\u001b[0m         stdout, stderr \u001b[38;5;241m=\u001b[39m \u001b[43mprocess\u001b[49m\u001b[38;5;241;43m.\u001b[39;49m\u001b[43mcommunicate\u001b[49m\u001b[43m(\u001b[49m\u001b[38;5;28;43minput\u001b[39;49m\u001b[43m,\u001b[49m\u001b[43m \u001b[49m\u001b[43mtimeout\u001b[49m\u001b[38;5;241;43m=\u001b[39;49m\u001b[43mtimeout\u001b[49m\u001b[43m)\u001b[49m\n\u001b[1;32m    508\u001b[0m     \u001b[38;5;28;01mexcept\u001b[39;00m TimeoutExpired \u001b[38;5;28;01mas\u001b[39;00m exc:\n\u001b[1;32m    509\u001b[0m         process\u001b[38;5;241m.\u001b[39mkill()\n",
      "File \u001b[0;32m/Library/Frameworks/Python.framework/Versions/3.9/lib/python3.9/subprocess.py:1134\u001b[0m, in \u001b[0;36mPopen.communicate\u001b[0;34m(self, input, timeout)\u001b[0m\n\u001b[1;32m   1131\u001b[0m     endtime \u001b[38;5;241m=\u001b[39m \u001b[38;5;28;01mNone\u001b[39;00m\n\u001b[1;32m   1133\u001b[0m \u001b[38;5;28;01mtry\u001b[39;00m:\n\u001b[0;32m-> 1134\u001b[0m     stdout, stderr \u001b[38;5;241m=\u001b[39m \u001b[38;5;28;43mself\u001b[39;49m\u001b[38;5;241;43m.\u001b[39;49m\u001b[43m_communicate\u001b[49m\u001b[43m(\u001b[49m\u001b[38;5;28;43minput\u001b[39;49m\u001b[43m,\u001b[49m\u001b[43m \u001b[49m\u001b[43mendtime\u001b[49m\u001b[43m,\u001b[49m\u001b[43m \u001b[49m\u001b[43mtimeout\u001b[49m\u001b[43m)\u001b[49m\n\u001b[1;32m   1135\u001b[0m \u001b[38;5;28;01mexcept\u001b[39;00m \u001b[38;5;167;01mKeyboardInterrupt\u001b[39;00m:\n\u001b[1;32m   1136\u001b[0m     \u001b[38;5;66;03m# https://bugs.python.org/issue25942\u001b[39;00m\n\u001b[1;32m   1137\u001b[0m     \u001b[38;5;66;03m# See the detailed comment in .wait().\u001b[39;00m\n\u001b[1;32m   1138\u001b[0m     \u001b[38;5;28;01mif\u001b[39;00m timeout \u001b[38;5;129;01mis\u001b[39;00m \u001b[38;5;129;01mnot\u001b[39;00m \u001b[38;5;28;01mNone\u001b[39;00m:\n",
      "File \u001b[0;32m/Library/Frameworks/Python.framework/Versions/3.9/lib/python3.9/subprocess.py:1979\u001b[0m, in \u001b[0;36mPopen._communicate\u001b[0;34m(self, input, endtime, orig_timeout)\u001b[0m\n\u001b[1;32m   1972\u001b[0m     \u001b[38;5;28mself\u001b[39m\u001b[38;5;241m.\u001b[39m_check_timeout(endtime, orig_timeout,\n\u001b[1;32m   1973\u001b[0m                         stdout, stderr,\n\u001b[1;32m   1974\u001b[0m                         skip_check_and_raise\u001b[38;5;241m=\u001b[39m\u001b[38;5;28;01mTrue\u001b[39;00m)\n\u001b[1;32m   1975\u001b[0m     \u001b[38;5;28;01mraise\u001b[39;00m \u001b[38;5;167;01mRuntimeError\u001b[39;00m(  \u001b[38;5;66;03m# Impossible :)\u001b[39;00m\n\u001b[1;32m   1976\u001b[0m         \u001b[38;5;124m'\u001b[39m\u001b[38;5;124m_check_timeout(..., skip_check_and_raise=True) \u001b[39m\u001b[38;5;124m'\u001b[39m\n\u001b[1;32m   1977\u001b[0m         \u001b[38;5;124m'\u001b[39m\u001b[38;5;124mfailed to raise TimeoutExpired.\u001b[39m\u001b[38;5;124m'\u001b[39m)\n\u001b[0;32m-> 1979\u001b[0m ready \u001b[38;5;241m=\u001b[39m \u001b[43mselector\u001b[49m\u001b[38;5;241;43m.\u001b[39;49m\u001b[43mselect\u001b[49m\u001b[43m(\u001b[49m\u001b[43mtimeout\u001b[49m\u001b[43m)\u001b[49m\n\u001b[1;32m   1980\u001b[0m \u001b[38;5;28mself\u001b[39m\u001b[38;5;241m.\u001b[39m_check_timeout(endtime, orig_timeout, stdout, stderr)\n\u001b[1;32m   1982\u001b[0m \u001b[38;5;66;03m# XXX Rewrite these to use non-blocking I/O on the file\u001b[39;00m\n\u001b[1;32m   1983\u001b[0m \u001b[38;5;66;03m# objects; they are no longer using C stdio!\u001b[39;00m\n",
      "File \u001b[0;32m/Library/Frameworks/Python.framework/Versions/3.9/lib/python3.9/selectors.py:416\u001b[0m, in \u001b[0;36m_PollLikeSelector.select\u001b[0;34m(self, timeout)\u001b[0m\n\u001b[1;32m    414\u001b[0m ready \u001b[38;5;241m=\u001b[39m []\n\u001b[1;32m    415\u001b[0m \u001b[38;5;28;01mtry\u001b[39;00m:\n\u001b[0;32m--> 416\u001b[0m     fd_event_list \u001b[38;5;241m=\u001b[39m \u001b[38;5;28;43mself\u001b[39;49m\u001b[38;5;241;43m.\u001b[39;49m\u001b[43m_selector\u001b[49m\u001b[38;5;241;43m.\u001b[39;49m\u001b[43mpoll\u001b[49m\u001b[43m(\u001b[49m\u001b[43mtimeout\u001b[49m\u001b[43m)\u001b[49m\n\u001b[1;32m    417\u001b[0m \u001b[38;5;28;01mexcept\u001b[39;00m \u001b[38;5;167;01mInterruptedError\u001b[39;00m:\n\u001b[1;32m    418\u001b[0m     \u001b[38;5;28;01mreturn\u001b[39;00m ready\n",
      "\u001b[0;31mKeyboardInterrupt\u001b[0m: "
     ]
    }
   ],
   "source": [
    "import time\n",
    "loandra_path = '/Users/harisrasul/Desktop/loandra'\n",
    "k = 5\n",
    "depths = [2,3,4]\n",
    "# depths = [3,4]\n",
    "# Iterate through each combination of depth and minimum support level\n",
    "for depth in depths:\n",
    "    # Capture the start time\n",
    "    start_time = time.time()\n",
    "    # Execute the k-fold tester\n",
    "    accuracies, mean_score = k_fold_tester_loandra(loandra_path=loandra_path,\n",
    "                                                    k=k, depth=depth, dataset=dataset, \n",
    "                                                    true_labels_for_points=true_labels_for_points, \n",
    "                                                    labels=labels, features=features, features_categorical=features_categorical, features_numerical=features_numerical, \n",
    "                                                    min_support_level=0, complete_tree= False)\n",
    "    # Capture the end time\n",
    "    end_time = time.time()\n",
    "    # Calculate the duration\n",
    "    duration = end_time - start_time\n",
    "    # Print or log the results including the time taken\n",
    "    print(f\"Oblivious Depth: {depth}, Time Taken: {duration:.2f} seconds\")\n",
    "    print(f\"Accuracies: {accuracies}\")\n",
    "    print(f\"Mean Score: {mean_score}\\n\")"
   ]
  },
  {
   "cell_type": "code",
   "execution_count": 4,
   "metadata": {},
   "outputs": [
    {
     "name": "stdout",
     "output_type": "stream",
     "text": [
      "Features: ['0' '1' '2' '3' '4' '5' '6' '7']\n",
      "Categorical Features: ['0' '1' '2' '3' '4' '5' '6' '7']\n",
      "Numerical Features: []\n",
      "Labels: [0 1]\n",
      "True Labels for Points: [0 0 0 0 0 0 0 1 0 0 0 1 1 1 1 1 1 1 1 0 0 0 1 1 0 0 0 0 0 1 1 1 1 1 1 1 1\n",
      " 0 1 1 1 1 1 1 1 0 1 1 1 0 0 1 1 1 1 1 1 1 0 1 1 1 1 1 0 1 0 0 1 1 1 1 1 1\n",
      " 1 1 1 1 1 1 1 1 1 1 1 1 0 1 1 0 0 0 1 1 1 1 0 1 1 0 0 0 0 0 0 0 0 0 0 0 0\n",
      " 0 0 0 0 0 0 0 0 1 0 1 0 0 0 0 1 1 0 1 1 0 1 0 1 0 0 0 1 0 1 0 1 1 1 0 1 0\n",
      " 0 0 0 1 1 0 0 0 0 0 1 0 1 0 0 0 0 0 0 1 1 1 1 1 1 1 1 0 1 0 1 1 0 1 1 0 1\n",
      " 1 0 0 0 0 1 1 1 0 1 1 0 0 0 0 0 0 0 0 0 1 0 0 0 0 0 0 0 0 0 0 0 1 1 1 0 1\n",
      " 0 0 0 1 0 1 0 0 0 0 0 0 0 0 0 1 0 1 0 0 0 0 0 0 0 0 0 0 0 0 0 0 1 1 0 0 0\n",
      " 1 0 0 0 0 0 0 0 0 0 0 0 0 0 0 0 0 0 0 0 1 0 0 1 1 0 1 0 1 0 1 0 0 0 0 0 1\n",
      " 0 0 0 0 0 1 1 0 0 0 0 1 0 0 0 0 0 0 0 0 0 0 0 0 0 0 1 0 0 0 1 0 0 0 0 0 0\n",
      " 0 1 1 1 1 1 1 1 1 1 0 1 1 1 1 1 1 1 1 1 1 1 1 1 1 1 1 1 1 1 1 1 1 1 1 1 1\n",
      " 1 1 1 1 1 1 1 1 1 1 1 1 0 1 1 1 1 1 1 1 1 1 1 1 0 1 1 1 1 1 1 1 1 0 1 1 1\n",
      " 1 1 1 1 1 1 1 1 1 1 1 1 1 1 1 1 1 1 1 0 1 0 0 0 1 0 0 0 0 0 1 0 0 1 1 0 0\n",
      " 1 0 0 0 0 0 0 1 0 0 0 0 1 1 0 0 0 0 1 0 1 1 1 1 1 1 1 0 0 0 0 0 0 1 1 1 1\n",
      " 1 1 1 0 1 0 1 1 1 1 1 1 1 1 1 1 1 1 1 1 1 1 1 1 1 1 1 1 1 1 1 1 1 1 1 1 1\n",
      " 1 0 0 1 0 1 1 1 1 1 1 1 1 1 0 1 1 1 1 1 1 1 1 1 1 1 0 1 1 1 1 1 0 1 1 1 1\n",
      " 0 1 1 1 1 1 0 1 1 1 1 1 0 0 1 1 0 0 1 1 0 1 1 0 0 0 1 1 1 0 1 0 1 1 1 1 0\n",
      " 0 1 1 1 0 0 1 0 0 1 1 1 1 1 1 1 1 1 1 1 0 1 1 1 1 1 1 1 1 1 1 0 1 1 1 1 1\n",
      " 1 1 1 0 0 1 0 0 0 0 0 1 0 0 0 0 0 0 0 0 1 0 0 0 1 0 0 1 0 0 1 1 0 1 0 1 1\n",
      " 1 0 1 1 0 1 1 1 1 1 0 1 1 0 1 1 1 1 1 1 1 1 1 0 0 0 0 0 0 0 0 1 1 1 0 1 0\n",
      " 1 0 1 0 0 0 0 0 0 1 1 0 0 0 0 1 0 0 0 0 0 0 0 0 0 0 0 0 0 0 0 0 1 1 0 0 0\n",
      " 0 0 0 0 0 0]\n",
      "Dataset:\n",
      " [['A' 'A' 'A' ... 'E' 'R' 'Q']\n",
      " ['A' 'A' 'A' ... 'R' 'H' 'G']\n",
      " ['A' 'A' 'A' ... 'S' 'A' 'I']\n",
      " ...\n",
      " ['Y' 'S' 'L' ... 'W' 'V' 'C']\n",
      " ['Y' 'S' 'T' ... 'I' 'T' 'D']\n",
      " ['Y' 'V' 'P' ... 'F' 'D' 'A']] (746, 8)\n"
     ]
    }
   ],
   "source": [
    "file_path = 'Datasets/hiv+1+protease+cleavage/746Data.txt'\n",
    "label_index = 1\n",
    "categorical_feature_index = 0  # The features are a string at the third element\n",
    "numerical_indices = None\n",
    "data_loader = TreeDataLoaderWithCategorical(\n",
    "    file_path= file_path,\n",
    "    label_index= label_index,\n",
    "    numerical_indices= numerical_indices,\n",
    "    categorical_feature_index=categorical_feature_index\n",
    ")\n",
    "# Accessing the processed data\n",
    "print(\"Features:\", data_loader.features)\n",
    "print(\"Categorical Features:\", data_loader.features_categorical)\n",
    "print(\"Numerical Features:\", data_loader.features_numerical)\n",
    "print(\"Labels:\", data_loader.labels)\n",
    "print(\"True Labels for Points:\", data_loader.true_labels_for_points)\n",
    "print(\"Dataset:\\n\", data_loader.dataset,data_loader.dataset.shape)\n",
    "\n",
    "features = data_loader.features\n",
    "features_categorical = data_loader.features_categorical\n",
    "features_numerical = data_loader.features_numerical\n",
    "labels = data_loader.labels\n",
    "true_labels_for_points = data_loader.true_labels_for_points\n",
    "dataset = data_loader.dataset\n",
    "\n",
    "dataset = dataset[3::4]\n",
    "true_labels_for_points = true_labels_for_points[3::4]"
   ]
  },
  {
   "cell_type": "code",
   "execution_count": 5,
   "metadata": {},
   "outputs": [
    {
     "name": "stdout",
     "output_type": "stream",
     "text": [
      "Iteration complete\n"
     ]
    },
    {
     "name": "stderr",
     "output_type": "stream",
     "text": [
      "/Users/harisrasul/Desktop/ESC499-THESIS/ESC499-Thesis-SAT-Trees/SATreeCraft/classification_problems/fixed_height_tree_categorical_module.py:110: FutureWarning: elementwise comparison failed; returning scalar instead, but in the future will perform elementwise comparison\n",
      "  if str(j) in features_numerical:\n"
     ]
    },
    {
     "name": "stdout",
     "output_type": "stream",
     "text": [
      "Iteration complete\n"
     ]
    },
    {
     "name": "stderr",
     "output_type": "stream",
     "text": [
      "/Users/harisrasul/Desktop/ESC499-THESIS/ESC499-Thesis-SAT-Trees/SATreeCraft/classification_problems/fixed_height_tree_categorical_module.py:110: FutureWarning: elementwise comparison failed; returning scalar instead, but in the future will perform elementwise comparison\n",
      "  if str(j) in features_numerical:\n"
     ]
    },
    {
     "name": "stdout",
     "output_type": "stream",
     "text": [
      "Iteration complete\n"
     ]
    },
    {
     "name": "stderr",
     "output_type": "stream",
     "text": [
      "/Users/harisrasul/Desktop/ESC499-THESIS/ESC499-Thesis-SAT-Trees/SATreeCraft/classification_problems/fixed_height_tree_categorical_module.py:110: FutureWarning: elementwise comparison failed; returning scalar instead, but in the future will perform elementwise comparison\n",
      "  if str(j) in features_numerical:\n"
     ]
    },
    {
     "name": "stdout",
     "output_type": "stream",
     "text": [
      "Iteration complete\n"
     ]
    },
    {
     "name": "stderr",
     "output_type": "stream",
     "text": [
      "/Users/harisrasul/Desktop/ESC499-THESIS/ESC499-Thesis-SAT-Trees/SATreeCraft/classification_problems/fixed_height_tree_categorical_module.py:110: FutureWarning: elementwise comparison failed; returning scalar instead, but in the future will perform elementwise comparison\n",
      "  if str(j) in features_numerical:\n"
     ]
    },
    {
     "name": "stdout",
     "output_type": "stream",
     "text": [
      "Iteration complete\n",
      "Oblivious Depth: 2, Time Taken: 12.72 seconds\n",
      "Accuracies: [0.76315789 0.81081081 0.89189189 0.7027027  0.59459459]\n",
      "Mean Score: 0.7526315789473685\n",
      "\n"
     ]
    },
    {
     "name": "stderr",
     "output_type": "stream",
     "text": [
      "/Users/harisrasul/Desktop/ESC499-THESIS/ESC499-Thesis-SAT-Trees/SATreeCraft/classification_problems/fixed_height_tree_categorical_module.py:110: FutureWarning: elementwise comparison failed; returning scalar instead, but in the future will perform elementwise comparison\n",
      "  if str(j) in features_numerical:\n"
     ]
    },
    {
     "name": "stdout",
     "output_type": "stream",
     "text": [
      "Iteration complete\n"
     ]
    },
    {
     "name": "stderr",
     "output_type": "stream",
     "text": [
      "/Users/harisrasul/Desktop/ESC499-THESIS/ESC499-Thesis-SAT-Trees/SATreeCraft/classification_problems/fixed_height_tree_categorical_module.py:110: FutureWarning: elementwise comparison failed; returning scalar instead, but in the future will perform elementwise comparison\n",
      "  if str(j) in features_numerical:\n"
     ]
    },
    {
     "name": "stdout",
     "output_type": "stream",
     "text": [
      "Iteration complete\n"
     ]
    },
    {
     "name": "stderr",
     "output_type": "stream",
     "text": [
      "/Users/harisrasul/Desktop/ESC499-THESIS/ESC499-Thesis-SAT-Trees/SATreeCraft/classification_problems/fixed_height_tree_categorical_module.py:110: FutureWarning: elementwise comparison failed; returning scalar instead, but in the future will perform elementwise comparison\n",
      "  if str(j) in features_numerical:\n"
     ]
    },
    {
     "name": "stdout",
     "output_type": "stream",
     "text": [
      "Iteration complete\n"
     ]
    },
    {
     "name": "stderr",
     "output_type": "stream",
     "text": [
      "/Users/harisrasul/Desktop/ESC499-THESIS/ESC499-Thesis-SAT-Trees/SATreeCraft/classification_problems/fixed_height_tree_categorical_module.py:110: FutureWarning: elementwise comparison failed; returning scalar instead, but in the future will perform elementwise comparison\n",
      "  if str(j) in features_numerical:\n"
     ]
    },
    {
     "name": "stdout",
     "output_type": "stream",
     "text": [
      "Iteration complete\n"
     ]
    },
    {
     "name": "stderr",
     "output_type": "stream",
     "text": [
      "/Users/harisrasul/Desktop/ESC499-THESIS/ESC499-Thesis-SAT-Trees/SATreeCraft/classification_problems/fixed_height_tree_categorical_module.py:110: FutureWarning: elementwise comparison failed; returning scalar instead, but in the future will perform elementwise comparison\n",
      "  if str(j) in features_numerical:\n"
     ]
    },
    {
     "name": "stdout",
     "output_type": "stream",
     "text": [
      "Iteration complete\n",
      "Oblivious Depth: 3, Time Taken: 8.86 seconds\n",
      "Accuracies: [0.63157895 0.67567568 0.75675676 0.78378378 0.75675676]\n",
      "Mean Score: 0.7209103840682788\n",
      "\n"
     ]
    },
    {
     "name": "stderr",
     "output_type": "stream",
     "text": [
      "/Users/harisrasul/Desktop/ESC499-THESIS/ESC499-Thesis-SAT-Trees/SATreeCraft/classification_problems/fixed_height_tree_categorical_module.py:110: FutureWarning: elementwise comparison failed; returning scalar instead, but in the future will perform elementwise comparison\n",
      "  if str(j) in features_numerical:\n"
     ]
    },
    {
     "name": "stdout",
     "output_type": "stream",
     "text": [
      "Iteration complete\n"
     ]
    },
    {
     "name": "stderr",
     "output_type": "stream",
     "text": [
      "/Users/harisrasul/Desktop/ESC499-THESIS/ESC499-Thesis-SAT-Trees/SATreeCraft/classification_problems/fixed_height_tree_categorical_module.py:110: FutureWarning: elementwise comparison failed; returning scalar instead, but in the future will perform elementwise comparison\n",
      "  if str(j) in features_numerical:\n"
     ]
    },
    {
     "name": "stdout",
     "output_type": "stream",
     "text": [
      "Iteration complete\n"
     ]
    },
    {
     "name": "stderr",
     "output_type": "stream",
     "text": [
      "/Users/harisrasul/Desktop/ESC499-THESIS/ESC499-Thesis-SAT-Trees/SATreeCraft/classification_problems/fixed_height_tree_categorical_module.py:110: FutureWarning: elementwise comparison failed; returning scalar instead, but in the future will perform elementwise comparison\n",
      "  if str(j) in features_numerical:\n"
     ]
    },
    {
     "name": "stdout",
     "output_type": "stream",
     "text": [
      "Iteration complete\n"
     ]
    },
    {
     "name": "stderr",
     "output_type": "stream",
     "text": [
      "/Users/harisrasul/Desktop/ESC499-THESIS/ESC499-Thesis-SAT-Trees/SATreeCraft/classification_problems/fixed_height_tree_categorical_module.py:110: FutureWarning: elementwise comparison failed; returning scalar instead, but in the future will perform elementwise comparison\n",
      "  if str(j) in features_numerical:\n"
     ]
    },
    {
     "name": "stdout",
     "output_type": "stream",
     "text": [
      "Iteration complete\n"
     ]
    },
    {
     "name": "stderr",
     "output_type": "stream",
     "text": [
      "/Users/harisrasul/Desktop/ESC499-THESIS/ESC499-Thesis-SAT-Trees/SATreeCraft/classification_problems/fixed_height_tree_categorical_module.py:110: FutureWarning: elementwise comparison failed; returning scalar instead, but in the future will perform elementwise comparison\n",
      "  if str(j) in features_numerical:\n"
     ]
    },
    {
     "name": "stdout",
     "output_type": "stream",
     "text": [
      "Iteration complete\n",
      "Oblivious Depth: 4, Time Taken: 5.66 seconds\n",
      "Accuracies: [0.63157895 0.72972973 0.7027027  0.54054054 0.59459459]\n",
      "Mean Score: 0.6398293029871978\n",
      "\n"
     ]
    }
   ],
   "source": [
    "import time\n",
    "loandra_path = '/Users/harisrasul/Desktop/loandra'\n",
    "k = 5\n",
    "depths = [2,3,4]\n",
    "# depths = [3,4]\n",
    "# Iterate through each combination of depth and minimum support level\n",
    "for depth in depths:\n",
    "    # Capture the start time\n",
    "    start_time = time.time()\n",
    "    # Execute the k-fold tester\n",
    "    accuracies, mean_score = k_fold_tester_loandra(loandra_path=loandra_path,\n",
    "                                                    k=k, depth=depth, dataset=dataset, \n",
    "                                                    true_labels_for_points=true_labels_for_points, \n",
    "                                                    labels=labels, features=features, features_categorical=features_categorical, features_numerical=features_numerical, \n",
    "                                                    min_support_level=0, complete_tree= False)\n",
    "    # Capture the end time\n",
    "    end_time = time.time()\n",
    "    # Calculate the duration\n",
    "    duration = end_time - start_time\n",
    "    # Print or log the results including the time taken\n",
    "    print(f\"Oblivious Depth: {depth}, Time Taken: {duration:.2f} seconds\")\n",
    "    print(f\"Accuracies: {accuracies}\")\n",
    "    print(f\"Mean Score: {mean_score}\\n\")"
   ]
  },
  {
   "cell_type": "code",
   "execution_count": 6,
   "metadata": {},
   "outputs": [
    {
     "name": "stdout",
     "output_type": "stream",
     "text": [
      "Features: ['0' '1' '2' '3' '4' '5' '6' '7' '8' '9' '10' '11' '12' '13' '14' '15'\n",
      " '16' '17' '18' '19' '20' '21' '22' '23' '24' '25' '26' '27' '28' '29'\n",
      " '30' '31' '32' '33' '34'] (35,)\n",
      "Categorical Features: ['0' '1' '2' '3' '4' '5' '6' '7' '8' '9' '10' '11' '12' '13' '14' '15'\n",
      " '16' '17' '18' '19' '20' '21' '22' '23' '24' '25' '26' '27' '28' '29'\n",
      " '30' '31' '32' '33' '34'] (35,)\n",
      "Numerical Features: [] (0,)\n",
      "Labels: [ 0  1  2  3  4  5  6  7  8  9 10 11 12 13 14] (15,)\n",
      "True Labels for Points: [ 0  0  0  0  0  0  0  0  0  0  1  1  1  1  1  1  1  1  1  1  2  2  2  2\n",
      "  2  2  2  2  2  2  3  3  3  3  3  3  3  3  3  3  3  3  3  3  3  3  4  4\n",
      "  4  4  4  4  4  4  4  4  4  4  4  4  4  4  4  4  4  4  5  5  5  5  5  5\n",
      "  5  5  5  5  6  6  6  6  6  6  6  6  6  6  7  7  7  7  7  7  7  7  7  7\n",
      "  7  7  7  7  7  7  7  7  7  7  7  7  7  7  7  7  7  7  7  7  7  7  7  7\n",
      "  7  7  7  7  7  7  8  8  8  8  8  8  8  8  8  8  9  9  9  9  9  9  9  9\n",
      "  9  9 10 10 10 10 10 10 10 10 10 10 11 11 11 11 11 11 11 11 11 11 11 11\n",
      " 11 11 11 11 11 11 11 11 12 12 12 12 12 12 12 12 12 12 13 13 13 13 13 13\n",
      " 13 13 13 13 13 13 13 13 13 13 13 13 13 13 13 13 13 13 13 13 13 13 13 13\n",
      " 13 13 13 13 13 13 13 13 13 13 14 14 14 14 14 14 14 14 14 14 14 14 14 14\n",
      " 14 14 14 14 14 14 14 14 14 14 14 14 14 14 14 14 14 14 14 14 14 14 14 14\n",
      " 14 14] (266,)\n",
      "Dataset:\n",
      " [['6' '0' '2' ... '0' '0' '0']\n",
      " ['4' '0' '2' ... '0' '0' '0']\n",
      " ['3' '0' '2' ... '0' '0' '0']\n",
      " ...\n",
      " ['5' '0' '2' ... '0' '0' '0']\n",
      " ['5' '0' '2' ... '0' '0' '0']\n",
      " ['5' '1' '2' ... '0' '0' '0']] (266, 35)\n"
     ]
    }
   ],
   "source": [
    "file_path = 'Datasets/soybean+large/soybean-large.data'\n",
    "label_index = 0\n",
    "categorical_feature_index = None  # The features are a string at the third element\n",
    "numerical_indices = None\n",
    "\n",
    "data_loader = TreeDataLoaderWithCategorical(\n",
    "    file_path= file_path,\n",
    "    label_index= label_index,\n",
    "    numerical_indices= numerical_indices,\n",
    "    categorical_feature_index=categorical_feature_index\n",
    ")\n",
    "\n",
    "# Accessing the processed data\n",
    "print(\"Features:\", data_loader.features, data_loader.features.shape)\n",
    "print(\"Categorical Features:\", data_loader.features_categorical, data_loader.features_categorical.shape)\n",
    "print(\"Numerical Features:\", data_loader.features_numerical, data_loader.features_numerical.shape)\n",
    "print(\"Labels:\", data_loader.labels, data_loader.labels.shape)\n",
    "print(\"True Labels for Points:\", data_loader.true_labels_for_points, data_loader.true_labels_for_points.shape)\n",
    "print(\"Dataset:\\n\", data_loader.dataset,data_loader.dataset.shape)\n",
    "\n",
    "features = data_loader.features\n",
    "features_categorical = data_loader.features_categorical\n",
    "features_numerical = data_loader.features_numerical\n",
    "labels = data_loader.labels\n",
    "true_labels_for_points = data_loader.true_labels_for_points\n",
    "dataset = data_loader.dataset"
   ]
  },
  {
   "cell_type": "code",
   "execution_count": 7,
   "metadata": {},
   "outputs": [
    {
     "name": "stderr",
     "output_type": "stream",
     "text": [
      "/Users/harisrasul/Desktop/ESC499-THESIS/ESC499-Thesis-SAT-Trees/SATreeCraft/classification_problems/fixed_height_tree_categorical_module.py:110: FutureWarning: elementwise comparison failed; returning scalar instead, but in the future will perform elementwise comparison\n",
      "  if str(j) in features_numerical:\n"
     ]
    },
    {
     "name": "stdout",
     "output_type": "stream",
     "text": [
      "Iteration complete\n"
     ]
    },
    {
     "name": "stderr",
     "output_type": "stream",
     "text": [
      "/Users/harisrasul/Desktop/ESC499-THESIS/ESC499-Thesis-SAT-Trees/SATreeCraft/classification_problems/fixed_height_tree_categorical_module.py:110: FutureWarning: elementwise comparison failed; returning scalar instead, but in the future will perform elementwise comparison\n",
      "  if str(j) in features_numerical:\n"
     ]
    },
    {
     "name": "stdout",
     "output_type": "stream",
     "text": [
      "Iteration complete\n"
     ]
    },
    {
     "name": "stderr",
     "output_type": "stream",
     "text": [
      "/Users/harisrasul/Desktop/ESC499-THESIS/ESC499-Thesis-SAT-Trees/SATreeCraft/classification_problems/fixed_height_tree_categorical_module.py:110: FutureWarning: elementwise comparison failed; returning scalar instead, but in the future will perform elementwise comparison\n",
      "  if str(j) in features_numerical:\n"
     ]
    },
    {
     "name": "stdout",
     "output_type": "stream",
     "text": [
      "Iteration complete\n"
     ]
    },
    {
     "name": "stderr",
     "output_type": "stream",
     "text": [
      "/Users/harisrasul/Desktop/ESC499-THESIS/ESC499-Thesis-SAT-Trees/SATreeCraft/classification_problems/fixed_height_tree_categorical_module.py:110: FutureWarning: elementwise comparison failed; returning scalar instead, but in the future will perform elementwise comparison\n",
      "  if str(j) in features_numerical:\n"
     ]
    },
    {
     "name": "stdout",
     "output_type": "stream",
     "text": [
      "Iteration complete\n"
     ]
    },
    {
     "name": "stderr",
     "output_type": "stream",
     "text": [
      "/Users/harisrasul/Desktop/ESC499-THESIS/ESC499-Thesis-SAT-Trees/SATreeCraft/classification_problems/fixed_height_tree_categorical_module.py:110: FutureWarning: elementwise comparison failed; returning scalar instead, but in the future will perform elementwise comparison\n",
      "  if str(j) in features_numerical:\n"
     ]
    },
    {
     "name": "stdout",
     "output_type": "stream",
     "text": [
      "Iteration complete\n",
      "Oblivious Depth: 2, Time Taken: 68.50 seconds\n",
      "Accuracies: [0.37037037 0.47169811 0.26415094 0.56603774 0.39622642]\n",
      "Mean Score: 0.413696715583508\n",
      "\n"
     ]
    },
    {
     "name": "stderr",
     "output_type": "stream",
     "text": [
      "/Users/harisrasul/Desktop/ESC499-THESIS/ESC499-Thesis-SAT-Trees/SATreeCraft/classification_problems/fixed_height_tree_categorical_module.py:110: FutureWarning: elementwise comparison failed; returning scalar instead, but in the future will perform elementwise comparison\n",
      "  if str(j) in features_numerical:\n"
     ]
    },
    {
     "ename": "KeyboardInterrupt",
     "evalue": "",
     "output_type": "error",
     "traceback": [
      "\u001b[0;31m---------------------------------------------------------------------------\u001b[0m",
      "\u001b[0;31mKeyboardInterrupt\u001b[0m                         Traceback (most recent call last)",
      "Input \u001b[0;32mIn [7]\u001b[0m, in \u001b[0;36m<cell line: 7>\u001b[0;34m()\u001b[0m\n\u001b[1;32m      9\u001b[0m start_time \u001b[38;5;241m=\u001b[39m time\u001b[38;5;241m.\u001b[39mtime()\n\u001b[1;32m     10\u001b[0m \u001b[38;5;66;03m# Execute the k-fold tester\u001b[39;00m\n\u001b[0;32m---> 11\u001b[0m accuracies, mean_score \u001b[38;5;241m=\u001b[39m \u001b[43mk_fold_tester_loandra\u001b[49m\u001b[43m(\u001b[49m\u001b[43mloandra_path\u001b[49m\u001b[38;5;241;43m=\u001b[39;49m\u001b[43mloandra_path\u001b[49m\u001b[43m,\u001b[49m\n\u001b[1;32m     12\u001b[0m \u001b[43m                                                \u001b[49m\u001b[43mk\u001b[49m\u001b[38;5;241;43m=\u001b[39;49m\u001b[43mk\u001b[49m\u001b[43m,\u001b[49m\u001b[43m \u001b[49m\u001b[43mdepth\u001b[49m\u001b[38;5;241;43m=\u001b[39;49m\u001b[43mdepth\u001b[49m\u001b[43m,\u001b[49m\u001b[43m \u001b[49m\u001b[43mdataset\u001b[49m\u001b[38;5;241;43m=\u001b[39;49m\u001b[43mdataset\u001b[49m\u001b[43m,\u001b[49m\u001b[43m \u001b[49m\n\u001b[1;32m     13\u001b[0m \u001b[43m                                                \u001b[49m\u001b[43mtrue_labels_for_points\u001b[49m\u001b[38;5;241;43m=\u001b[39;49m\u001b[43mtrue_labels_for_points\u001b[49m\u001b[43m,\u001b[49m\u001b[43m \u001b[49m\n\u001b[1;32m     14\u001b[0m \u001b[43m                                                \u001b[49m\u001b[43mlabels\u001b[49m\u001b[38;5;241;43m=\u001b[39;49m\u001b[43mlabels\u001b[49m\u001b[43m,\u001b[49m\u001b[43m \u001b[49m\u001b[43mfeatures\u001b[49m\u001b[38;5;241;43m=\u001b[39;49m\u001b[43mfeatures\u001b[49m\u001b[43m,\u001b[49m\u001b[43m \u001b[49m\u001b[43mfeatures_categorical\u001b[49m\u001b[38;5;241;43m=\u001b[39;49m\u001b[43mfeatures_categorical\u001b[49m\u001b[43m,\u001b[49m\u001b[43m \u001b[49m\u001b[43mfeatures_numerical\u001b[49m\u001b[38;5;241;43m=\u001b[39;49m\u001b[43mfeatures_numerical\u001b[49m\u001b[43m,\u001b[49m\u001b[43m \u001b[49m\n\u001b[1;32m     15\u001b[0m \u001b[43m                                                \u001b[49m\u001b[43mmin_support_level\u001b[49m\u001b[38;5;241;43m=\u001b[39;49m\u001b[38;5;241;43m0\u001b[39;49m\u001b[43m,\u001b[49m\u001b[43m \u001b[49m\u001b[43mcomplete_tree\u001b[49m\u001b[38;5;241;43m=\u001b[39;49m\u001b[43m \u001b[49m\u001b[38;5;28;43;01mFalse\u001b[39;49;00m\u001b[43m)\u001b[49m\n\u001b[1;32m     16\u001b[0m \u001b[38;5;66;03m# Capture the end time\u001b[39;00m\n\u001b[1;32m     17\u001b[0m end_time \u001b[38;5;241m=\u001b[39m time\u001b[38;5;241m.\u001b[39mtime()\n",
      "File \u001b[0;32m~/Desktop/ESC499-THESIS/ESC499-Thesis-SAT-Trees/SATreeCraft/utils.py:361\u001b[0m, in \u001b[0;36mk_fold_tester_loandra\u001b[0;34m(loandra_path, k, depth, dataset, true_labels_for_points, labels, features, features_categorical, features_numerical, complete_tree, min_support_level, min_margin_level)\u001b[0m\n\u001b[1;32m    349\u001b[0m max_accuracy_problem \u001b[38;5;241m=\u001b[39m SATreeCraft(dataset\u001b[38;5;241m=\u001b[39mX_train,\n\u001b[1;32m    350\u001b[0m                                    features\u001b[38;5;241m=\u001b[39mfeatures,\n\u001b[1;32m    351\u001b[0m                                    labels\u001b[38;5;241m=\u001b[39mlabels,\n\u001b[0;32m   (...)\u001b[0m\n\u001b[1;32m    358\u001b[0m                                    min_margin\u001b[38;5;241m=\u001b[39m min_margin_level,\n\u001b[1;32m    359\u001b[0m                                    tree_structure\u001b[38;5;241m=\u001b[39m tree_structure)\n\u001b[1;32m    360\u001b[0m \u001b[38;5;66;03m# build model\u001b[39;00m\n\u001b[0;32m--> 361\u001b[0m \u001b[43mmax_accuracy_problem\u001b[49m\u001b[38;5;241;43m.\u001b[39;49m\u001b[43msolve_loandra\u001b[49m\u001b[43m(\u001b[49m\u001b[43mloandra_path\u001b[49m\u001b[43m)\u001b[49m\n\u001b[1;32m    362\u001b[0m model \u001b[38;5;241m=\u001b[39m SATreeClassifier(max_accuracy_problem\u001b[38;5;241m.\u001b[39mmodel)\n\u001b[1;32m    364\u001b[0m \u001b[38;5;66;03m# score model on test data\u001b[39;00m\n",
      "File \u001b[0;32m~/Desktop/ESC499-THESIS/ESC499-Thesis-SAT-Trees/SATreeCraft/SATreeCraft.py:659\u001b[0m, in \u001b[0;36mSATreeCraft.solve_loandra\u001b[0;34m(self, loandra_path, execution_path)\u001b[0m\n\u001b[1;32m    652\u001b[0m         \u001b[38;5;28mself\u001b[39m\u001b[38;5;241m.\u001b[39mmodel, \u001b[38;5;28mself\u001b[39m\u001b[38;5;241m.\u001b[39mfinal_literals, \u001b[38;5;28mself\u001b[39m\u001b[38;5;241m.\u001b[39mmin_depth, \u001b[38;5;28mself\u001b[39m\u001b[38;5;241m.\u001b[39msat_solution, \u001b[38;5;28mself\u001b[39m\u001b[38;5;241m.\u001b[39mfinal_cnf \u001b[38;5;241m=\u001b[39m \u001b[38;5;28mself\u001b[39m\u001b[38;5;241m.\u001b[39mfind_min_depth_tree_categorical_problem_loandra(\u001b[38;5;28mself\u001b[39m\u001b[38;5;241m.\u001b[39mfeatures, \n\u001b[1;32m    653\u001b[0m                                                                                                   \u001b[38;5;28mself\u001b[39m\u001b[38;5;241m.\u001b[39mfeatures_categorical, \n\u001b[1;32m    654\u001b[0m                                                                                                   \u001b[38;5;28mself\u001b[39m\u001b[38;5;241m.\u001b[39mfeatures_numerical, \n\u001b[1;32m    655\u001b[0m                                                                                                   \u001b[38;5;28mself\u001b[39m\u001b[38;5;241m.\u001b[39mlabels, \u001b[38;5;28mself\u001b[39m\u001b[38;5;241m.\u001b[39mtrue_labels_for_points, \u001b[38;5;28mself\u001b[39m\u001b[38;5;241m.\u001b[39mdataset,\n\u001b[1;32m    656\u001b[0m                                                                                                   loandra_path,\n\u001b[1;32m    657\u001b[0m                                                                                                   execution_path)\n\u001b[1;32m    658\u001b[0m     \u001b[38;5;28;01melse\u001b[39;00m: \u001b[38;5;66;03m# Max accuracy problem\u001b[39;00m\n\u001b[0;32m--> 659\u001b[0m         \u001b[38;5;28mself\u001b[39m\u001b[38;5;241m.\u001b[39mmodel, \u001b[38;5;28mself\u001b[39m\u001b[38;5;241m.\u001b[39mfinal_literals, \u001b[38;5;28mself\u001b[39m\u001b[38;5;241m.\u001b[39mfixed_depth, \u001b[38;5;28mself\u001b[39m\u001b[38;5;241m.\u001b[39msat_solution, \u001b[38;5;28mself\u001b[39m\u001b[38;5;241m.\u001b[39mmin_cost, \u001b[38;5;28mself\u001b[39m\u001b[38;5;241m.\u001b[39mfinal_cnf \u001b[38;5;241m=\u001b[39m \u001b[38;5;28;43mself\u001b[39;49m\u001b[38;5;241;43m.\u001b[39;49m\u001b[43mfind_fixed_depth_tree_categorical_problem_loandra\u001b[49m\u001b[43m(\u001b[49m\u001b[38;5;28;43mself\u001b[39;49m\u001b[38;5;241;43m.\u001b[39;49m\u001b[43mfeatures\u001b[49m\u001b[43m,\u001b[49m\u001b[43m \u001b[49m\n\u001b[1;32m    660\u001b[0m \u001b[43m                                                                                                  \u001b[49m\u001b[38;5;28;43mself\u001b[39;49m\u001b[38;5;241;43m.\u001b[39;49m\u001b[43mfeatures_categorical\u001b[49m\u001b[43m,\u001b[49m\u001b[43m \u001b[49m\n\u001b[1;32m    661\u001b[0m \u001b[43m                                                                                                  \u001b[49m\u001b[38;5;28;43mself\u001b[39;49m\u001b[38;5;241;43m.\u001b[39;49m\u001b[43mfeatures_numerical\u001b[49m\u001b[43m,\u001b[49m\u001b[43m \u001b[49m\n\u001b[1;32m    662\u001b[0m \u001b[43m                                                                                                  \u001b[49m\u001b[38;5;28;43mself\u001b[39;49m\u001b[38;5;241;43m.\u001b[39;49m\u001b[43mlabels\u001b[49m\u001b[43m,\u001b[49m\u001b[43m \u001b[49m\n\u001b[1;32m    663\u001b[0m \u001b[43m                                                                                                  \u001b[49m\u001b[38;5;28;43mself\u001b[39;49m\u001b[38;5;241;43m.\u001b[39;49m\u001b[43mtrue_labels_for_points\u001b[49m\u001b[43m,\u001b[49m\u001b[43m \u001b[49m\n\u001b[1;32m    664\u001b[0m \u001b[43m                                                                                                  \u001b[49m\u001b[38;5;28;43mself\u001b[39;49m\u001b[38;5;241;43m.\u001b[39;49m\u001b[43mdataset\u001b[49m\u001b[43m,\u001b[49m\u001b[43m \u001b[49m\n\u001b[1;32m    665\u001b[0m \u001b[43m                                                                                                  \u001b[49m\u001b[38;5;28;43mself\u001b[39;49m\u001b[38;5;241;43m.\u001b[39;49m\u001b[43mfixed_depth\u001b[49m\u001b[43m,\u001b[49m\n\u001b[1;32m    666\u001b[0m \u001b[43m                                                                                                  \u001b[49m\u001b[43mloandra_path\u001b[49m\u001b[43m,\u001b[49m\n\u001b[1;32m    667\u001b[0m \u001b[43m                                                                                                  \u001b[49m\u001b[43mexecution_path\u001b[49m\u001b[43m)\u001b[49m\n\u001b[1;32m    668\u001b[0m \u001b[38;5;28;01melse\u001b[39;00m: \u001b[38;5;66;03m# numerical feature dataset strictly\u001b[39;00m\n\u001b[1;32m    669\u001b[0m     \u001b[38;5;28;01mif\u001b[39;00m \u001b[38;5;28mself\u001b[39m\u001b[38;5;241m.\u001b[39mclassification_objective \u001b[38;5;241m==\u001b[39m \u001b[38;5;124m'\u001b[39m\u001b[38;5;124mmin_height\u001b[39m\u001b[38;5;124m'\u001b[39m:\n",
      "File \u001b[0;32m~/Desktop/ESC499-THESIS/ESC499-Thesis-SAT-Trees/SATreeCraft/SATreeCraft.py:510\u001b[0m, in \u001b[0;36mSATreeCraft.find_fixed_depth_tree_categorical_problem_loandra\u001b[0;34m(self, features, features_categorical, features_numerical, labels, true_labels_for_points, dataset, depth, loandra_path, execution_path)\u001b[0m\n\u001b[1;32m    508\u001b[0m \u001b[38;5;66;03m# LOANDRA SUPPORT - EXPORT FILE \u001b[39;00m\n\u001b[1;32m    509\u001b[0m wcnf\u001b[38;5;241m.\u001b[39mto_file(execution_path)\n\u001b[0;32m--> 510\u001b[0m solution,cost \u001b[38;5;241m=\u001b[39m \u001b[43mrun_loandra_and_parse_results\u001b[49m\u001b[43m(\u001b[49m\u001b[43mloandra_path\u001b[49m\u001b[43m,\u001b[49m\u001b[43m \u001b[49m\u001b[43mexecution_path\u001b[49m\u001b[43m)\u001b[49m\n\u001b[1;32m    511\u001b[0m solution \u001b[38;5;241m=\u001b[39m transform_tree_from_loandra(solution, literals, TL, tree, labels,features,dataset)\n\u001b[1;32m    513\u001b[0m \u001b[38;5;28;01mif\u001b[39;00m solution \u001b[38;5;241m!=\u001b[39m \u001b[38;5;124m\"\u001b[39m\u001b[38;5;124mNo solution exists\u001b[39m\u001b[38;5;124m\"\u001b[39m:\n",
      "File \u001b[0;32m~/Desktop/ESC499-THESIS/ESC499-Thesis-SAT-Trees/SATreeCraft/loandra_support/loandra.py:43\u001b[0m, in \u001b[0;36mrun_loandra_and_parse_results\u001b[0;34m(loandra_path, execution_path)\u001b[0m\n\u001b[1;32m     40\u001b[0m full_execution_path \u001b[38;5;241m=\u001b[39m os\u001b[38;5;241m.\u001b[39mpath\u001b[38;5;241m.\u001b[39mabspath(execution_path)\n\u001b[1;32m     42\u001b[0m \u001b[38;5;66;03m# Run the Loandra command with absolute paths\u001b[39;00m\n\u001b[0;32m---> 43\u001b[0m result \u001b[38;5;241m=\u001b[39m \u001b[43msubprocess\u001b[49m\u001b[38;5;241;43m.\u001b[39;49m\u001b[43mrun\u001b[49m\u001b[43m(\u001b[49m\u001b[43m[\u001b[49m\u001b[43mloandra_executable\u001b[49m\u001b[43m,\u001b[49m\u001b[43m \u001b[49m\u001b[43mfull_execution_path\u001b[49m\u001b[43m,\u001b[49m\u001b[43m \u001b[49m\u001b[38;5;124;43m\"\u001b[39;49m\u001b[38;5;124;43m-print-model\u001b[39;49m\u001b[38;5;124;43m\"\u001b[39;49m\u001b[43m]\u001b[49m\u001b[43m,\u001b[49m\u001b[43m \u001b[49m\n\u001b[1;32m     44\u001b[0m \u001b[43m                        \u001b[49m\u001b[43mstdout\u001b[49m\u001b[38;5;241;43m=\u001b[39;49m\u001b[43msubprocess\u001b[49m\u001b[38;5;241;43m.\u001b[39;49m\u001b[43mPIPE\u001b[49m\u001b[43m,\u001b[49m\u001b[43m \u001b[49m\u001b[43mstderr\u001b[49m\u001b[38;5;241;43m=\u001b[39;49m\u001b[43msubprocess\u001b[49m\u001b[38;5;241;43m.\u001b[39;49m\u001b[43mPIPE\u001b[49m\u001b[43m,\u001b[49m\u001b[43m \u001b[49m\u001b[43mtext\u001b[49m\u001b[38;5;241;43m=\u001b[39;49m\u001b[38;5;28;43;01mTrue\u001b[39;49;00m\u001b[43m)\u001b[49m\n\u001b[1;32m     46\u001b[0m \u001b[38;5;66;03m# Process result\u001b[39;00m\n\u001b[1;32m     47\u001b[0m output \u001b[38;5;241m=\u001b[39m result\u001b[38;5;241m.\u001b[39mstdout\u001b[38;5;241m.\u001b[39msplitlines()\n",
      "File \u001b[0;32m/Library/Frameworks/Python.framework/Versions/3.9/lib/python3.9/subprocess.py:507\u001b[0m, in \u001b[0;36mrun\u001b[0;34m(input, capture_output, timeout, check, *popenargs, **kwargs)\u001b[0m\n\u001b[1;32m    505\u001b[0m \u001b[38;5;28;01mwith\u001b[39;00m Popen(\u001b[38;5;241m*\u001b[39mpopenargs, \u001b[38;5;241m*\u001b[39m\u001b[38;5;241m*\u001b[39mkwargs) \u001b[38;5;28;01mas\u001b[39;00m process:\n\u001b[1;32m    506\u001b[0m     \u001b[38;5;28;01mtry\u001b[39;00m:\n\u001b[0;32m--> 507\u001b[0m         stdout, stderr \u001b[38;5;241m=\u001b[39m \u001b[43mprocess\u001b[49m\u001b[38;5;241;43m.\u001b[39;49m\u001b[43mcommunicate\u001b[49m\u001b[43m(\u001b[49m\u001b[38;5;28;43minput\u001b[39;49m\u001b[43m,\u001b[49m\u001b[43m \u001b[49m\u001b[43mtimeout\u001b[49m\u001b[38;5;241;43m=\u001b[39;49m\u001b[43mtimeout\u001b[49m\u001b[43m)\u001b[49m\n\u001b[1;32m    508\u001b[0m     \u001b[38;5;28;01mexcept\u001b[39;00m TimeoutExpired \u001b[38;5;28;01mas\u001b[39;00m exc:\n\u001b[1;32m    509\u001b[0m         process\u001b[38;5;241m.\u001b[39mkill()\n",
      "File \u001b[0;32m/Library/Frameworks/Python.framework/Versions/3.9/lib/python3.9/subprocess.py:1134\u001b[0m, in \u001b[0;36mPopen.communicate\u001b[0;34m(self, input, timeout)\u001b[0m\n\u001b[1;32m   1131\u001b[0m     endtime \u001b[38;5;241m=\u001b[39m \u001b[38;5;28;01mNone\u001b[39;00m\n\u001b[1;32m   1133\u001b[0m \u001b[38;5;28;01mtry\u001b[39;00m:\n\u001b[0;32m-> 1134\u001b[0m     stdout, stderr \u001b[38;5;241m=\u001b[39m \u001b[38;5;28;43mself\u001b[39;49m\u001b[38;5;241;43m.\u001b[39;49m\u001b[43m_communicate\u001b[49m\u001b[43m(\u001b[49m\u001b[38;5;28;43minput\u001b[39;49m\u001b[43m,\u001b[49m\u001b[43m \u001b[49m\u001b[43mendtime\u001b[49m\u001b[43m,\u001b[49m\u001b[43m \u001b[49m\u001b[43mtimeout\u001b[49m\u001b[43m)\u001b[49m\n\u001b[1;32m   1135\u001b[0m \u001b[38;5;28;01mexcept\u001b[39;00m \u001b[38;5;167;01mKeyboardInterrupt\u001b[39;00m:\n\u001b[1;32m   1136\u001b[0m     \u001b[38;5;66;03m# https://bugs.python.org/issue25942\u001b[39;00m\n\u001b[1;32m   1137\u001b[0m     \u001b[38;5;66;03m# See the detailed comment in .wait().\u001b[39;00m\n\u001b[1;32m   1138\u001b[0m     \u001b[38;5;28;01mif\u001b[39;00m timeout \u001b[38;5;129;01mis\u001b[39;00m \u001b[38;5;129;01mnot\u001b[39;00m \u001b[38;5;28;01mNone\u001b[39;00m:\n",
      "File \u001b[0;32m/Library/Frameworks/Python.framework/Versions/3.9/lib/python3.9/subprocess.py:1979\u001b[0m, in \u001b[0;36mPopen._communicate\u001b[0;34m(self, input, endtime, orig_timeout)\u001b[0m\n\u001b[1;32m   1972\u001b[0m     \u001b[38;5;28mself\u001b[39m\u001b[38;5;241m.\u001b[39m_check_timeout(endtime, orig_timeout,\n\u001b[1;32m   1973\u001b[0m                         stdout, stderr,\n\u001b[1;32m   1974\u001b[0m                         skip_check_and_raise\u001b[38;5;241m=\u001b[39m\u001b[38;5;28;01mTrue\u001b[39;00m)\n\u001b[1;32m   1975\u001b[0m     \u001b[38;5;28;01mraise\u001b[39;00m \u001b[38;5;167;01mRuntimeError\u001b[39;00m(  \u001b[38;5;66;03m# Impossible :)\u001b[39;00m\n\u001b[1;32m   1976\u001b[0m         \u001b[38;5;124m'\u001b[39m\u001b[38;5;124m_check_timeout(..., skip_check_and_raise=True) \u001b[39m\u001b[38;5;124m'\u001b[39m\n\u001b[1;32m   1977\u001b[0m         \u001b[38;5;124m'\u001b[39m\u001b[38;5;124mfailed to raise TimeoutExpired.\u001b[39m\u001b[38;5;124m'\u001b[39m)\n\u001b[0;32m-> 1979\u001b[0m ready \u001b[38;5;241m=\u001b[39m \u001b[43mselector\u001b[49m\u001b[38;5;241;43m.\u001b[39;49m\u001b[43mselect\u001b[49m\u001b[43m(\u001b[49m\u001b[43mtimeout\u001b[49m\u001b[43m)\u001b[49m\n\u001b[1;32m   1980\u001b[0m \u001b[38;5;28mself\u001b[39m\u001b[38;5;241m.\u001b[39m_check_timeout(endtime, orig_timeout, stdout, stderr)\n\u001b[1;32m   1982\u001b[0m \u001b[38;5;66;03m# XXX Rewrite these to use non-blocking I/O on the file\u001b[39;00m\n\u001b[1;32m   1983\u001b[0m \u001b[38;5;66;03m# objects; they are no longer using C stdio!\u001b[39;00m\n",
      "File \u001b[0;32m/Library/Frameworks/Python.framework/Versions/3.9/lib/python3.9/selectors.py:416\u001b[0m, in \u001b[0;36m_PollLikeSelector.select\u001b[0;34m(self, timeout)\u001b[0m\n\u001b[1;32m    414\u001b[0m ready \u001b[38;5;241m=\u001b[39m []\n\u001b[1;32m    415\u001b[0m \u001b[38;5;28;01mtry\u001b[39;00m:\n\u001b[0;32m--> 416\u001b[0m     fd_event_list \u001b[38;5;241m=\u001b[39m \u001b[38;5;28;43mself\u001b[39;49m\u001b[38;5;241;43m.\u001b[39;49m\u001b[43m_selector\u001b[49m\u001b[38;5;241;43m.\u001b[39;49m\u001b[43mpoll\u001b[49m\u001b[43m(\u001b[49m\u001b[43mtimeout\u001b[49m\u001b[43m)\u001b[49m\n\u001b[1;32m    417\u001b[0m \u001b[38;5;28;01mexcept\u001b[39;00m \u001b[38;5;167;01mInterruptedError\u001b[39;00m:\n\u001b[1;32m    418\u001b[0m     \u001b[38;5;28;01mreturn\u001b[39;00m ready\n",
      "\u001b[0;31mKeyboardInterrupt\u001b[0m: "
     ]
    }
   ],
   "source": [
    "import time\n",
    "loandra_path = '/Users/harisrasul/Desktop/loandra'\n",
    "k = 5\n",
    "depths = [2,3,4]\n",
    "# depths = [3,4]\n",
    "# Iterate through each combination of depth and minimum support level\n",
    "for depth in depths:\n",
    "    # Capture the start time\n",
    "    start_time = time.time()\n",
    "    # Execute the k-fold tester\n",
    "    accuracies, mean_score = k_fold_tester_loandra(loandra_path=loandra_path,\n",
    "                                                    k=k, depth=depth, dataset=dataset, \n",
    "                                                    true_labels_for_points=true_labels_for_points, \n",
    "                                                    labels=labels, features=features, features_categorical=features_categorical, features_numerical=features_numerical, \n",
    "                                                    min_support_level=0, complete_tree= False)\n",
    "    # Capture the end time\n",
    "    end_time = time.time()\n",
    "    # Calculate the duration\n",
    "    duration = end_time - start_time\n",
    "    # Print or log the results including the time taken\n",
    "    print(f\"Oblivious Depth: {depth}, Time Taken: {duration:.2f} seconds\")\n",
    "    print(f\"Accuracies: {accuracies}\")\n",
    "    print(f\"Mean Score: {mean_score}\\n\")"
   ]
  },
  {
   "cell_type": "code",
   "execution_count": 8,
   "metadata": {},
   "outputs": [
    {
     "name": "stdout",
     "output_type": "stream",
     "text": [
      "Features: ['0' '1' '2' '3' '4' '5' '6' '7']\n",
      "Categorical Features: ['0' '1' '2' '3' '4' '5' '6' '7']\n",
      "Numerical Features: []\n",
      "Labels: [0 1]\n",
      "True Labels for Points: [0 0 0 0 0 0 0 1 0 0 0 1 1 1 1 1 1 1 1 0 0 0 1 1 0 0 0 0 0 1 1 1 1 1 1 1 1\n",
      " 0 1 1 1 1 1 1 1 0 1 1 1 0 0 1 1 1 1 1 1 1 0 1 1 1 1 1 0 1 0 0 1 1 1 1 1 1\n",
      " 1 1 1 1 1 1 1 1 1 1 1 1 0 1 1 0 0 0 1 1 1 1 0 1 1 0 0 0 0 0 0 0 0 0 0 0 0\n",
      " 0 0 0 0 0 0 0 0 1 0 1 0 0 0 0 1 1 0 1 1 0 1 0 1 0 0 0 1 0 1 0 1 1 1 0 1 0\n",
      " 0 0 0 1 1 0 0 0 0 0 1 0 1 0 0 0 0 0 0 1 1 1 1 1 1 1 1 0 1 0 1 1 0 1 1 0 1\n",
      " 1 0 0 0 0 1 1 1 0 1 1 0 0 0 0 0 0 0 0 0 1 0 0 0 0 0 0 0 0 0 0 0 1 1 1 0 1\n",
      " 0 0 0 1 0 1 0 0 0 0 0 0 0 0 0 1 0 1 0 0 0 0 0 0 0 0 0 0 0 0 0 0 1 1 0 0 0\n",
      " 1 0 0 0 0 0 0 0 0 0 0 0 0 0 0 0 0 0 0 0 1 0 0 1 1 0 1 0 1 0 1 0 0 0 0 0 1\n",
      " 0 0 0 0 0 1 1 0 0 0 0 1 0 0 0 0 0 0 0 0 0 0 0 0 0 0 1 0 0 0 1 0 0 0 0 0 0\n",
      " 0 1 1 1 1 1 1 1 1 1 0 1 1 1 1 1 1 1 1 1 1 1 1 1 1 1 1 1 1 1 1 1 1 1 1 1 1\n",
      " 1 1 1 1 1 1 1 1 1 1 1 1 0 1 1 1 1 1 1 1 1 1 1 1 0 1 1 1 1 1 1 1 1 0 1 1 1\n",
      " 1 1 1 1 1 1 1 1 1 1 1 1 1 1 1 1 1 1 1 0 1 0 0 0 1 0 0 0 0 0 1 0 0 1 1 0 0\n",
      " 1 0 0 0 0 0 0 1 0 0 0 0 1 1 0 0 0 0 1 0 1 1 1 1 1 1 1 0 0 0 0 0 0 1 1 1 1\n",
      " 1 1 1 0 1 0 1 1 1 1 1 1 1 1 1 1 1 1 1 1 1 1 1 1 1 1 1 1 1 1 1 1 1 1 1 1 1\n",
      " 1 0 0 1 0 1 1 1 1 1 1 1 1 1 0 1 1 1 1 1 1 1 1 1 1 1 0 1 1 1 1 1 0 1 1 1 1\n",
      " 0 1 1 1 1 1 0 1 1 1 1 1 0 0 1 1 0 0 1 1 0 1 1 0 0 0 1 1 1 0 1 0 1 1 1 1 0\n",
      " 0 1 1 1 0 0 1 0 0 1 1 1 1 1 1 1 1 1 1 1 0 1 1 1 1 1 1 1 1 1 1 0 1 1 1 1 1\n",
      " 1 1 1 0 0 1 0 0 0 0 0 1 0 0 0 0 0 0 0 0 1 0 0 0 1 0 0 1 0 0 1 1 0 1 0 1 1\n",
      " 1 0 1 1 0 1 1 1 1 1 0 1 1 0 1 1 1 1 1 1 1 1 1 0 0 0 0 0 0 0 0 1 1 1 0 1 0\n",
      " 1 0 1 0 0 0 0 0 0 1 1 0 0 0 0 1 0 0 0 0 0 0 0 0 0 0 0 0 0 0 0 0 1 1 0 0 0\n",
      " 0 0 0 0 0 0]\n",
      "Dataset:\n",
      " [['A' 'A' 'A' ... 'E' 'R' 'Q']\n",
      " ['A' 'A' 'A' ... 'R' 'H' 'G']\n",
      " ['A' 'A' 'A' ... 'S' 'A' 'I']\n",
      " ...\n",
      " ['Y' 'S' 'L' ... 'W' 'V' 'C']\n",
      " ['Y' 'S' 'T' ... 'I' 'T' 'D']\n",
      " ['Y' 'V' 'P' ... 'F' 'D' 'A']] (746, 8)\n"
     ]
    }
   ],
   "source": [
    "file_path = 'Datasets/hiv+1+protease+cleavage/746Data.txt'\n",
    "label_index = 1\n",
    "categorical_feature_index = 0  # The features are a string at the third element\n",
    "numerical_indices = None\n",
    "data_loader = TreeDataLoaderWithCategorical(\n",
    "    file_path= file_path,\n",
    "    label_index= label_index,\n",
    "    numerical_indices= numerical_indices,\n",
    "    categorical_feature_index=categorical_feature_index\n",
    ")\n",
    "# Accessing the processed data\n",
    "print(\"Features:\", data_loader.features)\n",
    "print(\"Categorical Features:\", data_loader.features_categorical)\n",
    "print(\"Numerical Features:\", data_loader.features_numerical)\n",
    "print(\"Labels:\", data_loader.labels)\n",
    "print(\"True Labels for Points:\", data_loader.true_labels_for_points)\n",
    "print(\"Dataset:\\n\", data_loader.dataset,data_loader.dataset.shape)\n",
    "\n",
    "features = data_loader.features\n",
    "features_categorical = data_loader.features_categorical\n",
    "features_numerical = data_loader.features_numerical\n",
    "labels = data_loader.labels\n",
    "true_labels_for_points = data_loader.true_labels_for_points\n",
    "dataset = data_loader.dataset\n"
   ]
  },
  {
   "cell_type": "code",
   "execution_count": 9,
   "metadata": {},
   "outputs": [
    {
     "name": "stdout",
     "output_type": "stream",
     "text": [
      "Iteration complete\n"
     ]
    },
    {
     "name": "stderr",
     "output_type": "stream",
     "text": [
      "/Users/harisrasul/Desktop/ESC499-THESIS/ESC499-Thesis-SAT-Trees/SATreeCraft/classification_problems/fixed_height_tree_categorical_module.py:110: FutureWarning: elementwise comparison failed; returning scalar instead, but in the future will perform elementwise comparison\n",
      "  if str(j) in features_numerical:\n"
     ]
    },
    {
     "name": "stdout",
     "output_type": "stream",
     "text": [
      "Iteration complete\n"
     ]
    },
    {
     "name": "stderr",
     "output_type": "stream",
     "text": [
      "/Users/harisrasul/Desktop/ESC499-THESIS/ESC499-Thesis-SAT-Trees/SATreeCraft/classification_problems/fixed_height_tree_categorical_module.py:110: FutureWarning: elementwise comparison failed; returning scalar instead, but in the future will perform elementwise comparison\n",
      "  if str(j) in features_numerical:\n"
     ]
    },
    {
     "name": "stdout",
     "output_type": "stream",
     "text": [
      "Iteration complete\n"
     ]
    },
    {
     "name": "stderr",
     "output_type": "stream",
     "text": [
      "/Users/harisrasul/Desktop/ESC499-THESIS/ESC499-Thesis-SAT-Trees/SATreeCraft/classification_problems/fixed_height_tree_categorical_module.py:110: FutureWarning: elementwise comparison failed; returning scalar instead, but in the future will perform elementwise comparison\n",
      "  if str(j) in features_numerical:\n"
     ]
    },
    {
     "name": "stdout",
     "output_type": "stream",
     "text": [
      "Iteration complete\n"
     ]
    },
    {
     "name": "stderr",
     "output_type": "stream",
     "text": [
      "/Users/harisrasul/Desktop/ESC499-THESIS/ESC499-Thesis-SAT-Trees/SATreeCraft/classification_problems/fixed_height_tree_categorical_module.py:110: FutureWarning: elementwise comparison failed; returning scalar instead, but in the future will perform elementwise comparison\n",
      "  if str(j) in features_numerical:\n"
     ]
    },
    {
     "name": "stdout",
     "output_type": "stream",
     "text": [
      "Iteration complete\n",
      "Oblivious Depth: 2, Time Taken: 638.60 seconds\n",
      "Accuracies: [0.84       0.77852349 0.85234899 0.86577181 0.82550336]\n",
      "Mean Score: 0.8324295302013424\n",
      "\n"
     ]
    },
    {
     "name": "stderr",
     "output_type": "stream",
     "text": [
      "/Users/harisrasul/Desktop/ESC499-THESIS/ESC499-Thesis-SAT-Trees/SATreeCraft/classification_problems/fixed_height_tree_categorical_module.py:110: FutureWarning: elementwise comparison failed; returning scalar instead, but in the future will perform elementwise comparison\n",
      "  if str(j) in features_numerical:\n"
     ]
    },
    {
     "ename": "KeyboardInterrupt",
     "evalue": "",
     "output_type": "error",
     "traceback": [
      "\u001b[0;31m---------------------------------------------------------------------------\u001b[0m",
      "\u001b[0;31mKeyboardInterrupt\u001b[0m                         Traceback (most recent call last)",
      "Input \u001b[0;32mIn [9]\u001b[0m, in \u001b[0;36m<cell line: 7>\u001b[0;34m()\u001b[0m\n\u001b[1;32m      9\u001b[0m start_time \u001b[38;5;241m=\u001b[39m time\u001b[38;5;241m.\u001b[39mtime()\n\u001b[1;32m     10\u001b[0m \u001b[38;5;66;03m# Execute the k-fold tester\u001b[39;00m\n\u001b[0;32m---> 11\u001b[0m accuracies, mean_score \u001b[38;5;241m=\u001b[39m \u001b[43mk_fold_tester_loandra\u001b[49m\u001b[43m(\u001b[49m\u001b[43mloandra_path\u001b[49m\u001b[38;5;241;43m=\u001b[39;49m\u001b[43mloandra_path\u001b[49m\u001b[43m,\u001b[49m\n\u001b[1;32m     12\u001b[0m \u001b[43m                                                \u001b[49m\u001b[43mk\u001b[49m\u001b[38;5;241;43m=\u001b[39;49m\u001b[43mk\u001b[49m\u001b[43m,\u001b[49m\u001b[43m \u001b[49m\u001b[43mdepth\u001b[49m\u001b[38;5;241;43m=\u001b[39;49m\u001b[43mdepth\u001b[49m\u001b[43m,\u001b[49m\u001b[43m \u001b[49m\u001b[43mdataset\u001b[49m\u001b[38;5;241;43m=\u001b[39;49m\u001b[43mdataset\u001b[49m\u001b[43m,\u001b[49m\u001b[43m \u001b[49m\n\u001b[1;32m     13\u001b[0m \u001b[43m                                                \u001b[49m\u001b[43mtrue_labels_for_points\u001b[49m\u001b[38;5;241;43m=\u001b[39;49m\u001b[43mtrue_labels_for_points\u001b[49m\u001b[43m,\u001b[49m\u001b[43m \u001b[49m\n\u001b[1;32m     14\u001b[0m \u001b[43m                                                \u001b[49m\u001b[43mlabels\u001b[49m\u001b[38;5;241;43m=\u001b[39;49m\u001b[43mlabels\u001b[49m\u001b[43m,\u001b[49m\u001b[43m \u001b[49m\u001b[43mfeatures\u001b[49m\u001b[38;5;241;43m=\u001b[39;49m\u001b[43mfeatures\u001b[49m\u001b[43m,\u001b[49m\u001b[43m \u001b[49m\u001b[43mfeatures_categorical\u001b[49m\u001b[38;5;241;43m=\u001b[39;49m\u001b[43mfeatures_categorical\u001b[49m\u001b[43m,\u001b[49m\u001b[43m \u001b[49m\u001b[43mfeatures_numerical\u001b[49m\u001b[38;5;241;43m=\u001b[39;49m\u001b[43mfeatures_numerical\u001b[49m\u001b[43m,\u001b[49m\u001b[43m \u001b[49m\n\u001b[1;32m     15\u001b[0m \u001b[43m                                                \u001b[49m\u001b[43mmin_support_level\u001b[49m\u001b[38;5;241;43m=\u001b[39;49m\u001b[38;5;241;43m0\u001b[39;49m\u001b[43m,\u001b[49m\u001b[43m \u001b[49m\u001b[43mcomplete_tree\u001b[49m\u001b[38;5;241;43m=\u001b[39;49m\u001b[43m \u001b[49m\u001b[38;5;28;43;01mFalse\u001b[39;49;00m\u001b[43m)\u001b[49m\n\u001b[1;32m     16\u001b[0m \u001b[38;5;66;03m# Capture the end time\u001b[39;00m\n\u001b[1;32m     17\u001b[0m end_time \u001b[38;5;241m=\u001b[39m time\u001b[38;5;241m.\u001b[39mtime()\n",
      "File \u001b[0;32m~/Desktop/ESC499-THESIS/ESC499-Thesis-SAT-Trees/SATreeCraft/utils.py:361\u001b[0m, in \u001b[0;36mk_fold_tester_loandra\u001b[0;34m(loandra_path, k, depth, dataset, true_labels_for_points, labels, features, features_categorical, features_numerical, complete_tree, min_support_level, min_margin_level)\u001b[0m\n\u001b[1;32m    349\u001b[0m max_accuracy_problem \u001b[38;5;241m=\u001b[39m SATreeCraft(dataset\u001b[38;5;241m=\u001b[39mX_train,\n\u001b[1;32m    350\u001b[0m                                    features\u001b[38;5;241m=\u001b[39mfeatures,\n\u001b[1;32m    351\u001b[0m                                    labels\u001b[38;5;241m=\u001b[39mlabels,\n\u001b[0;32m   (...)\u001b[0m\n\u001b[1;32m    358\u001b[0m                                    min_margin\u001b[38;5;241m=\u001b[39m min_margin_level,\n\u001b[1;32m    359\u001b[0m                                    tree_structure\u001b[38;5;241m=\u001b[39m tree_structure)\n\u001b[1;32m    360\u001b[0m \u001b[38;5;66;03m# build model\u001b[39;00m\n\u001b[0;32m--> 361\u001b[0m \u001b[43mmax_accuracy_problem\u001b[49m\u001b[38;5;241;43m.\u001b[39;49m\u001b[43msolve_loandra\u001b[49m\u001b[43m(\u001b[49m\u001b[43mloandra_path\u001b[49m\u001b[43m)\u001b[49m\n\u001b[1;32m    362\u001b[0m model \u001b[38;5;241m=\u001b[39m SATreeClassifier(max_accuracy_problem\u001b[38;5;241m.\u001b[39mmodel)\n\u001b[1;32m    364\u001b[0m \u001b[38;5;66;03m# score model on test data\u001b[39;00m\n",
      "File \u001b[0;32m~/Desktop/ESC499-THESIS/ESC499-Thesis-SAT-Trees/SATreeCraft/SATreeCraft.py:659\u001b[0m, in \u001b[0;36mSATreeCraft.solve_loandra\u001b[0;34m(self, loandra_path, execution_path)\u001b[0m\n\u001b[1;32m    652\u001b[0m         \u001b[38;5;28mself\u001b[39m\u001b[38;5;241m.\u001b[39mmodel, \u001b[38;5;28mself\u001b[39m\u001b[38;5;241m.\u001b[39mfinal_literals, \u001b[38;5;28mself\u001b[39m\u001b[38;5;241m.\u001b[39mmin_depth, \u001b[38;5;28mself\u001b[39m\u001b[38;5;241m.\u001b[39msat_solution, \u001b[38;5;28mself\u001b[39m\u001b[38;5;241m.\u001b[39mfinal_cnf \u001b[38;5;241m=\u001b[39m \u001b[38;5;28mself\u001b[39m\u001b[38;5;241m.\u001b[39mfind_min_depth_tree_categorical_problem_loandra(\u001b[38;5;28mself\u001b[39m\u001b[38;5;241m.\u001b[39mfeatures, \n\u001b[1;32m    653\u001b[0m                                                                                                   \u001b[38;5;28mself\u001b[39m\u001b[38;5;241m.\u001b[39mfeatures_categorical, \n\u001b[1;32m    654\u001b[0m                                                                                                   \u001b[38;5;28mself\u001b[39m\u001b[38;5;241m.\u001b[39mfeatures_numerical, \n\u001b[1;32m    655\u001b[0m                                                                                                   \u001b[38;5;28mself\u001b[39m\u001b[38;5;241m.\u001b[39mlabels, \u001b[38;5;28mself\u001b[39m\u001b[38;5;241m.\u001b[39mtrue_labels_for_points, \u001b[38;5;28mself\u001b[39m\u001b[38;5;241m.\u001b[39mdataset,\n\u001b[1;32m    656\u001b[0m                                                                                                   loandra_path,\n\u001b[1;32m    657\u001b[0m                                                                                                   execution_path)\n\u001b[1;32m    658\u001b[0m     \u001b[38;5;28;01melse\u001b[39;00m: \u001b[38;5;66;03m# Max accuracy problem\u001b[39;00m\n\u001b[0;32m--> 659\u001b[0m         \u001b[38;5;28mself\u001b[39m\u001b[38;5;241m.\u001b[39mmodel, \u001b[38;5;28mself\u001b[39m\u001b[38;5;241m.\u001b[39mfinal_literals, \u001b[38;5;28mself\u001b[39m\u001b[38;5;241m.\u001b[39mfixed_depth, \u001b[38;5;28mself\u001b[39m\u001b[38;5;241m.\u001b[39msat_solution, \u001b[38;5;28mself\u001b[39m\u001b[38;5;241m.\u001b[39mmin_cost, \u001b[38;5;28mself\u001b[39m\u001b[38;5;241m.\u001b[39mfinal_cnf \u001b[38;5;241m=\u001b[39m \u001b[38;5;28;43mself\u001b[39;49m\u001b[38;5;241;43m.\u001b[39;49m\u001b[43mfind_fixed_depth_tree_categorical_problem_loandra\u001b[49m\u001b[43m(\u001b[49m\u001b[38;5;28;43mself\u001b[39;49m\u001b[38;5;241;43m.\u001b[39;49m\u001b[43mfeatures\u001b[49m\u001b[43m,\u001b[49m\u001b[43m \u001b[49m\n\u001b[1;32m    660\u001b[0m \u001b[43m                                                                                                  \u001b[49m\u001b[38;5;28;43mself\u001b[39;49m\u001b[38;5;241;43m.\u001b[39;49m\u001b[43mfeatures_categorical\u001b[49m\u001b[43m,\u001b[49m\u001b[43m \u001b[49m\n\u001b[1;32m    661\u001b[0m \u001b[43m                                                                                                  \u001b[49m\u001b[38;5;28;43mself\u001b[39;49m\u001b[38;5;241;43m.\u001b[39;49m\u001b[43mfeatures_numerical\u001b[49m\u001b[43m,\u001b[49m\u001b[43m \u001b[49m\n\u001b[1;32m    662\u001b[0m \u001b[43m                                                                                                  \u001b[49m\u001b[38;5;28;43mself\u001b[39;49m\u001b[38;5;241;43m.\u001b[39;49m\u001b[43mlabels\u001b[49m\u001b[43m,\u001b[49m\u001b[43m \u001b[49m\n\u001b[1;32m    663\u001b[0m \u001b[43m                                                                                                  \u001b[49m\u001b[38;5;28;43mself\u001b[39;49m\u001b[38;5;241;43m.\u001b[39;49m\u001b[43mtrue_labels_for_points\u001b[49m\u001b[43m,\u001b[49m\u001b[43m \u001b[49m\n\u001b[1;32m    664\u001b[0m \u001b[43m                                                                                                  \u001b[49m\u001b[38;5;28;43mself\u001b[39;49m\u001b[38;5;241;43m.\u001b[39;49m\u001b[43mdataset\u001b[49m\u001b[43m,\u001b[49m\u001b[43m \u001b[49m\n\u001b[1;32m    665\u001b[0m \u001b[43m                                                                                                  \u001b[49m\u001b[38;5;28;43mself\u001b[39;49m\u001b[38;5;241;43m.\u001b[39;49m\u001b[43mfixed_depth\u001b[49m\u001b[43m,\u001b[49m\n\u001b[1;32m    666\u001b[0m \u001b[43m                                                                                                  \u001b[49m\u001b[43mloandra_path\u001b[49m\u001b[43m,\u001b[49m\n\u001b[1;32m    667\u001b[0m \u001b[43m                                                                                                  \u001b[49m\u001b[43mexecution_path\u001b[49m\u001b[43m)\u001b[49m\n\u001b[1;32m    668\u001b[0m \u001b[38;5;28;01melse\u001b[39;00m: \u001b[38;5;66;03m# numerical feature dataset strictly\u001b[39;00m\n\u001b[1;32m    669\u001b[0m     \u001b[38;5;28;01mif\u001b[39;00m \u001b[38;5;28mself\u001b[39m\u001b[38;5;241m.\u001b[39mclassification_objective \u001b[38;5;241m==\u001b[39m \u001b[38;5;124m'\u001b[39m\u001b[38;5;124mmin_height\u001b[39m\u001b[38;5;124m'\u001b[39m:\n",
      "File \u001b[0;32m~/Desktop/ESC499-THESIS/ESC499-Thesis-SAT-Trees/SATreeCraft/SATreeCraft.py:510\u001b[0m, in \u001b[0;36mSATreeCraft.find_fixed_depth_tree_categorical_problem_loandra\u001b[0;34m(self, features, features_categorical, features_numerical, labels, true_labels_for_points, dataset, depth, loandra_path, execution_path)\u001b[0m\n\u001b[1;32m    508\u001b[0m \u001b[38;5;66;03m# LOANDRA SUPPORT - EXPORT FILE \u001b[39;00m\n\u001b[1;32m    509\u001b[0m wcnf\u001b[38;5;241m.\u001b[39mto_file(execution_path)\n\u001b[0;32m--> 510\u001b[0m solution,cost \u001b[38;5;241m=\u001b[39m \u001b[43mrun_loandra_and_parse_results\u001b[49m\u001b[43m(\u001b[49m\u001b[43mloandra_path\u001b[49m\u001b[43m,\u001b[49m\u001b[43m \u001b[49m\u001b[43mexecution_path\u001b[49m\u001b[43m)\u001b[49m\n\u001b[1;32m    511\u001b[0m solution \u001b[38;5;241m=\u001b[39m transform_tree_from_loandra(solution, literals, TL, tree, labels,features,dataset)\n\u001b[1;32m    513\u001b[0m \u001b[38;5;28;01mif\u001b[39;00m solution \u001b[38;5;241m!=\u001b[39m \u001b[38;5;124m\"\u001b[39m\u001b[38;5;124mNo solution exists\u001b[39m\u001b[38;5;124m\"\u001b[39m:\n",
      "File \u001b[0;32m~/Desktop/ESC499-THESIS/ESC499-Thesis-SAT-Trees/SATreeCraft/loandra_support/loandra.py:43\u001b[0m, in \u001b[0;36mrun_loandra_and_parse_results\u001b[0;34m(loandra_path, execution_path)\u001b[0m\n\u001b[1;32m     40\u001b[0m full_execution_path \u001b[38;5;241m=\u001b[39m os\u001b[38;5;241m.\u001b[39mpath\u001b[38;5;241m.\u001b[39mabspath(execution_path)\n\u001b[1;32m     42\u001b[0m \u001b[38;5;66;03m# Run the Loandra command with absolute paths\u001b[39;00m\n\u001b[0;32m---> 43\u001b[0m result \u001b[38;5;241m=\u001b[39m \u001b[43msubprocess\u001b[49m\u001b[38;5;241;43m.\u001b[39;49m\u001b[43mrun\u001b[49m\u001b[43m(\u001b[49m\u001b[43m[\u001b[49m\u001b[43mloandra_executable\u001b[49m\u001b[43m,\u001b[49m\u001b[43m \u001b[49m\u001b[43mfull_execution_path\u001b[49m\u001b[43m,\u001b[49m\u001b[43m \u001b[49m\u001b[38;5;124;43m\"\u001b[39;49m\u001b[38;5;124;43m-print-model\u001b[39;49m\u001b[38;5;124;43m\"\u001b[39;49m\u001b[43m]\u001b[49m\u001b[43m,\u001b[49m\u001b[43m \u001b[49m\n\u001b[1;32m     44\u001b[0m \u001b[43m                        \u001b[49m\u001b[43mstdout\u001b[49m\u001b[38;5;241;43m=\u001b[39;49m\u001b[43msubprocess\u001b[49m\u001b[38;5;241;43m.\u001b[39;49m\u001b[43mPIPE\u001b[49m\u001b[43m,\u001b[49m\u001b[43m \u001b[49m\u001b[43mstderr\u001b[49m\u001b[38;5;241;43m=\u001b[39;49m\u001b[43msubprocess\u001b[49m\u001b[38;5;241;43m.\u001b[39;49m\u001b[43mPIPE\u001b[49m\u001b[43m,\u001b[49m\u001b[43m \u001b[49m\u001b[43mtext\u001b[49m\u001b[38;5;241;43m=\u001b[39;49m\u001b[38;5;28;43;01mTrue\u001b[39;49;00m\u001b[43m)\u001b[49m\n\u001b[1;32m     46\u001b[0m \u001b[38;5;66;03m# Process result\u001b[39;00m\n\u001b[1;32m     47\u001b[0m output \u001b[38;5;241m=\u001b[39m result\u001b[38;5;241m.\u001b[39mstdout\u001b[38;5;241m.\u001b[39msplitlines()\n",
      "File \u001b[0;32m/Library/Frameworks/Python.framework/Versions/3.9/lib/python3.9/subprocess.py:507\u001b[0m, in \u001b[0;36mrun\u001b[0;34m(input, capture_output, timeout, check, *popenargs, **kwargs)\u001b[0m\n\u001b[1;32m    505\u001b[0m \u001b[38;5;28;01mwith\u001b[39;00m Popen(\u001b[38;5;241m*\u001b[39mpopenargs, \u001b[38;5;241m*\u001b[39m\u001b[38;5;241m*\u001b[39mkwargs) \u001b[38;5;28;01mas\u001b[39;00m process:\n\u001b[1;32m    506\u001b[0m     \u001b[38;5;28;01mtry\u001b[39;00m:\n\u001b[0;32m--> 507\u001b[0m         stdout, stderr \u001b[38;5;241m=\u001b[39m \u001b[43mprocess\u001b[49m\u001b[38;5;241;43m.\u001b[39;49m\u001b[43mcommunicate\u001b[49m\u001b[43m(\u001b[49m\u001b[38;5;28;43minput\u001b[39;49m\u001b[43m,\u001b[49m\u001b[43m \u001b[49m\u001b[43mtimeout\u001b[49m\u001b[38;5;241;43m=\u001b[39;49m\u001b[43mtimeout\u001b[49m\u001b[43m)\u001b[49m\n\u001b[1;32m    508\u001b[0m     \u001b[38;5;28;01mexcept\u001b[39;00m TimeoutExpired \u001b[38;5;28;01mas\u001b[39;00m exc:\n\u001b[1;32m    509\u001b[0m         process\u001b[38;5;241m.\u001b[39mkill()\n",
      "File \u001b[0;32m/Library/Frameworks/Python.framework/Versions/3.9/lib/python3.9/subprocess.py:1134\u001b[0m, in \u001b[0;36mPopen.communicate\u001b[0;34m(self, input, timeout)\u001b[0m\n\u001b[1;32m   1131\u001b[0m     endtime \u001b[38;5;241m=\u001b[39m \u001b[38;5;28;01mNone\u001b[39;00m\n\u001b[1;32m   1133\u001b[0m \u001b[38;5;28;01mtry\u001b[39;00m:\n\u001b[0;32m-> 1134\u001b[0m     stdout, stderr \u001b[38;5;241m=\u001b[39m \u001b[38;5;28;43mself\u001b[39;49m\u001b[38;5;241;43m.\u001b[39;49m\u001b[43m_communicate\u001b[49m\u001b[43m(\u001b[49m\u001b[38;5;28;43minput\u001b[39;49m\u001b[43m,\u001b[49m\u001b[43m \u001b[49m\u001b[43mendtime\u001b[49m\u001b[43m,\u001b[49m\u001b[43m \u001b[49m\u001b[43mtimeout\u001b[49m\u001b[43m)\u001b[49m\n\u001b[1;32m   1135\u001b[0m \u001b[38;5;28;01mexcept\u001b[39;00m \u001b[38;5;167;01mKeyboardInterrupt\u001b[39;00m:\n\u001b[1;32m   1136\u001b[0m     \u001b[38;5;66;03m# https://bugs.python.org/issue25942\u001b[39;00m\n\u001b[1;32m   1137\u001b[0m     \u001b[38;5;66;03m# See the detailed comment in .wait().\u001b[39;00m\n\u001b[1;32m   1138\u001b[0m     \u001b[38;5;28;01mif\u001b[39;00m timeout \u001b[38;5;129;01mis\u001b[39;00m \u001b[38;5;129;01mnot\u001b[39;00m \u001b[38;5;28;01mNone\u001b[39;00m:\n",
      "File \u001b[0;32m/Library/Frameworks/Python.framework/Versions/3.9/lib/python3.9/subprocess.py:1979\u001b[0m, in \u001b[0;36mPopen._communicate\u001b[0;34m(self, input, endtime, orig_timeout)\u001b[0m\n\u001b[1;32m   1972\u001b[0m     \u001b[38;5;28mself\u001b[39m\u001b[38;5;241m.\u001b[39m_check_timeout(endtime, orig_timeout,\n\u001b[1;32m   1973\u001b[0m                         stdout, stderr,\n\u001b[1;32m   1974\u001b[0m                         skip_check_and_raise\u001b[38;5;241m=\u001b[39m\u001b[38;5;28;01mTrue\u001b[39;00m)\n\u001b[1;32m   1975\u001b[0m     \u001b[38;5;28;01mraise\u001b[39;00m \u001b[38;5;167;01mRuntimeError\u001b[39;00m(  \u001b[38;5;66;03m# Impossible :)\u001b[39;00m\n\u001b[1;32m   1976\u001b[0m         \u001b[38;5;124m'\u001b[39m\u001b[38;5;124m_check_timeout(..., skip_check_and_raise=True) \u001b[39m\u001b[38;5;124m'\u001b[39m\n\u001b[1;32m   1977\u001b[0m         \u001b[38;5;124m'\u001b[39m\u001b[38;5;124mfailed to raise TimeoutExpired.\u001b[39m\u001b[38;5;124m'\u001b[39m)\n\u001b[0;32m-> 1979\u001b[0m ready \u001b[38;5;241m=\u001b[39m \u001b[43mselector\u001b[49m\u001b[38;5;241;43m.\u001b[39;49m\u001b[43mselect\u001b[49m\u001b[43m(\u001b[49m\u001b[43mtimeout\u001b[49m\u001b[43m)\u001b[49m\n\u001b[1;32m   1980\u001b[0m \u001b[38;5;28mself\u001b[39m\u001b[38;5;241m.\u001b[39m_check_timeout(endtime, orig_timeout, stdout, stderr)\n\u001b[1;32m   1982\u001b[0m \u001b[38;5;66;03m# XXX Rewrite these to use non-blocking I/O on the file\u001b[39;00m\n\u001b[1;32m   1983\u001b[0m \u001b[38;5;66;03m# objects; they are no longer using C stdio!\u001b[39;00m\n",
      "File \u001b[0;32m/Library/Frameworks/Python.framework/Versions/3.9/lib/python3.9/selectors.py:416\u001b[0m, in \u001b[0;36m_PollLikeSelector.select\u001b[0;34m(self, timeout)\u001b[0m\n\u001b[1;32m    414\u001b[0m ready \u001b[38;5;241m=\u001b[39m []\n\u001b[1;32m    415\u001b[0m \u001b[38;5;28;01mtry\u001b[39;00m:\n\u001b[0;32m--> 416\u001b[0m     fd_event_list \u001b[38;5;241m=\u001b[39m \u001b[38;5;28;43mself\u001b[39;49m\u001b[38;5;241;43m.\u001b[39;49m\u001b[43m_selector\u001b[49m\u001b[38;5;241;43m.\u001b[39;49m\u001b[43mpoll\u001b[49m\u001b[43m(\u001b[49m\u001b[43mtimeout\u001b[49m\u001b[43m)\u001b[49m\n\u001b[1;32m    417\u001b[0m \u001b[38;5;28;01mexcept\u001b[39;00m \u001b[38;5;167;01mInterruptedError\u001b[39;00m:\n\u001b[1;32m    418\u001b[0m     \u001b[38;5;28;01mreturn\u001b[39;00m ready\n",
      "\u001b[0;31mKeyboardInterrupt\u001b[0m: "
     ]
    }
   ],
   "source": [
    "import time\n",
    "loandra_path = '/Users/harisrasul/Desktop/loandra'\n",
    "k = 5\n",
    "depths = [2,3,4]\n",
    "# depths = [3,4]\n",
    "# Iterate through each combination of depth and minimum support level\n",
    "for depth in depths:\n",
    "    # Capture the start time\n",
    "    start_time = time.time()\n",
    "    # Execute the k-fold tester\n",
    "    accuracies, mean_score = k_fold_tester_loandra(loandra_path=loandra_path,\n",
    "                                                    k=k, depth=depth, dataset=dataset, \n",
    "                                                    true_labels_for_points=true_labels_for_points, \n",
    "                                                    labels=labels, features=features, features_categorical=features_categorical, features_numerical=features_numerical, \n",
    "                                                    min_support_level=0, complete_tree= False)\n",
    "    # Capture the end time\n",
    "    end_time = time.time()\n",
    "    # Calculate the duration\n",
    "    duration = end_time - start_time\n",
    "    # Print or log the results including the time taken\n",
    "    print(f\"Oblivious Depth: {depth}, Time Taken: {duration:.2f} seconds\")\n",
    "    print(f\"Accuracies: {accuracies}\")\n",
    "    print(f\"Mean Score: {mean_score}\\n\")"
   ]
  },
  {
   "cell_type": "markdown",
   "metadata": {},
   "source": [
    "Max Accuracy Categorical"
   ]
  },
  {
   "cell_type": "code",
   "execution_count": null,
   "metadata": {},
   "outputs": [],
   "source": [
    "max_accuracy_categorical_problem = SATreeCraft(dataset=dataset,\n",
    "                                           features=features,\n",
    "                                           labels=labels,\n",
    "                                           true_labels_for_points=true_labels_for_points,\n",
    "                                           features_categorical=features_categorical,\n",
    "                                           features_numerical=features_numerical,\n",
    "                                           classification_objective= 'max_accuracy',\n",
    "                                           fixed_depth=2,\n",
    "                                           # min_support= 2,\n",
    "                                           # tree_structure = 'Oblivious'\n",
    "                                           )\n",
    "\n",
    "loandra_path = '/Users/harisrasul/Desktop/loandra'\n",
    "max_accuracy_categorical_problem.solve_loandra(loandra_path)\n",
    "print(\"Final Model: \", max_accuracy_categorical_problem.model)\n",
    "print(\"Min cost found: \", max_accuracy_categorical_problem.min_cost)"
   ]
  },
  {
   "cell_type": "markdown",
   "metadata": {},
   "source": [
    "Min Height Categorical"
   ]
  },
  {
   "cell_type": "code",
   "execution_count": null,
   "metadata": {},
   "outputs": [],
   "source": [
    "min_height_categorical_problem = SATreeCraft(dataset=dataset,\n",
    "                                           features=features,\n",
    "                                           labels=labels,\n",
    "                                           true_labels_for_points=true_labels_for_points,\n",
    "                                           features_categorical=features_categorical,\n",
    "                                           features_numerical=features_numerical)\n",
    "min_height_categorical_problem.solve()\n",
    "min_height_categorical_problem.export_cnf()\n",
    "print(\"Final Model: \", min_height_categorical_problem.model)\n",
    "print(\"min depth found: \", min_height_categorical_problem.min_depth)"
   ]
  },
  {
   "cell_type": "markdown",
   "metadata": {},
   "source": [
    "K-fold Categoircal Test"
   ]
  },
  {
   "cell_type": "code",
   "execution_count": null,
   "metadata": {},
   "outputs": [],
   "source": [
    "loandra_path = '/Users/harisrasul/Desktop/loandra'\n",
    "k = 5\n",
    "depth = 2 \n",
    "minimum_support = 0\n",
    "accuracies, mean_score = k_fold_tester(k, depth, dataset, true_labels_for_points, labels, features, features_categorical, features_numerical, \n",
    "                                       # complete_tree= False\n",
    "                                       )\n",
    "                                       \n",
    "print(accuracies)\n",
    "print(mean_score)"
   ]
  }
 ],
 "metadata": {
  "kernelspec": {
   "display_name": "Python 3",
   "language": "python",
   "name": "python3"
  },
  "language_info": {
   "codemirror_mode": {
    "name": "ipython",
    "version": 3
   },
   "file_extension": ".py",
   "mimetype": "text/x-python",
   "name": "python",
   "nbconvert_exporter": "python",
   "pygments_lexer": "ipython3",
   "version": "3.9.7"
  }
 },
 "nbformat": 4,
 "nbformat_minor": 2
}
