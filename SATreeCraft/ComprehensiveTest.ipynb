{
 "cells": [
  {
   "cell_type": "code",
   "execution_count": null,
   "metadata": {},
   "outputs": [],
   "source": [
    "import numpy as np\n",
    "import pandas as pd\n",
    "import openpyxl\n",
    "from sklearn.preprocessing import LabelEncoder\n",
    "\n",
    "from utils import * # Dataloader\n",
    "from SATreeCraft import * # Tree solver framework\n",
    "from SATreeClassifier import * "
   ]
  },
  {
   "cell_type": "markdown",
   "metadata": {},
   "source": [
    "Numerical Tests"
   ]
  },
  {
   "cell_type": "code",
   "execution_count": null,
   "metadata": {},
   "outputs": [],
   "source": [
    "from utils import *\n",
    "\n",
    "file_path_to_test = 'Datasets/wine/wine.data'\n",
    "delimiter = ','\n",
    "label_position = 0 \n",
    "\n",
    "data_loader = TreeDataLoaderBinaryNumerical(file_path=file_path_to_test, delimiter=delimiter, label_position= label_position)\n",
    "\n",
    "\n",
    "\n",
    "print(\"Features:\", data_loader.features, data_loader.features.shape)\n",
    "print(\"Labels:\", data_loader.labels, data_loader.labels.shape)\n",
    "print(\"True Labels for Points:\", data_loader.true_labels_for_points, data_loader.true_labels_for_points.shape)\n",
    "print(\"Dataset:\\n\", data_loader.dataset,data_loader.dataset.shape)\n",
    "\n",
    "\n",
    "features = data_loader.features\n",
    "labels = data_loader.labels\n",
    "true_labels_for_points = data_loader.true_labels_for_points\n",
    "dataset = data_loader.dataset"
   ]
  },
  {
   "cell_type": "markdown",
   "metadata": {},
   "source": [
    "Min-Height Problem 100% Training Accuracy"
   ]
  },
  {
   "cell_type": "code",
   "execution_count": null,
   "metadata": {},
   "outputs": [],
   "source": [
    "min_height_numerical_problem = SATreeCraft(dataset=dataset,features=features,labels=labels,true_labels_for_points=true_labels_for_points)\n",
    "min_height_numerical_problem.solve()\n",
    "min_height_numerical_problem.export_cnf()\n",
    "print(\"Final Model: \", min_height_numerical_problem.model)\n",
    "print(\"min depth found: \", min_height_numerical_problem.min_depth)"
   ]
  },
  {
   "cell_type": "code",
   "execution_count": null,
   "metadata": {},
   "outputs": [],
   "source": [
    "max_accuracy_numerical_problem = SATreeCraft(dataset=dataset,\n",
    "                                             features=features,labels=labels,\n",
    "                                             true_labels_for_points=true_labels_for_points,\n",
    "                                             classifciation_objective='max_accuracy',\n",
    "                                             fixed_depth=2)\n",
    "max_accuracy_numerical_problem.solve()\n",
    "max_accuracy_numerical_problem.export_cnf()\n",
    "print(\"Final Model: \", max_accuracy_numerical_problem.model)\n",
    "print(\"Min cost found: \", max_accuracy_numerical_problem.min_cost)"
   ]
  },
  {
   "cell_type": "markdown",
   "metadata": {},
   "source": [
    "Model Classifier Tests - Numerical"
   ]
  },
  {
   "cell_type": "code",
   "execution_count": null,
   "metadata": {},
   "outputs": [],
   "source": [
    "# Classifier - sklearn Integration \n",
    "\n",
    "# Build model\n",
    "model = SATreeClassifier(min_height_numerical_problem.model)\n",
    "\n",
    "# Test cases 0- uisng training set expecting 100%\n",
    "X_test = dataset[5:160]\n",
    "y_test = true_labels_for_points[5:160]\n",
    "\n",
    "# To get the accuracy score\n",
    "accuracy = model.score(X_test, y_test)\n",
    "print(f\"Accuracy: {accuracy}\")\n",
    "\n",
    "# To get the classification report\n",
    "report = model.get_classification_report(X_test, y_test)\n",
    "print(\"Classification Report:\")\n",
    "print(report)\n",
    "\n",
    "# To get the confusion matrix\n",
    "conf_matrix = model.get_confusion_matrix(X_test, y_test)\n",
    "print(\"Confusion Matrix:\")\n",
    "print(conf_matrix)"
   ]
  },
  {
   "cell_type": "markdown",
   "metadata": {},
   "source": [
    "Categorical Datasets Test"
   ]
  },
  {
   "cell_type": "code",
   "execution_count": null,
   "metadata": {},
   "outputs": [],
   "source": [
    "# Promoter data set\n",
    "file_path = 'Datasets/molecular+biology+promoter+gene+sequences/promoters.data'\n",
    "label_index = 0\n",
    "categorical_feature_index = 2  \n",
    "numerical_indices = None\n",
    "\n",
    "data_loader = TreeDataLoaderWithCategorical(\n",
    "    file_path= file_path,\n",
    "    label_index= label_index,\n",
    "    numerical_indices= numerical_indices,\n",
    "    categorical_feature_index=categorical_feature_index\n",
    ")\n",
    "\n",
    "print(\"Features:\", data_loader.features, data_loader.features.shape)\n",
    "print(\"Categorical Features:\", data_loader.features_categorical, data_loader.features_categorical.shape)\n",
    "print(\"Numerical Features:\", data_loader.features_numerical, data_loader.features_numerical.shape)\n",
    "print(\"Labels:\", data_loader.labels, data_loader.labels.shape)\n",
    "print(\"True Labels for Points:\", data_loader.true_labels_for_points, data_loader.true_labels_for_points.shape)\n",
    "print(\"Dataset:\\n\", data_loader.dataset,data_loader.dataset.shape)\n",
    "\n",
    "\n",
    "features = data_loader.features\n",
    "features_categorical = data_loader.features_categorical\n",
    "features_numerical = data_loader.features_numerical\n",
    "labels = data_loader.labels\n",
    "true_labels_for_points = data_loader.true_labels_for_points\n",
    "dataset = data_loader.dataset"
   ]
  },
  {
   "cell_type": "code",
   "execution_count": null,
   "metadata": {},
   "outputs": [],
   "source": [
    "min_height_categorical_problem = SATreeCraft(dataset=dataset,\n",
    "                                           features=features,\n",
    "                                           labels=labels,\n",
    "                                           true_labels_for_points=true_labels_for_points,\n",
    "                                           features_categorical=features_categorical,\n",
    "                                           features_numerical=features_numerical)\n",
    "min_height_categorical_problem.solve()\n",
    "min_height_categorical_problem.export_cnf()\n",
    "print(\"Final Model: \", min_height_categorical_problem.model)\n",
    "print(\"min depth found: \", min_height_categorical_problem.min_depth)"
   ]
  },
  {
   "cell_type": "code",
   "execution_count": null,
   "metadata": {},
   "outputs": [],
   "source": [
    "max_accuracy_categorical_problem = SATreeCraft(dataset=dataset,\n",
    "                                           features=features,\n",
    "                                           labels=labels,\n",
    "                                           true_labels_for_points=true_labels_for_points,\n",
    "                                           features_categorical=features_categorical,\n",
    "                                           features_numerical=features_numerical,\n",
    "                                           classifciation_objective= 'max_accuracy',\n",
    "                                           fixed_depth=2)\n",
    "\n",
    "max_accuracy_categorical_problem.solve()\n",
    "max_accuracy_categorical_problem.export_cnf()\n",
    "print(\"Final Model: \", max_accuracy_categorical_problem.model)\n",
    "print(\"Min cost found: \", max_accuracy_categorical_problem.min_cost)"
   ]
  },
  {
   "cell_type": "markdown",
   "metadata": {},
   "source": [
    "Tree Classifier Tests Metrics - Sklearn"
   ]
  },
  {
   "cell_type": "code",
   "execution_count": null,
   "metadata": {},
   "outputs": [],
   "source": [
    "# Classifier - sklearn Integration \n",
    "\n",
    "# Build model\n",
    "model = SATreeClassifier(min_height_categorical_problem.model)\n",
    "\n",
    "# Test cases 0- uisng training set expecting 100%\n",
    "X_test = dataset\n",
    "y_test = true_labels_for_points\n",
    "\n",
    "# To get the accuracy score\n",
    "accuracy = model.score(X_test, y_test)\n",
    "print(f\"Accuracy: {accuracy}\")\n",
    "\n",
    "# To get the classification report\n",
    "report = model.get_classification_report(X_test, y_test)\n",
    "print(\"Classification Report:\")\n",
    "print(report)\n",
    "\n",
    "# To get the confusion matrix\n",
    "conf_matrix = model.get_confusion_matrix(X_test, y_test)\n",
    "print(\"Confusion Matrix:\")\n",
    "print(conf_matrix)"
   ]
  }
 ],
 "metadata": {
  "kernelspec": {
   "display_name": "Python 3",
   "language": "python",
   "name": "python3"
  },
  "language_info": {
   "codemirror_mode": {
    "name": "ipython",
    "version": 3
   },
   "file_extension": ".py",
   "mimetype": "text/x-python",
   "name": "python",
   "nbconvert_exporter": "python",
   "pygments_lexer": "ipython3",
   "version": "3.9.7"
  }
 },
 "nbformat": 4,
 "nbformat_minor": 2
}
