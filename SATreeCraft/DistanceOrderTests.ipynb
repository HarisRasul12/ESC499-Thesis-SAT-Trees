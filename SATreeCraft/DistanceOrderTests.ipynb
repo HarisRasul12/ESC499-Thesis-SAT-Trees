{
 "cells": [
  {
   "cell_type": "code",
   "execution_count": 1,
   "metadata": {},
   "outputs": [
    {
     "name": "stdout",
     "output_type": "stream",
     "text": [
      "Distance class 0: [1.0]\n",
      "Distance class 1: [7.810249675906654, 8.06225774829855, 8.246211251235321, 8.48528137423857, 8.54400374531753]\n",
      "Distance class 2: [9.219544457292887]\n",
      "Distance class 3: [14.317821063276353, 14.560219778561036, 14.866068747318506]\n"
     ]
    }
   ],
   "source": [
    "import numpy as np\n",
    "from scipy.spatial import distance_matrix\n",
    "\n",
    "dataset = np.array([[1, 1], [1, 2], [7, 7], [7, 8], [15, 5], [15, 6]])\n",
    "epsilon = 1\n",
    "\n",
    "# Calculate the distance matrix\n",
    "dist_matrix = distance_matrix(dataset, dataset)\n",
    "\n",
    "# Extract the unique distances, excluding the diagonal (distance from a point to itself)\n",
    "unique_distances = np.unique(dist_matrix[np.triu_indices_from(dist_matrix, k=1)])\n",
    "unique_distances.sort()\n",
    "\n",
    "# Initialize distance classes\n",
    "distance_classes = []\n",
    "current_class = []\n",
    "\n",
    "# Group distances into classes based on epsilon\n",
    "for dist in unique_distances:\n",
    "    if not current_class or dist - current_class[0] <= epsilon:\n",
    "        # If the current class is empty or the distance is within epsilon, add it to the class\n",
    "        current_class.append(dist)\n",
    "    else:\n",
    "        # Otherwise, start a new class\n",
    "        distance_classes.append(current_class)\n",
    "        current_class = [dist]\n",
    "\n",
    "if current_class:\n",
    "    distance_classes.append(current_class)\n",
    "\n",
    "# Display the distance classes\n",
    "for i, d_class in enumerate(distance_classes):\n",
    "    print(f\"Distance class {i}: {d_class}\")"
   ]
  },
  {
   "cell_type": "code",
   "execution_count": 7,
   "metadata": {},
   "outputs": [
    {
     "name": "stdout",
     "output_type": "stream",
     "text": [
      "D1: [(0, 1), (2, 3), (4, 5)]\n",
      "D2: [(1, 2), (2, 5), (2, 4), (3, 5), (0, 2), (1, 3), (3, 4)]\n",
      "D3: [(0, 3)]\n",
      "D4: [(1, 4), (0, 4), (1, 5), (0, 5)]\n"
     ]
    },
    {
     "data": {
      "text/plain": [
       "[array([[0, 1],\n",
       "        [2, 3],\n",
       "        [4, 5]]),\n",
       " array([[1, 2],\n",
       "        [2, 5],\n",
       "        [2, 4],\n",
       "        [3, 5],\n",
       "        [0, 2],\n",
       "        [1, 3],\n",
       "        [3, 4]]),\n",
       " array([[0, 3]]),\n",
       " array([[1, 4],\n",
       "        [0, 4],\n",
       "        [1, 5],\n",
       "        [0, 5]])]"
      ]
     },
     "execution_count": 7,
     "metadata": {},
     "output_type": "execute_result"
    }
   ],
   "source": [
    "import numpy as np\n",
    "from itertools import combinations\n",
    "from collections import defaultdict, OrderedDict\n",
    "\n",
    "def create_distance_classes(dataset, epsilon=0):\n",
    "    def euclidean_distance(point1, point2):\n",
    "        return np.sqrt(np.sum((np.array(point1) - np.array(point2))**2))\n",
    "    distances = {}\n",
    "    for (idx1, point1), (idx2, point2) in combinations(enumerate(dataset), 2):\n",
    "        dist = euclidean_distance(point1, point2)\n",
    "        distances[(idx1, idx2)] = dist\n",
    "\n",
    "    sorted_distances = sorted(distances.items(), key=lambda item: item[1])\n",
    "\n",
    "    distance_classes_with_dist = OrderedDict()\n",
    "    distance_classes_simplified = OrderedDict()\n",
    "    current_class_label = 1\n",
    "    for (pair, dist) in sorted_distances:\n",
    "        placed = False\n",
    "        for d_class, pairs in distance_classes_with_dist.items():\n",
    "            class_dist = next(iter(pairs))[1]  # Get the reference distance for this class\n",
    "            if abs(class_dist - dist) <= epsilon:\n",
    "                distance_classes_with_dist[d_class].append((pair, dist))\n",
    "                distance_classes_simplified[d_class].append(pair)\n",
    "                placed = True\n",
    "                break\n",
    "        if not placed:\n",
    "            distance_classes_with_dist[f'D{current_class_label}'] = [(pair, dist)]\n",
    "            distance_classes_simplified[f'D{current_class_label}'] = [pair]\n",
    "            current_class_label += 1\n",
    "    \n",
    "    return distance_classes_with_dist, distance_classes_simplified\n",
    "\n",
    "# Example usage\n",
    "dataset = np.array([[1, 1], [1, 2], [7, 7], [7, 8], [15,5],[15,6]])\n",
    "dist_classes_with_dist, dist_classes_simplified = create_distance_classes(dataset, epsilon=1)\n",
    "\n",
    "# Print the simplified distance classes\n",
    "for d_class, pairs in dist_classes_simplified.items():\n",
    "    print(f\"{d_class}: {pairs}\")\n",
    "\n",
    "def convert_to_numpy_array(distance_classes_simplified):\n",
    "    # Extract the pairs for each class and convert them to a numpy array\n",
    "    numpy_arrays = [np.array(pairs) for pairs in distance_classes_simplified.values()]\n",
    "    return numpy_arrays\n",
    "\n",
    "# Convert the simplified distance classes to numpy array\n",
    "distance_classes = convert_to_numpy_array(dist_classes_simplified)\n",
    "\n",
    "# Display the numpy arrays\n",
    "distance_classes"
   ]
  },
  {
   "cell_type": "code",
   "execution_count": 5,
   "metadata": {},
   "outputs": [
    {
     "name": "stdout",
     "output_type": "stream",
     "text": [
      "distnace class w =  0\n",
      "The pair of points is in here:  [0 1]\n",
      "distnace class w =  0\n",
      "The pair of points is in here:  [2 3]\n",
      "distnace class w =  0\n",
      "The pair of points is in here:  [4 5]\n",
      "distnace class w =  1\n",
      "The pair of points is in here:  [1 2]\n",
      "distnace class w =  2\n",
      "The pair of points is in here:  [2 5]\n",
      "distnace class w =  3\n",
      "The pair of points is in here:  [2 4]\n",
      "distnace class w =  3\n",
      "The pair of points is in here:  [3 5]\n",
      "distnace class w =  4\n",
      "The pair of points is in here:  [0 2]\n",
      "distnace class w =  4\n",
      "The pair of points is in here:  [1 3]\n",
      "distnace class w =  5\n",
      "The pair of points is in here:  [3 4]\n",
      "distnace class w =  6\n",
      "The pair of points is in here:  [0 3]\n",
      "distnace class w =  7\n",
      "The pair of points is in here:  [1 4]\n",
      "distnace class w =  8\n",
      "The pair of points is in here:  [0 4]\n",
      "distnace class w =  8\n",
      "The pair of points is in here:  [1 5]\n",
      "distnace class w =  9\n",
      "The pair of points is in here:  [0 5]\n"
     ]
    }
   ],
   "source": [
    "for w, pairs_array in enumerate(distance_classes):\n",
    "    for pair in pairs_array:\n",
    "        i, i_prime = pair\n",
    "        print(\"distnace class w = \",w)\n",
    "        print(\"The pair of points is in here: \", pair)"
   ]
  },
  {
   "cell_type": "code",
   "execution_count": 6,
   "metadata": {},
   "outputs": [
    {
     "name": "stdout",
     "output_type": "stream",
     "text": [
      "0 1\n",
      "1 2\n",
      "2 3\n",
      "3 4\n",
      "4 5\n",
      "5 6\n",
      "6 7\n",
      "7 8\n",
      "8 9\n"
     ]
    }
   ],
   "source": [
    "for w in range(1, len(distance_classes)):  # Starting from 1 since we're checking w against w-1\n",
    "    print(w-1,w)"
   ]
  },
  {
   "cell_type": "code",
   "execution_count": 7,
   "metadata": {},
   "outputs": [
    {
     "name": "stdout",
     "output_type": "stream",
     "text": [
      "1 2\n",
      "3 4\n"
     ]
    }
   ],
   "source": [
    "CL_pairs = np.array([[ 1,2], [3,4]])\n",
    "for i, i_prime in CL_pairs:\n",
    "    print(i,i_prime)\n"
   ]
  }
 ],
 "metadata": {
  "kernelspec": {
   "display_name": "Python 3",
   "language": "python",
   "name": "python3"
  },
  "language_info": {
   "codemirror_mode": {
    "name": "ipython",
    "version": 3
   },
   "file_extension": ".py",
   "mimetype": "text/x-python",
   "name": "python",
   "nbconvert_exporter": "python",
   "pygments_lexer": "ipython3",
   "version": "3.9.7"
  }
 },
 "nbformat": 4,
 "nbformat_minor": 2
}
