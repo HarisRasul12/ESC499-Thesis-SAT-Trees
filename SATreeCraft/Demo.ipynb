{
 "cells": [
  {
   "cell_type": "markdown",
   "metadata": {},
   "source": [
    "# DataLoader"
   ]
  },
  {
   "cell_type": "code",
   "execution_count": 1,
   "metadata": {},
   "outputs": [],
   "source": [
    "import numpy as np\n",
    "import pandas as pd\n",
    "import openpyxl\n",
    "from sklearn.preprocessing import LabelEncoder\n",
    "\n",
    "from utils import * # Dataloader and K-fold mechanism \n",
    "from SATreeCraft import * # Tree solver framework\n",
    "from SATreeClassifier import * "
   ]
  },
  {
   "cell_type": "code",
   "execution_count": null,
   "metadata": {},
   "outputs": [],
   "source": [
    "from utils import *\n",
    "\n",
    "file_path_to_test = 'Datasets/wine/wine.data'\n",
    "delimiter = ','\n",
    "label_position = 0 \n",
    "\n",
    "data_loader = TreeDataLoaderBinaryNumerical(file_path=file_path_to_test, delimiter=delimiter, label_position= label_position)\n",
    "\n",
    "\n",
    "\n",
    "print(\"Features:\", data_loader.features, data_loader.features.shape)\n",
    "print(\"Labels:\", data_loader.labels, data_loader.labels.shape)\n",
    "print(\"True Labels for Points:\", data_loader.true_labels_for_points, data_loader.true_labels_for_points.shape)\n",
    "print(\"Dataset:\\n\", data_loader.dataset,data_loader.dataset.shape)\n",
    "\n",
    "\n",
    "features = data_loader.features\n",
    "labels = data_loader.labels\n",
    "true_labels_for_points = data_loader.true_labels_for_points\n",
    "dataset = data_loader.dataset"
   ]
  },
  {
   "cell_type": "markdown",
   "metadata": {},
   "source": [
    "# Classification"
   ]
  },
  {
   "cell_type": "code",
   "execution_count": null,
   "metadata": {},
   "outputs": [],
   "source": [
    "min_height_numerical_problem = SATreeCraft(dataset=dataset,features=features,labels=labels,true_labels_for_points=true_labels_for_points)\n",
    "min_height_numerical_problem.solve()\n",
    "#min_height_numerical_problem.export_cnf_min_height(\"dimacs/testPerfectHeight.cnf\")\n",
    "print(\"Final Model: \", min_height_numerical_problem.model)\n",
    "print(\"min depth found: \", min_height_numerical_problem.min_depth)"
   ]
  },
  {
   "cell_type": "code",
   "execution_count": null,
   "metadata": {},
   "outputs": [],
   "source": [
    "max_accuracy_numerical_problem = SATreeCraft(dataset=dataset,\n",
    "                                             features=features,labels=labels,\n",
    "                                             true_labels_for_points=true_labels_for_points,\n",
    "                                             classification_objective='max_accuracy',\n",
    "                                             fixed_depth=2,\n",
    "                                             # min_support= 5\n",
    "                                             # min_margin  = 10\n",
    "                                             tree_structure= 'Oblivious'\n",
    "                                             )\n",
    "max_accuracy_numerical_problem.solve()\n",
    "max_accuracy_numerical_problem.export_cnf()\n",
    "print(\"Final Model: \", max_accuracy_numerical_problem.model)\n",
    "print(\"Min cost found: \", max_accuracy_numerical_problem.min_cost)"
   ]
  },
  {
   "cell_type": "markdown",
   "metadata": {},
   "source": [
    "# LOANDRA"
   ]
  },
  {
   "cell_type": "code",
   "execution_count": null,
   "metadata": {},
   "outputs": [],
   "source": [
    "loandra_path = '/Users/harisrasul/Desktop/loandra'\n",
    "max_accuracy_numerical_problem.solve_loandra(loandra_path)\n",
    "print(\"Final Model: \", max_accuracy_numerical_problem.model)\n",
    "print(\"Min cost found: \", max_accuracy_numerical_problem.min_cost)"
   ]
  },
  {
   "cell_type": "markdown",
   "metadata": {},
   "source": [
    "# SKLEARN Integration"
   ]
  },
  {
   "cell_type": "code",
   "execution_count": null,
   "metadata": {},
   "outputs": [],
   "source": [
    "k = 5\n",
    "depth = 2 \n",
    "minimum_support = 0\n",
    "accuracies, mean_score = k_fold_tester(k, depth, dataset, true_labels_for_points, labels, features, \n",
    "                                       # complete_tree= False\n",
    "                                       )\n",
    "                                       \n",
    "print(accuracies)\n",
    "print(mean_score)"
   ]
  },
  {
   "cell_type": "markdown",
   "metadata": {},
   "source": [
    "# Clustering"
   ]
  },
  {
   "cell_type": "code",
   "execution_count": null,
   "metadata": {},
   "outputs": [],
   "source": [
    "features = np.array(['0', '1'])\n",
    "dataset = np.array([[1, 1], [1, 2], [7, 7], [7, 8], [15,5],[15,6]])  # Dataset X\n",
    "epsilon = 1 \n",
    "k_clusters = 3\n",
    "depth = 2\n",
    "\n",
    "# # ML_pairs = np.array([[4,5],[0,1],[2,3]])\n",
    "# CL_pairs = np.array([])\n",
    "\n",
    "ML_pairs = np.array([])\n",
    "CL_pairs = np.array([[2,3],[3,1]])\n",
    "\n",
    "\n",
    "clustering_problem = max_accuracy_numerical_problem = SATreeCraft(dataset=dataset,\n",
    "                                                                  features= features,\n",
    "                                                                  k_clusters= k_clusters,\n",
    "                                                                  #ML_pairs= ML_pairs,\n",
    "                                                                  CL_pairs= CL_pairs,\n",
    "                                                                  epsilon = epsilon,\n",
    "                                                                  fixed_depth= depth\n",
    "                                             )\n",
    "\n",
    "loandra_path = '/Users/harisrasul/Desktop/loandra'\n",
    "clustering_problem.solve_loandra(loandra_path)\n",
    "print(clustering_problem.cluster_assignments)\n",
    "print(clustering_problem.cluster_diameters)"
   ]
  },
  {
   "cell_type": "code",
   "execution_count": 18,
   "metadata": {},
   "outputs": [
    {
     "name": "stdout",
     "output_type": "stream",
     "text": [
      "{0: [3, 4, 5], 1: [0, 1, 2]}\n",
      "{0: 8.54400374531753, 1: 8.48528137423857}\n"
     ]
    }
   ],
   "source": [
    "features = np.array(['0', '1'])\n",
    "dataset = np.array([[1, 1], [1, 2], [7, 7], [7, 8], [15,5],[15,6]])  # Dataset X\n",
    "epsilon = 1\n",
    "k_clusters = 2\n",
    "depth = 3\n",
    "\n",
    "# # ML_pairs = np.array([[4,5],[0,1],[2,3]])\n",
    "# CL_pairs = np.array([])\n",
    "clustering_obj = 'max_diameter'\n",
    "\n",
    "ML_pairs = np.array([])\n",
    "CL_pairs = np.array([[2,3]])\n",
    "\n",
    "clustering_problem = SATreeCraft(dataset=dataset,\n",
    "                                features= features,\n",
    "                                k_clusters= k_clusters,\n",
    "                                ML_pairs= ML_pairs,\n",
    "                                CL_pairs= CL_pairs,\n",
    "                                epsilon = epsilon,\n",
    "                                fixed_depth= depth,\n",
    "                                clustering_objective=clustering_obj\n",
    "                                )\n",
    "#clustering_problem.solve()\n",
    "loandra_path = '/Users/harisrasul/Desktop/loandra'\n",
    "clustering_problem.solve_loandra(loandra_path)\n",
    "print(clustering_problem.cluster_assignments)\n",
    "print(clustering_problem.cluster_diameters)"
   ]
  }
 ],
 "metadata": {
  "kernelspec": {
   "display_name": "Python 3",
   "language": "python",
   "name": "python3"
  },
  "language_info": {
   "codemirror_mode": {
    "name": "ipython",
    "version": 3
   },
   "file_extension": ".py",
   "mimetype": "text/x-python",
   "name": "python",
   "nbconvert_exporter": "python",
   "pygments_lexer": "ipython3",
   "version": "3.9.7"
  }
 },
 "nbformat": 4,
 "nbformat_minor": 2
}
