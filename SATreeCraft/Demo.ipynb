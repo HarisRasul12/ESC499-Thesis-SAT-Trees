{
 "cells": [
  {
   "cell_type": "markdown",
   "metadata": {},
   "source": [
    "# DataLoader"
   ]
  },
  {
   "cell_type": "code",
   "execution_count": 1,
   "metadata": {},
   "outputs": [],
   "source": [
    "import numpy as np\n",
    "import pandas as pd\n",
    "import openpyxl\n",
    "from sklearn.preprocessing import LabelEncoder\n",
    "\n",
    "from utils import * # Dataloader and K-fold mechanism \n",
    "from SATreeCraft import * # Tree solver framework\n",
    "from SATreeClassifier import * "
   ]
  },
  {
   "cell_type": "code",
   "execution_count": 2,
   "metadata": {},
   "outputs": [
    {
     "name": "stdout",
     "output_type": "stream",
     "text": [
      "Features: ['0' '1' '2' '3' '4' '5' '6' '7' '8' '9' '10' '11' '12'] (13,)\n",
      "Labels: [0 1 2] (3,)\n",
      "True Labels for Points: [0 0 0 0 0 0 0 0 0 0 0 0 0 0 0 0 0 0 0 0 0 0 0 0 0 0 0 0 0 0 0 0 0 0 0 0 0\n",
      " 0 0 0 0 0 0 0 0 0 0 0 0 0 0 0 0 0 0 0 0 0 0 1 1 1 1 1 1 1 1 1 1 1 1 1 1 1\n",
      " 1 1 1 1 1 1 1 1 1 1 1 1 1 1 1 1 1 1 1 1 1 1 1 1 1 1 1 1 1 1 1 1 1 1 1 1 1\n",
      " 1 1 1 1 1 1 1 1 1 1 1 1 1 1 1 1 1 1 1 2 2 2 2 2 2 2 2 2 2 2 2 2 2 2 2 2 2\n",
      " 2 2 2 2 2 2 2 2 2 2 2 2 2 2 2 2 2 2 2 2 2 2 2 2 2 2 2 2 2 2] (178,)\n",
      "Dataset:\n",
      " [[1.423e+01 1.710e+00 2.430e+00 ... 1.040e+00 3.920e+00 1.065e+03]\n",
      " [1.320e+01 1.780e+00 2.140e+00 ... 1.050e+00 3.400e+00 1.050e+03]\n",
      " [1.316e+01 2.360e+00 2.670e+00 ... 1.030e+00 3.170e+00 1.185e+03]\n",
      " ...\n",
      " [1.327e+01 4.280e+00 2.260e+00 ... 5.900e-01 1.560e+00 8.350e+02]\n",
      " [1.317e+01 2.590e+00 2.370e+00 ... 6.000e-01 1.620e+00 8.400e+02]\n",
      " [1.413e+01 4.100e+00 2.740e+00 ... 6.100e-01 1.600e+00 5.600e+02]] (178, 13)\n"
     ]
    }
   ],
   "source": [
    "from utils import *\n",
    "\n",
    "file_path_to_test = 'Datasets/wine/wine.data'\n",
    "delimiter = ','\n",
    "label_position = 0 \n",
    "\n",
    "data_loader = TreeDataLoaderBinaryNumerical(file_path=file_path_to_test, delimiter=delimiter, label_position= label_position)\n",
    "\n",
    "\n",
    "\n",
    "print(\"Features:\", data_loader.features, data_loader.features.shape)\n",
    "print(\"Labels:\", data_loader.labels, data_loader.labels.shape)\n",
    "print(\"True Labels for Points:\", data_loader.true_labels_for_points, data_loader.true_labels_for_points.shape)\n",
    "print(\"Dataset:\\n\", data_loader.dataset,data_loader.dataset.shape)\n",
    "\n",
    "\n",
    "features = data_loader.features\n",
    "labels = data_loader.labels\n",
    "true_labels_for_points = data_loader.true_labels_for_points\n",
    "dataset = data_loader.dataset"
   ]
  },
  {
   "cell_type": "markdown",
   "metadata": {},
   "source": [
    "# Classification"
   ]
  },
  {
   "cell_type": "code",
   "execution_count": 3,
   "metadata": {},
   "outputs": [
    {
     "name": "stdout",
     "output_type": "stream",
     "text": [
      "no solution at depth 1\n",
      "no solution at depth 2\n",
      "Final Model:  [{'type': 'branching', 'children': [1, 2], 'feature': '10', 'threshold': 0.915}, {'type': 'branching', 'children': [3, 4], 'feature': '6', 'threshold': 1.585}, {'type': 'branching', 'children': [5, 6], 'feature': '12', 'threshold': 716.0}, {'type': 'branching', 'children': [7, 8], 'feature': '9', 'threshold': 3.8449999999999998}, {'type': 'branching', 'children': [9, 10], 'feature': '12', 'threshold': 627.5}, {'type': 'branching', 'children': [11, 12], 'feature': '6', 'threshold': 0.565}, {'type': 'branching', 'children': [13, 14], 'feature': '9', 'threshold': 3.46}, {'type': 'leaf', 'label': 1}, {'type': 'leaf', 'label': 2}, {'type': 'leaf', 'label': 1}, {'type': 'leaf', 'label': 0}, {'type': 'leaf', 'label': 2}, {'type': 'leaf', 'label': 1}, {'type': 'leaf', 'label': 1}, {'type': 'leaf', 'label': 0}]\n",
      "min depth found:  3\n"
     ]
    }
   ],
   "source": [
    "min_height_numerical_problem = SATreeCraft(dataset=dataset,features=features,labels=labels,true_labels_for_points=true_labels_for_points)\n",
    "min_height_numerical_problem.solve()\n",
    "#min_height_numerical_problem.export_cnf_min_height(\"dimacs/testPerfectHeight.cnf\")\n",
    "print(\"Final Model: \", min_height_numerical_problem.model)\n",
    "print(\"min depth found: \", min_height_numerical_problem.min_depth)"
   ]
  },
  {
   "cell_type": "code",
   "execution_count": 5,
   "metadata": {},
   "outputs": [
    {
     "name": "stdout",
     "output_type": "stream",
     "text": [
      "Final Model:  [{'type': 'branching', 'children': [1, 2], 'feature': '0', 'threshold': 12.78}, {'type': 'branching', 'children': [3, 4], 'feature': '6', 'threshold': 0.94}, {'type': 'branching', 'children': [5, 6], 'feature': '6', 'threshold': 1.5750000000000002}, {'type': 'leaf', 'label': 2}, {'type': 'leaf', 'label': 1}, {'type': 'leaf', 'label': 2}, {'type': 'leaf', 'label': 0}]\n",
      "Min cost found:  11\n"
     ]
    }
   ],
   "source": [
    "max_accuracy_numerical_problem = SATreeCraft(dataset=dataset,\n",
    "                                             features=features,labels=labels,\n",
    "                                             true_labels_for_points=true_labels_for_points,\n",
    "                                             classification_objective='max_accuracy',\n",
    "                                             fixed_depth=2,\n",
    "                                             # min_support= 5\n",
    "                                             # min_margin  = 10\n",
    "                                             tree_structure= 'Oblivious'\n",
    "                                             )\n",
    "max_accuracy_numerical_problem.solve()\n",
    "max_accuracy_numerical_problem.export_cnf()\n",
    "print(\"Final Model: \", max_accuracy_numerical_problem.model)\n",
    "print(\"Min cost found: \", max_accuracy_numerical_problem.min_cost)"
   ]
  },
  {
   "cell_type": "markdown",
   "metadata": {},
   "source": [
    "# LOANDRA"
   ]
  },
  {
   "cell_type": "code",
   "execution_count": null,
   "metadata": {},
   "outputs": [],
   "source": [
    "loandra_path = '/Users/harisrasul/Desktop/loandra'\n",
    "max_accuracy_numerical_problem.solve_loandra(loandra_path)\n",
    "print(\"Final Model: \", max_accuracy_numerical_problem.model)\n",
    "print(\"Min cost found: \", max_accuracy_numerical_problem.min_cost)"
   ]
  },
  {
   "cell_type": "markdown",
   "metadata": {},
   "source": [
    "# SKLEARN Integration"
   ]
  },
  {
   "cell_type": "code",
   "execution_count": null,
   "metadata": {},
   "outputs": [],
   "source": [
    "k = 5\n",
    "depth = 2 \n",
    "minimum_support = 0\n",
    "accuracies, mean_score = k_fold_tester(k, depth, dataset, true_labels_for_points, labels, features, \n",
    "                                       # complete_tree= False\n",
    "                                       )\n",
    "                                       \n",
    "print(accuracies)\n",
    "print(mean_score)"
   ]
  },
  {
   "cell_type": "markdown",
   "metadata": {},
   "source": [
    "# Clustering"
   ]
  },
  {
   "cell_type": "code",
   "execution_count": null,
   "metadata": {},
   "outputs": [],
   "source": [
    "features = np.array(['0', '1'])\n",
    "dataset = np.array([[1, 1], [1, 2], [7, 7], [7, 8], [15,5],[15,6]])  # Dataset X\n",
    "epsilon = 1 \n",
    "k_clusters = 3\n",
    "depth = 2\n",
    "\n",
    "# # ML_pairs = np.array([[4,5],[0,1],[2,3]])\n",
    "# CL_pairs = np.array([])\n",
    "\n",
    "ML_pairs = np.array([])\n",
    "CL_pairs = np.array([[2,3],[3,1]])\n",
    "\n",
    "\n",
    "clustering_problem = max_accuracy_numerical_problem = SATreeCraft(dataset=dataset,\n",
    "                                                                  features= features,\n",
    "                                                                  k_clusters= k_clusters,\n",
    "                                                                  #ML_pairs= ML_pairs,\n",
    "                                                                  CL_pairs= CL_pairs,\n",
    "                                                                  epsilon = epsilon,\n",
    "                                                                  fixed_depth= depth\n",
    "                                             )\n",
    "\n",
    "loandra_path = '/Users/harisrasul/Desktop/loandra'\n",
    "clustering_problem.solve_loandra(loandra_path)\n",
    "print(clustering_problem.cluster_assignments)\n",
    "print(clustering_problem.cluster_diameters)"
   ]
  },
  {
   "cell_type": "code",
   "execution_count": null,
   "metadata": {},
   "outputs": [],
   "source": [
    "features = np.array(['0'])\n",
    "dataset = np.array([[0], [2], [3], [9], [11], [19]])  # Dataset X\n",
    "epsilon = 0\n",
    "k_clusters = 2\n",
    "depth = 3\n",
    "\n",
    "ML_pairs = np.array([[0,3]])\n",
    "CL_pairs = np.array([])\n",
    "clustering_obj = 'max_diamete'\n",
    "\n",
    "\n",
    "clustering_problem = SATreeCraft(dataset=dataset,\n",
    "                                features= features,\n",
    "                                k_clusters= k_clusters,\n",
    "                                ML_pairs= ML_pairs,\n",
    "                                CL_pairs= CL_pairs,\n",
    "                                epsilon = epsilon,\n",
    "                                fixed_depth= depth,\n",
    "                                clustering_objective=clustering_obj,\n",
    "                                smart_pairs= True\n",
    "                                )\n",
    "clustering_problem.solve()\n",
    "#loandra_path = '/Users/harisrasul/Desktop/loandra'\n",
    "#clustering_problem.solve_loandra(loandra_path)\n",
    "print(clustering_problem.cluster_assignments)\n",
    "print(clustering_problem.cluster_diameters)\n"
   ]
  },
  {
   "cell_type": "code",
   "execution_count": null,
   "metadata": {},
   "outputs": [],
   "source": [
    "clustering_problem.min_cost"
   ]
  },
  {
   "cell_type": "code",
   "execution_count": null,
   "metadata": {},
   "outputs": [],
   "source": [
    "clustering_problem.sat_solution"
   ]
  }
 ],
 "metadata": {
  "kernelspec": {
   "display_name": "Python 3",
   "language": "python",
   "name": "python3"
  },
  "language_info": {
   "codemirror_mode": {
    "name": "ipython",
    "version": 3
   },
   "file_extension": ".py",
   "mimetype": "text/x-python",
   "name": "python",
   "nbconvert_exporter": "python",
   "pygments_lexer": "ipython3",
   "version": "3.9.7"
  }
 },
 "nbformat": 4,
 "nbformat_minor": 2
}
