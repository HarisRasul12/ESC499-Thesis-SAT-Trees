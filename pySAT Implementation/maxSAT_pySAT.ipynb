{
 "cells": [
  {
   "cell_type": "code",
   "execution_count": 7,
   "metadata": {},
   "outputs": [
    {
     "name": "stdout",
     "output_type": "stream",
     "text": [
      "Model found: [-1, -2, -3, -4]\n",
      "Model found: [-1, -2, 3, -4]\n",
      "Model found: [-1, -2, 3, 4]\n",
      "Model found: [-1, 2, 3, 4]\n",
      "Model found: [-1, -2, -3, 4]\n",
      "Model found: [1, -2, -3, 4]\n",
      "Model found: [1, 2, -3, 4]\n",
      "Model found: [1, 2, 3, 4]\n",
      "Model found: [-1, 2, 3, -4]\n",
      "Model found: [1, -2, 3, 4]\n",
      "Model found: [1, -2, 3, -4]\n",
      "Model found: [1, 2, 3, -4]\n",
      "Model found: [1, 2, -3, -4]\n",
      "Model found: [1, -2, -3, -4]\n",
      "Optimal model: [1, -2, -3, -4]\n",
      "Number of soft clauses not satisfied: 1\n"
     ]
    }
   ],
   "source": [
    "from pysat.formula import WCNF\n",
    "from pysat.examples.rc2 import RC2\n",
    "\n",
    "wcnf = WCNF()\n",
    "\n",
    "# Adding hard clauses\n",
    "wcnf.append([1, -2, 3])  # Hard clause\n",
    "\n",
    "# Adding soft clauses\n",
    "wcnf.append([-1, 4], weight=1)  # Soft clause\n",
    "\n",
    "# ... Add more clauses as needed\n",
    "\n",
    "# Solving the Partial MaxSAT problem\n",
    "optimal_model = None\n",
    "with RC2(wcnf) as m:\n",
    "    for model in m.enumerate():\n",
    "        print('Model found:', model)\n",
    "        optimal_model = model  # The last model in enumeration is the optimal model\n",
    "\n",
    "    if optimal_model is not None:\n",
    "        print('Optimal model:', optimal_model)\n",
    "    else:\n",
    "        print('No satisfying assignment found.')\n",
    "\n",
    "    print('Number of soft clauses not satisfied:', m.cost)"
   ]
  }
 ],
 "metadata": {
  "kernelspec": {
   "display_name": "Python 3",
   "language": "python",
   "name": "python3"
  },
  "language_info": {
   "codemirror_mode": {
    "name": "ipython",
    "version": 3
   },
   "file_extension": ".py",
   "mimetype": "text/x-python",
   "name": "python",
   "nbconvert_exporter": "python",
   "pygments_lexer": "ipython3",
   "version": "3.9.7"
  }
 },
 "nbformat": 4,
 "nbformat_minor": 2
}
